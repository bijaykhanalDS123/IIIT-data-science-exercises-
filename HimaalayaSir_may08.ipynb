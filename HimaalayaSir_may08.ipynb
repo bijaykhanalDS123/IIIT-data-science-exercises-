{
 "cells": [
  {
   "cell_type": "markdown",
   "id": "4f1aa0c9",
   "metadata": {},
   "source": [
    "# class and objects"
   ]
  },
  {
   "cell_type": "code",
   "execution_count": 33,
   "id": "c1ef7668",
   "metadata": {},
   "outputs": [],
   "source": [
    "# creating the class Student\n",
    "class Student(): # Class always starts witht the capital letter\n",
    "    pass\n"
   ]
  },
  {
   "cell_type": "code",
   "execution_count": 41,
   "id": "8994f320",
   "metadata": {},
   "outputs": [],
   "source": [
    "stud1 = Student() # instantiating the class Student\n",
    "stud2 = Student()"
   ]
  },
  {
   "cell_type": "code",
   "execution_count": 42,
   "id": "1fd58f68",
   "metadata": {},
   "outputs": [
    {
     "name": "stdout",
     "output_type": "stream",
     "text": [
      "<class 'type'>\n",
      "<class '__main__.Student'>\n"
     ]
    }
   ],
   "source": [
    "print(type(Student))\n",
    "print(type(stud))"
   ]
  },
  {
   "cell_type": "code",
   "execution_count": 34,
   "id": "a966a739",
   "metadata": {},
   "outputs": [
    {
     "data": {
      "text/plain": [
       "2589452930160"
      ]
     },
     "execution_count": 34,
     "metadata": {},
     "output_type": "execute_result"
    }
   ],
   "source": [
    "id(Student) # memory location"
   ]
  },
  {
   "cell_type": "code",
   "execution_count": 35,
   "id": "cd68a0f4",
   "metadata": {},
   "outputs": [
    {
     "data": {
      "text/plain": [
       "2589469759568"
      ]
     },
     "execution_count": 35,
     "metadata": {},
     "output_type": "execute_result"
    }
   ],
   "source": [
    "id(stud) # memory location"
   ]
  },
  {
   "cell_type": "code",
   "execution_count": 44,
   "id": "19242e35",
   "metadata": {},
   "outputs": [
    {
     "data": {
      "text/plain": [
       "False"
      ]
     },
     "execution_count": 44,
     "metadata": {},
     "output_type": "execute_result"
    }
   ],
   "source": [
    "stud1 is stud2"
   ]
  },
  {
   "cell_type": "code",
   "execution_count": 45,
   "id": "f17683e3",
   "metadata": {},
   "outputs": [],
   "source": [
    "class Student():\n",
    "    college = \"IOE\"\n",
    "       "
   ]
  },
  {
   "cell_type": "code",
   "execution_count": 48,
   "id": "4af064c2",
   "metadata": {},
   "outputs": [],
   "source": [
    "student1 = Student()\n",
    "student2 = Student()\n"
   ]
  },
  {
   "cell_type": "code",
   "execution_count": 54,
   "id": "773385a2",
   "metadata": {},
   "outputs": [
    {
     "name": "stdout",
     "output_type": "stream",
     "text": [
      "Hari\n"
     ]
    }
   ],
   "source": [
    "student1.college = \"Hari\" # overrides the existing value of the class properties \n",
    "print(student1.college)"
   ]
  },
  {
   "cell_type": "code",
   "execution_count": 52,
   "id": "ca3f3b7f",
   "metadata": {},
   "outputs": [
    {
     "data": {
      "text/plain": [
       "'IOE'"
      ]
     },
     "execution_count": 52,
     "metadata": {},
     "output_type": "execute_result"
    }
   ],
   "source": [
    "student2.college"
   ]
  },
  {
   "cell_type": "markdown",
   "id": "ae88b98c",
   "metadata": {},
   "source": [
    "### Constructor"
   ]
  },
  {
   "cell_type": "code",
   "execution_count": 110,
   "id": "820f6e4d",
   "metadata": {},
   "outputs": [],
   "source": [
    "# incase of no argument passed\n",
    "class New:\n",
    "    def __init__(self): # self argument must always be mentioned in the parenthesis even if no arguement is passed while instiating\n",
    "        print(\"uiouo\")"
   ]
  },
  {
   "cell_type": "code",
   "execution_count": 111,
   "id": "533e37c2",
   "metadata": {},
   "outputs": [
    {
     "name": "stdout",
     "output_type": "stream",
     "text": [
      "uiouo\n"
     ]
    }
   ],
   "source": [
    "new1 = New()"
   ]
  },
  {
   "cell_type": "code",
   "execution_count": 112,
   "id": "817dfefa",
   "metadata": {},
   "outputs": [],
   "source": [
    "# incase one or more arguments are passed\n",
    "class Hotel:\n",
    "    def __init__(self, name, address):\n",
    "        self.name = name\n",
    "        self.address = address   \n",
    "    "
   ]
  },
  {
   "cell_type": "code",
   "execution_count": 113,
   "id": "8d04710b",
   "metadata": {},
   "outputs": [],
   "source": [
    "hot1 = Hotel(\"po1\", \"Pokhara\")\n"
   ]
  },
  {
   "cell_type": "code",
   "execution_count": 127,
   "id": "ae527e75",
   "metadata": {},
   "outputs": [
    {
     "name": "stdout",
     "output_type": "stream",
     "text": [
      "<__main__.Hotel object at 0x0000025AE86F7A30>\n"
     ]
    }
   ],
   "source": [
    "print(hot1)"
   ]
  },
  {
   "cell_type": "code",
   "execution_count": 115,
   "id": "58875a24",
   "metadata": {},
   "outputs": [
    {
     "name": "stdout",
     "output_type": "stream",
     "text": [
      "po1\n"
     ]
    }
   ],
   "source": [
    "print(hot1.name)"
   ]
  },
  {
   "cell_type": "code",
   "execution_count": 116,
   "id": "c40fa142",
   "metadata": {},
   "outputs": [
    {
     "name": "stdout",
     "output_type": "stream",
     "text": [
      "Pokhara\n"
     ]
    }
   ],
   "source": [
    "print(hot1.address)"
   ]
  },
  {
   "cell_type": "code",
   "execution_count": 124,
   "id": "a6337d14",
   "metadata": {},
   "outputs": [],
   "source": [
    "# default constructor\n",
    "class MyClass:\n",
    "    def __init__(self):\n",
    "        print(\"my constructor\")\n",
    "        \n",
    "    def __myFunc__(self):\n",
    "        print(\"my function\")\n",
    "    "
   ]
  },
  {
   "cell_type": "code",
   "execution_count": 125,
   "id": "8f3a3607",
   "metadata": {},
   "outputs": [
    {
     "name": "stdout",
     "output_type": "stream",
     "text": [
      "my constructor\n",
      "my constructor\n",
      "my function\n"
     ]
    }
   ],
   "source": [
    "myClass1 = MyClass() # instantiating the class\n",
    "myClass1.__init__() # accessing and executing the constructor\n",
    "myClass1.__myFunc__() # accessing and executing the function of the class"
   ]
  },
  {
   "cell_type": "code",
   "execution_count": 130,
   "id": "9fcb9589",
   "metadata": {},
   "outputs": [
    {
     "name": "stdout",
     "output_type": "stream",
     "text": [
      "hh\n",
      "2\n"
     ]
    }
   ],
   "source": [
    "def a():\n",
    "    print(\"hh\")\n",
    "    x = 2\n",
    "\n",
    "    return x\n",
    "var = a()\n",
    "print(var) # a function cannot be "
   ]
  },
  {
   "cell_type": "code",
   "execution_count": null,
   "id": "904df0e4",
   "metadata": {},
   "outputs": [],
   "source": []
  }
 ],
 "metadata": {
  "kernelspec": {
   "display_name": "Python 3 (ipykernel)",
   "language": "python",
   "name": "python3"
  },
  "language_info": {
   "codemirror_mode": {
    "name": "ipython",
    "version": 3
   },
   "file_extension": ".py",
   "mimetype": "text/x-python",
   "name": "python",
   "nbconvert_exporter": "python",
   "pygments_lexer": "ipython3",
   "version": "3.9.7"
  }
 },
 "nbformat": 4,
 "nbformat_minor": 5
}
