{
 "cells": [
  {
   "cell_type": "code",
   "execution_count": 2,
   "id": "24702e44",
   "metadata": {},
   "outputs": [],
   "source": [
    "import numpy as np"
   ]
  },
  {
   "cell_type": "code",
   "execution_count": 13,
   "id": "00a0545c",
   "metadata": {},
   "outputs": [],
   "source": [
    "a = np.array([[2,7,1],\n",
    "              [-2,1,8],\n",
    "              [3,4,-2]])\n",
    "b = np.array([[8,1,3],\n",
    "              [3,5,8],\n",
    "             [7,-2,-4]])"
   ]
  },
  {
   "cell_type": "code",
   "execution_count": 14,
   "id": "d5ad4723",
   "metadata": {},
   "outputs": [
    {
     "data": {
      "text/plain": [
       "array([[ 44,  35,  58],\n",
       "       [ 43, -13, -30],\n",
       "       [ 22,  27,  49]])"
      ]
     },
     "execution_count": 14,
     "metadata": {},
     "output_type": "execute_result"
    }
   ],
   "source": [
    "a@b"
   ]
  },
  {
   "cell_type": "code",
   "execution_count": 15,
   "id": "5ee927e8",
   "metadata": {},
   "outputs": [],
   "source": [
    "c = np.linalg.inv(b)"
   ]
  },
  {
   "cell_type": "code",
   "execution_count": 16,
   "id": "745fc047",
   "metadata": {},
   "outputs": [
    {
     "data": {
      "text/plain": [
       "array([[ 0.04597701,  0.02298851,  0.08045977],\n",
       "       [-0.7816092 ,  0.6091954 ,  0.63218391],\n",
       "       [ 0.47126437, -0.26436782, -0.42528736]])"
      ]
     },
     "execution_count": 16,
     "metadata": {},
     "output_type": "execute_result"
    }
   ],
   "source": [
    "c"
   ]
  },
  {
   "cell_type": "code",
   "execution_count": 17,
   "id": "7803e554",
   "metadata": {},
   "outputs": [
    {
     "data": {
      "text/plain": [
       "array([[ 8.,  1.,  3.],\n",
       "       [ 3.,  5.,  8.],\n",
       "       [ 7., -2., -4.]])"
      ]
     },
     "execution_count": 17,
     "metadata": {},
     "output_type": "execute_result"
    }
   ],
   "source": [
    "np.linalg.inv(c)"
   ]
  },
  {
   "cell_type": "code",
   "execution_count": 19,
   "id": "9a25e6bc",
   "metadata": {},
   "outputs": [
    {
     "data": {
      "text/plain": [
       "array([[ 3., -1., -1.],\n",
       "       [-4.,  2.,  1.],\n",
       "       [-1.,  0.,  1.]])"
      ]
     },
     "execution_count": 19,
     "metadata": {},
     "output_type": "execute_result"
    }
   ],
   "source": [
    "np.linalg.inv(np.array([[2,1,1],[3,2,1],[2,1,2]]))"
   ]
  },
  {
   "cell_type": "code",
   "execution_count": 23,
   "id": "c1078ce4",
   "metadata": {},
   "outputs": [
    {
     "data": {
      "text/plain": [
       "array([[5.],\n",
       "       [1.]])"
      ]
     },
     "execution_count": 23,
     "metadata": {},
     "output_type": "execute_result"
    }
   ],
   "source": [
    "np.linalg.inv([[2,-2],[1,1]]) @ np.array([[8],[6]])"
   ]
  },
  {
   "cell_type": "code",
   "execution_count": 24,
   "id": "e9bc24f6",
   "metadata": {},
   "outputs": [
    {
     "data": {
      "text/plain": [
       "array([25, 28])"
      ]
     },
     "execution_count": 24,
     "metadata": {},
     "output_type": "execute_result"
    }
   ],
   "source": [
    "np.array([[1,0],[0,1]]) @ np.array([25, 28])"
   ]
  },
  {
   "cell_type": "code",
   "execution_count": 26,
   "id": "dd4acd47",
   "metadata": {},
   "outputs": [
    {
     "data": {
      "text/plain": [
       "array([[3.],\n",
       "       [2.]])"
      ]
     },
     "execution_count": 26,
     "metadata": {},
     "output_type": "execute_result"
    }
   ],
   "source": [
    "np.linalg.inv([[3, -3],[4, -5]]) @ np.array([[3],[2]])"
   ]
  },
  {
   "cell_type": "code",
   "execution_count": null,
   "id": "18304966",
   "metadata": {},
   "outputs": [],
   "source": []
  }
 ],
 "metadata": {
  "kernelspec": {
   "display_name": "Python 3 (ipykernel)",
   "language": "python",
   "name": "python3"
  },
  "language_info": {
   "codemirror_mode": {
    "name": "ipython",
    "version": 3
   },
   "file_extension": ".py",
   "mimetype": "text/x-python",
   "name": "python",
   "nbconvert_exporter": "python",
   "pygments_lexer": "ipython3",
   "version": "3.9.7"
  }
 },
 "nbformat": 4,
 "nbformat_minor": 5
}
