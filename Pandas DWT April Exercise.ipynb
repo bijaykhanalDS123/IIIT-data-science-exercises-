{
 "cells": [
  {
   "cell_type": "markdown",
   "id": "engaged-running",
   "metadata": {},
   "source": [
    "#### Series"
   ]
  },
  {
   "cell_type": "code",
   "execution_count": 15,
   "id": "valuable-possibility",
   "metadata": {},
   "outputs": [
    {
     "data": {
      "text/plain": [
       "hi      1.0\n",
       "one     4.0\n",
       "9       9.0\n",
       "True    0.0\n",
       "9      -3.0\n",
       "dtype: float64"
      ]
     },
     "execution_count": 15,
     "metadata": {},
     "output_type": "execute_result"
    }
   ],
   "source": [
    "import pandas as pd\n",
    "s = pd.Series([1, 4, 9, 0, -3], dtype='float', index = ['hi', 'one', 9, True, 9])\n",
    "s"
   ]
  },
  {
   "cell_type": "code",
   "execution_count": 13,
   "id": "soviet-assistant",
   "metadata": {},
   "outputs": [
    {
     "data": {
      "text/plain": [
       "one     4\n",
       "9       9\n",
       "True    0\n",
       "dtype: int64"
      ]
     },
     "execution_count": 13,
     "metadata": {},
     "output_type": "execute_result"
    }
   ],
   "source": [
    "s['one':True]"
   ]
  },
  {
   "cell_type": "code",
   "execution_count": 5,
   "id": "accessory-snapshot",
   "metadata": {},
   "outputs": [
    {
     "data": {
      "text/plain": [
       "(5,)"
      ]
     },
     "execution_count": 5,
     "metadata": {},
     "output_type": "execute_result"
    }
   ],
   "source": [
    "s.shape"
   ]
  },
  {
   "cell_type": "markdown",
   "id": "caroline-bottle",
   "metadata": {},
   "source": [
    "##### Series from a dict"
   ]
  },
  {
   "cell_type": "code",
   "execution_count": 16,
   "id": "exact-theater",
   "metadata": {},
   "outputs": [],
   "source": [
    "population_dict = {'California': 38,\n",
    "                    'Texas': 26,\n",
    "                    'New York': 20,\n",
    "                    'Florida':19,\n",
    "                    'Illinois': 13\n",
    "                    }"
   ]
  },
  {
   "cell_type": "code",
   "execution_count": 18,
   "id": "protected-valley",
   "metadata": {},
   "outputs": [
    {
     "data": {
      "text/plain": [
       "California    38\n",
       "Texas         26\n",
       "New York      20\n",
       "Florida       19\n",
       "Illinois      13\n",
       "dtype: int64"
      ]
     },
     "execution_count": 18,
     "metadata": {},
     "output_type": "execute_result"
    }
   ],
   "source": [
    "states_series = pd.Series(population_dict)\n",
    "states_series"
   ]
  },
  {
   "cell_type": "code",
   "execution_count": 21,
   "id": "central-spectrum",
   "metadata": {},
   "outputs": [
    {
     "data": {
      "text/plain": [
       "a    99\n",
       "b    99\n",
       "c    99\n",
       "dtype: int64"
      ]
     },
     "execution_count": 21,
     "metadata": {},
     "output_type": "execute_result"
    }
   ],
   "source": [
    "pd.Series(99, index=['a', 'b', 'c'])"
   ]
  },
  {
   "cell_type": "code",
   "execution_count": null,
   "id": "integrated-brush",
   "metadata": {},
   "outputs": [],
   "source": []
  },
  {
   "cell_type": "code",
   "execution_count": null,
   "id": "wireless-provision",
   "metadata": {},
   "outputs": [],
   "source": []
  }
 ],
 "metadata": {
  "kernelspec": {
   "display_name": "Python 3 (ipykernel)",
   "language": "python",
   "name": "python3"
  },
  "language_info": {
   "codemirror_mode": {
    "name": "ipython",
    "version": 3
   },
   "file_extension": ".py",
   "mimetype": "text/x-python",
   "name": "python",
   "nbconvert_exporter": "python",
   "pygments_lexer": "ipython3",
   "version": "3.9.7"
  }
 },
 "nbformat": 4,
 "nbformat_minor": 5
}
