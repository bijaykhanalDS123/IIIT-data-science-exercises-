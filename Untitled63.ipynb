{
 "cells": [
  {
   "cell_type": "code",
   "execution_count": 1,
   "id": "2cf301c2",
   "metadata": {},
   "outputs": [
    {
     "name": "stdout",
     "output_type": "stream",
     "text": [
      "[[[14, 2, 1], [11, 5, 6], [19, 13, 17]], [15, 2, 0], [[4, 9, 5, 1]]]\n",
      "[[14  2  1  4]\n",
      " [11  5  6  9]\n",
      " [19 13 17  5]\n",
      " [15  2  0  1]]\n"
     ]
    }
   ],
   "source": [
    "import numpy as np\n",
    "import ast\n",
    "input_str = input()\n",
    "# Parse the input list\n",
    "input_list = ast.literal_eval(input_str)\n",
    "\n",
    "# Extract individual lists from the input\n",
    "list_1 = input_list[0]\n",
    "list_2 = input_list[1]\n",
    "list_3 = input_list[2]\n",
    "\n",
    "list_1_array = np.array(list_1)\n",
    "list_2_array = np.array(list_2)\n",
    "list_3_array = np.array(list_3)\n",
    "\n",
    "c2 = list_2_array.reshape(1,3)\n",
    "c3 = list_3_array.T\n",
    "\n",
    "# print(list_1_array)\n",
    "# print('\\n\\n',c2)\n",
    "# print('\\n\\n',c3)\n",
    "\n",
    "c4 = np.vstack((list_1_array, c2))\n",
    "print(np.hstack((c4, c3)))"
   ]
  },
  {
   "cell_type": "code",
   "execution_count": null,
   "id": "81b8eb93",
   "metadata": {},
   "outputs": [],
   "source": []
  }
 ],
 "metadata": {
  "kernelspec": {
   "display_name": "Python 3 (ipykernel)",
   "language": "python",
   "name": "python3"
  },
  "language_info": {
   "codemirror_mode": {
    "name": "ipython",
    "version": 3
   },
   "file_extension": ".py",
   "mimetype": "text/x-python",
   "name": "python",
   "nbconvert_exporter": "python",
   "pygments_lexer": "ipython3",
   "version": "3.9.7"
  }
 },
 "nbformat": 4,
 "nbformat_minor": 5
}
