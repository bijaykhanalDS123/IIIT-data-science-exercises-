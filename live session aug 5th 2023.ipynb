{
 "cells": [
  {
   "cell_type": "markdown",
   "id": "f337f925",
   "metadata": {},
   "source": [
    "##### generate otp number 10 times"
   ]
  },
  {
   "cell_type": "code",
   "execution_count": 6,
   "id": "b4272a4e",
   "metadata": {},
   "outputs": [],
   "source": [
    "import numpy as np\n",
    "from random import *"
   ]
  },
  {
   "cell_type": "code",
   "execution_count": 12,
   "id": "34674506",
   "metadata": {},
   "outputs": [
    {
     "data": {
      "text/plain": [
       "8"
      ]
     },
     "execution_count": 12,
     "metadata": {},
     "output_type": "execute_result"
    }
   ],
   "source": [
    "randint(0,9)"
   ]
  },
  {
   "cell_type": "code",
   "execution_count": 15,
   "id": "6e95353a",
   "metadata": {},
   "outputs": [
    {
     "name": "stdout",
     "output_type": "stream",
     "text": [
      "6\n"
     ]
    }
   ],
   "source": [
    "print(randint(0,9))"
   ]
  },
  {
   "cell_type": "code",
   "execution_count": 14,
   "id": "bb2215a6",
   "metadata": {},
   "outputs": [
    {
     "name": "stdout",
     "output_type": "stream",
     "text": [
      "8 2\n"
     ]
    }
   ],
   "source": [
    "print(randint(0,9), randint(0,9))"
   ]
  },
  {
   "cell_type": "code",
   "execution_count": 8,
   "id": "2c44142d",
   "metadata": {},
   "outputs": [
    {
     "name": "stdout",
     "output_type": "stream",
     "text": [
      "9 0 1 5 9 9\n",
      "0 6 8 2 7 9\n",
      "9 3 5 1 5 0\n",
      "5 2 0 9 3 9\n",
      "6 3 6 8 8 8\n",
      "8 5 8 9 8 8\n",
      "7 3 3 8 7 1\n",
      "3 0 9 7 8 4\n",
      "2 2 6 4 2 6\n",
      "5 3 2 2 4 2\n"
     ]
    }
   ],
   "source": [
    "np.random.seed(23)\n",
    "for i in range(10):\n",
    "    print(randint(0,9), randint(0,9), randint(0,9), randint(0,9), randint(0,9), randint(0,9))"
   ]
  },
  {
   "cell_type": "code",
   "execution_count": 16,
   "id": "a7658f39",
   "metadata": {},
   "outputs": [
    {
     "data": {
      "text/plain": [
       "int"
      ]
     },
     "execution_count": 16,
     "metadata": {},
     "output_type": "execute_result"
    }
   ],
   "source": [
    "q = 10\n",
    "type(q)"
   ]
  },
  {
   "cell_type": "code",
   "execution_count": 17,
   "id": "1ba9921c",
   "metadata": {},
   "outputs": [
    {
     "data": {
      "text/plain": [
       "True"
      ]
     },
     "execution_count": 17,
     "metadata": {},
     "output_type": "execute_result"
    }
   ],
   "source": [
    " = q>9"
   ]
  },
  {
   "cell_type": "code",
   "execution_count": 19,
   "id": "1cac4c7e",
   "metadata": {},
   "outputs": [
    {
     "data": {
      "text/plain": [
       "bool"
      ]
     },
     "execution_count": 19,
     "metadata": {},
     "output_type": "execute_result"
    }
   ],
   "source": [
    "type(q>9)"
   ]
  },
  {
   "cell_type": "code",
   "execution_count": 36,
   "id": "475d497b",
   "metadata": {},
   "outputs": [
    {
     "ename": "SyntaxError",
     "evalue": "invalid syntax (Temp/ipykernel_7332/252462384.py, line 7)",
     "output_type": "error",
     "traceback": [
      "\u001b[1;36m  File \u001b[1;32m\"C:\\Users\\BJ\\AppData\\Local\\Temp/ipykernel_7332/252462384.py\"\u001b[1;36m, line \u001b[1;32m7\u001b[0m\n\u001b[1;33m    123var = 'dfs'\u001b[0m\n\u001b[1;37m       ^\u001b[0m\n\u001b[1;31mSyntaxError\u001b[0m\u001b[1;31m:\u001b[0m invalid syntax\n"
     ]
    }
   ],
   "source": [
    "# identitfier/variable name\n",
    "_var = 3\n",
    "var_ = 4\n",
    "var_name = 6\n",
    "var123 = 8 # nos. in the end\n",
    "var124var = 10 # nos. in the mid\n",
    "# 123var = 'dfs' # this cant be done\n",
    "\n",
    "# special chars allowed is only underscore, cant use spaces\n",
    "# Numbers cant be at the start but can be at the end and middle\n",
    "# python is case sensitive and so var and Var are two differnet variables"
   ]
  },
  {
   "cell_type": "code",
   "execution_count": 34,
   "id": "3a7b1fcb",
   "metadata": {},
   "outputs": [],
   "source": [
    "import keyword\n",
    "keyword.kwlist\n",
    "# len(keyword.kwlist)\n",
    "# these keywords cant be used as identifier\n",
    "\n",
    "false = 'R' # this works\n",
    "# False = 'R' # doesnt work since its a keyword"
   ]
  },
  {
   "cell_type": "code",
   "execution_count": null,
   "id": "06b9b54f",
   "metadata": {},
   "outputs": [],
   "source": []
  },
  {
   "cell_type": "code",
   "execution_count": null,
   "id": "1a301ff9",
   "metadata": {},
   "outputs": [],
   "source": []
  },
  {
   "cell_type": "code",
   "execution_count": null,
   "id": "c97d5fe3",
   "metadata": {},
   "outputs": [],
   "source": []
  },
  {
   "cell_type": "code",
   "execution_count": null,
   "id": "41117779",
   "metadata": {},
   "outputs": [],
   "source": []
  },
  {
   "cell_type": "code",
   "execution_count": null,
   "id": "e73453e4",
   "metadata": {},
   "outputs": [],
   "source": []
  },
  {
   "cell_type": "code",
   "execution_count": null,
   "id": "93a66cd9",
   "metadata": {},
   "outputs": [],
   "source": []
  },
  {
   "cell_type": "code",
   "execution_count": null,
   "id": "2c44d8d2",
   "metadata": {},
   "outputs": [],
   "source": []
  },
  {
   "cell_type": "code",
   "execution_count": null,
   "id": "445374fc",
   "metadata": {},
   "outputs": [],
   "source": []
  }
 ],
 "metadata": {
  "kernelspec": {
   "display_name": "Python 3 (ipykernel)",
   "language": "python",
   "name": "python3"
  },
  "language_info": {
   "codemirror_mode": {
    "name": "ipython",
    "version": 3
   },
   "file_extension": ".py",
   "mimetype": "text/x-python",
   "name": "python",
   "nbconvert_exporter": "python",
   "pygments_lexer": "ipython3",
   "version": "3.9.7"
  }
 },
 "nbformat": 4,
 "nbformat_minor": 5
}
