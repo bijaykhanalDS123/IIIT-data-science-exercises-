{
 "cells": [
  {
   "cell_type": "markdown",
   "metadata": {},
   "source": [
    "# Exercise Background\n",
    "\n",
    "This small application based coding exercise is ment to expose you to the use of the numpy library as well as give you a taste of tasks that you might be needed to perform during machine learning. \n",
    "\n",
    "Usually, machine learning involves working on large data sets. This notebook will walk you through normalising the data and then dividing the data set into smaller subsets. It is recommended that while attempting each of the tasks visit the NumPy library to find the most appropriate function which can help you achieve the desired result. More often than not you will find the functions which you require prewritten in the library. The **numpy library** can be found [here.](https://numpy.org/doc/stable/) \n",
    "\n",
    "Without further ado, the first task is to mean normalise a data set. Mean normalising is a data transformation done to reduce the variations in the data set. For example, consider a data set which has integers between 0 and 10000. That is a lot of variation, and it becomes difficult to build ML algorithms on this data. So mean normalisation is done on such data, after the transformation, the mean of the data will be zero, and standard deviation will be 1.  Even though the actual values of data will change a lot, but the overall variation is still kept intact. If the concept of normalisation feels a bit unclear dont worry all of this will be covered in the future sections of this program. For now, let’s concentrate on the tasks at hand. \n",
    "\n",
    "\n",
    "# Task 1: Mean Normalisation: \n",
    "\n",
    "**Question 1.1** Create a 2D of random integers between 0 and 10,000 (including both 0 and 10,000) with 25000 rows and 15 columns. This will be the dataset you will use in the notebook. "
   ]
  },
  {
   "cell_type": "code",
   "execution_count": 29,
   "metadata": {},
   "outputs": [
    {
     "name": "stdout",
     "output_type": "stream",
     "text": [
      "(25000, 15)\n"
     ]
    }
   ],
   "source": [
    "# import NumPy into Python\n",
    "import numpy as np\n",
    "\n",
    "# Create a 25000 x 15 ndarray with random integers in the interval [0, 10000].\n",
    "\n",
    "X = np.random.randint(0, 10001, (25000, 15))\n",
    "\n",
    "# print the shape of X\n",
    "\n",
    "print(X.shape)"
   ]
  },
  {
   "cell_type": "code",
   "execution_count": 30,
   "metadata": {},
   "outputs": [
    {
     "data": {
      "text/plain": [
       "array([  87, 9568, 2429, 8806, 3575, 8288, 4001, 6842, 1221, 6135, 5885,\n",
       "       5043, 9690, 1303, 7447])"
      ]
     },
     "execution_count": 30,
     "metadata": {},
     "output_type": "execute_result"
    }
   ],
   "source": [
    "# print the first row of X\n",
    "\n",
    "X[1]"
   ]
  },
  {
   "cell_type": "markdown",
   "metadata": {},
   "source": [
    "Now that you created the array we will mean normalize it. The equation for normalisaing the data is given below:\n",
    "\n",
    "$\\mbox{Norm_Col}_i = \\frac{\\mbox{Col}_i - \\mu_i}{\\sigma_i}$\n",
    "\n",
    "where $\\mbox{Col}_i$ is the $i$th column of $X$, $\\mu_i$ is average of the values in the $i$th column of $X$, and $\\sigma_i$ is the standard deviation of the values in the $i$th column of $X$. To put it simply, to find the new value of each element, you have to subtract the mean of respective column form that value and divide the result with the standard deviation of that columns. Now the question is, Why are these operations being done column-wise? That is because usually all the procedures in ML are done column-wise. So it will be beneficial for us to develop the habit of thinking about data column-wise.   "
   ]
  },
  {
   "cell_type": "markdown",
   "metadata": {},
   "source": [
    "**Question 1.2** Find the mean and the standard deviation of each of the columns in the dataset. The result will be two 1D arrays with 15 elements each, representing the mean and standard deviation for each of the columns in the dataset.  "
   ]
  },
  {
   "cell_type": "code",
   "execution_count": 31,
   "metadata": {},
   "outputs": [
    {
     "name": "stdout",
     "output_type": "stream",
     "text": [
      "[4980.75944 4994.3912  5004.4294  5021.399   4999.84396 4999.226\n",
      " 4976.49932 4955.313   5007.10748 4987.16912 4978.2804  4982.17552\n",
      " 5016.45396 5003.38352 4995.06404]\n",
      "[2890.28539938 2877.781996   2879.76518494 2882.10417823 2894.19290777\n",
      " 2878.47253529 2894.03926152 2885.88940384 2884.12076194 2890.61321694\n",
      " 2886.7469512  2883.64923845 2889.67681817 2879.07670082 2891.50059228]\n"
     ]
    }
   ],
   "source": [
    "# Average of the values in each column of X\n",
    "\n",
    "ave_cols = np.mean(X, axis = 0)\n",
    "\n",
    "\n",
    "# print ave_cols  \n",
    "\n",
    "print(ave_cols)\n",
    "\n",
    "# Standard Deviation of the values in each column of X\n",
    "\n",
    "std_cols = np.std(X, axis = 0)\n",
    "\n",
    "print(std_cols)\n",
    "\n",
    "# print std_cols  \n"
   ]
  },
  {
   "cell_type": "markdown",
   "metadata": {},
   "source": [
    "**Question 1.3** Print the shape of each both the arrays, they should have 15 elements each.  "
   ]
  },
  {
   "cell_type": "code",
   "execution_count": 32,
   "metadata": {},
   "outputs": [
    {
     "data": {
      "text/plain": [
       "15"
      ]
     },
     "execution_count": 32,
     "metadata": {},
     "output_type": "execute_result"
    }
   ],
   "source": [
    "# Print the shape of ave_cols\n",
    "len(ave_cols)\n",
    "# Print the shape of std_cols\n",
    "len(std_cols)"
   ]
  },
  {
   "cell_type": "markdown",
   "metadata": {},
   "source": [
    "**Question 1.4** Now that you have mean and standard deviation calculated, it is time to apply the transformation to the dataset. \n",
    " \n",
    "**HINT** The broadcast property of NumPy can make this a lot easier. You can read about it [here](https://numpy.org/doc/stable/user/basics.broadcasting.html).\n",
    "All you have to do is create one row of transformation values and repeat them through all the values."
   ]
  },
  {
   "cell_type": "code",
   "execution_count": 33,
   "metadata": {},
   "outputs": [],
   "source": [
    "# Mean normalize X\n",
    "\n",
    "X_norm = (X - ave_cols)/std_cols"
   ]
  },
  {
   "cell_type": "markdown",
   "metadata": {},
   "source": [
    "**Question 1.5** If the transformation has been performed correctly, the mean of elements in each column will be approximately 0. Also, the average of the **minimum** value in each column of X_norm and the average of the **maximum** value in each column of X_norm will have almost the same face value with opposite signs. Let’s confirm if the transformation has happened correctly. "
   ]
  },
  {
   "cell_type": "code",
   "execution_count": 37,
   "metadata": {},
   "outputs": [
    {
     "name": "stdout",
     "output_type": "stream",
     "text": [
      "2.3230010507783542e-17\n",
      "-1.7302494703888627\n",
      "1.7348408282326582\n"
     ]
    }
   ],
   "source": [
    "# Print the average of all the values of X_norm\n",
    "\n",
    "print(np.mean(X_norm))\n",
    "\n",
    "# Print the average of the minimum value in each column of X_norm\n",
    "\n",
    "\n",
    "print(np.mean(np.min(X_norm, axis = 0)))\n",
    "\n",
    "# Print the average of the maximum value in each column of X_norm\n",
    "\n",
    "print(np.mean(np.max(X_norm, axis = 0)))\n",
    "\n",
    "\n"
   ]
  },
  {
   "cell_type": "markdown",
   "metadata": {},
   "source": [
    "Be mindful that the exact values might not match since the dataset was initialized using the random function. \n",
    "\n",
    "# Data Spliting \n",
    "\n",
    "After data processing, it is a regular practice in ML to split the dataset into three datasets. \n",
    "\n",
    "1. A Training Set\n",
    "2. A Cross Validation Set\n",
    "3. A Test Set\n",
    "\n",
    "The ratios in which the data is split varies a bit from case to case. But the accepted standard 6:2:2 for train, test, and validation respectively. That is 60% for training data and so on. Again why is the data split or what is the signification of these smaller data sets? These questions are better left unanswered for now. \n",
    "The tanks assigned to you is to split the data in the given proportions randomly. \n",
    "For instance, if the data set had ten elements, this is how you would do it. "
   ]
  },
  {
   "cell_type": "code",
   "execution_count": 11,
   "metadata": {},
   "outputs": [
    {
     "data": {
      "text/plain": [
       "array([8, 3, 7, 5, 2, 6, 1, 9, 0, 4])"
      ]
     },
     "execution_count": 11,
     "metadata": {},
     "output_type": "execute_result"
    }
   ],
   "source": [
    "# We create a random permutation of integers 0 to 9\n",
    "np.random.permutation(10)"
   ]
  },
  {
   "cell_type": "markdown",
   "metadata": {},
   "source": [
    "1. training set = 8,3,7,5,2,6\n",
    "2. Cross Validation Set = 1,9\n",
    "3. Test Set = 0,4"
   ]
  },
  {
   "cell_type": "markdown",
   "metadata": {},
   "source": [
    "**Question 2.1** Similarly, create a 1D array representing the indexes of the rows in the dataset X_norm. U can use the   `np.random.permutation()` function for randomising the indexes. "
   ]
  },
  {
   "cell_type": "code",
   "execution_count": 53,
   "metadata": {},
   "outputs": [
    {
     "data": {
      "text/plain": [
       "array([ 5695,  6467,  4549, ...,  8785, 21540, 22402])"
      ]
     },
     "execution_count": 53,
     "metadata": {},
     "output_type": "execute_result"
    }
   ],
   "source": [
    "# Create a rank 1 ndarray that contains a random permutation of the row indices of `X_norm `\n",
    "\n",
    "# X_norm.shape # has 25000 rows \n",
    "\n",
    "row_indices = np.random.permutation(np.arange(0,25000)) # gives a 1 d array, sabai rows ko indices haru bata permutation garera euta 1d array\n",
    "                                          # dine jun ma indices haru hun6 sab X_norm ko row indices haruko\n",
    "row_indices"
   ]
  },
  {
   "cell_type": "code",
   "execution_count": 54,
   "metadata": {},
   "outputs": [
    {
     "data": {
      "text/plain": [
       "(25000,)"
      ]
     },
     "execution_count": 54,
     "metadata": {},
     "output_type": "execute_result"
    }
   ],
   "source": [
    "# Print the shape of row_indices\n",
    "row_indices.shape"
   ]
  },
  {
   "cell_type": "markdown",
   "metadata": {},
   "source": [
    "**Question 2.2** Split the row indexes in the needed proportions. You can use the slicing methods you have learnt in this session to make the job easier.  "
   ]
  },
  {
   "cell_type": "code",
   "execution_count": 69,
   "metadata": {},
   "outputs": [
    {
     "name": "stdout",
     "output_type": "stream",
     "text": [
      "(15000,)\n",
      "(5000,)\n",
      "(5000,)\n"
     ]
    }
   ],
   "source": [
    "# Make any necessary calculations.\n",
    "# You can save your calculations into variables to use later.\n",
    "train = row_indices[:15000]\n",
    "test = row_indices[15000:20000]\n",
    "val  = row_indices[20000:]\n",
    "\n",
    "# type(train)\n",
    "# train\n",
    "# print(train)\n",
    "print(train.shape)\n",
    "print(test.shape)\n",
    "print(val.shape)"
   ]
  },
  {
   "cell_type": "markdown",
   "metadata": {},
   "source": [
    "**Question 2.3** Now make use of the indexes that you made to split the data also similarly once the data is split print the shape of each of the smaller data sets. `X_train` should have 15000 rows and 15 columns. `X_test` should have 5000 rows and 15 columns. `X_val` should have 5000 rows and 15 columns. "
   ]
  },
  {
   "cell_type": "code",
   "execution_count": 91,
   "metadata": {},
   "outputs": [
    {
     "data": {
      "text/plain": [
       "array([[0.07801959, 0.22072533, 0.0697668 , 0.3571946 ],\n",
       "       [0.66772143, 0.60970506, 0.66008417, 0.20815214],\n",
       "       [0.86947961, 0.66536056, 0.41720904, 0.53619167]])"
      ]
     },
     "execution_count": 91,
     "metadata": {},
     "output_type": "execute_result"
    }
   ],
   "source": [
    "rra = np.random.random((10,4))\n",
    "rra.shape # 10 rows cha\n",
    "\n",
    "rra[[2,4,5]] # index haru ya llist of indexes haru duwai pass garna mil6\n",
    "\n",
    "# aba 10 row indices bata permutation nikalne\n",
    "# indices_list= np.random.permutation(10)\n",
    "# indices_list\n",
    "\n",
    "# train_split = indices_list[:6]\n",
    "# cross_val_split = indices_list[6:8]\n",
    "# test_split = indices_list[8:]\n",
    "\n",
    "# xTrain = rra[train_split]\n",
    "# xCrossVal = rra[cross_val_split]\n",
    "# xTest = rra[test_split]"
   ]
  },
  {
   "cell_type": "code",
   "execution_count": 80,
   "metadata": {},
   "outputs": [
    {
     "name": "stdout",
     "output_type": "stream",
     "text": [
      "[ 5695  6467  4549 ...  9287 11037   174]\n",
      "[23893 21811  4324 ...  8785 21540 22402]\n",
      "[21707  1841 17528 ...  7716 15927 19318]\n"
     ]
    },
    {
     "data": {
      "text/plain": [
       "array([[-0.57425451, -1.14337751,  0.30612586, ...,  0.2081707 ,\n",
       "         0.93488877, -0.3707639 ],\n",
       "       [ 1.52173227,  0.59754658,  1.63574816, ...,  0.71722416,\n",
       "        -0.44541485, -0.4572242 ],\n",
       "       [ 0.13432603, -1.10028877, -1.57701379, ..., -1.17053019,\n",
       "        -0.80004243, -0.44788649],\n",
       "       ...,\n",
       "       [-1.63401145,  0.81194781, -0.20954118, ..., -1.52904779,\n",
       "         0.82200536, -1.02509543],\n",
       "       [ 0.63912047, -1.43700642, -1.18600969, ..., -0.61925747,\n",
       "        -0.69584236,  0.40772461],\n",
       "       [-0.88668041, -0.59573352, -0.89709724, ...,  1.37473714,\n",
       "        -0.73474372, -0.54783459]])"
      ]
     },
     "execution_count": 80,
     "metadata": {},
     "output_type": "execute_result"
    }
   ],
   "source": [
    "print(train)\n",
    "print(val)\n",
    "print(test)\n",
    "\n",
    "# Create a Training Set\n",
    "# aba list of indices dera X_norm bata values haru sab lai euta variable ma halne\n",
    "\n",
    "X_train = X_norm[train] \n",
    "X_train\n",
    "\n",
    "# Create a Cross Validation Set\n",
    "cross_val = X_norm[val]\n",
    "cross_val\n",
    "\n",
    "# Create a Test Set\n",
    "X_test = X_norm[test]\n",
    "X_test"
   ]
  },
  {
   "cell_type": "code",
   "execution_count": 92,
   "metadata": {},
   "outputs": [
    {
     "name": "stdout",
     "output_type": "stream",
     "text": [
      "(15000, 15)\n",
      "(5000, 15)\n",
      "(5000, 15)\n"
     ]
    }
   ],
   "source": [
    "# Print the shape of X_train\n",
    "\n",
    "print(X_train.shape)\n",
    "\n",
    "# Print the shape of X_crossVal\n",
    "\n",
    "print(cross_val.shape)\n",
    "\n",
    "# Print the shape of X_test\n",
    "\n",
    "print(X_test.shape)"
   ]
  },
  {
   "cell_type": "code",
   "execution_count": null,
   "metadata": {},
   "outputs": [],
   "source": []
  }
 ],
 "metadata": {
  "kernelspec": {
   "display_name": "Python 3 (ipykernel)",
   "language": "python",
   "name": "python3"
  },
  "language_info": {
   "codemirror_mode": {
    "name": "ipython",
    "version": 3
   },
   "file_extension": ".py",
   "mimetype": "text/x-python",
   "name": "python",
   "nbconvert_exporter": "python",
   "pygments_lexer": "ipython3",
   "version": "3.9.7"
  }
 },
 "nbformat": 4,
 "nbformat_minor": 2
}
