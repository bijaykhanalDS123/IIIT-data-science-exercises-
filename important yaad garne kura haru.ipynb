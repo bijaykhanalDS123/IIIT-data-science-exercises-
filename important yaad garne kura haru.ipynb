{
 "cells": [
  {
   "cell_type": "code",
   "execution_count": null,
   "id": "4273b5cf",
   "metadata": {},
   "outputs": [],
   "source": [
    "# Bank+Marketing+Campaign_EDA-blank+notebook maile garya\n",
    "# Practice Questions - Session 2 - Student Version maile garya\n",
    "# Data Visualisation in Python - Case Study maile garya"
   ]
  },
  {
   "cell_type": "code",
   "execution_count": null,
   "id": "d290798e",
   "metadata": {},
   "outputs": [],
   "source": [
    "# value_counts vaneko unique values haruko counts kati cha vaneko ho"
   ]
  },
  {
   "cell_type": "code",
   "execution_count": null,
   "id": "611352c9",
   "metadata": {},
   "outputs": [],
   "source": [
    "import pandas as pd\n",
    "import numpy as np\n",
    "import matplotlib as plt\n",
    "import seaborn as sns\n",
    "import matplotlib.pyplot as plt"
   ]
  },
  {
   "cell_type": "code",
   "execution_count": null,
   "id": "75a09690",
   "metadata": {},
   "outputs": [],
   "source": [
    "# Create a sample DataFrame\n",
    "data = {'A': [1, 2, 0, 4],\n",
    "        'B': [0, 0, 3, 0],\n",
    "        'C': [5, 0, 0, 0]}\n",
    "\n",
    "df = pd.DataFrame(data)\n",
    "df"
   ]
  },
  {
   "cell_type": "code",
   "execution_count": null,
   "id": "a449e9c1",
   "metadata": {},
   "outputs": [],
   "source": [
    "df != 0 "
   ]
  },
  {
   "cell_type": "code",
   "execution_count": null,
   "id": "9371a09f",
   "metadata": {},
   "outputs": [],
   "source": [
    "df[df != 0]"
   ]
  },
  {
   "cell_type": "code",
   "execution_count": null,
   "id": "9c730e3e",
   "metadata": {},
   "outputs": [],
   "source": [
    "df[(df == 0).any(axis=1)]"
   ]
  },
  {
   "cell_type": "code",
   "execution_count": null,
   "id": "17e40610",
   "metadata": {},
   "outputs": [],
   "source": [
    "# Fromula:\n",
    "# groupby(column)[columns].sum().reset_index().sort_vaues([], ascending=False).head().set_index(pd.Index(range(10)))"
   ]
  },
  {
   "cell_type": "code",
   "execution_count": null,
   "id": "92cb7a31",
   "metadata": {},
   "outputs": [],
   "source": [
    "plt.title('Sales versus profit across various countries and product categories\\n', fontdict={'fontweight':5, 'color':'Green', 'fontsize':12})\n",
    "plt.xlabel('Product Category', fontdict={'fontweight':5, 'fontsize':12, 'color':'Green'})\n",
    "plt.ylabel('Sales', fontdict={'fontweight':5, 'fontsize':12, 'color':'Green'})\n",
    "\n",
    "plt.xticks((1,2,3),['Sales','Office Supplies', 'Sales Furniture'])\n",
    "# 1,2,3 cha vane ticks ma 'Sales','Office Supplies', 'Sales Furniture' banaidin6\n",
    "\n",
    "# annotate garna\n",
    "for i in zip(df_sales_india, df_profit_india):\n",
    "    plt.annotate(s = 'India', xy = i)"
   ]
  },
  {
   "cell_type": "code",
   "execution_count": null,
   "id": "89db8085",
   "metadata": {},
   "outputs": [],
   "source": [
    "sales = np.array ([1013.14, 8298.48, 875.51, 22320.83, 9251.6, 4516.86, 585.16, 836154.03, 216748.48, 174.2, 27557.79, 563.25, 558.11, 37117.45, 357.36, 2206.96, 709.5, 35064.03, 7230.78, 235.33, 148.32, 3973.27, 11737.8, 7104.63, 83.67, 5569.83, 92.34, 107104.36, 1045.62, 9072.51, 42485.82, 5093.82, 14846.16, 943.92, 684.36, 15012.03, 38196.18, 2448.75, 28881.96, 13912.14, 4507.2, 4931.06, 12805.05, 67912.73, 4492.2, 1740.01, 458.04, 16904.32, 21744.53, 10417.26, 18665.33, 2808.42, 54195.57, 67332.5, 24390.95, 1790.43, 2234.19, 9917.5, 7408.14, 36051.99, 1352.22, 1907.7, 245722.14, 2154.66, 1078.21, 3391.65, 28262.73, 5177.04, 66.51, 2031.34, 1683.72, 1970.01, 6515.82, 1055.31, 1029.48, 5303.4, 1850.96, 1159.41, 39989.13, 1183.87, 96365.09, 8356.68, 7010.24, 23119.23, 46109.28, 146071.84, 242259.03, 9058.95, 1313.67, 31525.06, 2019.94, 703.04, 1868.79, 700.5, 55512.02, 243.5, 2113.18, 11781.81, 262189.49, 3487.29, 513.12, 312050.42, 5000.7, 121.02, 1302.78, 169.92, 124.29, 57366.05, 29445.93, 4614.3, 45009.98, 309.24, 3353.67, 41348.34, 2280.27, 61193.7, 1466.79, 12419.94, 445.12, 25188.65, 263514.92, 12351.23, 1152.3, 26298.81, 9900.78, 5355.57, 2325.66, 6282.81, 127707.92, 1283.1, 3560.15, 3723.84, 13715.01, 4887.9, 3396.89, 33348.42, 625.02, 1665.48, 32486.97, 340212.44, 20516.22, 8651.16, 13590.06, 2440.35, 6462.57, 1770.13, 7527.18, 1433.65, 423.3, 21601.72, 10035.72, 2378.49, 3062.38, 719469.32, 179366.79, 345.17, 30345.78, 300.71, 940.81, 36468.08, 1352.85, 1755.72, 2391.96, 19.98, 19792.8, 15633.88, 7.45, 521.67, 1118.24, 7231.68, 12399.32, 204.36, 23.64, 5916.48, 313.98, 108181.5, 9212.42, 27476.91, 1761.33, 289.5, 780.3, 15098.46, 813.27, 47.55, 8323.23, 22634.64, 1831.02, 28808.1, 10539.78, 588.99, 939.78, 7212.41, 15683.01, 41369.09, 5581.6, 403.36, 375.26, 12276.66, 15393.56, 76.65, 5884.38, 18005.49, 3094.71, 43642.78, 35554.83, 22977.11, 1026.33, 665.28, 9712.49, 6038.52, 30756.51, 3758.25, 4769.49, 2463.3, 160153.16, 967.11, 2311.74, 1414.83, 12764.91, 4191.24, 110.76, 637.34, 1195.12, 2271.63, 804.12, 196.17, 167.67, 131.77, 2842.05, 9969.12, 1784.35, 3098.49, 25005.54, 1300.1, 118697.39, 7920.54, 6471.78, 31707.57, 37636.47, 118777.77, 131170.76, 3980.88, 3339.39, 26563.9, 4038.73, 124.8, 196.65, 2797.77, 29832.76, 184.84, 79.08, 8047.83, 205313.25, 1726.98, 899.73, 224.06, 304763.54, 6101.31, 729.6, 896.07, 17.82, 26.22, 46429.78, 31167.27, 2455.94, 37714.3, 1506.93, 3812.78, 25223.34, 3795.96, 437.31, 41278.86, 2091.81, 6296.61, 468.82, 23629.64, 160435.53, 9725.46, 1317.03, 1225.26, 30034.08, 7893.45, 2036.07, 215.52, 3912.42, 82783.43, 253.14, 966.96, 3381.26, 164.07, 1984.23, 75.12, 25168.17, 3295.53, 991.12, 10772.1, 44.16, 1311.45, 35352.57, 245783.54, 20.49, 13471.06, 8171.16, 14075.67, 611.82, 3925.56, 981.84, 10209.84, 156.56, 243.06, 21287.52, 7300.51, 434.52, 6065.0, 741577.51, 132461.03, 224.75, 28953.6, 757.98, 528.15, 34922.41, 50.58, 2918.48, 1044.96, 22195.13, 3951.48, 6977.64, 219.12, 5908.38, 10987.46, 4852.26, 445.5, 71860.82, 14840.45, 24712.08, 1329.9, 1180.44, 85.02, 10341.63, 690.48, 1939.53, 20010.51, 914.31, 25223.82, 12804.66, 2124.24, 602.82, 2961.66, 15740.79, 74138.35, 7759.39, 447.0, 2094.84, 22358.95, 21734.53, 4223.73, 17679.53, 1019.85, 51848.72, 69133.3, 30146.9, 705.48, 14508.88, 7489.38, 20269.44, 246.12, 668.13, 768.93, 215677.35, 899.16, 2578.2, 4107.99, 20334.57, 366.84, 3249.27, 98.88, 3497.88, 3853.05, 786.75, 1573.68, 458.36, 1234.77, 1094.22, 2300.61, 970.14, 3068.25, 35792.85, 4277.82, 71080.28, 3016.86, 3157.49, 15888.0, 30000.36, 140037.89, 216056.25, 1214.22, 1493.94, 32036.69, 4979.66, 106.02, 46257.68, 1033.3, 937.32, 3442.62, 160633.45, 213.15, 338.88, 242117.13, 9602.34, 2280.99, 73759.08, 23526.12, 6272.74, 43416.3, 576.78, 1471.61, 20844.9, 3497.7, 56382.38, 902.58, 6235.26, 48.91, 32684.24, 276611.58, 13370.38, 10595.28, 4555.14, 10084.38, 267.72, 1012.95, 4630.5, 149433.51, 364.32, 349.2, 4647.56, 504.0, 10343.52, 5202.66, 2786.26, 34135.95, 2654.58, 24699.51, 339239.87, 136.26, 23524.51, 8731.68, 8425.86, 835.95, 11285.19])\n",
    "profit = np.array([-1213.46, 1814.13, -1485.7, -2286.73, -2872.12, 946.8, 198.48, 145454.95, 49476.1, -245.56, 5980.77, -790.47, -895.72, -34572.08, 117.9, 561.96, 152.85, 1426.05, 1873.17, -251.03, 68.22, 635.11, 3722.4, -3168.63, 27.6, 952.11, 7.38, 20931.13, 186.36, -5395.38, 9738.45, 525.27, 3351.99, 120.78, 266.88, 3795.21, 8615.97, 609.54, 7710.57, 2930.43, 1047.96, -2733.32, 2873.73, -5957.89, -909.6, 163.41, -376.02, -6322.68, -10425.86, 2340.36, -28430.53, 756.12, 12633.33, 7382.54, -14327.69, 436.44, 683.85, -694.91, 1960.56, 10925.82, 334.08, 425.49, 53580.2, 1024.56, 110.93, 632.22, 8492.58, 1418.88, 19.26, -2567.57, 346.26, 601.86, 1318.68, 304.05, 428.37, 1416.24, -2878.18, 283.41, 12611.04, 261.95, -648.43, 1112.88, -2640.29, 6154.32, 11558.79, 15291.4, 56092.65, 1515.39, 342.03, -10865.66, -902.8, 351.52, 364.17, 87.72, 11565.66, 75.4, 289.33, 3129.63, 50795.72, 783.72, 215.46, 29196.89, 1147.26, 53.22, 286.56, 73.02, 42.24, 13914.85, 5754.54, 998.04, -1476.04, 86.58, -1636.35, 10511.91, 647.34, 13768.62, 338.67, 3095.67, 173.84, 5632.93, 64845.11, 3297.33, 338.61, 7246.62, 2255.52, 1326.36, 827.64, 1100.58, 9051.36, 412.23, 1063.91, 940.59, 3891.84, 1599.51, 1129.57, 8792.64, 6.24, 592.77, 8792.85, 47727.5, -4597.68, 2242.56, 3546.45, 321.87, 1536.72, -2463.29, 1906.08, -1916.99, 186.24, 3002.05, -3250.98, 554.7, 830.64, 122612.79, 33894.21, -559.03, 7528.05, -477.67, -1660.25, -33550.96, 481.68, 425.08, 450.3, 9.57, -3025.29, 2924.62, -11.84, 87.36, 26.51, 1727.19, -6131.18, 59.16, 3.06, 1693.47, 74.67, 24729.21, -4867.94, 6705.18, 410.79, 70.74, 101.7, 3264.3, 137.01, 6.18, 2100.21, 5295.24, 520.29, 7205.52, 2602.65, 116.67, 224.91, -5153.93, 3882.69, -6535.24, -1254.1, 84.56, -186.38, -3167.2, -7935.59, 37.02, 1908.06, -27087.84, 829.32, 8727.44, 2011.47, -11629.64, 234.96, 53.1, 1248.14, 1511.07, 7374.24, 1193.28, 1090.23, 553.86, 38483.86, 255.81, 528.54, 326.07, 3924.36, 1018.92, 36.48, 113.24, -1770.05, 527.64, 224.49, 79.53, 64.77, 38.08, 868.08, 2265.06, -2643.62, 833.73, 5100.03, 326.44, 18158.84, 1682.01, -3290.22, 8283.33, 7926.18, 1694.41, 30522.92, 1214.07, 900.6, -6860.8, -865.91, 26.16, 47.22, 863.52, 7061.26, 73.92, 33.12, 1801.23, 38815.44, 431.13, 216.81, 16.5, 53688.2, 1210.32, 236.94, 210.84, 3.18, 2.22, 10265.64, 7212.3, 343.56, 3898.28, 568.11, -1867.85, 5782.38, 697.29, -192.06, 10179.02, 616.32, 1090.47, 165.84, 6138.28, 39723.06, 2085.14, 90.0, 129.93, 7957.53, 2131.86, 562.44, 99.12, 1298.37, 7580.33, 113.73, 139.71, 456.0, 21.24, 292.68, 30.34, 5817.15, 1060.89, 252.9, 3060.61, 6.6, 219.09, 8735.82, 31481.09, 2.85, -3124.72, 2195.94, 3464.7, 141.12, 1125.69, -1752.03, 3281.52, -303.77, 114.18, -2412.63, -5099.61, 146.64, 660.22, 18329.28, 28529.84, -232.27, 7435.41, -1157.94, -746.73, -30324.2, 2.52, 1313.44, 213.72, -5708.95, 930.18, 1663.02, 31.59, 1787.88, -8219.56, 973.92, 4.32, 8729.78, -2529.52, 5361.06, 69.21, 519.3, 13.56, 2236.77, 213.96, 367.98, 5074.2, 206.61, 7620.36, 2093.19, 164.07, 230.01, -815.82, 4226.7, -3635.09, -3344.17, 167.26, 143.79, -8233.57, -4085.21, 919.35, -25232.35, 234.33, 12040.68, 7206.28, -15112.76, 206.04, -2662.49, 2346.81, 4461.36, 93.48, 82.11, 147.87, 10389.53, 395.58, 474.74, 1333.26, 3913.02, 117.36, 858.78, 6.9, -4628.49, 1170.6, 218.55, 539.58, -211.0, 438.87, 317.16, 310.8, -1578.09, 706.56, 6617.4, 803.84, 2475.26, 764.34, -1461.88, 3805.56, 7371.27, -1377.13, 42435.03, 472.47, 315.48, -11755.91, -2418.6, 6.36, 9317.76, 326.88, -287.31, 637.68, 17579.17, 70.83, 47.4, 26143.92, 1548.15, 612.78, 17842.76, 6735.39, 1206.5, -10035.74, 149.4, -777.85, 5566.29, 748.92, 14941.58, 348.93, 1944.06, -5.51, 7026.84, 46114.92, 2361.86, 2613.24, 1277.37, 2587.74, 103.08, 311.43, 1250.58, 13055.21, 18.21, 108.24, 709.44, 115.92, 1863.6, 1873.86, 817.32, 7577.64, 1019.19, 6813.03, 24698.84, 66.24, -10971.39, 2056.47, 2095.35, 246.33, 2797.89])\n",
    "product_category = np.array(['Technology', 'Technology', 'Technology', 'Technology', 'Technology', 'Technology', 'Technology', 'Technology', 'Technology', 'Technology', 'Technology', 'Technology', 'Technology', 'Technology', 'Technology', 'Technology', 'Technology', 'Technology', 'Technology', 'Technology', 'Technology', 'Technology', 'Technology', 'Technology', 'Technology', 'Technology', 'Technology', 'Technology', 'Technology', 'Technology', 'Technology', 'Technology', 'Technology', 'Technology', 'Technology', 'Technology', 'Technology', 'Technology', 'Technology', 'Technology', 'Technology', 'Technology', 'Technology', 'Technology', 'Technology', 'Technology', 'Technology', 'Technology', 'Technology', 'Technology', 'Technology', 'Technology', 'Technology', 'Technology', 'Technology', 'Technology', 'Technology', 'Technology', 'Technology', 'Technology', 'Technology', 'Technology', 'Technology', 'Technology', 'Technology', 'Technology', 'Technology', 'Technology', 'Technology', 'Technology', 'Technology', 'Technology', 'Technology', 'Technology', 'Technology', 'Technology', 'Technology', 'Technology', 'Technology', 'Technology', 'Technology', 'Technology', 'Technology', 'Technology', 'Technology', 'Technology', 'Technology', 'Technology', 'Technology', 'Technology', 'Technology', 'Technology', 'Technology', 'Technology', 'Technology', 'Technology', 'Technology', 'Technology', 'Technology', 'Technology', 'Technology', 'Technology', 'Technology', 'Technology', 'Technology', 'Technology', 'Technology', 'Technology', 'Technology', 'Technology', 'Technology', 'Technology', 'Technology', 'Technology', 'Technology', 'Technology', 'Technology', 'Technology', 'Technology', 'Technology', 'Technology', 'Technology', 'Technology', 'Technology', 'Technology', 'Technology', 'Technology', 'Technology', 'Technology', 'Technology', 'Technology', 'Technology', 'Technology', 'Technology', 'Technology', 'Technology', 'Technology', 'Technology', 'Technology', 'Technology', 'Technology', 'Technology', 'Technology', 'Technology', 'Technology', 'Office Supplies', 'Office Supplies', 'Office Supplies', 'Office Supplies', 'Office Supplies', 'Office Supplies', 'Office Supplies', 'Office Supplies', 'Office Supplies', 'Office Supplies', 'Office Supplies', 'Office Supplies', 'Office Supplies', 'Office Supplies', 'Office Supplies', 'Office Supplies', 'Office Supplies', 'Office Supplies', 'Office Supplies', 'Office Supplies', 'Office Supplies', 'Office Supplies', 'Office Supplies', 'Office Supplies', 'Office Supplies', 'Office Supplies', 'Office Supplies', 'Office Supplies', 'Office Supplies', 'Office Supplies', 'Office Supplies', 'Office Supplies', 'Office Supplies', 'Office Supplies', 'Office Supplies', 'Office Supplies', 'Office Supplies', 'Office Supplies', 'Office Supplies', 'Office Supplies', 'Office Supplies', 'Office Supplies', 'Office Supplies', 'Office Supplies', 'Office Supplies', 'Office Supplies', 'Office Supplies', 'Office Supplies', 'Office Supplies', 'Office Supplies', 'Office Supplies', 'Office Supplies', 'Office Supplies', 'Office Supplies', 'Office Supplies', 'Office Supplies', 'Office Supplies', 'Office Supplies', 'Office Supplies', 'Office Supplies', 'Office Supplies', 'Office Supplies', 'Office Supplies', 'Office Supplies', 'Office Supplies', 'Office Supplies', 'Office Supplies', 'Office Supplies', 'Office Supplies', 'Office Supplies', 'Office Supplies', 'Office Supplies', 'Office Supplies', 'Office Supplies', 'Office Supplies', 'Office Supplies', 'Office Supplies', 'Office Supplies', 'Office Supplies', 'Office Supplies', 'Office Supplies', 'Office Supplies', 'Office Supplies', 'Office Supplies', 'Office Supplies', 'Office Supplies', 'Office Supplies', 'Office Supplies', 'Office Supplies', 'Office Supplies', 'Office Supplies', 'Office Supplies', 'Office Supplies', 'Office Supplies', 'Office Supplies', 'Office Supplies', 'Office Supplies', 'Office Supplies', 'Office Supplies', 'Office Supplies', 'Office Supplies', 'Office Supplies', 'Office Supplies', 'Office Supplies', 'Office Supplies', 'Office Supplies', 'Office Supplies', 'Office Supplies', 'Office Supplies', 'Office Supplies', 'Office Supplies', 'Office Supplies', 'Office Supplies', 'Office Supplies', 'Office Supplies', 'Office Supplies', 'Office Supplies', 'Office Supplies', 'Office Supplies', 'Office Supplies', 'Office Supplies', 'Office Supplies', 'Office Supplies', 'Office Supplies', 'Office Supplies', 'Office Supplies', 'Office Supplies', 'Office Supplies', 'Office Supplies', 'Office Supplies', 'Office Supplies', 'Office Supplies', 'Office Supplies', 'Office Supplies', 'Office Supplies', 'Office Supplies', 'Office Supplies', 'Office Supplies', 'Office Supplies', 'Office Supplies', 'Office Supplies', 'Office Supplies', 'Office Supplies', 'Office Supplies', 'Office Supplies', 'Office Supplies', 'Office Supplies', 'Office Supplies', 'Office Supplies', 'Office Supplies', 'Office Supplies', 'Office Supplies', 'Office Supplies', 'Office Supplies', 'Office Supplies', 'Office Supplies', 'Office Supplies', 'Office Supplies', 'Office Supplies', 'Office Supplies', 'Office Supplies', 'Furniture', 'Furniture', 'Furniture', 'Furniture', 'Furniture', 'Furniture', 'Furniture', 'Furniture', 'Furniture', 'Furniture', 'Furniture', 'Furniture', 'Furniture', 'Furniture', 'Furniture', 'Furniture', 'Furniture', 'Furniture', 'Furniture', 'Furniture', 'Furniture', 'Furniture', 'Furniture', 'Furniture', 'Furniture', 'Furniture', 'Furniture', 'Furniture', 'Furniture', 'Furniture', 'Furniture', 'Furniture', 'Furniture', 'Furniture', 'Furniture', 'Furniture', 'Furniture', 'Furniture', 'Furniture', 'Furniture', 'Furniture', 'Furniture', 'Furniture', 'Furniture', 'Furniture', 'Furniture', 'Furniture', 'Furniture', 'Furniture', 'Furniture', 'Furniture', 'Furniture', 'Furniture', 'Furniture', 'Furniture', 'Furniture', 'Furniture', 'Furniture', 'Furniture', 'Furniture', 'Furniture', 'Furniture', 'Furniture', 'Furniture', 'Furniture', 'Furniture', 'Furniture', 'Furniture', 'Furniture', 'Furniture', 'Furniture', 'Furniture', 'Furniture', 'Furniture', 'Furniture', 'Furniture', 'Furniture', 'Furniture', 'Furniture', 'Furniture', 'Furniture', 'Furniture', 'Furniture', 'Furniture', 'Furniture', 'Furniture', 'Furniture', 'Furniture', 'Furniture', 'Furniture', 'Furniture', 'Furniture', 'Furniture', 'Furniture', 'Furniture', 'Furniture', 'Furniture', 'Furniture', 'Furniture', 'Furniture', 'Furniture', 'Furniture', 'Furniture', 'Furniture', 'Furniture', 'Furniture', 'Furniture', 'Furniture', 'Furniture', 'Furniture', 'Furniture', 'Furniture', 'Furniture', 'Furniture', 'Furniture', 'Furniture', 'Furniture', 'Furniture', 'Furniture', 'Furniture', 'Furniture', 'Furniture', 'Furniture', 'Furniture', 'Furniture', 'Furniture', 'Furniture', 'Furniture', 'Furniture', 'Furniture', 'Furniture', 'Furniture', 'Furniture', 'Furniture', 'Furniture', 'Furniture', 'Furniture', 'Furniture', 'Furniture', 'Furniture', 'Furniture', 'Furniture', 'Furniture'])\n",
    "country = np.array(['Zimbabwe', 'Zambia', 'Yemen', 'Vietnam', 'Venezuela', 'Uzbekistan', 'Uruguay', 'United States', 'United Kingdom', 'United Arab Emirates', 'Ukraine', 'Uganda', 'Turkmenistan', 'Turkey', 'Tunisia', 'Trinidad and Tobago', 'Togo', 'Thailand', 'Tanzania', 'Tajikistan', 'Taiwan', 'Syria', 'Switzerland', 'Sweden', 'Swaziland', 'Sudan', 'Sri Lanka', 'Spain', 'South Sudan', 'South Korea', 'South Africa', 'Somalia', 'Singapore', 'Sierra Leone', 'Serbia', 'Senegal', 'Saudi Arabia', 'Rwanda', 'Russia', 'Romania', 'Qatar', 'Portugal', 'Poland', 'Philippines', 'Peru', 'Paraguay', 'Papua New Guinea', 'Panama', 'Pakistan', 'Norway', 'Nigeria', 'Niger', 'Nicaragua', 'New Zealand', 'Netherlands', 'Nepal', 'Namibia', 'Myanmar (Burma)', 'Mozambique', 'Morocco', 'Mongolia', 'Moldova', 'Mexico', 'Mauritania', 'Martinique', 'Mali', 'Malaysia', 'Madagascar', 'Luxembourg', 'Lithuania', 'Libya', 'Liberia', 'Lesotho', 'Lebanon', 'Kyrgyzstan', 'Kenya', 'Kazakhstan', 'Jordan', 'Japan', 'Jamaica', 'Italy', 'Israel', 'Ireland', 'Iraq', 'Iran', 'Indonesia', 'India', 'Hungary', 'Hong Kong', 'Honduras', 'Haiti', 'Guyana', 'Guinea-Bissau', 'Guinea', 'Guatemala', 'Guadeloupe', 'Greece', 'Ghana', 'Germany', 'Georgia', 'Gabon', 'France', 'Finland', 'Ethiopia', 'Estonia', 'Eritrea', 'Equatorial Guinea', 'El Salvador', 'Egypt', 'Ecuador', 'Dominican Republic', 'Djibouti', 'Denmark', 'Democratic Republic of the Congo', 'Czech Republic', 'Cuba', 'Croatia', \"Cote d'Ivoire\", 'Costa Rica', 'Colombia', 'China', 'Chile', 'Central African Republic', 'Canada', 'Cameroon', 'Cambodia', 'Burkina Faso', 'Bulgaria', 'Brazil', 'Bosnia and Herzegovina', 'Bolivia', 'Benin', 'Belgium', 'Belarus', 'Barbados', 'Bangladesh', 'Bahrain', 'Azerbaijan', 'Austria', 'Australia', 'Argentina', 'Angola', 'Algeria', 'Albania', 'Afghanistan', 'Zimbabwe', 'Zambia', 'Yemen', 'Western Sahara', 'Vietnam', 'Venezuela', 'Uzbekistan', 'Uruguay', 'United States', 'United Kingdom', 'United Arab Emirates', 'Ukraine', 'Uganda', 'Turkmenistan', 'Turkey', 'Tunisia', 'Trinidad and Tobago', 'Togo', 'The Gambia', 'Thailand', 'Tanzania', 'Tajikistan', 'Taiwan', 'Syria', 'Switzerland', 'Sweden', 'Swaziland', 'Suriname', 'Sudan', 'Sri Lanka', 'Spain', 'South Korea', 'South Africa', 'Somalia', 'Slovenia', 'Slovakia', 'Singapore', 'Sierra Leone', 'Serbia', 'Senegal', 'Saudi Arabia', 'Rwanda', 'Russia', 'Romania', 'Republic of the Congo', 'Qatar', 'Portugal', 'Poland', 'Philippines', 'Peru', 'Paraguay', 'Papua New Guinea', 'Panama', 'Pakistan', 'Oman', 'Norway', 'Nigeria', 'Niger', 'Nicaragua', 'New Zealand', 'Netherlands', 'Nepal', 'Namibia', 'Myanmar (Burma)', 'Mozambique', 'Morocco', 'Montenegro', 'Mongolia', 'Moldova', 'Mexico', 'Mauritania', 'Martinique', 'Mali', 'Malaysia', 'Madagascar', 'Macedonia', 'Luxembourg', 'Lithuania', 'Libya', 'Liberia', 'Lesotho', 'Lebanon', 'Laos', 'Kyrgyzstan', 'Kenya', 'Kazakhstan', 'Jordan', 'Japan', 'Jamaica', 'Italy', 'Israel', 'Ireland', 'Iraq', 'Iran', 'Indonesia', 'India', 'Hungary', 'Hong Kong', 'Honduras', 'Haiti', 'Guyana', 'Guinea-Bissau', 'Guinea', 'Guatemala', 'Guadeloupe', 'Greece', 'Ghana', 'Germany', 'Georgia', 'Gabon', 'French Guiana', 'France', 'Finland', 'Ethiopia', 'Estonia', 'Eritrea', 'Equatorial Guinea', 'El Salvador', 'Egypt', 'Ecuador', 'Dominican Republic', 'Djibouti', 'Denmark', 'Democratic Republic of the Congo', 'Czech Republic', 'Cyprus', 'Cuba', 'Croatia', \"Cote d'Ivoire\", 'Costa Rica', 'Colombia', 'China', 'Chile', 'Chad', 'Central African Republic', 'Canada', 'Cameroon', 'Cambodia', 'Burkina Faso', 'Bulgaria', 'Brazil', 'Botswana', 'Bosnia and Herzegovina', 'Bolivia', 'Bhutan', 'Benin', 'Belize', 'Belgium', 'Belarus', 'Barbados', 'Bangladesh', 'Bahrain', 'Azerbaijan', 'Austria', 'Australia', 'Armenia', 'Argentina', 'Angola', 'Algeria', 'Albania', 'Afghanistan', 'Zimbabwe', 'Zambia', 'Yemen', 'Western Sahara', 'Vietnam', 'Venezuela', 'Uzbekistan', 'Uruguay', 'United States', 'United Kingdom', 'United Arab Emirates', 'Ukraine', 'Uganda', 'Turkmenistan', 'Turkey', 'Tunisia', 'Trinidad and Tobago', 'Togo', 'Thailand', 'Tanzania', 'Taiwan', 'Syria', 'Switzerland', 'Sweden', 'Sudan', 'Sri Lanka', 'Spain', 'South Korea', 'South Africa', 'Somalia', 'Slovenia', 'Slovakia', 'Singapore', 'Sierra Leone', 'Senegal', 'Saudi Arabia', 'Rwanda', 'Russia', 'Romania', 'Republic of the Congo', 'Qatar', 'Portugal', 'Poland', 'Philippines', 'Peru', 'Paraguay', 'Papua New Guinea', 'Panama', 'Pakistan', 'Norway', 'Nigeria', 'Niger', 'Nicaragua', 'New Zealand', 'Netherlands', 'Nepal', 'Myanmar (Burma)', 'Mozambique', 'Morocco', 'Montenegro', 'Mongolia', 'Moldova', 'Mexico', 'Mauritania', 'Martinique', 'Mali', 'Malaysia', 'Malawi', 'Madagascar', 'Macedonia', 'Lithuania', 'Libya', 'Liberia', 'Lebanon', 'Laos', 'Kyrgyzstan', 'Kuwait', 'Kenya', 'Kazakhstan', 'Jordan', 'Japan', 'Jamaica', 'Italy', 'Israel', 'Ireland', 'Iraq', 'Iran', 'Indonesia', 'India', 'Hungary', 'Hong Kong', 'Honduras', 'Haiti', 'Guyana', 'Guatemala', 'Guadeloupe', 'Greece', 'Ghana', 'Germany', 'Georgia', 'Gabon', 'France', 'Finland', 'Estonia', 'El Salvador', 'Egypt', 'Ecuador', 'Dominican Republic', 'Djibouti', 'Denmark', 'Democratic Republic of the Congo', 'Czech Republic', 'Cuba', 'Croatia', \"Cote d'Ivoire\", 'Costa Rica', 'Colombia', 'China', 'Chile', 'Canada', 'Cameroon', 'Cambodia', 'Burundi', 'Burkina Faso', 'Bulgaria', 'Brazil', 'Botswana', 'Bosnia and Herzegovina', 'Bolivia', 'Benin', 'Belgium', 'Belarus', 'Barbados', 'Bangladesh', 'Azerbaijan', 'Austria', 'Australia', 'Armenia', 'Argentina', 'Angola', 'Algeria', 'Albania', 'Afghanistan'])\n",
    "\n",
    "print(len(sales), len(profit), len(product_category), len(country))\n",
    "# sabai ko number of elements same cha so euta ko element lai lera arko ma halera conditional subsetting garna mil6\n",
    "\n",
    "# i mean profit[product_category=='technology']"
   ]
  },
  {
   "cell_type": "code",
   "execution_count": null,
   "id": "e6bbcf48",
   "metadata": {},
   "outputs": [],
   "source": [
    "# lineplot ra scatter plot use garne yadi duita quantitative data sets ko relationship dekhauna \n",
    "# boxplot use garne outliers herna"
   ]
  },
  {
   "cell_type": "code",
   "execution_count": null,
   "id": "df82f61e",
   "metadata": {},
   "outputs": [],
   "source": [
    "# plt.show garepaxi pani metadata hat6"
   ]
  },
  {
   "cell_type": "code",
   "execution_count": null,
   "id": "4e5ac4ea",
   "metadata": {},
   "outputs": [],
   "source": [
    "# data visualisation and analysis garda \n",
    "# first ma histogram use garne with count\n",
    "# then"
   ]
  },
  {
   "cell_type": "code",
   "execution_count": 2,
   "id": "7a064aba",
   "metadata": {},
   "outputs": [],
   "source": [
    "# suppose yo pandas dataframe cha re df_count vanne\n",
    "\n",
    "#   cut               price\n",
    "# 0\tFair              1610\n",
    "# 1\tGood              4906\n",
    "# 2\tIdeal             21551\n",
    "# 3\tPremium           13791\n",
    "# 4\tVery Good         12082\n",
    "\n",
    "# aba yesko bar plot garuparyo re\n",
    "# tesko lagi first ma hamile cut column ko sablai order garnupar6 fair, good, very good, premium, ideal ma\n",
    "# ani matrai orderly vaepaxi plot garne\n",
    "# tarika:\n",
    "# pd.Categorical(df_count['cut'], categories=cusotm_order, ordered=True)\n",
    "# ani sort garne aru columns harulai based on that column\n",
    "# df_count = df_count.sort_values('cut')"
   ]
  },
  {
   "cell_type": "code",
   "execution_count": null,
   "id": "b5502bcc",
   "metadata": {},
   "outputs": [],
   "source": [
    "inp0.dropna(subset = ['Rating'], inplace = True )\n",
    "# euta specific column ma null chan aba jahajaha null cha tesko corresponding rows sabai hataune"
   ]
  },
  {
   "cell_type": "code",
   "execution_count": null,
   "id": "463bd281",
   "metadata": {},
   "outputs": [],
   "source": [
    "df.dropna(inplace=True) gare jun jun col ma null cha tyo cols hataidin6"
   ]
  },
  {
   "cell_type": "code",
   "execution_count": null,
   "id": "c92383ab",
   "metadata": {},
   "outputs": [],
   "source": [
    "inp0.drop([10472], inplace = True)\n",
    "# implicit index dera ni drop garna mil6 row"
   ]
  },
  {
   "cell_type": "code",
   "execution_count": null,
   "id": "2bdcac95",
   "metadata": {},
   "outputs": [],
   "source": [
    "inp1['Android Ver'].value_counts()\n",
    "# yesle euta column ma jatti uniue values cha sabaiko mode din6, sabai values ko count din6. mode() use gare ni hun6\n",
    "# yo garda sabse dherai occur vako value suru ma din6\n",
    "inp1['Android Ver'].value_counts()[0:]\n",
    "inp1['Android Ver'].value_counts()[1:]\n",
    "\n",
    "\n",
    "inp1['Android Ver'].mode() # yo garyo vane chai sabse dherai choti occur vako values di6\n",
    "inp1['Android Ver'].mode()[0]\n"
   ]
  },
  {
   "cell_type": "code",
   "execution_count": null,
   "id": "7b037628",
   "metadata": {},
   "outputs": [],
   "source": [
    "inp0['Installs'].str.replace('[,+]', '') \n",
    "# yesle columns ma vako string/s harulai replace gar6\n",
    "\n",
    "str.contains()\n",
    "str.contains().sum()"
   ]
  },
  {
   "cell_type": "code",
   "execution_count": null,
   "id": "9bbd597e",
   "metadata": {},
   "outputs": [],
   "source": [
    "# yo duita code eutai ho\n",
    "# vannale yadi columnko sabai elements euta/duita value ho ki haina vanera check garna yesari garne\n",
    "\n",
    "# inp1['Content Rating'].isin(['Adults only 18+', 'Unrated'])\n",
    "\n",
    "# inp1[~((inp1['Content Rating'] == 'Adults only 18+') | (inp1['Content Rating'] == 'Unrated'))]"
   ]
  },
  {
   "cell_type": "code",
   "execution_count": null,
   "id": "3d93233a",
   "metadata": {},
   "outputs": [],
   "source": [
    "# aba drop garaum some rows , ya rows haru include nagarum\n",
    "inp1 = inp1[~((inp1['Content Rating'] == 'Adults only 18+') | (inp1['Content Rating'] == 'Unrated'))]\n",
    "# yo garda dherai columns hat6\n",
    "so kati index haru exist hun6n but \n",
    "\n",
    "inp1.info() # yo garda sabai columns not null chan so tesko matlab dataframe continuous cha\n",
    "# yadi chaina vaena vane reset_index garne\n",
    "#  If you see a RangeIndex and the range corresponds to the number of entries in your DataFrame, then the index is continuous.\n",
    "# aile Int64Index: 8620 entries, 0 to 10840 dekhaira6 yesko matlab vaneko yo contiguous ho\n",
    "# vannale  the index seems to have gaps or irregularities, \n",
    "# due to Adults only ra unrated values vako records haru include nagareko/ drop gareko hunale\n",
    "# yadi continuguous vako vae Int64Index: 8620 entries, 0 to 8621\n",
    "# remember, entries vaneko records/rows ho\n",
    "# remember Int64Index vaneko number of indices ho \n",
    "# yadi yesto vae continuous banauna indexlai reset garne inplace garne ra drop = True garne kinakai old indexlai naline vanekoho\n",
    "# drop = True garda tyo non contiguous index lai  default integer-based index le replace gar6\n",
    "#  default integer-based index vaneko 0 dekhi suru vaera 1 le baddai jane index ho"
   ]
  },
  {
   "cell_type": "code",
   "execution_count": null,
   "id": "c74eaa65",
   "metadata": {},
   "outputs": [],
   "source": [
    "# columns hataune yesari without using drop\n",
    "df1.loc[:, ~(df1.columns.isin(['FLAG_DOCUMENT_2','FLAG_DOCUMENT_4','FLAG_DOCUMENT_5','FLAG_DOCUMENT_7','FLAG_DOCUMENT_9',\\\n",
    "                               'FLAG_DOCUMENT_10','FLAG_DOCUMENT_11','FLAG_DOCUMENT_12','FLAG_DOCUMENT_13','FLAG_DOCUMENT_14',\\\n",
    "                               'FLAG_DOCUMENT_15','FLAG_DOCUMENT_16','FLAG_DOCUMENT_17','FLAG_DOCUMENT_18','FLAG_DOCUMENT_19',\\\n",
    "                               'FLAG_DOCUMENT_20','FLAG_DOCUMENT_21']))]"
   ]
  },
  {
   "cell_type": "code",
   "execution_count": null,
   "id": "5f03b8ab",
   "metadata": {},
   "outputs": [],
   "source": [
    "# groupby vanda pivot table nai dami \n",
    "# pivot table ma aggfunc nadida mean gardin6\n",
    "\n",
    "# data: The DataFrame you want to pivot.\n",
    "# values: The column to aggregate values on.\n",
    "# index: The column(s) to set as the index.\n",
    "# columns: The column to pivot, creating new columns in the resulting pivot table.\n",
    "\n",
    "# pivot table gives a grid which can be given to the heatmap"
   ]
  },
  {
   "cell_type": "code",
   "execution_count": null,
   "id": "9e7873b8",
   "metadata": {},
   "outputs": [],
   "source": [
    "# droppping a column\n",
    "inp0[inp0.columns[~(inp0.columns == 'customerid')]]"
   ]
  },
  {
   "cell_type": "code",
   "execution_count": null,
   "id": "94ce556d",
   "metadata": {},
   "outputs": [],
   "source": [
    "# duita column values harulai split garne ani split vaepaxi 1st value lai line\n",
    "inp0['jobedu'].str.split(',').str[1]"
   ]
  },
  {
   "cell_type": "code",
   "execution_count": null,
   "id": "67caf8fb",
   "metadata": {},
   "outputs": [],
   "source": [
    "inp0[['age']].apply(lambda x: x/x.sum())"
   ]
  },
  {
   "cell_type": "code",
   "execution_count": null,
   "id": "166b0999",
   "metadata": {},
   "outputs": [],
   "source": [
    "# In a database “MLA” containing the details of MLAs throughout India, you have a city named Rampur in Himachal Pradesh, UP and\n",
    "# Chhattisgarh. The city names are stored in the “City” column, while state names are stored in the “State” column. What is the\n",
    "# best way to represent the cities in this case?\n",
    "\n",
    "# The city and state columns need to be merged so that each city is uniquely identifiable for further analysis.\n",
    "\n",
    "\n",
    "# Checklist for fixing rows:\n",
    "\n",
    "# Delete summary rows: Total and Subtotal rows\n",
    "\n",
    "# Delete incorrect rows: Header row and footer row\n",
    "\n",
    "# Delete extra rows: Column number, indicators, blank rows, page number\n",
    "\n",
    " \n",
    "\n",
    "# Checklist for fixing columns:\n",
    "\n",
    "# if needed, merge columns for creating unique identifiers, for example, merge the columns State and City into the column\n",
    "# Full Address.\n",
    "\n",
    "# Split columns to get more data: Split the Address column to get State and City columns to analyse each separately. \n",
    "\n",
    "# Add column names: Add column names if missing.\n",
    "\n",
    "# Rename columns consistently: Abbreviations, encoded columns.\n",
    "\n",
    "# Delete columns: Delete unnecessary columns.\n",
    "\n",
    "# Align misaligned columns: The data set may have shifted columns, which you need to align correctly."
   ]
  },
  {
   "cell_type": "code",
   "execution_count": null,
   "id": "9137d0ca",
   "metadata": {},
   "outputs": [],
   "source": [
    "inp1.loc[inp1.pdays<0, 'pdays'] = np.NaN\n",
    "# yesari ni loc use garera missing values harulai replace garna mil6\n",
    "\n",
    "df['City'].replace('np.NaN', 'Mumbai') # yesari ni replace garna mil6"
   ]
  },
  {
   "cell_type": "code",
   "execution_count": null,
   "id": "91671224",
   "metadata": {},
   "outputs": [],
   "source": [
    "inp1['age_group'] = pd.cut(inp1.age, bins= [0, 20, 40, 60, 9999], labels = ['0-20', '20-40', '40-60', '60+'])\n"
   ]
  },
  {
   "cell_type": "code",
   "execution_count": null,
   "id": "6120392a",
   "metadata": {},
   "outputs": [],
   "source": [
    "inp1.balance.quantile([0.5, 0.7, 0.9, 0.95, 0.99])"
   ]
  },
  {
   "cell_type": "code",
   "execution_count": null,
   "id": "591f1504",
   "metadata": {},
   "outputs": [],
   "source": [
    "# quantiles/percentile/median are not affected by outliers\n",
    "# yo ss ko casema value lai cap ni garna hunna, asar gar6 "
   ]
  },
  {
   "attachments": {
    "sdkfjs.PNG": {
     "image/png": "[encoded data removed]"
    }
   },
   "cell_type": "markdown",
   "id": "d082e41d",
   "metadata": {},
   "source": [
    "![sdkfjs.PNG](attachment:sdkfjs.PNG)"
   ]
  },
  {
   "cell_type": "code",
   "execution_count": null,
   "id": "11512467",
   "metadata": {},
   "outputs": [],
   "source": [
    "# 0    261 sec\n",
    "# 1    151 sec\n",
    "# 2     1 min\n",
    "# 3     92 sec\n",
    "# 4    1.5 min\n",
    "\n",
    "inp1.duration  = inp1.duration.apply(lambda x: float(x.split(' ')[0])/60 if x.find('sec')>0 else float(x.split()[0]))\n",
    "\n",
    "# yo use garne yadi column vaules ma min cha ra sec ma lagne ho vane \n"
   ]
  },
  {
   "cell_type": "code",
   "execution_count": null,
   "id": "a6231032",
   "metadata": {},
   "outputs": [],
   "source": [
    "# lambda use garda if use garyo vane else x rakhna na birsine"
   ]
  },
  {
   "attachments": {
    "sdsfgfh.PNG": {
     "image/png": "[encoded data removed]"
    }
   },
   "cell_type": "markdown",
   "id": "31758427",
   "metadata": {},
   "source": [
    "![sdsfgfh.PNG](attachment:sdsfgfh.PNG)"
   ]
  },
  {
   "cell_type": "code",
   "execution_count": null,
   "id": "b22134ae",
   "metadata": {},
   "outputs": [],
   "source": [
    ".sum()\n",
    ".sum().sum()\n",
    "yad garne"
   ]
  },
  {
   "cell_type": "code",
   "execution_count": null,
   "id": "a6af1459",
   "metadata": {},
   "outputs": [],
   "source": [
    "# kinds of analysis in bivariate analysis:\n",
    "# Analysis Between Two Numeric Variables\n",
    "# Analysis Between Numeric and Categorical Variables\n",
    "# Correlation Versus Causation\n",
    "# Analysis Between Two Categorical Variables\n",
    "# Multivariate Analysis"
   ]
  },
  {
   "cell_type": "code",
   "execution_count": null,
   "id": "f36ed8b6",
   "metadata": {},
   "outputs": [],
   "source": [
    "# num vs num:\n",
    "#     correleation marix\n",
    "#     scatter plot\n",
    "#     pairplot"
   ]
  },
  {
   "cell_type": "code",
   "execution_count": null,
   "id": "2e6d6461",
   "metadata": {},
   "outputs": [],
   "source": [
    "# tara dherai numerical variable huda kati matrai banaune plots\n",
    "# supposeyou have 10 numerical variable so testo bela hamile dherai 10 c2 scatter plots banaunu vanda correleationmatrix use garne\n",
    "# ani the cell value will be the coreleation between two numerical variables\n",
    "# pairplot le ni hunna\n",
    "# correlation matraix banaerai garnupar6 dherai numerical variables vako casema"
   ]
  },
  {
   "cell_type": "code",
   "execution_count": null,
   "id": "db2a3224",
   "metadata": {},
   "outputs": [],
   "source": [
    "#function to find the 75th percentile.\n",
    "def p75(x):\n",
    "    return np.quantile(x, 0.75)\n",
    "\n",
    "#calculate the mean, median and 75th percentile of balance with response\n",
    "\n",
    "inp1.groupby('response')['balance'].aggregate(['mean', 'median', p75])\n",
    "\n",
    "\n",
    "# yp garyo vane mean median ra  quantile lai ekaichoti display garna mil6 ekaithauma"
   ]
  },
  {
   "cell_type": "code",
   "execution_count": null,
   "id": "d0415644",
   "metadata": {},
   "outputs": [],
   "source": [
    "##Ratings vs Size vs Content Rating\n",
    "\n",
    "##Prepare buckets for the Size column using pd.qcut\n",
    "\n",
    "# size column ko harek value lai label garne\n",
    "# jaile ni 5 wata sizeko category nai ta hune ho \n",
    "# 8.7 mb vaneko VL ra 19mb vaneko M gardeko cha so raamrari nai gareko cha\n",
    "inp1['Size_Bucket'] = pd.qcut(inp1.Size, [0, 0.2, 0.4, 0.6, 0.8, 1], ['VL', 'L', 'M', 'H', 'VH'])\n",
    "# yaha size vanne numerical variable lai categorical variable ma convert garyaum by bucketing a specific range of values\n",
    "\n",
    "# This is binning, where you convert a numeric variable to a categorical variable by bucketing a specific range of values.\n",
    "# This is pretty useful during analyses where you can create useful buckets and analyse how some other variable changes across \n",
    "# those buckets.\n",
    "# One of the most common examples of binning happens in demographic survey datasets (like Census or Market research surveys) \n",
    "# that contain the Age column, where people can be categorised as Under-12, 12-17, 18-24 & so on. Despite the actual age of the\n",
    "# person being a numeric value, it's much easier to analyse across buckets and gather insights( like asking how many people in\n",
    "# the 12-17 age bucket have gone to school, how many of them prefer a particular brand over the other and so on).\n",
    "# the pd.qcut method, which divided the entire Size column to the following buckets on the basis of the percentiles.\n",
    "# Note that pd.qcut takes percentile values in decimals, as in 20th percentile becomes 0.2, 40th percentile becomes 0.4 & so on\n",
    "\n",
    "# Percentile Range  Binned Category\n",
    "#-------------------------------------\n",
    "# (0,20]            Very Low (VL)\n",
    "# (20,40]           Low(L)\n",
    "# (40,60]           Medium (M)\n",
    "# (60,80]           High(H)\n",
    "# (80,100]          Very High(VH)\n",
    "\n",
    "inp1.head()"
   ]
  },
  {
   "cell_type": "code",
   "execution_count": null,
   "id": "7bc617ac",
   "metadata": {},
   "outputs": [],
   "source": [
    "df1.loc[:, ((((df1.isna().sum()/len(df1))*100).sort_values(ascending = False))<40)]\n",
    "# yesle sabai columns haru din6 which satisfy the condition\n",
    "\n",
    "df1.loc[((((df1.isna().sum()/len(df1))*100).sort_values(ascending = False))<40), :]\n",
    "# yesle sabai rows din6 which satisfy the condition\n"
   ]
  },
  {
   "cell_type": "code",
   "execution_count": null,
   "id": "0bcc9e31",
   "metadata": {},
   "outputs": [],
   "source": [
    "def func(x):\n",
    "    if x<0:\n",
    "        \n",
    "        return x*(-1)\n",
    "    else:\n",
    "        return x\n",
    "    \n",
    "df1[['DAYS_BIRTH','DAYS_EMPLOYED', 'DAYS_ID_PUBLISH']].applymap(func)"
   ]
  },
  {
   "cell_type": "code",
   "execution_count": null,
   "id": "d3ca23e9",
   "metadata": {},
   "outputs": [],
   "source": [
    "fl = ['FLAG_DOCUMENT_2', 'FLAG_DOCUMENT_3','FLAG_DOCUMENT_4','FLAG_DOCUMENT_5','FLAG_DOCUMENT_6','FLAG_DOCUMENT_7','FLAG_DOCUMENT_8','FLAG_DOCUMENT_9','FLAG_DOCUMENT_10','FLAG_DOCUMENT_11','FLAG_DOCUMENT_12','FLAG_DOCUMENT_13','FLAG_DOCUMENT_14','FLAG_DOCUMENT_15','FLAG_DOCUMENT_16','FLAG_DOCUMENT_17','FLAG_DOCUMENT_18','FLAG_DOCUMENT_19','FLAG_DOCUMENT_20','FLAG_DOCUMENT_21']\n",
    "# plt.figure(figsize=(30,15))\n",
    "# i =1\n",
    "# for x in fl:\n",
    "#     i = i+1\n",
    "#     plt.subplot(6,6,i)\n",
    "#     df1[x].value_counts().plot.bar()\n",
    "#     plt.title(x)\n",
    "\n",
    "# # yo garda multiple columns in the fl list haru plot garna mil6"
   ]
  },
  {
   "cell_type": "code",
   "execution_count": null,
   "id": "ad41f6e9",
   "metadata": {},
   "outputs": [],
   "source": [
    "In summary, the first expression gives you the total count of missing values across the specified columns, \n",
    "while the second expression gives you the rows where all specified columns have missing values.\n",
    "\n",
    "harek columns ma null cha chaina check garne ani vae tyo clumn ko sabai null values ko sum line\n",
    "df2[['AMT_ANNUITY', 'AMT_GOODS_PRICE', 'CNT_PAYMENT']].isna().sum().sum()\n",
    "\n",
    "yo tintaa rows ma sabai elements null cha ya chaina vanera garda ta sabai rows check garnuparyo so axis 1\n",
    "df2[['AMT_ANNUITY', 'AMT_GOODS_PRICE', 'CNT_PAYMENT']].isna().all(axis=1) # axis=1 ko matlab rows haru her6\n",
    "\n",
    "yo tintaa rows ma sabai elements null cha ya chaina vanera garda ta sabai rows check garnuparyo so axis 1\n",
    "df2[['AMT_ANNUITY', 'AMT_GOODS_PRICE', 'CNT_PAYMENT']].isna().any(axis=1)"
   ]
  },
  {
   "cell_type": "code",
   "execution_count": null,
   "id": "a8767561",
   "metadata": {},
   "outputs": [],
   "source": [
    "# removing outliers from all columns at once\n",
    "columns_list = ['AMT_APPLICATION','AMT_CREDIT', 'AMT_GOODS_PRICE', 'CNT_PAYMENT', 'DAYS_DECISION']\n",
    "\n",
    "for column in columns_list:\n",
    "    \n",
    "    #remove Outliers now\n",
    "    q1=previous_data[column].describe()[\"25%\"]\n",
    "    q3=previous_data[column].describe()[\"75%\"]\n",
    "    iqr=q3-q1 #interquartile range\n",
    "    upper_bound=q3+1.5*iqr\n",
    "    lower_bound=q1-1.5*iqr\n",
    "    previous_data[column]=np.where(previous_data[column]>upper_bound,upper_bound,previous_data[column])\n",
    "    previous_data[column]=np.where(previous_data[column]<lower_bound,lower_bound,previous_data[column])\n"
   ]
  },
  {
   "cell_type": "code",
   "execution_count": 1,
   "id": "7c0dfdac",
   "metadata": {},
   "outputs": [],
   "source": [
    "# If, for example, the 0.99 quantile is 3,800,000.00, and the maximum value is significantly higher (e.g., 4,050,000.00),\n",
    "# it indicates that the maximum value is beyond the expected range for most of the data, implying the presence of potential\n",
    "# outliers.\n",
    "# However, a commonly used approach is to consider a value as a potential outlier if it is a certain factor\n",
    "# (e.g., 1.5 times, 2 times, 3 times) greater than the 0.99 quantile. For example:\n",
    "\n",
    "# If the maximum value (max) is 1.5 times greater than the 0.99 quantile, it could be flagged as a potential outlier.\n",
    "# If the maximum value (max) is 2 times or more greater than the 0.99 quantile, it is more likely to be considered a potential\n",
    "# outlier.\n",
    "# The choice of this factor (e.g., 1.5, 2, 3) depends on the sensitivity to outliers and the nature of the data. A higher factor \n",
    "# (e.g., 3 times) will be more stringent and flag fewer data points as outliers, while a lower factor (e.g., 1.5 times) will\n",
    "# flag more points.\n",
    "\n",
    "# Ultimately, the decision on what factor to use is subjective and should be made based on the characteristics of the data and\n",
    "# the goals of the analysis. It's important to use domain knowledge and consider the specific context of the data when\n",
    "# determining the appropriate multiple for considering a value as an outlier."
   ]
  },
  {
   "cell_type": "code",
   "execution_count": null,
   "id": "820aadeb",
   "metadata": {},
   "outputs": [],
   "source": [
    "df1.groupby('OCCUPATION_TYPE').size()"
   ]
  },
  {
   "cell_type": "code",
   "execution_count": 1,
   "id": "cf8c9c4e",
   "metadata": {
    "collapsed": true
   },
   "outputs": [
    {
     "ename": "NameError",
     "evalue": "name 'df' is not defined",
     "output_type": "error",
     "traceback": [
      "\u001b[1;31m---------------------------------------------------------------------------\u001b[0m",
      "\u001b[1;31mNameError\u001b[0m                                 Traceback (most recent call last)",
      "\u001b[1;32m~\\AppData\\Local\\Temp/ipykernel_21832/2646504358.py\u001b[0m in \u001b[0;36m<module>\u001b[1;34m\u001b[0m\n\u001b[1;32m----> 1\u001b[1;33m \u001b[0mdf\u001b[0m\u001b[1;33m[\u001b[0m\u001b[0mdf\u001b[0m\u001b[1;33m.\u001b[0m\u001b[0misna\u001b[0m\u001b[1;33m(\u001b[0m\u001b[1;33m)\u001b[0m\u001b[1;33m.\u001b[0m\u001b[0many\u001b[0m\u001b[1;33m(\u001b[0m\u001b[0maxis\u001b[0m \u001b[1;33m=\u001b[0m \u001b[1;36m1\u001b[0m\u001b[1;33m)\u001b[0m\u001b[1;33m]\u001b[0m\u001b[1;33m\u001b[0m\u001b[1;33m\u001b[0m\u001b[0m\n\u001b[0m",
      "\u001b[1;31mNameError\u001b[0m: name 'df' is not defined"
     ]
    }
   ],
   "source": [
    "# yadi saai null values vako rows hernupare any use garne\n",
    "df[df.isna().any(axis = 1)]\n"
   ]
  },
  {
   "cell_type": "code",
   "execution_count": null,
   "id": "a708ea28",
   "metadata": {},
   "outputs": [],
   "source": [
    "# we can add a column in a dtaframe and place a column of a 2d array in it\n",
    "# but for adding a column of another dataframe we should use merge\n",
    "\n",
    "df.PC1, df.PC2 = X_2d[:0], X_2d[:1] # yesma X_2d vaneko array ho"
   ]
  },
  {
   "cell_type": "code",
   "execution_count": null,
   "id": "95ea18fa",
   "metadata": {},
   "outputs": [],
   "source": [
    "X_test[:, np.newaxis]\n",
    "X_test[:, None]\n",
    "\n",
    "duwai eutai ho"
   ]
  },
  {
   "cell_type": "code",
   "execution_count": null,
   "id": "baa0e2c4",
   "metadata": {},
   "outputs": [],
   "source": [
    "# ekaichoti countplots haru plot garne\n",
    "columns = ['City', 'Specialization', 'What matters most to you in choosing a course', 'What is your current occupation', 'Country']\n",
    "\n",
    "nrows = 5\n",
    "for ind, col in enumerate(columns):\n",
    "    plt.subplot(nrows,1,ind+1) # rows vaneko nrows, columns vaneko 1, ind vaneko index\n",
    "    \n",
    "    sns.countplot(df[col]);\n",
    "#     plt.xticks(rotation = 90);\n",
    "plt.tightlayout()"
   ]
  },
  {
   "cell_type": "code",
   "execution_count": 1,
   "id": "be853e6f",
   "metadata": {},
   "outputs": [
    {
     "ename": "NameError",
     "evalue": "name 'df' is not defined",
     "output_type": "error",
     "traceback": [
      "\u001b[1;31m---------------------------------------------------------------------------\u001b[0m",
      "\u001b[1;31mNameError\u001b[0m                                 Traceback (most recent call last)",
      "\u001b[1;32m~\\AppData\\Local\\Temp/ipykernel_11608/2355893210.py\u001b[0m in \u001b[0;36m<module>\u001b[1;34m\u001b[0m\n\u001b[0;32m      1\u001b[0m \u001b[1;31m# df.loc[:,:] # gives all rows and all columns\u001b[0m\u001b[1;33m\u001b[0m\u001b[1;33m\u001b[0m\u001b[0m\n\u001b[1;32m----> 2\u001b[1;33m \u001b[0mdf\u001b[0m\u001b[1;33m.\u001b[0m\u001b[0mloc\u001b[0m\u001b[1;33m[\u001b[0m\u001b[1;33m:\u001b[0m\u001b[1;33m,\u001b[0m\u001b[0mdf\u001b[0m\u001b[1;33m[\u001b[0m\u001b[1;33m[\u001b[0m\u001b[1;34m'column1'\u001b[0m\u001b[1;33m,\u001b[0m \u001b[1;34m'column2'\u001b[0m\u001b[1;33m]\u001b[0m\u001b[1;33m]\u001b[0m\u001b[1;33m]\u001b[0m \u001b[1;31m# yo columns matrai din6\u001b[0m\u001b[1;33m\u001b[0m\u001b[1;33m\u001b[0m\u001b[0m\n\u001b[0m\u001b[0;32m      3\u001b[0m \u001b[0mdf\u001b[0m \u001b[1;33m=\u001b[0m \u001b[0mdf\u001b[0m\u001b[1;33m.\u001b[0m\u001b[0mloc\u001b[0m\u001b[1;33m[\u001b[0m\u001b[1;33m:\u001b[0m\u001b[1;33m,\u001b[0m \u001b[1;33m~\u001b[0m\u001b[1;33m(\u001b[0m\u001b[1;33m(\u001b[0m\u001b[1;33m(\u001b[0m\u001b[0mdf\u001b[0m\u001b[1;33m.\u001b[0m\u001b[0misna\u001b[0m\u001b[1;33m(\u001b[0m\u001b[1;33m)\u001b[0m\u001b[1;33m.\u001b[0m\u001b[0msum\u001b[0m\u001b[1;33m(\u001b[0m\u001b[0maxis\u001b[0m \u001b[1;33m=\u001b[0m \u001b[1;36m0\u001b[0m\u001b[1;33m)\u001b[0m\u001b[1;33m/\u001b[0m\u001b[0mlen\u001b[0m\u001b[1;33m(\u001b[0m\u001b[0mdf\u001b[0m\u001b[1;33m)\u001b[0m\u001b[1;33m)\u001b[0m\u001b[1;33m*\u001b[0m\u001b[1;36m100\u001b[0m\u001b[1;33m)\u001b[0m\u001b[1;33m.\u001b[0m\u001b[0msort_values\u001b[0m\u001b[1;33m(\u001b[0m\u001b[0mascending\u001b[0m \u001b[1;33m=\u001b[0m \u001b[1;32mFalse\u001b[0m\u001b[1;33m)\u001b[0m\u001b[1;33m>\u001b[0m\u001b[1;36m0\u001b[0m\u001b[1;33m)\u001b[0m\u001b[1;33m]\u001b[0m \u001b[1;31m# null 60% vanda badi vako columns bahek din6\u001b[0m\u001b[1;33m\u001b[0m\u001b[1;33m\u001b[0m\u001b[0m\n",
      "\u001b[1;31mNameError\u001b[0m: name 'df' is not defined"
     ]
    }
   ],
   "source": [
    "# df.loc[:,:] # gives all rows and all columns\n",
    "df.loc[:,df[['column1', 'column2']]] # yo columns matrai din6\n",
    "\n",
    "yasari hatauna mil6\n",
    "df1 = df1.loc[:, ~(df1.columns.isin('FLAG_DOCUMENT_2','FLAG_DOCUMENT_4','FLAG_DOCUMENT_5','FLAG_DOCUMENT_7','FLAG_DOCUMENT_9',\\\n",
    "                               'FLAG_DOCUMENT_10','FLAG_DOCUMENT_11','FLAG_DOCUMENT_12','FLAG_DOCUMENT_13','FLAG_DOCUMENT_14',\\\n",
    "                               'FLAG_DOCUMENT_15','FLAG_DOCUMENT_16','FLAG_DOCUMENT_17','FLAG_DOCUMENT_18','FLAG_DOCUMENT_19',\\\n",
    "                               'FLAG_DOCUMENT_20','FLAG_DOCUMENT_21'))]\n",
    "\n",
    "# drop narikana yesari garna mil6 columns lai remove\n",
    "df = df.loc[:, ~(((df.isna().sum(axis = 0)/len(df))*100).sort_values(ascending = False)>60)] # null 60% vanda badi vako columns bahek din6"
   ]
  },
  {
   "cell_type": "code",
   "execution_count": null,
   "id": "1a49e92d",
   "metadata": {},
   "outputs": [],
   "source": [
    "# df[df.duplicated()].sum(axis = 1) # sum the values along each row where there are duplicates\n",
    "\n",
    "# df.duplicated().sum() # gives the number of rows duplicated"
   ]
  },
  {
   "cell_type": "code",
   "execution_count": 2,
   "id": "c3baf903",
   "metadata": {},
   "outputs": [
    {
     "ename": "SyntaxError",
     "evalue": "EOF while scanning triple-quoted string literal (Temp/ipykernel_16240/1485466139.py, line 77)",
     "output_type": "error",
     "traceback": [
      "\u001b[1;36m  File \u001b[1;32m\"C:\\Users\\BJ\\AppData\\Local\\Temp/ipykernel_16240/1485466139.py\"\u001b[1;36m, line \u001b[1;32m77\u001b[0m\n\u001b[1;33m    \u001b[0m\n\u001b[1;37m    ^\u001b[0m\n\u001b[1;31mSyntaxError\u001b[0m\u001b[1;31m:\u001b[0m EOF while scanning triple-quoted string literal\n"
     ]
    }
   ],
   "source": [
    "# daami boxplot\n",
    "\n",
    "#Definition of the Necesarry Modules\n",
    "import numpy as np\n",
    "import pandas as pd\n",
    "import seaborn as sns\n",
    "import matplotlib.pyplot as plt \n",
    "from collections import Counter\n",
    "import numpy as np \n",
    "import pandas as pd\n",
    "from plotly.offline import init_notebook_mode, iplot, plot\n",
    "import plotly as py\n",
    "init_notebook_mode(connected=True)\n",
    "import plotly.graph_objs as go\n",
    "import random\n",
    "import plotly.express as px\n",
    "\n",
    "#Importing the Dataset\n",
    "timesData = pd.read_csv(\"../input/world-university-rankings/timesData.csv\")\n",
    "timesData.columns = timesData.columns.str.title()\n",
    "timesData.head()\n",
    "\n",
    "variables = [\"Teaching\",\"International\",\"Research\",\"Citations\",\"Income\",\"Total_Score\",\"Num_Students\",\"Student_Staff_Ratio\",\n",
    "             \"International_Students\"]\n",
    "\n",
    "for x in variables:\n",
    "    \n",
    "    #Convertion of Final Dataset to Necessary Format    \n",
    "    Groups = timesData.groupby(\"Country\")\n",
    "    Data1 = pd.concat([pd.Series(v[x].tolist(), name=k) for k, v in Groups], axis=1)    \n",
    "    \n",
    "    #Setting the Dataframe Name\n",
    "    Data1.name = str(x)\n",
    "    \n",
    "    #Managing Group Names as a List\n",
    "    ln = len(Data1.columns)\n",
    "    \n",
    "    if ln >= 15:\n",
    "        lnm = range(15)\n",
    "    else:    \n",
    "        lnm = range(ln)\n",
    "        \n",
    "    Group = []  \n",
    "    for i in lnm:\n",
    "        col= Data1.columns[i]\n",
    "        Group.append(col)\n",
    "\n",
    "    Data = pd.melt(Data1.reset_index(), id_vars=[\"index\"],value_vars=Group)\n",
    "    Data.columns = [\"Index\", \"Country\", x]\n",
    "\n",
    "    fig = go.Figure()\n",
    "    for i in Group:\n",
    "\n",
    "        #Creating Random Colors for Each Box Plot\n",
    "        r = random.randrange(0,255)\n",
    "        b = random.randrange(0,255)\n",
    "        g = random.randrange(0,255)\n",
    "        color_provider = (r, g, b)\n",
    "        color_provider2 = \"rgb\"+str(color_provider)\n",
    "        \n",
    "        fig.add_trace(go.Box(y=Data1[i], name=str(i),\n",
    "                        marker_color = color_provider2))\n",
    "\n",
    "    fig.update_layout(title_text=\"Boxplots for \"+str(Data1.name))\n",
    "    fig.show()\n",
    "        \n",
    "    \"\"\" \n",
    "        #An Alternative\n",
    "        trace = go.Box(\n",
    "            y=Data1[i],\n",
    "            name = str(i),\n",
    "            marker = dict(\n",
    "                color = color_provider2,\n",
    "            )\n",
    "\n",
    "        )\n",
    "        "
   ]
  },
  {
   "cell_type": "code",
   "execution_count": null,
   "id": "b0d3ed53",
   "metadata": {},
   "outputs": [],
   "source": []
  },
  {
   "cell_type": "code",
   "execution_count": null,
   "id": "6c00f12f",
   "metadata": {},
   "outputs": [],
   "source": []
  },
  {
   "cell_type": "code",
   "execution_count": null,
   "id": "0288519f",
   "metadata": {},
   "outputs": [],
   "source": []
  },
  {
   "cell_type": "code",
   "execution_count": null,
   "id": "ab618c45",
   "metadata": {},
   "outputs": [],
   "source": []
  }
 ],
 "metadata": {
  "kernelspec": {
   "display_name": "Python 3 (ipykernel)",
   "language": "python",
   "name": "python3"
  },
  "language_info": {
   "codemirror_mode": {
    "name": "ipython",
    "version": 3
   },
   "file_extension": ".py",
   "mimetype": "text/x-python",
   "name": "python",
   "nbconvert_exporter": "python",
   "pygments_lexer": "ipython3",
   "version": "3.9.7"
  }
 },
 "nbformat": 4,
 "nbformat_minor": 5
}
