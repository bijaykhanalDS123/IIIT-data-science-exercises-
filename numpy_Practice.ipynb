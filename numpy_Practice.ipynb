{
 "cells": [
  {
   "cell_type": "markdown",
   "id": "26b63c9f",
   "metadata": {},
   "source": [
    "<h2 style = \"color : Brown\">Numpy</h2>"
   ]
  },
  {
   "cell_type": "code",
   "execution_count": null,
   "id": "3e977681",
   "metadata": {},
   "outputs": [],
   "source": [
    "# ctrl+d delete whole line\n",
    "# alt+backspace delete each word in a line\n",
    "# space for scrolling down\n",
    "# space+shift for scrolling up\n",
    "\n",
    "\"\"\"\n",
    "yaad garne shift+tab garda function haruko matrai info din6 properties ko didaina\n",
    "\n",
    "\"\"\""
   ]
  },
  {
   "cell_type": "code",
   "execution_count": null,
   "id": "f5e6ab37",
   "metadata": {},
   "outputs": [],
   "source": [
    "# python is slow but c is fast, numpy is built in c\n"
   ]
  },
  {
   "cell_type": "code",
   "execution_count": null,
   "id": "fcdeaff6",
   "metadata": {},
   "outputs": [],
   "source": [
    "# pip install numpy use gare ni hun6 natra shebang use garera garda ni hun6.\n",
    "# shebang use garda its representing the linux command within a python environment\n",
    "# pip is the python package manager\n",
    "# numpyis a package and yo as a package install hun6\n",
    "# core python bahek external kura haru, jun python install garda audaina, tiniharulai import garin6\n",
    "# numpy is an external package\n",
    "# numpy class and package are pretty much the same# it is written in C so its really fast\n"
   ]
  },
  {
   "cell_type": "code",
   "execution_count": 2,
   "id": "7b867010",
   "metadata": {},
   "outputs": [],
   "source": [
    "import numpy as np \n",
    "import seaborn as sns\n",
    "import pandas as pd\n",
    "import matplotlib.pyplot as plt "
   ]
  },
  {
   "cell_type": "code",
   "execution_count": 12,
   "id": "22239cd5",
   "metadata": {
    "scrolled": true
   },
   "outputs": [
    {
     "data": {
      "text/plain": [
       "'1.20.3'"
      ]
     },
     "execution_count": 12,
     "metadata": {},
     "output_type": "execute_result"
    }
   ],
   "source": [
    "np.__version__"
   ]
  },
  {
   "cell_type": "code",
   "execution_count": 364,
   "id": "cfaf783b",
   "metadata": {},
   "outputs": [],
   "source": [
    "# upgrad\n"
   ]
  },
  {
   "cell_type": "code",
   "execution_count": 391,
   "id": "a63310e7",
   "metadata": {},
   "outputs": [
    {
     "data": {
      "text/plain": [
       "array([[0, 0, 1],\n",
       "       [0, 1, 1]])"
      ]
     },
     "execution_count": 391,
     "metadata": {},
     "output_type": "execute_result"
    }
   ],
   "source": [
    "np.array(list(range(1,5)))\n",
    "np.array(list('sfsdfs'))\n",
    "\n",
    "# arange ma jati number pass garyo tetti wata number generate gar6 ra 0 dekhi tetti number samma gar6 excluding that number.\n",
    "np.arange(3) # int pass gare int dtype ko array din6\n",
    "np.arange(3.0) # float value diyo vane float dtype ko array din6 int value pass gare int dtype ko array din6\n",
    "np.arange(0, 10, 2) # step ni dina mil6\n",
    "\n",
    "# np.random.randint(1, 10, 15) # 1d array\n",
    "# np.random.randint(1, 10, (4,5)) # 2d array of floating point numbers between 0 and 1\n",
    "\n",
    "# np.random.random(10) # 1d array\n",
    "# np.random.random((2,4)) # 2d array of floating point numbers between 0 and 1\n",
    "\n",
    "# suppose we need to generate a array with only binary numbers \n",
    "# np.arange(0, 2)\n",
    "np.random.randint(0, 2, (2,3))\n",
    "\n",
    "# sometimes you dont know the step size but know the length of the 1d array and the lower and upperbounds\n",
    "# katiwata numbers hunupar6 ta thaha cha ra tini haru eually spaced hunupar6 ni thaha cha\n",
    "# np.linspace(0, 10, 20) # upperbound pani included hun6\n",
    "# # linespace le 1d array din6 but reshape use garera 2d ma convert garna mil6\n",
    "# np.linspace(0, 10, 20).reshape(2,10)\n",
    "# # linspace is used to plot the curves using the values\n",
    "\n",
    "# np.full(10, 3) # eutai number le varne array zeros() ra ones() jastai\n",
    "# np.full((2,5), 4)\n",
    "\n",
    "# np.eye(3, dtype = int) # creates an identity matrix"
   ]
  },
  {
   "cell_type": "code",
   "execution_count": 421,
   "id": "5dcc3b27",
   "metadata": {},
   "outputs": [
    {
     "data": {
      "text/plain": [
       "array([0.16207881, 0.32457867, 0.70288772, 0.82111713, 0.07258648,\n",
       "       0.28477373, 0.67105712, 0.47040523, 0.7721948 , 0.78054191,\n",
       "       0.21953266, 0.2513877 , 0.14775663, 0.95462156, 0.89371759,\n",
       "       0.77514218, 0.80268356, 0.71480395, 0.43446288, 0.33639144,\n",
       "       0.37811216, 0.37656938, 0.681548  , 0.50938079, 0.95074046,\n",
       "       0.87852282, 0.18357842, 0.67569818, 0.43108118, 0.94693367])"
      ]
     },
     "execution_count": 421,
     "metadata": {},
     "output_type": "execute_result"
    }
   ],
   "source": [
    "np.random.random(30) # 1 d"
   ]
  },
  {
   "cell_type": "code",
   "execution_count": 423,
   "id": "4d5d042f",
   "metadata": {},
   "outputs": [
    {
     "data": {
      "text/plain": [
       "array([[0.82040766, 0.06616393, 0.45760049, 0.78045004],\n",
       "       [0.64123648, 0.2296223 , 0.99469204, 0.21839675],\n",
       "       [0.18567713, 0.83411801, 0.82464601, 0.3773764 ]])"
      ]
     },
     "execution_count": 423,
     "metadata": {},
     "output_type": "execute_result"
    }
   ],
   "source": [
    "np.random.random((3,4)) # 2d"
   ]
  },
  {
   "cell_type": "code",
   "execution_count": 436,
   "id": "39250dcb",
   "metadata": {},
   "outputs": [
    {
     "data": {
      "text/plain": [
       "array([6, 5, 1, 8])"
      ]
     },
     "execution_count": 436,
     "metadata": {},
     "output_type": "execute_result"
    }
   ],
   "source": [
    "np.random.randint(0, 10, (4,)) # 1 d"
   ]
  },
  {
   "cell_type": "code",
   "execution_count": 422,
   "id": "9c37b36e",
   "metadata": {},
   "outputs": [
    {
     "data": {
      "text/plain": [
       "array([[17, 15, 15, 12, 12],\n",
       "       [21, 17, 20, 29, 13],\n",
       "       [10, 28, 28, 23, 24],\n",
       "       [15, 24, 13, 22, 14]])"
      ]
     },
     "execution_count": 422,
     "metadata": {},
     "output_type": "execute_result"
    }
   ],
   "source": [
    "np.random.randint(9, 30, (4,5)) # 2 d"
   ]
  },
  {
   "cell_type": "code",
   "execution_count": 389,
   "id": "6b4be91c",
   "metadata": {},
   "outputs": [
    {
     "name": "stdout",
     "output_type": "stream",
     "text": [
      "4\n",
      "[[1 1 1 1]\n",
      " [1 0 0 1]\n",
      " [1 0 0 1]\n",
      " [1 1 1 1]]\n"
     ]
    }
   ],
   "source": [
    "# array ko border ma chai 1 rakhne bich ma chai 0\n",
    "n = input()\n",
    "a = np.zeros((int(n), int(n)), dtype = int)\n",
    "a[0] = 1 \n",
    "a[-1] = 1\n",
    "a[:, 0] = 1\n",
    "a[:, -1] = 1\n",
    "print(a)"
   ]
  },
  {
   "cell_type": "code",
   "execution_count": 396,
   "id": "f3a71d93",
   "metadata": {},
   "outputs": [],
   "source": [
    "arr1 = np.array(list([0,1,2,3,4]))\n",
    "arr2 = np.arange(5)"
   ]
  },
  {
   "cell_type": "code",
   "execution_count": 399,
   "id": "1ace3c4c",
   "metadata": {},
   "outputs": [],
   "source": [
    "arr4 = arr1 + arr2"
   ]
  },
  {
   "cell_type": "code",
   "execution_count": 402,
   "id": "37e10c05",
   "metadata": {},
   "outputs": [
    {
     "data": {
      "text/plain": [
       "((5,), (6,))"
      ]
     },
     "execution_count": 402,
     "metadata": {},
     "output_type": "execute_result"
    }
   ],
   "source": [
    "arr4.shape,  np.array(np.random.random(6)).shape"
   ]
  },
  {
   "cell_type": "code",
   "execution_count": 403,
   "id": "4110dbcd",
   "metadata": {},
   "outputs": [
    {
     "ename": "ValueError",
     "evalue": "operands could not be broadcast together with shapes (5,) (6,) ",
     "output_type": "error",
     "traceback": [
      "\u001b[1;31m---------------------------------------------------------------------------\u001b[0m",
      "\u001b[1;31mValueError\u001b[0m                                Traceback (most recent call last)",
      "\u001b[1;32m~\\AppData\\Local\\Temp/ipykernel_22480/3479711753.py\u001b[0m in \u001b[0;36m<module>\u001b[1;34m\u001b[0m\n\u001b[1;32m----> 1\u001b[1;33m \u001b[0marr4\u001b[0m \u001b[1;33m+\u001b[0m \u001b[0mnp\u001b[0m\u001b[1;33m.\u001b[0m\u001b[0marray\u001b[0m\u001b[1;33m(\u001b[0m\u001b[0mnp\u001b[0m\u001b[1;33m.\u001b[0m\u001b[0mrandom\u001b[0m\u001b[1;33m.\u001b[0m\u001b[0mrandom\u001b[0m\u001b[1;33m(\u001b[0m\u001b[1;36m6\u001b[0m\u001b[1;33m)\u001b[0m\u001b[1;33m)\u001b[0m\u001b[1;33m\u001b[0m\u001b[1;33m\u001b[0m\u001b[0m\n\u001b[0m",
      "\u001b[1;31mValueError\u001b[0m: operands could not be broadcast together with shapes (5,) (6,) "
     ]
    }
   ],
   "source": [
    "arr4 + np.array(np.random.random(6))"
   ]
  },
  {
   "cell_type": "code",
   "execution_count": 407,
   "id": "4f649b83",
   "metadata": {},
   "outputs": [
    {
     "data": {
      "text/plain": [
       "array([  4,  16,  36,  64, 100], dtype=int32)"
      ]
     },
     "execution_count": 407,
     "metadata": {},
     "output_type": "execute_result"
    }
   ],
   "source": [
    "np.linspace(2, 10, 5, dtype = int) ** 2\n"
   ]
  },
  {
   "cell_type": "code",
   "execution_count": 290,
   "id": "12f4011a",
   "metadata": {},
   "outputs": [
    {
     "data": {
      "text/plain": [
       "array([ 0.        ,  1.02040816,  2.04081633,  3.06122449,  4.08163265,\n",
       "        5.10204082,  6.12244898,  7.14285714,  8.16326531,  9.18367347,\n",
       "       10.20408163, 11.2244898 , 12.24489796, 13.26530612, 14.28571429,\n",
       "       15.30612245, 16.32653061, 17.34693878, 18.36734694, 19.3877551 ,\n",
       "       20.40816327, 21.42857143, 22.44897959, 23.46938776, 24.48979592,\n",
       "       25.51020408, 26.53061224, 27.55102041, 28.57142857, 29.59183673,\n",
       "       30.6122449 , 31.63265306, 32.65306122, 33.67346939, 34.69387755,\n",
       "       35.71428571, 36.73469388, 37.75510204, 38.7755102 , 39.79591837,\n",
       "       40.81632653, 41.83673469, 42.85714286, 43.87755102, 44.89795918,\n",
       "       45.91836735, 46.93877551, 47.95918367, 48.97959184, 50.        ])"
      ]
     },
     "execution_count": 290,
     "metadata": {},
     "output_type": "execute_result"
    }
   ],
   "source": [
    "# creating a 1d or 2d array when you know the size beforehand:\n",
    "\n",
    "# np.ones(): It is used to create an array of 1s.\n",
    "# np.zeros(): It is used to create an array of 0s.\n",
    "# np.random.randint(): It is used to create a random array of integers within a particular range.\n",
    "# np.random.random(): It is used to create an array of random numbers.\n",
    "# np.arange(): It is used to create an array with increments of fixed step size.\n",
    "# np.linspace(): It is used to create an array of fixed length.\n",
    "\n",
    "np.ones(5)\n",
    "np.zeros(5)\n",
    "np.random.randint(0, 5, (2,3)) \n",
    "np.random.random(5)\n",
    "np.arange(0, 5)\n",
    "np.linspace(0, 50)"
   ]
  },
  {
   "cell_type": "code",
   "execution_count": 291,
   "id": "979eb6c9",
   "metadata": {},
   "outputs": [
    {
     "name": "stdout",
     "output_type": "stream",
     "text": [
      "Help on function ones in module numpy:\n",
      "\n",
      "ones(shape, dtype=None, order='C', *, like=None)\n",
      "    Return a new array of given shape and type, filled with ones.\n",
      "    \n",
      "    Parameters\n",
      "    ----------\n",
      "    shape : int or sequence of ints\n",
      "        Shape of the new array, e.g., ``(2, 3)`` or ``2``.\n",
      "    dtype : data-type, optional\n",
      "        The desired data-type for the array, e.g., `numpy.int8`.  Default is\n",
      "        `numpy.float64`.\n",
      "    order : {'C', 'F'}, optional, default: C\n",
      "        Whether to store multi-dimensional data in row-major\n",
      "        (C-style) or column-major (Fortran-style) order in\n",
      "        memory.\n",
      "    like : array_like\n",
      "        Reference object to allow the creation of arrays which are not\n",
      "        NumPy arrays. If an array-like passed in as ``like`` supports\n",
      "        the ``__array_function__`` protocol, the result will be defined\n",
      "        by it. In this case, it ensures the creation of an array object\n",
      "        compatible with that passed in via this argument.\n",
      "    \n",
      "        .. note::\n",
      "            The ``like`` keyword is an experimental feature pending on\n",
      "            acceptance of :ref:`NEP 35 <NEP35>`.\n",
      "    \n",
      "        .. versionadded:: 1.20.0\n",
      "    \n",
      "    Returns\n",
      "    -------\n",
      "    out : ndarray\n",
      "        Array of ones with the given shape, dtype, and order.\n",
      "    \n",
      "    See Also\n",
      "    --------\n",
      "    ones_like : Return an array of ones with shape and type of input.\n",
      "    empty : Return a new uninitialized array.\n",
      "    zeros : Return a new array setting values to zero.\n",
      "    full : Return a new array of given shape filled with value.\n",
      "    \n",
      "    \n",
      "    Examples\n",
      "    --------\n",
      "    >>> np.ones(5)\n",
      "    array([1., 1., 1., 1., 1.])\n",
      "    \n",
      "    >>> np.ones((5,), dtype=int)\n",
      "    array([1, 1, 1, 1, 1])\n",
      "    \n",
      "    >>> np.ones((2, 1))\n",
      "    array([[1.],\n",
      "           [1.]])\n",
      "    \n",
      "    >>> s = (2,2)\n",
      "    >>> np.ones(s)\n",
      "    array([[1.,  1.],\n",
      "           [1.,  1.]])\n",
      "\n"
     ]
    }
   ],
   "source": [
    "help(np.ones)"
   ]
  },
  {
   "cell_type": "code",
   "execution_count": 297,
   "id": "42136e2c",
   "metadata": {},
   "outputs": [
    {
     "data": {
      "text/plain": [
       "6"
      ]
     },
     "execution_count": 297,
     "metadata": {},
     "output_type": "execute_result"
    }
   ],
   "source": [
    "# length diyo vane chai 1d array generate gar6\n",
    "np.ones(6) # 1d array of length 6, gives float by default\n",
    "np.ones(6).reshape(3,2).size # reshape garda length sanga milnupar6"
   ]
  },
  {
   "cell_type": "code",
   "execution_count": 299,
   "id": "1a429ed4",
   "metadata": {},
   "outputs": [
    {
     "data": {
      "text/plain": [
       "dtype('int32')"
      ]
     },
     "execution_count": 299,
     "metadata": {},
     "output_type": "execute_result"
    }
   ],
   "source": [
    "np.ones(5, dtype=int).dtype # takes up less memory than float"
   ]
  },
  {
   "cell_type": "code",
   "execution_count": 311,
   "id": "195b3d8f",
   "metadata": {},
   "outputs": [
    {
     "data": {
      "text/plain": [
       "array([[1, 1, 1],\n",
       "       [1, 1, 1],\n",
       "       [1, 1, 1],\n",
       "       [1, 1, 1]])"
      ]
     },
     "execution_count": 311,
     "metadata": {},
     "output_type": "execute_result"
    }
   ],
   "source": [
    "# shape diyo vane chai 2d array din6\n",
    "np.ones((3,4), dtype = int).reshape(4,3) # gives 2d array"
   ]
  },
  {
   "cell_type": "code",
   "execution_count": 312,
   "id": "4b3f93ce",
   "metadata": {},
   "outputs": [
    {
     "data": {
      "text/plain": [
       "array([0., 0., 0.])"
      ]
     },
     "execution_count": 312,
     "metadata": {},
     "output_type": "execute_result"
    }
   ],
   "source": [
    "np.zeros(3)"
   ]
  },
  {
   "cell_type": "code",
   "execution_count": 314,
   "id": "3e51787c",
   "metadata": {},
   "outputs": [
    {
     "data": {
      "text/plain": [
       "array([[0, 0, 0, 0],\n",
       "       [0, 0, 0, 0],\n",
       "       [0, 0, 0, 0]])"
      ]
     },
     "execution_count": 314,
     "metadata": {},
     "output_type": "execute_result"
    }
   ],
   "source": [
    "np.zeros((3,4), dtype = int)"
   ]
  },
  {
   "cell_type": "code",
   "execution_count": 416,
   "id": "d72cb7e5",
   "metadata": {},
   "outputs": [
    {
     "data": {
      "text/plain": [
       "array([[ 0,  1,  2,  3,  4,  5,  6,  7,  8,  9, 10, 11, 12, 13, 14, 15,\n",
       "        16, 17, 18, 19],\n",
       "       [ 0,  1,  2,  3,  4,  5,  6,  7,  8,  9, 10, 11, 12, 13, 14, 15,\n",
       "        16, 17, 18, 19]])"
      ]
     },
     "execution_count": 416,
     "metadata": {},
     "output_type": "execute_result"
    }
   ],
   "source": [
    "# concatenating two arrays using hstack and vstack\n",
    "# np.hstack((np.arange(10), np.arange(5))) # euta value pass garne\n",
    "# hstak ra vstack ma tuple pass garne ho\n",
    "# number of columns same hunupar6 vstack lai\n",
    "np.vstack((np.arange(20), (np.arange(20))))"
   ]
  },
  {
   "cell_type": "code",
   "execution_count": 444,
   "id": "42eea0bf",
   "metadata": {},
   "outputs": [
    {
     "data": {
      "text/plain": [
       "array([[14.        , 20.        , 17.        , 11.        , 19.        ],\n",
       "       [12.        , 28.        , 20.        , 28.        , 26.        ],\n",
       "       [12.        , 10.        , 14.        , 23.        , 14.        ],\n",
       "       [19.        , 20.        , 14.        , 16.        ,  9.        ],\n",
       "       [ 0.82341223,  0.31048964,  0.23599753,  0.85519804,  0.8125921 ],\n",
       "       [ 0.17908452,  0.51012976,  0.46055815,  0.74203922,  0.74106047],\n",
       "       [ 0.17701489,  0.73540099,  0.32040398,  0.0962904 ,  0.31032544],\n",
       "       [ 0.63215175,  0.21362181,  0.81254084,  0.50661881,  0.07725852]])"
      ]
     },
     "execution_count": 444,
     "metadata": {},
     "output_type": "execute_result"
    }
   ],
   "source": [
    "a1 = np.random.randint(9, 30, (4,5))\n",
    "a2 = np.random.random((4,5))\n",
    "np.vstack((a1,a2))\n"
   ]
  },
  {
   "cell_type": "code",
   "execution_count": 450,
   "id": "32f813a9",
   "metadata": {},
   "outputs": [
    {
     "data": {
      "text/plain": [
       "array([ 0.        ,  0.52631579,  1.05263158,  1.57894737,  2.10526316,\n",
       "        2.63157895,  3.15789474,  3.68421053,  4.21052632,  4.73684211,\n",
       "        5.26315789,  5.78947368,  6.31578947,  6.84210526,  7.36842105,\n",
       "        7.89473684,  8.42105263,  8.94736842,  9.47368421, 10.        ,\n",
       "        0.        ,  0.52631579,  1.05263158,  1.57894737,  2.10526316,\n",
       "        2.63157895,  3.15789474,  3.68421053,  4.21052632,  4.73684211,\n",
       "        5.26315789,  5.78947368,  6.31578947,  6.84210526,  7.36842105,\n",
       "        7.89473684,  8.42105263,  8.94736842,  9.47368421, 10.        ])"
      ]
     },
     "execution_count": 450,
     "metadata": {},
     "output_type": "execute_result"
    }
   ],
   "source": [
    "# hstack lai number of rows common hunupar6\n",
    "np.hstack((np.linspace(0, 10, 20), np.linspace(0, 10, 20))) # hstack ma 1d pass garyo vane 1d nai din6"
   ]
  },
  {
   "cell_type": "code",
   "execution_count": 449,
   "id": "15116fcc",
   "metadata": {},
   "outputs": [
    {
     "data": {
      "text/plain": [
       "array([[ 1,  1,  1,  2,  2,  3,  3,  4,  4,  5,  5,  6,  6,  7,  7,  8,\n",
       "         8,  9,  9, 10],\n",
       "       [ 0,  1,  2,  3,  4,  5,  6,  7,  8,  9, 10, 11, 12, 13, 14, 15,\n",
       "        16, 17, 18, 19]])"
      ]
     },
     "execution_count": 449,
     "metadata": {},
     "output_type": "execute_result"
    }
   ],
   "source": [
    "np.vstack((np.linspace(1, 10, 20, dtype = int), np.arange(20, dtype = int))) # 1d arrays pass garepani result chai vstack le 2d nai din6"
   ]
  },
  {
   "cell_type": "code",
   "execution_count": 457,
   "id": "65db14d2",
   "metadata": {
    "scrolled": true
   },
   "outputs": [
    {
     "name": "stdout",
     "output_type": "stream",
     "text": [
      "[[14 20 17 11 19]\n",
      " [12 28 20 28 26]\n",
      " [12 10 14 23 14]\n",
      " [19 20 14 16  9]] \n",
      " \n",
      " [[0.82341223 0.31048964 0.23599753 0.85519804 0.8125921 ]\n",
      " [0.17908452 0.51012976 0.46055815 0.74203922 0.74106047]\n",
      " [0.17701489 0.73540099 0.32040398 0.0962904  0.31032544]\n",
      " [0.63215175 0.21362181 0.81254084 0.50661881 0.07725852]] \n",
      " \n",
      " [ 0  2  5  7 10]\n"
     ]
    }
   ],
   "source": [
    "# print bata garda chutta chuttai dimension ko arrayharulai lai stack garna mil6 unlike hstack and vstack\n",
    "\n",
    "print(a1, '\\n', '\\n', a2, '\\n', '\\n', np.linspace(0, 10, 5, dtype = int))"
   ]
  },
  {
   "cell_type": "code",
   "execution_count": 499,
   "id": "5d29a04b",
   "metadata": {},
   "outputs": [
    {
     "name": "stdout",
     "output_type": "stream",
     "text": [
      "[[70 91  7 37 56 50 65 12 71 19 31 74]\n",
      " [55 83 59 91 73 96 49 53 73  8 52 30]\n",
      " [79 14 92 58 74 22  3 91 99 71 55 83]\n",
      " [28 13 37 82 50 79 67 30 60 44 46 87]\n",
      " [43 35 98 31 82  5 80 65  7 92 41 99]\n",
      " [95 88 93 25 83 58 98 70 57 57 83 85]\n",
      " [36 63 74 88  0  1 33 52 72 57 34 14]\n",
      " [78 71 56 77 86 84 82 91 12 90 73 27]\n",
      " [ 0 21 94 32 51 50 20 41 78 55 47 43]\n",
      " [91 76 29 45  7 10 61 19 68 25 61 98]\n",
      " [16 88 61 51 88 41 58 21 31 95 43 68]]\n"
     ]
    },
    {
     "data": {
      "text/plain": [
       "(8, 3)"
      ]
     },
     "execution_count": 499,
     "metadata": {},
     "output_type": "execute_result"
    }
   ],
   "source": [
    "# to get the index of a particular element in the array\n",
    "np.random.seed(40)\n",
    "print(np.random.randint(0, 100, (11,12)))\n",
    "# Using flat indexing\n",
    "np.unravel_index(99, (np.random.randint(0, 100, (11,12)).shape ))"
   ]
  },
  {
   "cell_type": "code",
   "execution_count": 668,
   "id": "0c31713e",
   "metadata": {},
   "outputs": [
    {
     "data": {
      "text/plain": [
       "132"
      ]
     },
     "execution_count": 668,
     "metadata": {},
     "output_type": "execute_result"
    }
   ],
   "source": [
    "# convert a 2d array to 1d\n",
    "# reshape ma -1 vaneko placeholder ho, len of array gaera -1 ma bas6\n",
    "ao = np.random.randint(0, 100, (11,12))\n",
    "ao # 2d array\n",
    "ao.size # yo gaera -1 ma bas6 ie. 132\n",
    "np.reshape(ao, -1) # gives a 1d array \n",
    "np.reshape(ao, (1,-1)) # gives 2d array"
   ]
  },
  {
   "cell_type": "code",
   "execution_count": 530,
   "id": "ad512c63",
   "metadata": {},
   "outputs": [
    {
     "name": "stdout",
     "output_type": "stream",
     "text": [
      "[[ 1  2  3  4  5]\n",
      " [ 6  7  8  9 10]\n",
      " [11 12 13 14 15]\n",
      " [16 17 18 19 20]]\n",
      "\n",
      "\n",
      " [[ 1  2  3  4]\n",
      " [ 5  6  7  8]\n",
      " [ 9 10 11 12]\n",
      " [13 14 15 16]\n",
      " [17 18 19 20]]\n"
     ]
    },
    {
     "ename": "IndexError",
     "evalue": "boolean index did not match indexed array along dimension 0; dimension is 5 but corresponding boolean dimension is 4",
     "output_type": "error",
     "traceback": [
      "\u001b[1;31m---------------------------------------------------------------------------\u001b[0m",
      "\u001b[1;31mIndexError\u001b[0m                                Traceback (most recent call last)",
      "\u001b[1;32m~\\AppData\\Local\\Temp/ipykernel_22480/2997326312.py\u001b[0m in \u001b[0;36m<module>\u001b[1;34m\u001b[0m\n\u001b[0;32m     10\u001b[0m \u001b[1;33m\u001b[0m\u001b[0m\n\u001b[0;32m     11\u001b[0m \u001b[0mprint\u001b[0m\u001b[1;33m(\u001b[0m\u001b[1;34m'\\n\\n'\u001b[0m\u001b[1;33m,\u001b[0m\u001b[0maa1\u001b[0m\u001b[1;33m.\u001b[0m\u001b[0mreshape\u001b[0m\u001b[1;33m(\u001b[0m\u001b[1;36m5\u001b[0m\u001b[1;33m,\u001b[0m \u001b[1;36m4\u001b[0m\u001b[1;33m)\u001b[0m\u001b[1;33m)\u001b[0m \u001b[1;31m# 2d array\u001b[0m\u001b[1;33m\u001b[0m\u001b[1;33m\u001b[0m\u001b[0m\n\u001b[1;32m---> 12\u001b[1;33m \u001b[0maa1\u001b[0m\u001b[1;33m.\u001b[0m\u001b[0mreshape\u001b[0m\u001b[1;33m(\u001b[0m\u001b[1;36m5\u001b[0m\u001b[1;33m,\u001b[0m \u001b[1;36m4\u001b[0m\u001b[1;33m)\u001b[0m\u001b[1;33m[\u001b[0m\u001b[0maa1\u001b[0m\u001b[1;33m%\u001b[0m\u001b[1;36m2\u001b[0m \u001b[1;33m!=\u001b[0m \u001b[1;36m0\u001b[0m\u001b[1;33m]\u001b[0m \u001b[1;31m# mildaina IndexError: boolean index did not match indexed array along dimension 0;\u001b[0m\u001b[1;33m\u001b[0m\u001b[1;33m\u001b[0m\u001b[0m\n\u001b[0m\u001b[0;32m     13\u001b[0m                               \u001b[1;31m# dimension is 5 but corresponding boolean dimension is 4\u001b[0m\u001b[1;33m\u001b[0m\u001b[1;33m\u001b[0m\u001b[0m\n",
      "\u001b[1;31mIndexError\u001b[0m: boolean index did not match indexed array along dimension 0; dimension is 5 but corresponding boolean dimension is 4"
     ]
    }
   ],
   "source": [
    "# conditional subsetting laaepaxi matrai reshape garna mil6\n",
    "aa1 = np.array(list(i for i in range(1, 21))).reshape(4,5)\n",
    "print(aa1)\n",
    "\n",
    "# print('\\n\\n',aa1[aa1%2 != 0]) # 1d array\n",
    "\n",
    "# aa1[aa1%2 != 0].reshape(5,2) # 2d array\n",
    "# print('\\n\\n',aa1[aa1%2 != 0].reshape(5,2))\n",
    "\n",
    "\n",
    "print('\\n\\n',aa1.reshape(5, 4)) # 2d array\n",
    "aa1.reshape(5, 4)[aa1%2 != 0] # mildaina IndexError: boolean index did not match indexed array along dimension 0;\n",
    "                              # dimension is 5 but corresponding boolean dimension is 4\n",
    "# In this approach, you first reshape the original array_1 into a 2D array of shape (5, 4). Then, you try to filter the\n",
    "# reshaped array using the condition, which will give you a 1D array of odd numbers from the reshaped array. The shape\n",
    "# mismatch between the boolean array and the indexed reshaped array will again result in an error."
   ]
  },
  {
   "cell_type": "code",
   "execution_count": 549,
   "id": "7850d8da",
   "metadata": {},
   "outputs": [
    {
     "ename": "SyntaxError",
     "evalue": "unexpected EOF while parsing (<unknown>, line 0)",
     "output_type": "error",
     "traceback": [
      "Traceback \u001b[1;36m(most recent call last)\u001b[0m:\n",
      "  File \u001b[0;32m\"C:\\ProgramData\\Anaconda3\\lib\\site-packages\\IPython\\core\\interactiveshell.py\"\u001b[0m, line \u001b[0;32m3444\u001b[0m, in \u001b[0;35mrun_code\u001b[0m\n    exec(code_obj, self.user_global_ns, self.user_ns)\n",
      "  File \u001b[0;32m\"C:\\Users\\BJ\\AppData\\Local\\Temp/ipykernel_22480/484516625.py\"\u001b[0m, line \u001b[0;32m3\u001b[0m, in \u001b[0;35m<module>\u001b[0m\n    input_list = ast.literal_eval(input_str)\n",
      "  File \u001b[0;32m\"C:\\ProgramData\\Anaconda3\\lib\\ast.py\"\u001b[0m, line \u001b[0;32m62\u001b[0m, in \u001b[0;35mliteral_eval\u001b[0m\n    node_or_string = parse(node_or_string, mode='eval')\n",
      "\u001b[1;36m  File \u001b[1;32m\"C:\\ProgramData\\Anaconda3\\lib\\ast.py\"\u001b[1;36m, line \u001b[1;32m50\u001b[1;36m, in \u001b[1;35mparse\u001b[1;36m\u001b[0m\n\u001b[1;33m    return compile(source, filename, mode, flags,\u001b[0m\n",
      "\u001b[1;36m  File \u001b[1;32m\"<unknown>\"\u001b[1;36m, line \u001b[1;32munknown\u001b[0m\n\u001b[1;33m    \u001b[0m\n\u001b[1;37m    ^\u001b[0m\n\u001b[1;31mSyntaxError\u001b[0m\u001b[1;31m:\u001b[0m unexpected EOF while parsing\n"
     ]
    }
   ],
   "source": [
    "import ast,sys\n",
    "input_str = sys.stdin.read()\n",
    "input_list = ast.literal_eval(input_str)\n",
    "\n",
    "list_1 = input_list[0]\n",
    "list_2 = input_list[1]\n",
    "list_3 = input_list[2]\n",
    "\n",
    "# final_array = np.concatenate(list_1, list_2, list_3, axis = 0)\n",
    "# print(final_array)"
   ]
  },
  {
   "cell_type": "code",
   "execution_count": null,
   "id": "7385a9de",
   "metadata": {},
   "outputs": [],
   "source": []
  },
  {
   "cell_type": "code",
   "execution_count": null,
   "id": "7ecf9af5",
   "metadata": {},
   "outputs": [],
   "source": [
    "# Description\n",
    "# Merge the three arrays provided to you to form a one 4x4 array.\n",
    "\n",
    "# [Hint: Check the function np.transpose() in the 'Manipulating Arrays' notebook provided.]\n",
    "\n",
    "\n",
    "# Input:\n",
    "\n",
    "\n",
    "# [[[7, 13, 14], [18, 10, 17], [11, 12, 19]], [16, 6, 1], [[5, 8, 4, 3]]]\n",
    "\n",
    "\n",
    "# Array 2: 1-D array\n",
    "\n",
    "# [16, 6, 1]\n",
    "\n",
    "\n",
    "# Array 3: 1*4 array\n",
    "\n",
    "# [[5, 8, 4, 3]]\n",
    "\n",
    "\n",
    "# Output:\n",
    "\n",
    "# [[7 13 14 5]\n",
    "\n",
    "# [18 10 17 8]\n",
    "\n",
    "# [11 12 19 4]\n",
    "\n",
    "# [16 6 1 3]]\n",
    "\n",
    "# Input:\n",
    "\n",
    "# [[[14, 2, 1], [11, 5, 6], [19, 13, 17]], [15, 2, 0], [[4, 9, 5, 1]]]\n",
    "\n",
    "# Solution output:\n",
    "\n",
    "# [[14  2  1  5]\n",
    "#  [11  5  6  8]\n",
    "#  [19 13 17  4]\n",
    "#  [16  6  1  3]]\n",
    "\n",
    "# Expected output:\n",
    "\n",
    "# [[14  2  1  4]\n",
    "#  [11  5  6  9]\n",
    "#  [19 13 17  5]\n",
    "#  [15  2  0  1]]\n",
    "\n",
    "import numpy as np\n",
    "import ast\n",
    "input_str = input()\n",
    "# Parse the input list\n",
    "input_list = ast.literal_eval(input_str)\n",
    "\n",
    "# Extract individual lists from the input\n",
    "list_1 = input_list[0]\n",
    "list_2 = input_list[1]\n",
    "list_3 = input_list[2]\n",
    "\n",
    "list_1_array = np.array(list_1)\n",
    "list_2_array = np.array(list_2)\n",
    "list_3_array = np.array(list_3)\n",
    "\n",
    "c2 = list_2_array.reshape(1,3)\n",
    "c3 = list_3_array.T\n",
    "\n",
    "# print(list_1_array)\n",
    "# print('\\n\\n',c2)\n",
    "# print('\\n\\n',c3)\n",
    "\n",
    "c4 = np.vstack((list_1_array, c2))\n",
    "print(np.hstack((c4, c3)))"
   ]
  },
  {
   "cell_type": "code",
   "execution_count": null,
   "id": "5b4b1c2d",
   "metadata": {},
   "outputs": [],
   "source": [
    "# Numpy+exercise+2 : yesma mean normalisation ra splitting the data into training, testing the cross validation cha\n",
    "# mean normalisation ko barema ta sirle ni Broadcasting, Broadcasting in practice ma sika6 copyma\n",
    "# https://learn.upgrad.com/course/4516/segment/40240/237789/726449/3666175\n",
    "\n",
    "# import NumPy into Python\n",
    "import numpy as np\n",
    "\n",
    "# Create a 25000 x 15 ndarray with random integers in the interval [0, 10000].\n",
    "\n",
    "X = np.random.randint(0, 10001, (25000, 15))\n",
    "\n",
    "# print the shape of X\n",
    "\n",
    "print(X.shape)\n",
    "\n",
    "\n",
    "# print the first row of X\n",
    "\n",
    "X[1]\n",
    "\n",
    "# Average of the values in each column of X\n",
    "\n",
    "ave_cols = np.mean(X, axis = 0)\n",
    "\n",
    "# print ave_cols \n",
    "\n",
    "print(ave_cols)\n",
    "\n",
    "# Standard Deviation of the values in each column of X\n",
    "\n",
    "std_cols = np.std(X, axis = 0)\n",
    "\n",
    "print(std_cols)\n",
    "\n",
    "# print std_cols  \n",
    "\n",
    "# Print the shape of ave_cols\n",
    "len(ave_cols)\n",
    "\n",
    "# Print the shape of std_cols\n",
    "len(std_cols)\n",
    "\n",
    "# Mean normalize X\n",
    "\n",
    "X_norm = (X - ave_cols)/std_cols\n",
    "\n",
    "\n",
    "# Print the average of all the values of X_norm\n",
    "\n",
    "print(np.mean(X_norm))\n",
    "\n",
    "# Print the average of the minimum value in each column of X_norm\n",
    "\n",
    "\n",
    "print(np.mean(np.min(X_norm, axis = 0)))\n",
    "\n",
    "# Print the average of the maximum value in each column of X_norm\n",
    "\n",
    "print(np.mean(np.max(X_norm, axis = 0)))\n",
    "\n",
    "\n",
    "# We create a random permutation of integers 0 to 9\n",
    "np.random.permutation(10)\n",
    "\n",
    "\n",
    "# Create a rank 1 ndarray that contains a random permutation of the row indices of `X_norm `\n",
    "\n",
    "# X_norm.shape # has 25000 rows \n",
    "\n",
    "row_indices = np.random.permutation(np.arange(0,25000)) # gives a 1 d array, sabai rows ko indices haru bata permutation garera euta 1d array\n",
    "                                          # dine jun ma indices haru hun6 sab X_norm ko row indices haruko\n",
    "row_indices\n",
    "\n",
    "# Print the shape of row_indices\n",
    "row_indices.shape\n",
    "\n",
    "# Make any necessary calculations.\n",
    "# You can save your calculations into variables to use later.\n",
    "train = row_indices[:15000]\n",
    "test = row_indices[15000:20000]\n",
    "val  = row_indices[20000:]\n",
    "\n",
    "# type(train)\n",
    "# train\n",
    "# print(train)\n",
    "print(train.shape)\n",
    "print(test.shape)\n",
    "print(val.shape)\n",
    "\n",
    "\n",
    "rra = np.random.random((10,4))\n",
    "rra.shape # 10 rows cha\n",
    "\n",
    "rra[[2,4,5]] # index haru ya llist of indexes haru duwai pass garna mil6\n",
    "\n",
    "# aba 10 row indices bata permutation nikalne\n",
    "# indices_list= np.random.permutation(10)\n",
    "# indices_list\n",
    "\n",
    "# train_split = indices_list[:6]\n",
    "# cross_val_split = indices_list[6:8]\n",
    "# test_split = indices_list[8:]\n",
    "\n",
    "# xTrain = rra[train_split]\n",
    "# xCrossVal = rra[cross_val_split]\n",
    "# xTest = rra[test_split]\n",
    "\n",
    "\n",
    "print(train)\n",
    "print(val)\n",
    "print(test)\n",
    "\n",
    "# Create a Training Set\n",
    "# aba list of indices dera X_norm bata values haru sab lai euta variable ma halne\n",
    "\n",
    "X_train = X_norm[train] \n",
    "X_train\n",
    "\n",
    "# Create a Cross Validation Set\n",
    "cross_val = X_norm[val]\n",
    "cross_val\n",
    "\n",
    "# Create a Test Set\n",
    "X_test = X_norm[test]\n",
    "X_test\n",
    "\n",
    "# Print the shape of X_train\n",
    "\n",
    "print(X_train.shape)\n",
    "\n",
    "# Print the shape of X_crossVal\n",
    "\n",
    "print(cross_val.shape)\n",
    "\n",
    "# Print the shape of X_test\n",
    "\n",
    "print(X_test.shape)"
   ]
  },
  {
   "cell_type": "code",
   "execution_count": 273,
   "id": "bdeb76ad",
   "metadata": {},
   "outputs": [
    {
     "name": "stdout",
     "output_type": "stream",
     "text": [
      "['f' 's' 'd' 'k' 'f' 'j' 'n' 's' 'k']\n",
      "['f' 's' 'd' 'k' 'f' 'j' 'n' 's' 'k']\n"
     ]
    }
   ],
   "source": [
    "# lists and tuples can be converted to arrays\n",
    "\n",
    "print(np.array(list('fsdkfjnsk')))\n",
    "print(np.array(tuple('fsdkfjnsk')))"
   ]
  },
  {
   "cell_type": "code",
   "execution_count": 62,
   "id": "37fd13cd",
   "metadata": {},
   "outputs": [
    {
     "ename": "TypeError",
     "evalue": "'>' not supported between instances of 'list' and 'int'",
     "output_type": "error",
     "traceback": [
      "\u001b[1;31m---------------------------------------------------------------------------\u001b[0m",
      "\u001b[1;31mTypeError\u001b[0m                                 Traceback (most recent call last)",
      "\u001b[1;32m~\\AppData\\Local\\Temp/ipykernel_22480/3319236552.py\u001b[0m in \u001b[0;36m<module>\u001b[1;34m\u001b[0m\n\u001b[0;32m      5\u001b[0m \u001b[0mlist1\u001b[0m \u001b[1;33m*\u001b[0m \u001b[1;36m2\u001b[0m\u001b[1;33m\u001b[0m\u001b[1;33m\u001b[0m\u001b[0m\n\u001b[0;32m      6\u001b[0m \u001b[1;33m\u001b[0m\u001b[0m\n\u001b[1;32m----> 7\u001b[1;33m \u001b[0mlist1\u001b[0m \u001b[1;33m>\u001b[0m \u001b[1;36m73\u001b[0m\u001b[1;33m\u001b[0m\u001b[1;33m\u001b[0m\u001b[0m\n\u001b[0m",
      "\u001b[1;31mTypeError\u001b[0m: '>' not supported between instances of 'list' and 'int'"
     ]
    }
   ],
   "source": [
    "list1 = list(i for i in range(70, 75))\n",
    "list2 = list(i for i in range(75, 80))\n",
    "# list1 + list2 # list ma '+' vaneko concatenation hun6\n",
    "\n",
    "list1 * 2\n",
    "\n",
    "list1 > 73"
   ]
  },
  {
   "cell_type": "code",
   "execution_count": 272,
   "id": "b7a18a96",
   "metadata": {},
   "outputs": [
    {
     "data": {
      "text/plain": [
       "(4,)"
      ]
     },
     "execution_count": 272,
     "metadata": {},
     "output_type": "execute_result"
    }
   ],
   "source": [
    "# https://www.youtube.com/watch?v=vN5dAZrS58E\n",
    "\n",
    "# yaad garne array([1,2,3,4]) ko figure euta line matrai hun6, yesma x axis y axis kei ni hunna\n",
    "# tara 2d array ma chai x axis ra y axis duwai hun6 ra yesko figure square hun6, tesaigari 3d array ko cube hun6\n",
    "# np.array(list('1233')).reshape(2,2) # 1d lai 2d identity matrix ma convert garna reshape use garne\n",
    "# np.array(list('1233')).T # transpose the vector\n",
    "# arr[:, np.newaxis] yeso garera ni naya column thapna mil6\n",
    "np.array(list('1233')) # 1d array\n",
    "np.array(list('1233')).shape # gives (4,)\n",
    "np.array(list('1233')).T.shape # also gives the same shape\n",
    "\n",
    "# In NumPy, a vector is a one-dimensional array, while a matrix is a two-dimensional array.\n",
    "# if nothing is mentioned then the vector is stored in the form of a column vector\n",
    "# np.array(list('1233')).shape garda ta (4,1) au6 kina, (1, 4) hunuparne haina?\n",
    "# kina vane when nothing is specified then the default vector is a column vector\n",
    "# hamilai execute garda ta 'array(1,2,3,4)' yesto form ma dekhau6 but internally python stores the array as a column vector\n",
    "# hamilai dekhauna ta horizontally dekhau6 but internally python stores it vertically"
   ]
  },
  {
   "attachments": {
    "fdio.png": {
     "image/png": "[encoded data removed]"
    }
   },
   "cell_type": "markdown",
   "id": "a6edfe33",
   "metadata": {},
   "source": [
    "![fdio.png](attachment:fdio.png)"
   ]
  },
  {
   "cell_type": "code",
   "execution_count": 8,
   "id": "92fb850b",
   "metadata": {},
   "outputs": [
    {
     "data": {
      "text/plain": [
       "array([145, 147, 149, 151, 153])"
      ]
     },
     "execution_count": 8,
     "metadata": {},
     "output_type": "execute_result"
    }
   ],
   "source": [
    "# Another feature of NumPy arrays is that they are homogeneous in nature. By homogenous, we mean that all the elements in\n",
    "# a NumPy array have to be of the same data type, which could be an integer, float, string, etc. \n",
    "\n",
    "lis1_arr = np.array(list(i for i in range(70, 75)))\n",
    "lis2_arr = np.array(list(i for i in range(75, 80)))\n",
    "\n",
    "lis1_arr + lis2_arr # numpy array  ma add hun6"
   ]
  },
  {
   "cell_type": "code",
   "execution_count": 11,
   "id": "c252e5fe",
   "metadata": {},
   "outputs": [
    {
     "name": "stdout",
     "output_type": "stream",
     "text": [
      "[70, 71, 72, 73, 74]\n",
      "[70 71 72 73 74]\n"
     ]
    }
   ],
   "source": [
    "# how to differentiate between a list and a numpy array?\n",
    "\n",
    "# The key advantage of using NumPy arrays over lists is that arrays allow you to operate over the entire data, unlike lists.\n",
    "# However, in terms of structure, NumPy arrays are extremely similar to lists.If you try to run the print() command over a NumPy\n",
    "# array, then you will get the following output:\n",
    "\n",
    "# [element_1  element_2  element_3…]\n",
    "\n",
    "# The only difference between a NumPy array and a list is that the elements in the NumPy array are separated by a space instead \n",
    "# of a comma. Hence, this is an aesthetic feature that differentiates a list and a NumPy array.\n",
    "\n",
    "print(list1) # separated by comma\n",
    "print(lis1_arr) # not separated by comma"
   ]
  },
  {
   "cell_type": "code",
   "execution_count": 35,
   "id": "611878e4",
   "metadata": {},
   "outputs": [
    {
     "data": {
      "text/plain": [
       "array(['70', '71', '72', '73', '74', '2.0', '1', 'True'], dtype='<U32')"
      ]
     },
     "execution_count": 35,
     "metadata": {},
     "output_type": "execute_result"
    }
   ],
   "source": [
    "aq1 = np.array([70, 71, 72, 73, 74, 2.0, 1, 'True']) # upcasts to string\n",
    "aq1\n"
   ]
  },
  {
   "cell_type": "code",
   "execution_count": 70,
   "id": "51d07742",
   "metadata": {},
   "outputs": [
    {
     "name": "stdout",
     "output_type": "stream",
     "text": [
      "[70. 71. 72. 73. 74.  2.  1.  1.]\n"
     ]
    },
    {
     "data": {
      "text/plain": [
       "NoneType"
      ]
     },
     "execution_count": 70,
     "metadata": {},
     "output_type": "execute_result"
    }
   ],
   "source": [
    "aq1 = np.array([70, 71, 72, 73, 74, 2.0, 1, True]) # upcast to float\n",
    "aq1.dtype\n",
    "print(aq1) # not separated by comma, not a list type, It's the default string representation of a numpy array. "
   ]
  },
  {
   "cell_type": "markdown",
   "id": "97172ef7",
   "metadata": {},
   "source": []
  },
  {
   "cell_type": "code",
   "execution_count": null,
   "id": "35a9a96b",
   "metadata": {},
   "outputs": [],
   "source": [
    "aq1*0.453 # True is treated as 1"
   ]
  },
  {
   "cell_type": "code",
   "execution_count": 60,
   "id": "88e90635",
   "metadata": {},
   "outputs": [
    {
     "data": {
      "text/plain": [
       "array([False, False, False, False,  True, False, False, False])"
      ]
     },
     "execution_count": 60,
     "metadata": {},
     "output_type": "execute_result"
    }
   ],
   "source": [
    "aq1 > 73"
   ]
  },
  {
   "cell_type": "code",
   "execution_count": 21,
   "id": "0cc5c163",
   "metadata": {},
   "outputs": [
    {
     "data": {
      "text/plain": [
       "numpy.ndarray"
      ]
     },
     "execution_count": 21,
     "metadata": {},
     "output_type": "execute_result"
    }
   ],
   "source": [
    "qa = np.array((2,3,4))\n",
    "qa.dtype\n",
    "type(qa)"
   ]
  },
  {
   "cell_type": "code",
   "execution_count": 26,
   "id": "29e31d48",
   "metadata": {},
   "outputs": [
    {
     "name": "stdout",
     "output_type": "stream",
     "text": [
      "3\n",
      "3\n",
      "(3,)\n"
     ]
    }
   ],
   "source": [
    "# count the size of the array\n",
    "\n",
    "print(qa.size)\n",
    "print(len(qa))\n",
    "print(qa.shape)"
   ]
  },
  {
   "cell_type": "code",
   "execution_count": null,
   "id": "2e50da5b",
   "metadata": {},
   "outputs": [],
   "source": [
    "# len used in 2d array will give the result 2, as the length of a NumPy array corresponds to the size of its 1st dimension.\n",
    "len(np.array(list('ABDDBSA')))\n",
    "len((np.array(list('ABDDBSA'))).reshape((1,7)))"
   ]
  },
  {
   "cell_type": "code",
   "execution_count": 47,
   "id": "2e14fac6",
   "metadata": {},
   "outputs": [],
   "source": [
    "aq1_inch = aq1\n",
    "aq1 = aq1_inch*0.342 # inplace hunna kinaki pointer matrai ho yo aq1ko\n",
    "del aq1 # deleting the variable aq1 from memory\n",
    "# Now, if you try to access aq1_inch, it will raise a NameError because it was assigned the value of aq1\n",
    "# to solve this we use 'copy()'"
   ]
  },
  {
   "cell_type": "code",
   "execution_count": 50,
   "id": "70e49185",
   "metadata": {},
   "outputs": [
    {
     "data": {
      "text/plain": [
       "array([1.8796, 1.8796, 1.8288, ..., 1.905 , 1.905 , 1.8542])"
      ]
     },
     "execution_count": 50,
     "metadata": {},
     "output_type": "execute_result"
    }
   ],
   "source": [
    "# converting height to inch\n",
    "players_heights_m = heights = np.array([74, 74, 72, 72, 73, 69, 69, 71, 76, 71, 73, 73, 74, 74, 69, 70, 73, 75, 78, 79, 76, 74, 76, 72, 71, 75, 77, 74, 73, 74, 78, 73, 75, 73, 75, 75, 74, 69, 71, 74, 73, 73, 76, 74, 74, 70, 72, 77, 74, 70, 73, 75, 76, 76, 78, 74, 74, 76, 77, 81, 78, 75, 77, 75, 76, 74, 72, 72, 75, 73, 73, 73, 70, 70, 70, 76, 68, 71, 72, 75, 75, 75, 75, 68, 74, 78, 71, 73, 76, 74, 74, 79, 75, 73, 76, 74, 74, 73, 72, 74, 73, 74, 72, 73, 69, 72, 73, 75, 75, 73, 72, 72, 76, 74, 72, 77, 74, 77, 75, 76, 80, 74, 74, 75, 78, 73, 73, 74, 75, 76, 71, 73, 74, 76, 76, 74, 73, 74, 70, 72, 73, 73, 73, 73, 71, 74, 74, 72, 74, 71, 74, 73, 75, 75, 79, 73, 75, 76, 74, 76, 78, 74, 76, 72, 74, 76, 74, 75, 78, 75, 72, 74, 72, 74, 70, 71, 70, 75, 71, 71, 73, 72, 71, 73, 72, 75, 74, 74, 75, 73, 77, 73, 76, 75, 74, 76, 75, 73, 71, 76, 75, 72, 71, 77, 73, 74, 71, 72, 74, 75, 73, 72, 75, 75, 74, 72, 74, 71, 70, 74, 77, 77, 75, 75, 78, 75, 76, 73, 75, 75, 79, 77, 76, 71, 75, 74, 69, 71, 76, 72, 72, 70, 72, 73, 71, 72, 71, 73, 72, 73, 74, 74, 72, 75, 74, 74, 77, 75, 73, 72, 71, 74, 77, 75, 75, 75, 78, 78, 74, 76, 78, 76, 70, 72, 80, 74, 74, 71, 70, 72, 71, 74, 71, 72, 71, 74, 69, 76, 75, 75, 76, 73, 76, 73, 77, 73, 72, 72, 77, 77, 71, 74, 74, 73, 78, 75, 73, 70, 74, 72, 73, 73, 75, 75, 74, 76, 73, 74, 75, 75, 72, 73, 73, 72, 74, 78, 76, 73, 74, 75, 70, 75, 71, 72, 78, 75, 73, 73, 71, 75, 77, 72, 69, 73, 74, 72, 70, 75, 70, 72, 72, 74, 73, 74, 76, 75, 80, 72, 75, 73, 74, 74, 73, 75, 75, 71, 73, 75, 74, 74, 72, 74, 74, 74, 73, 76, 75, 72, 73, 73, 73, 72, 72, 72, 72, 71, 75, 75, 74, 73, 75, 79, 74, 76, 73, 74, 74, 72, 74, 74, 75, 78, 74, 74, 74, 77, 70, 73, 74, 73, 71, 75, 71, 72, 77, 74, 70, 77, 73, 72, 76, 71, 76, 78, 75, 73, 78, 74, 79, 75, 76, 72, 75, 75, 70, 72, 70, 74, 71, 76, 73, 76, 71, 69, 72, 72, 69, 73, 69, 73, 74, 74, 72, 71, 72, 72, 76, 76, 76, 74, 76, 75, 71, 72, 71, 73, 75, 76, 75, 71, 75, 74, 72, 73, 73, 73, 73, 76, 72, 76, 73, 73, 73, 75, 75, 77, 73, 72, 75, 70, 74, 72, 80, 71, 71, 74, 74, 73, 75, 76, 73, 77, 72, 73, 77, 76, 71, 75, 73, 74, 77, 71, 72, 73, 69, 73, 70, 74, 76, 73, 73, 75, 73, 79, 74, 73, 74, 77, 75, 74, 73, 77, 73, 77, 74, 74, 73, 77, 74, 77, 75, 77, 75, 71, 74, 70, 79, 72, 72, 70, 74, 74, 72, 73, 72, 74, 74, 76, 82, 74, 74, 70, 73, 73, 74, 77, 72, 76, 73, 73, 72, 74, 74, 71, 72, 75, 74, 74, 77, 70, 71, 73, 76, 71, 75, 74, 72, 76, 79, 76, 73, 76, 78, 75, 76, 72, 72, 73, 73, 75, 71, 76, 70, 75, 74, 75, 73, 71, 71, 72, 73, 73, 72, 69, 73, 78, 71, 73, 75, 76, 70, 74, 77, 75, 79, 72, 77, 73, 75, 75, 75, 73, 73, 76, 77, 75, 70, 71, 71, 75, 74, 69, 70, 75, 72, 75, 73, 72, 72, 72, 76, 75, 74, 69, 73, 72, 72, 75, 77, 76, 80, 77, 76, 79, 71, 75, 73, 76, 77, 73, 76, 70, 75, 73, 75, 70, 69, 71, 72, 72, 73, 70, 70, 73, 76, 75, 72, 73, 79, 71, 72, 74, 74, 74, 72, 76, 76, 72, 72, 71, 72, 72, 70, 77, 74, 72, 76, 71, 76, 71, 73, 70, 73, 73, 72, 71, 71, 71, 72, 72, 74, 74, 74, 71, 72, 75, 72, 71, 72, 72, 72, 72, 74, 74, 77, 75, 73, 75, 73, 76, 72, 77, 75, 72, 71, 71, 75, 72, 73, 73, 71, 70, 75, 71, 76, 73, 68, 71, 72, 74, 77, 72, 76, 78, 81, 72, 73, 76, 72, 72, 74, 76, 73, 76, 75, 70, 71, 74, 72, 73, 76, 76, 73, 71, 68, 71, 71, 74, 77, 69, 72, 76, 75, 76, 75, 76, 72, 74, 76, 74, 72, 75, 78, 77, 70, 72, 79, 74, 71, 68, 77, 75, 71, 72, 70, 72, 72, 73, 72, 74, 72, 72, 75, 72, 73, 74, 72, 78, 75, 72, 74, 75, 75, 76, 74, 74, 73, 74, 71, 74, 75, 76, 74, 76, 76, 73, 75, 75, 74, 68, 72, 75, 71, 70, 72, 73, 72, 75, 74, 70, 76, 71, 82, 72, 73, 74, 71, 75, 77, 72, 74, 72, 73, 78, 77, 73, 73, 73, 73, 73, 76, 75, 70, 73, 72, 73, 75, 74, 73, 73, 76, 73, 75, 70, 77, 72, 77, 74, 75, 75, 75, 75, 72, 74, 71, 76, 71, 75, 76, 83, 75, 74, 76, 72, 72, 75, 75, 72, 77, 73, 72, 70, 74, 72, 74, 72, 71, 70, 71, 76, 74, 76, 74, 74, 74, 75, 75, 71, 71, 74, 77, 71, 74, 75, 77, 76, 74, 76, 72, 71, 72, 75, 73, 68, 72, 69, 73, 73, 75, 70, 70, 74, 75, 74, 74, 73, 74, 75, 77, 73, 74, 76, 74, 75, 73, 76, 78, 75, 73, 77, 74, 72, 74, 72, 71, 73, 75, 73, 67, 67, 76, 74, 73, 70, 75, 70, 72, 77, 79, 78, 74, 75, 75, 78, 76, 75, 69, 75, 72, 75, 73, 74, 75, 75, 73])\n",
    "players_heights_in = players_heights_m * 0.0254\n",
    "players_heights_in"
   ]
  },
  {
   "cell_type": "code",
   "execution_count": 51,
   "id": "2bc91290",
   "metadata": {},
   "outputs": [
    {
     "data": {
      "text/plain": [
       "array([81.64656, 97.52228, 95.25432, ..., 92.98636, 86.18248, 88.45044])"
      ]
     },
     "execution_count": 51,
     "metadata": {},
     "output_type": "execute_result"
    }
   ],
   "source": [
    "# pounds to kg\n",
    "weights_lb = [180, 215, 210, 210, 188, 176, 209, 200, 231, 180, 188, 180, 185, 160, 180, 185, 189, 185, 219, 230, 205, 230, 195, 180, 192, 225, 203, 195, 182, 188, 200, 180, 200, 200, 245, 240, 215, 185, 175, 199, 200, 215, 200, 205, 206, 186, 188, 220, 210, 195, 200, 200, 212, 224, 210, 205, 220, 195, 200, 260, 228, 270, 200, 210, 190, 220, 180, 205, 210, 220, 211, 200, 180, 190, 170, 230, 155, 185, 185, 200, 225, 225, 220, 160, 205, 235, 250, 210, 190, 160, 200, 205, 222, 195, 205, 220, 220, 170, 185, 195, 220, 230, 180, 220, 180, 180, 170, 210, 215, 200, 213, 180, 192, 235, 185, 235, 210, 222, 210, 230, 220, 180, 190, 200, 210, 194, 180, 190, 240, 200, 198, 200, 195, 210, 220, 190, 210, 225, 180, 185, 170, 185, 185, 180, 178, 175, 200, 204, 211, 190, 210, 190, 190, 185, 290, 175, 185, 200, 220, 170, 220, 190, 220, 205, 200, 250, 225, 215, 210, 215, 195, 200, 194, 220, 180, 180, 170, 195, 180, 170, 206, 205, 200, 225, 201, 225, 233, 180, 225, 180, 220, 180, 237, 215, 190, 235, 190, 180, 165, 195, 200, 190, 190, 185, 185, 205, 190, 205, 206, 220, 208, 170, 195, 210, 190, 211, 230, 170, 185, 185, 241, 225, 210, 175, 230, 200, 215, 198, 226, 278, 215, 230, 240, 184, 219, 170, 218, 190, 225, 220, 176, 190, 197, 204, 167, 180, 195, 220, 215, 185, 190, 205, 205, 200, 210, 215, 200, 205, 211, 190, 208, 200, 210, 232, 230, 210, 220, 210, 202, 212, 225, 170, 190, 200, 237, 220, 170, 193, 190, 150, 220, 200, 190, 185, 185, 200, 172, 220, 225, 190, 195, 219, 190, 197, 200, 195, 210, 177, 220, 235, 180, 195, 195, 190, 230, 190, 200, 190, 190, 200, 200, 184, 200, 180, 219, 187, 200, 220, 205, 190, 170, 160, 215, 175, 205, 200, 214, 200, 190, 180, 205, 220, 190, 215, 235, 191, 200, 181, 200, 210, 240, 185, 165, 190, 185, 175, 155, 210, 170, 175, 220, 210, 205, 200, 205, 195, 240, 150, 200, 215, 202, 200, 190, 205, 190, 160, 215, 185, 200, 190, 210, 185, 220, 190, 202, 205, 220, 175, 160, 190, 200, 229, 206, 220, 180, 195, 175, 188, 230, 190, 200, 190, 219, 235, 180, 180, 180, 200, 234, 185, 220, 223, 200, 210, 200, 210, 190, 177, 227, 180, 195, 199, 175, 185, 240, 210, 180, 194, 225, 180, 205, 193, 230, 230, 220, 200, 249, 190, 208, 245, 250, 160, 192, 220, 170, 197, 155, 190, 200, 220, 210, 228, 190, 160, 184, 180, 180, 200, 176, 160, 222, 211, 195, 200, 175, 206, 240, 185, 260, 185, 221, 205, 200, 170, 201, 205, 185, 205, 245, 220, 210, 220, 185, 175, 170, 180, 200, 210, 175, 220, 206, 180, 210, 195, 200, 200, 164, 180, 220, 195, 205, 170, 240, 210, 195, 200, 205, 192, 190, 170, 240, 200, 205, 175, 250, 220, 224, 210, 195, 180, 245, 175, 180, 215, 175, 180, 195, 230, 230, 205, 215, 195, 180, 205, 180, 190, 180, 190, 190, 220, 210, 255, 190, 230, 200, 205, 210, 225, 215, 220, 205, 200, 220, 197, 225, 187, 245, 185, 185, 175, 200, 180, 188, 225, 200, 210, 245, 213, 231, 165, 228, 210, 250, 191, 190, 200, 215, 254, 232, 180, 215, 220, 180, 200, 170, 195, 210, 200, 220, 165, 180, 200, 200, 170, 224, 220, 180, 198, 240, 239, 185, 210, 220, 200, 195, 220, 230, 170, 220, 230, 165, 205, 192, 210, 205, 200, 210, 185, 195, 202, 205, 195, 180, 200, 185, 240, 185, 220, 205, 205, 180, 201, 190, 208, 240, 180, 230, 195, 215, 190, 195, 215, 215, 220, 220, 230, 195, 190, 195, 209, 204, 170, 185, 205, 175, 210, 190, 180, 180, 160, 235, 200, 210, 180, 190, 197, 203, 205, 170, 200, 250, 200, 220, 200, 190, 170, 190, 220, 215, 206, 215, 185, 235, 188, 230, 195, 168, 190, 160, 200, 200, 189, 180, 190, 200, 220, 187, 240, 190, 180, 185, 210, 220, 219, 190, 193, 175, 180, 215, 210, 200, 190, 185, 220, 170, 195, 205, 195, 210, 190, 190, 180, 220, 190, 186, 185, 190, 180, 190, 170, 210, 240, 220, 180, 210, 210, 195, 160, 180, 205, 200, 185, 245, 190, 210, 200, 200, 222, 215, 240, 170, 220, 156, 190, 202, 221, 200, 190, 210, 190, 200, 165, 190, 185, 230, 208, 209, 175, 180, 200, 205, 200, 250, 210, 230, 244, 202, 240, 200, 215, 177, 210, 170, 215, 217, 198, 200, 220, 170, 200, 230, 231, 183, 192, 167, 190, 180, 180, 215, 160, 205, 223, 175, 170, 190, 240, 175, 230, 223, 196, 167, 195, 190, 250, 190, 190, 190, 170, 160, 150, 225, 220, 209, 210, 176, 260, 195, 190, 184, 180, 195, 195, 219, 225, 212, 202, 185, 200, 209, 200, 195, 228, 210, 190, 212, 190, 218, 220, 190, 235, 210, 200, 188, 210, 235, 188, 215, 216, 220, 180, 185, 200, 210, 220, 185, 231, 210, 195, 200, 205, 200, 190, 250, 185, 180, 170, 180, 208, 235, 215, 244, 220, 185, 230, 190, 200, 180, 190, 196, 180, 230, 224, 160, 178, 205, 185, 210, 180, 190, 200, 257, 190, 220, 165, 205, 200, 208, 185, 215, 170, 235, 210, 170, 180, 170, 190, 150, 230, 203, 260, 246, 186, 210, 198, 210, 215, 180, 200, 245, 200, 192, 192, 200, 192, 205, 190, 186, 170, 197, 219, 200, 220, 207, 225, 207, 212, 225, 170, 190, 210, 230, 210, 200, 238, 234, 222, 200, 190, 170, 220, 223, 210, 215, 196, 175, 175, 189, 205, 210, 180, 180, 197, 220, 228, 190, 204, 165, 216, 220, 208, 210, 215, 195, 200, 215, 229, 240, 207, 205, 208, 185, 190, 170, 208, 225, 190, 225, 185, 180, 165, 240, 220, 212, 163, 215, 175, 205, 210, 205, 208, 215, 180, 200, 230, 211, 230, 190, 220, 180, 205, 190, 180, 205, 190, 195]\n",
    "weights_kg = np.array(weights_lb) * 0.453592 \n",
    "weights_kg"
   ]
  },
  {
   "cell_type": "code",
   "execution_count": 42,
   "id": "7ee01375",
   "metadata": {},
   "outputs": [
    {
     "data": {
      "text/plain": [
       "array([31.71 , 32.163, 32.616, 33.069, 33.522,  0.906,  0.453,  0.453])"
      ]
     },
     "execution_count": 42,
     "metadata": {},
     "output_type": "execute_result"
    }
   ],
   "source": [
    "aq1*0.453"
   ]
  },
  {
   "cell_type": "code",
   "execution_count": 55,
   "id": "b67ebe24",
   "metadata": {},
   "outputs": [
    {
     "data": {
      "text/plain": [
       "array([23.11037639, 27.60406069, 28.48080465, ..., 25.62295933,\n",
       "       23.74810865, 25.72686361])"
      ]
     },
     "execution_count": 55,
     "metadata": {},
     "output_type": "execute_result"
    }
   ],
   "source": [
    "# BMI\n",
    "players_BMI = weights_kg / (players_heights_in ** 2) # BODMAS\n",
    "players_BMI"
   ]
  },
  {
   "cell_type": "code",
   "execution_count": 95,
   "id": "c6d7ff88",
   "metadata": {},
   "outputs": [
    {
     "data": {
      "text/plain": [
       "25.726863613607133"
      ]
     },
     "execution_count": 95,
     "metadata": {},
     "output_type": "execute_result"
    }
   ],
   "source": [
    "players_BMI[-1] # to get the last 25.72\n"
   ]
  },
  {
   "cell_type": "code",
   "execution_count": 45,
   "id": "96ca45d2",
   "metadata": {},
   "outputs": [
    {
     "data": {
      "text/plain": [
       "array([81.64656, 97.52228, 95.25432, ..., 92.98636, 86.18248, 88.45044])"
      ]
     },
     "execution_count": 45,
     "metadata": {},
     "output_type": "execute_result"
    }
   ],
   "source": []
  },
  {
   "cell_type": "code",
   "execution_count": 96,
   "id": "8c4993c0",
   "metadata": {},
   "outputs": [
    {
     "data": {
      "text/plain": [
       "array([25.06720044, 23.11037639, 25.62295933, 23.74810865, 25.72686361])"
      ]
     },
     "execution_count": 96,
     "metadata": {},
     "output_type": "execute_result"
    }
   ],
   "source": [
    "players_BMI[-5:] # to get the last five ...23.11037639,25.62295933, 23.74810865, 25.72686361\n"
   ]
  },
  {
   "cell_type": "code",
   "execution_count": 102,
   "id": "fbe85dc9",
   "metadata": {},
   "outputs": [
    {
     "data": {
      "text/plain": [
       "array([28.48080465, 28.48080465, 24.80333518, ..., 23.11037639,\n",
       "       25.62295933, 23.74810865])"
      ]
     },
     "execution_count": 102,
     "metadata": {},
     "output_type": "execute_result"
    }
   ],
   "source": [
    "players_BMI[2:-1] # last include hunna\n"
   ]
  },
  {
   "cell_type": "code",
   "execution_count": 98,
   "id": "fa3f9623",
   "metadata": {},
   "outputs": [
    {
     "data": {
      "text/plain": [
       "array([25.06720044, 23.11037639, 25.62295933, 23.74810865])"
      ]
     },
     "execution_count": 98,
     "metadata": {},
     "output_type": "execute_result"
    }
   ],
   "source": [
    "players_BMI[-5:-1] # last include hun6\n"
   ]
  },
  {
   "cell_type": "code",
   "execution_count": 100,
   "id": "97102ed6",
   "metadata": {},
   "outputs": [
    {
     "data": {
      "text/plain": [
       "array([25.72686361, 23.74810865, 25.62295933, ..., 28.48080465,\n",
       "       27.60406069, 23.11037639])"
      ]
     },
     "execution_count": 100,
     "metadata": {},
     "output_type": "execute_result"
    }
   ],
   "source": [
    "# step ko j sukai number hos, -ve step vaeki pachadi bata suru garihal6\n",
    "players_BMI[::-1] # last element first ma au6, reversing the array, first element include hun6"
   ]
  },
  {
   "cell_type": "code",
   "execution_count": 101,
   "id": "0dd0657a",
   "metadata": {},
   "outputs": [
    {
     "data": {
      "text/plain": [
       "array([25.72686361, 25.62295933, 25.06720044, 24.41211827, 28.05778432,\n",
       "       25.68344188, 24.99800911, 27.60406069, 23.09391864, 27.80269025,\n",
       "       26.87285979, 27.96971839, 29.21339361, 28.19167322, 28.12276025,\n",
       "       31.38078286, 21.82646659, 23.75233129, 27.04618995, 27.73447756,\n",
       "       28.36551629, 25.03624109, 26.96210579, 26.08790375, 21.18451169,\n",
       "       24.39428619, 27.49781002, 25.82702472, 26.24790956, 24.93526781,\n",
       "       23.73400387, 28.36551629, 30.24390208, 23.05588948, 25.67819599,\n",
       "       27.74804308, 25.67819599, 27.27371756, 26.49932775, 28.12276025,\n",
       "       26.57693285, 26.57693285, 25.67819599, 27.47561877, 25.94144716,\n",
       "       26.32015089, 25.67819599, 26.03959282, 29.05243827, 22.4982082 ,\n",
       "       28.48080465, 25.56171941, 30.7475512 , 24.70966209, 20.9205219 ,\n",
       "       23.70992483, 23.05588948, 29.3726607 , 26.87285979, 24.66492718,\n",
       "       24.30918304, 27.49781002, 31.28267565, 25.06720044, 26.24790956,\n",
       "       27.80269025, 22.9573553 , 27.99616887, 25.85879625, 23.7478741 ,\n",
       "       22.53046233, 24.40753727, 31.3273991 , 27.86662446, 25.10462629,\n",
       "       23.7478741 , 26.14028131, 24.34449467, 25.67819599, 28.48080465,\n",
       "       25.09023267, 29.28873067, 25.09023267, 28.24601559, 26.87285979,\n",
       "       28.60478124, 24.13750423, 26.24790956, 26.49932775, 28.76131419,\n",
       "       27.21888775, 26.24790956, 25.03624109, 26.12291952, 25.09023267,\n",
       "       27.96971839, 27.37281997, 26.44646146, 24.95460979, 26.44646146,\n",
       "       25.25309083, 29.14926052, 26.68081066, 22.31522336, 21.40411972,\n",
       "       27.26185942, 21.9564614 , 22.64902084, 27.14411156, 23.73400387,\n",
       "       23.74810865, 21.87325797, 27.80269025, 25.49499685, 25.10462629,\n",
       "       25.39198184, 24.14367201, 27.99616887, 23.05588948, 27.89402921,\n",
       "       27.12283988, 22.42854777, 22.72520345, 27.12457585, 26.65039205,\n",
       "       24.64652818, 30.43061834, 24.30918304, 24.41211827, 31.77798925,\n",
       "       27.99616887, 23.74810865, 27.89402921, 27.70585312, 24.99800911,\n",
       "       28.1729695 , 19.4984471 , 23.05588948, 28.36551629, 26.38652678,\n",
       "       24.90208995, 31.45579008, 27.12457585, 24.41211827, 26.44646146,\n",
       "       28.48080465, 28.24601559, 26.96210579, 25.76834706, 26.49932775,\n",
       "       25.22585554, 29.02517946, 25.06720044, 25.56171941, 24.95310704,\n",
       "       21.82646659, 26.54444207, 27.12457585, 29.15891904, 21.30143284,\n",
       "       25.76834706, 28.24601559, 25.09023267, 21.40411972, 25.36147842,\n",
       "       24.34449467, 25.82702472, 26.38652678, 21.69966068, 24.80898824,\n",
       "       28.74771047, 29.3726607 , 26.17033177, 25.49499685, 25.06720044,\n",
       "       26.49932775, 26.77894414, 27.46363305, 20.15883472, 27.53144449,\n",
       "       25.06720044, 26.96210579, 28.60478124, 24.41211827, 25.06720044,\n",
       "       23.73400387, 26.54444207, 26.19175991, 27.19667848, 27.97927677,\n",
       "       26.08790375, 28.36551629, 24.37305888, 26.87285979, 27.27371756,\n",
       "       27.0367828 , 22.53046233, 25.82702472, 25.62295933, 25.80197702,\n",
       "       24.40753727, 24.41211827, 27.04618995, 27.19667848, 27.70585312,\n",
       "       26.32015089, 27.54882636, 23.01257409, 29.02517946, 31.19326223,\n",
       "       23.73588231, 25.4232711 , 24.40753727, 27.0367828 , 24.41211827,\n",
       "       27.9977702 , 24.34449467, 25.10462629, 26.08790375, 26.96210579,\n",
       "       23.05588948, 23.11037639, 29.15891904, 30.60837107, 29.15891904,\n",
       "       24.39428619, 32.98315848, 29.27314343, 24.15361993, 31.45579008,\n",
       "       27.12457585, 25.4971013 , 25.67819599, 25.09023267, 27.60004911,\n",
       "       28.88797049, 27.49781002, 25.62295933, 27.60406069, 27.70585312,\n",
       "       25.67819599, 25.06720044, 27.70585312, 23.74810865, 23.11037639,\n",
       "       23.11037639, 23.7478741 , 28.36551629, 27.99616887, 27.97927677,\n",
       "       25.84269609, 24.41211827, 29.05243827, 25.72686361, 31.24131271,\n",
       "       29.64534517, 27.80269025, 31.66383214, 23.74810865, 26.32015089,\n",
       "       27.19667848, 26.36508773, 26.32015089, 27.49781002, 21.63695196,\n",
       "       24.99800911, 27.70585312, 27.17812259, 23.73400387, 26.38652678,\n",
       "       22.42854777, 25.09023267, 26.24790956, 30.62256116, 23.12315842,\n",
       "       28.03349935, 27.89402921, 26.90066661, 31.64784307, 29.21339361,\n",
       "       23.73400387, 26.44646146, 28.50279755, 25.99036864, 26.58105883,\n",
       "       24.95460979, 26.49932775, 27.70585312, 27.89402921, 22.23993795,\n",
       "       24.39219001, 23.99808874, 30.43061834, 23.43187843, 28.77452047,\n",
       "       27.49781002, 27.99616887, 24.95310704, 29.68484263, 25.82702472,\n",
       "       28.45953137, 24.40727556, 27.19667848, 29.14475245, 27.26185942,\n",
       "       25.67819599, 25.67819599, 27.49781002, 30.04348931, 23.11037639,\n",
       "       23.7478741 , 28.11762461, 24.99800911, 29.52992539, 21.87325797,\n",
       "       24.41211827, 27.93831313, 26.38652678, 21.10922143, 27.49781002,\n",
       "       26.65039205, 28.24601559, 28.48080465, 25.67819599, 28.36551629,\n",
       "       23.74810865, 25.06720044, 25.93497795, 24.99800911, 26.36508773,\n",
       "       24.95310704, 27.04618995, 29.83703344, 24.39219001, 22.23993795,\n",
       "       23.75233129, 24.3659706 , 28.45953137, 27.89402921, 26.38652678,\n",
       "       27.15667594, 26.49932775, 29.41411148, 24.39428619, 26.0486093 ,\n",
       "       26.32015089, 28.36551629, 23.05588948, 25.62295933, 26.38652678,\n",
       "       28.11762461, 24.99800911, 26.38652678, 24.39428619, 26.38652678,\n",
       "       26.57887433, 25.03624109, 25.10462629, 26.08790375, 28.48080465,\n",
       "       23.71627614, 23.12726994, 23.73588231, 28.12276025, 25.39967844,\n",
       "       25.80197702, 26.49932775, 30.68343213, 27.26185942, 21.82646659,\n",
       "       26.03552413, 27.26185942, 26.00107271, 25.93497795, 25.4232711 ,\n",
       "       28.74771047, 24.90208995, 29.00979037, 27.83778576, 23.71627614,\n",
       "       26.96210579, 27.80269025, 24.39428619, 29.15891904, 27.19667848,\n",
       "       23.29151439, 26.71770722, 23.86962675, 27.38755651, 32.1926157 ,\n",
       "       27.37281997, 29.21339361, 24.22045126, 28.24775029, 26.17033177,\n",
       "       26.57887433, 26.24790956, 28.57811275, 26.54444207, 29.52992539,\n",
       "       24.39428619, 24.37305888, 27.44198785, 26.44854187, 26.49932775,\n",
       "       24.40753727, 26.49932775, 24.99800911, 23.01257409, 23.74810865,\n",
       "       24.39428619, 28.84822619, 26.08790375, 28.12276025, 29.91509833,\n",
       "       27.26019873, 27.89402921, 27.17812259, 25.10462629, 24.39219001,\n",
       "       25.82702472, 26.31083858, 26.44646146, 24.26766786, 28.88797049,\n",
       "       25.67819599, 26.77894414, 25.4232711 , 28.24601559, 23.12315842,\n",
       "       32.66944589, 23.74810865, 26.96210579, 27.09049677, 25.67819599,\n",
       "       24.82568599, 24.40753727, 22.42854777, 25.82702472, 27.70585312,\n",
       "       26.77894414, 25.03624109, 27.61508891, 29.99761093, 23.7478741 ,\n",
       "       24.26766786, 24.39428619, 24.16799709, 26.24790956, 26.96210579,\n",
       "       25.09023267, 23.37071489, 28.88767328, 26.87285979, 22.42854777,\n",
       "       26.58105883, 24.41211827, 29.02517946, 25.09023267, 28.24601559,\n",
       "       24.95310704, 27.74779011, 25.67819599, 23.12726994, 34.86753651,\n",
       "       26.32015089, 27.49781002, 28.12276025, 25.09023267, 23.56740829,\n",
       "       24.39219001, 25.82702472, 27.83778576, 26.24790956, 24.41211827,\n",
       "       23.12726994, 23.71627614, 26.34775368, 23.71627614, 28.24601559,\n",
       "       24.26766786, 25.80516435, 26.38652678, 26.96210579, 25.4971013 ,\n",
       "       26.44854187, 24.34449467, 26.38652678, 24.40727556, 27.60406069,\n",
       "       30.62256116, 24.99800911, 23.11206463, 24.01173937, 24.07202028,\n",
       "       26.77826804, 23.73588231, 24.95310704, 25.30771077, 24.93526781,\n",
       "       26.58105883, 23.75233129, 24.80333518, 28.11789135, 30.86356276,\n",
       "       24.80333518, 28.48080465, 23.11037639])"
      ]
     },
     "execution_count": 101,
     "metadata": {},
     "output_type": "execute_result"
    }
   ],
   "source": [
    "players_BMI[::-2] # reverseing the list but start from the last element, 1st ra last element duwai include hun6"
   ]
  },
  {
   "cell_type": "code",
   "execution_count": 90,
   "id": "16b74f8e",
   "metadata": {},
   "outputs": [
    {
     "data": {
      "text/plain": [
       "array([27.60406069, 28.48080465, 28.48080465, ..., 25.62295933,\n",
       "       25.06720044, 23.11037639])"
      ]
     },
     "execution_count": 90,
     "metadata": {},
     "output_type": "execute_result"
    }
   ],
   "source": [
    "players_BMI[1:-3] # -3 ko include hunna"
   ]
  },
  {
   "cell_type": "code",
   "execution_count": 68,
   "id": "9f580979",
   "metadata": {},
   "outputs": [
    {
     "data": {
      "text/plain": [
       "array([False, False, False, ..., False, False, False])"
      ]
     },
     "execution_count": 68,
     "metadata": {},
     "output_type": "execute_result"
    }
   ],
   "source": [
    "# yadi kunai np.array ma harek elementwise condition launuparyo vane mil6 but list ma mildaina\n",
    "# list1 > 73 garyo vane supported gardainavan6\n",
    "\n",
    "players_BMI < 21 # sabai element lai true ra false ma convert garne euta condition laaera\n",
    "# returns boolean array"
   ]
  },
  {
   "cell_type": "code",
   "execution_count": 66,
   "id": "860b65f0",
   "metadata": {},
   "outputs": [
    {
     "data": {
      "text/plain": [
       "array([20.54255679, 20.54255679, 20.69282047, 20.69282047, 20.34343189,\n",
       "       20.34343189, 20.69282047, 20.15883472, 19.4984471 , 20.69282047,\n",
       "       20.9205219 ])"
      ]
     },
     "execution_count": 66,
     "metadata": {},
     "output_type": "execute_result"
    }
   ],
   "source": [
    "# conditinal subsetting: having a condition inside the square bracket\n",
    "# lets find the number of players who have BMI less than normal ie. or who are underweight\n",
    "players_BMI[players_BMI < 21] # condition true vako kun kun elements chhan nikalne"
   ]
  },
  {
   "cell_type": "code",
   "execution_count": 72,
   "id": "d284654f",
   "metadata": {},
   "outputs": [
    {
     "data": {
      "text/plain": [
       "array([20.54255679, 20.54255679, 20.69282047, 20.69282047, 20.34343189,\n",
       "       20.34343189, 20.69282047, 20.15883472, 19.4984471 , 20.69282047,\n",
       "       20.9205219 ])"
      ]
     },
     "execution_count": 72,
     "metadata": {},
     "output_type": "execute_result"
    }
   ],
   "source": [
    "underweight_players = players_BMI[players_BMI < 21].copy()\n",
    "underweight_players"
   ]
  },
  {
   "cell_type": "code",
   "execution_count": 73,
   "id": "35af7120",
   "metadata": {},
   "outputs": [
    {
     "data": {
      "text/plain": [
       "11"
      ]
     },
     "execution_count": 73,
     "metadata": {},
     "output_type": "execute_result"
    }
   ],
   "source": [
    "underweight_players.size"
   ]
  },
  {
   "cell_type": "code",
   "execution_count": 74,
   "id": "844ae5d5",
   "metadata": {},
   "outputs": [
    {
     "data": {
      "text/plain": [
       "35.26194861031698"
      ]
     },
     "execution_count": 74,
     "metadata": {},
     "output_type": "execute_result"
    }
   ],
   "source": [
    "np.max(players_BMI)"
   ]
  },
  {
   "cell_type": "code",
   "execution_count": 75,
   "id": "f28f9cce",
   "metadata": {},
   "outputs": [
    {
     "data": {
      "text/plain": [
       "19.498447103560874"
      ]
     },
     "execution_count": 75,
     "metadata": {},
     "output_type": "execute_result"
    }
   ],
   "source": [
    "np.min(players_BMI)"
   ]
  },
  {
   "cell_type": "code",
   "execution_count": 76,
   "id": "dd4e41e6",
   "metadata": {},
   "outputs": [
    {
     "data": {
      "text/plain": [
       "26.05684565448554"
      ]
     },
     "execution_count": 76,
     "metadata": {},
     "output_type": "execute_result"
    }
   ],
   "source": [
    "np.mean(players_BMI)"
   ]
  },
  {
   "cell_type": "code",
   "execution_count": 117,
   "id": "ec23fb6f",
   "metadata": {},
   "outputs": [
    {
     "name": "stdout",
     "output_type": "stream",
     "text": [
      "[1,2,34,4]\n",
      "3\n",
      "2\n",
      "[]\n"
     ]
    }
   ],
   "source": [
    "import ast \n",
    "input_list=ast.literal_eval(input())\n",
    "m=int(input())\n",
    "n=int(input())\n",
    "\n",
    "array_1 = np.array([input_list])\n",
    "print(array_1[(array_1 >m) & (array_1 < n)])\n"
   ]
  },
  {
   "cell_type": "code",
   "execution_count": 123,
   "id": "8d188bc6",
   "metadata": {},
   "outputs": [],
   "source": [
    "# You are provided with 2 lists that contain the data of an ecommerce website. \n",
    "# The first list contains the data for the number of items sold for a particular product and\n",
    "# the second list contains the price of the product sold.\n",
    "# As a part of this exercise, solve the questions that are provided below.\n",
    "\n",
    "number = [8, 9, 9, 1, 6, 9, 5, 7, 3, 9, 7, 3, 4, 8, 3, 5, 8, 4, 8, 7, 5, 7, 3, 6, 1, 2, 7, 4, 7, 7, 8, 4, 3, 4, 2, 2, 2, 7, 3, 5, 6, 1, 1, 3, 2, 1, 1, 7, 7, 1, 4, 4, 5, 6, 1, 2, 7, 4, 5, 8, 1, 4, 8, 6, 2, 4, 3, 7, 3, 6, 2, 3, 3, 3, 2, 4, 6, 8, 9, 3, 9, 3, 1, 8, 6, 6, 3, 3, 9, 4, 6, 4, 9, 6, 7, 1, 2, 8, 7, 8, 1, 4]\n",
    "price = [195, 225, 150, 150, 90, 60, 75, 255, 270, 225, 135, 195, 30, 15, 210, 105, 15, 30, 180, 60, 165, 60, 45, 225, 180, 90, 30, 210, 150, 15, 270, 60, 210, 180, 60, 225, 150, 150, 120, 195, 75, 240, 60, 45, 30, 180, 240, 285, 135, 165, 180, 240, 60, 105, 165, 240, 120, 45, 120, 165, 285, 225, 90, 105, 225, 45, 45, 45, 75, 180, 90, 240, 30, 30, 60, 135, 180, 15, 255, 180, 270, 135, 105, 135, 210, 180, 135, 195, 225, 75, 225, 15, 240, 60, 15, 180, 255, 90, 15, 150, 230, 150]\n"
   ]
  },
  {
   "cell_type": "code",
   "execution_count": 152,
   "id": "ac594c21",
   "metadata": {},
   "outputs": [],
   "source": [
    "number = np.array(number)\n",
    "price = np.array(price)"
   ]
  },
  {
   "cell_type": "code",
   "execution_count": 124,
   "id": "dd3bc50e",
   "metadata": {},
   "outputs": [
    {
     "data": {
      "text/plain": [
       "102"
      ]
     },
     "execution_count": 124,
     "metadata": {},
     "output_type": "execute_result"
    }
   ],
   "source": [
    "# How many different products are sold by the company in total?\n",
    "\n",
    "len(price)"
   ]
  },
  {
   "cell_type": "code",
   "execution_count": 125,
   "id": "dd519d67",
   "metadata": {},
   "outputs": [
    {
     "data": {
      "text/plain": [
       "490"
      ]
     },
     "execution_count": 125,
     "metadata": {},
     "output_type": "execute_result"
    }
   ],
   "source": [
    "# How many items were sold in total?\n",
    "\n",
    "np.sum(number)"
   ]
  },
  {
   "cell_type": "code",
   "execution_count": 126,
   "id": "f6061572",
   "metadata": {},
   "outputs": [
    {
     "data": {
      "text/plain": [
       "139.01960784313727"
      ]
     },
     "execution_count": 126,
     "metadata": {},
     "output_type": "execute_result"
    }
   ],
   "source": [
    "# What is the average price of the products sold by the ecommerce company?\n",
    "\n",
    "np.mean(price)"
   ]
  },
  {
   "cell_type": "code",
   "execution_count": 127,
   "id": "03b70e51",
   "metadata": {},
   "outputs": [
    {
     "data": {
      "text/plain": [
       "285"
      ]
     },
     "execution_count": 127,
     "metadata": {},
     "output_type": "execute_result"
    }
   ],
   "source": [
    "# What is the price of the costliest item sold?\n",
    "\n",
    "max(price)"
   ]
  },
  {
   "cell_type": "code",
   "execution_count": 130,
   "id": "25b45181",
   "metadata": {},
   "outputs": [
    {
     "data": {
      "text/plain": [
       "67100"
      ]
     },
     "execution_count": 130,
     "metadata": {},
     "output_type": "execute_result"
    }
   ],
   "source": [
    "# What is the total revenue of the company? [Revenue = Price*Quantity]\n",
    "\n",
    "sum(np.array(number)*np.array(price)) #The revenue of the company will be the sum of (price * quantity) for each product sold."
   ]
  },
  {
   "cell_type": "code",
   "execution_count": 258,
   "id": "7ad324c8",
   "metadata": {},
   "outputs": [
    {
     "data": {
      "text/plain": [
       "True"
      ]
     },
     "execution_count": 258,
     "metadata": {},
     "output_type": "execute_result"
    }
   ],
   "source": [
    "# Demand for the 20th product on the list is higher than that for the 50th product. [True/False]\n",
    "\n",
    "number[19] > number[49] \n"
   ]
  },
  {
   "cell_type": "code",
   "execution_count": 155,
   "id": "89309246",
   "metadata": {},
   "outputs": [
    {
     "data": {
      "text/plain": [
       "52"
      ]
     },
     "execution_count": 155,
     "metadata": {},
     "output_type": "execute_result"
    }
   ],
   "source": [
    "# How many products fall under the category of expensive goods?\n",
    "# An expensive good is one whose price is higher than the average price of the products sold by the company.\n",
    "len(price[price > np.mean(price)])\n"
   ]
  },
  {
   "cell_type": "code",
   "execution_count": 167,
   "id": "36c445f1",
   "metadata": {},
   "outputs": [
    {
     "data": {
      "text/plain": [
       "215"
      ]
     },
     "execution_count": 167,
     "metadata": {},
     "output_type": "execute_result"
    }
   ],
   "source": [
    "# Players list contain the height(inches) and weight(lbs) data for all the players\n",
    "# list of height and weight of the players.\n",
    "players = [(74, 180), (74, 215), (72, 210), (72, 210), (73, 188), (69, 176), (69, 209), (71, 200), (76, 231), (71, 180), (73, 188), (73, 180), (74, 185), (74, 160), (69, 180), (70, 185), (73, 189), (75, 185), (78, 219), (79, 230), (76, 205), (74, 230), (76, 195), (72, 180), (71, 192), (75, 225), (77, 203), (74, 195), (73, 182), (74, 188), (78, 200), (73, 180), (75, 200), (73, 200), (75, 245), (75, 240), (74, 215), (69, 185), (71, 175), (74, 199), (73, 200), (73, 215), (76, 200), (74, 205), (74, 206), (70, 186), (72, 188), (77, 220), (74, 210), (70, 195), (73, 200), (75, 200), (76, 212), (76, 224), (78, 210), (74, 205), (74, 220), (76, 195), (77, 200), (81, 260), (78, 228), (75, 270), (77, 200), (75, 210), (76, 190), (74, 220), (72, 180), (72, 205), (75, 210), (73, 220), (73, 211), (73, 200), (70, 180), (70, 190), (70, 170), (76, 230), (68, 155), (71, 185), (72, 185), (75, 200), (75, 225), (75, 225), (75, 220), (68, 160), (74, 205), (78, 235), (71, 250), (73, 210), (76, 190), (74, 160), (74, 200), (79, 205), (75, 222), (73, 195), (76, 205), (74, 220), (74, 220), (73, 170), (72, 185), (74, 195), (73, 220), (74, 230), (72, 180), (73, 220), (69, 180), (72, 180), (73, 170), (75, 210), (75, 215), (73, 200), (72, 213), (72, 180), (76, 192), (74, 235), (72, 185), (77, 235), (74, 210), (77, 222), (75, 210), (76, 230), (80, 220), (74, 180), (74, 190), (75, 200), (78, 210), (73, 194), (73, 180), (74, 190), (75, 240), (76, 200), (71, 198), (73, 200), (74, 195), (76, 210), (76, 220), (74, 190), (73, 210), (74, 225), (70, 180), (72, 185), (73, 170), (73, 185), (73, 185), (73, 180), (71, 178), (74, 175), (74, 200), (72, 204), (74, 211), (71, 190), (74, 210), (73, 190), (75, 190), (75, 185), (79, 290), (73, 175), (75, 185), (76, 200), (74, 220), (76, 170), (78, 220), (74, 190), (76, 220), (72, 205), (74, 200), (76, 250), (74, 225), (75, 215), (78, 210), (75, 215), (72, 195), (74, 200), (72, 194), (74, 220), (70, 180), (71, 180), (70, 170), (75, 195), (71, 180), (71, 170), (73, 206), (72, 205), (71, 200), (73, 225), (72, 201), (75, 225), (74, 233), (74, 180), (75, 225), (73, 180), (77, 220), (73, 180), (76, 237), (75, 215), (74, 190), (76, 235), (75, 190), (73, 180), (71, 165), (76, 195), (75, 200), (72, 190), (71, 190), (77, 185), (73, 185), (74, 205), (71, 190), (72, 205), (74, 206), (75, 220), (73, 208), (72, 170), (75, 195), (75, 210), (74, 190), (72, 211), (74, 230), (71, 170), (70, 185), (74, 185), (77, 241), (77, 225), (75, 210), (75, 175), (78, 230), (75, 200), (76, 215), (73, 198), (75, 226), (75, 278), (79, 215), (77, 230), (76, 240), (71, 184), (75, 219), (74, 170), (69, 218), (71, 190), (76, 225), (72, 220), (72, 176), (70, 190), (72, 197), (73, 204), (71, 167), (72, 180), (71, 195), (73, 220), (72, 215), (73, 185), (74, 190), (74, 205), (72, 205), (75, 200), (74, 210), (74, 215), (77, 200), (75, 205), (73, 211), (72, 190), (71, 208), (74, 200), (77, 210), (75, 232), (75, 230), (75, 210), (78, 220), (78, 210), (74, 202), (76, 212), (78, 225), (76, 170), (70, 190), (72, 200), (80, 237), (74, 220), (74, 170), (71, 193), (70, 190), (72, 150), (71, 220), (74, 200), (71, 190), (72, 185), (71, 185), (74, 200), (69, 172), (76, 220), (75, 225), (75, 190), (76, 195), (73, 219), (76, 190), (73, 197), (77, 200), (73, 195), (72, 210), (72, 177), (77, 220), (77, 235), (71, 180), (74, 195), (74, 195), (73, 190), (78, 230), (75, 190), (73, 200), (70, 190), (74, 190), (72, 200), (73, 200), (73, 184), (75, 200), (75, 180), (74, 219), (76, 187), (73, 200), (74, 220), (75, 205), (75, 190), (72, 170), (73, 160), (73, 215), (72, 175), (74, 205), (78, 200), (76, 214), (73, 200), (74, 190), (75, 180), (70, 205), (75, 220), (71, 190), (72, 215), (78, 235), (75, 191), (73, 200), (73, 181), (71, 200), (75, 210), (77, 240), (72, 185), (69, 165), (73, 190), (74, 185), (72, 175), (70, 155), (75, 210), (70, 170), (72, 175), (72, 220), (74, 210), (73, 205), (74, 200), (76, 205), (75, 195), (80, 240), (72, 150), (75, 200), (73, 215), (74, 202), (74, 200), (73, 190), (75, 205), (75, 190), (71, 160), (73, 215), (75, 185), (74, 200), (74, 190), (72, 210), (74, 185), (74, 220), (74, 190), (73, 202), (76, 205), (75, 220), (72, 175), (73, 160), (73, 190), (73, 200), (72, 229), (72, 206), (72, 220), (72, 180), (71, 195), (75, 175), (75, 188), (74, 230), (73, 190), (75, 200), (79, 190), (74, 219), (76, 235), (73, 180), (74, 180), (74, 180), (72, 200), (74, 234), (74, 185), (75, 220), (78, 223), (74, 200), (74, 210), (74, 200), (77, 210), (70, 190), (73, 177), (74, 227), (73, 180), (71, 195), (75, 199), (71, 175), (72, 185), (77, 240), (74, 210), (70, 180), (77, 194), (73, 225), (72, 180), (76, 205), (71, 193), (76, 230), (78, 230), (75, 220), (73, 200), (78, 249), (74, 190), (79, 208), (75, 245), (76, 250), (72, 160), (75, 192), (75, 220), (70, 170), (72, 197), (70, 155), (74, 190), (71, 200), (76, 220), (73, 210), (76, 228), (71, 190), (69, 160), (72, 184), (72, 180), (69, 180), (73, 200), (69, 176), (73, 160), (74, 222), (74, 211), (72, 195), (71, 200), (72, 175), (72, 206), (76, 240), (76, 185), (76, 260), (74, 185), (76, 221), (75, 205), (71, 200), (72, 170), (71, 201), (73, 205), (75, 185), (76, 205), (75, 245), (71, 220), (75, 210), (74, 220), (72, 185), (73, 175), (73, 170), (73, 180), (73, 200), (76, 210), (72, 175), (76, 220), (73, 206), (73, 180), (73, 210), (75, 195), (75, 200), (77, 200), (73, 164), (72, 180), (75, 220), (70, 195), (74, 205), (72, 170), (80, 240), (71, 210), (71, 195), (74, 200), (74, 205), (73, 192), (75, 190), (76, 170), (73, 240), (77, 200), (72, 205), (73, 175), (77, 250), (76, 220), (71, 224), (75, 210), (73, 195), (74, 180), (77, 245), (71, 175), (72, 180), (73, 215), (69, 175), (73, 180), (70, 195), (74, 230), (76, 230), (73, 205), (73, 215), (75, 195), (73, 180), (79, 205), (74, 180), (73, 190), (74, 180), (77, 190), (75, 190), (74, 220), (73, 210), (77, 255), (73, 190), (77, 230), (74, 200), (74, 205), (73, 210), (77, 225), (74, 215), (77, 220), (75, 205), (77, 200), (75, 220), (71, 197), (74, 225), (70, 187), (79, 245), (72, 185), (72, 185), (70, 175), (74, 200), (74, 180), (72, 188), (73, 225), (72, 200), (74, 210), (74, 245), (76, 213), (82, 231), (74, 165), (74, 228), (70, 210), (73, 250), (73, 191), (74, 190), (77, 200), (72, 215), (76, 254), (73, 232), (73, 180), (72, 215), (74, 220), (74, 180), (71, 200), (72, 170), (75, 195), (74, 210), (74, 200), (77, 220), (70, 165), (71, 180), (73, 200), (76, 200), (71, 170), (75, 224), (74, 220), (72, 180), (76, 198), (79, 240), (76, 239), (73, 185), (76, 210), (78, 220), (75, 200), (76, 195), (72, 220), (72, 230), (73, 170), (73, 220), (75, 230), (71, 165), (76, 205), (70, 192), (75, 210), (74, 205), (75, 200), (73, 210), (71, 185), (71, 195), (72, 202), (73, 205), (73, 195), (72, 180), (69, 200), (73, 185), (78, 240), (71, 185), (73, 220), (75, 205), (76, 205), (70, 180), (74, 201), (77, 190), (75, 208), (79, 240), (72, 180), (77, 230), (73, 195), (75, 215), (75, 190), (75, 195), (73, 215), (73, 215), (76, 220), (77, 220), (75, 230), (70, 195), (71, 190), (71, 195), (75, 209), (74, 204), (69, 170), (70, 185), (75, 205), (72, 175), (75, 210), (73, 190), (72, 180), (72, 180), (72, 160), (76, 235), (75, 200), (74, 210), (69, 180), (73, 190), (72, 197), (72, 203), (75, 205), (77, 170), (76, 200), (80, 250), (77, 200), (76, 220), (79, 200), (71, 190), (75, 170), (73, 190), (76, 220), (77, 215), (73, 206), (76, 215), (70, 185), (75, 235), (73, 188), (75, 230), (70, 195), (69, 168), (71, 190), (72, 160), (72, 200), (73, 200), (70, 189), (70, 180), (73, 190), (76, 200), (75, 220), (72, 187), (73, 240), (79, 190), (71, 180), (72, 185), (74, 210), (74, 220), (74, 219), (72, 190), (76, 193), (76, 175), (72, 180), (72, 215), (71, 210), (72, 200), (72, 190), (70, 185), (77, 220), (74, 170), (72, 195), (76, 205), (71, 195), (76, 210), (71, 190), (73, 190), (70, 180), (73, 220), (73, 190), (72, 186), (71, 185), (71, 190), (71, 180), (72, 190), (72, 170), (74, 210), (74, 240), (74, 220), (71, 180), (72, 210), (75, 210), (72, 195), (71, 160), (72, 180), (72, 205), (72, 200), (72, 185), (74, 245), (74, 190), (77, 210), (75, 200), (73, 200), (75, 222), (73, 215), (76, 240), (72, 170), (77, 220), (75, 156), (72, 190), (71, 202), (71, 221), (75, 200), (72, 190), (73, 210), (73, 190), (71, 200), (70, 165), (75, 190), (71, 185), (76, 230), (73, 208), (68, 209), (71, 175), (72, 180), (74, 200), (77, 205), (72, 200), (76, 250), (78, 210), (81, 230), (72, 244), (73, 202), (76, 240), (72, 200), (72, 215), (74, 177), (76, 210), (73, 170), (76, 215), (75, 217), (70, 198), (71, 200), (74, 220), (72, 170), (73, 200), (76, 230), (76, 231), (73, 183), (71, 192), (68, 167), (71, 190), (71, 180), (74, 180), (77, 215), (69, 160), (72, 205), (76, 223), (75, 175), (76, 170), (75, 190), (76, 240), (72, 175), (74, 230), (76, 223), (74, 196), (72, 167), (75, 195), (78, 190), (77, 250), (70, 190), (72, 190), (79, 190), (74, 170), (71, 160), (68, 150), (77, 225), (75, 220), (71, 209), (72, 210), (70, 176), (72, 260), (72, 195), (73, 190), (72, 184), (74, 180), (72, 195), (72, 195), (75, 219), (72, 225), (73, 212), (74, 202), (72, 185), (78, 200), (75, 209), (72, 200), (74, 195), (75, 228), (75, 210), (76, 190), (74, 212), (74, 190), (73, 218), (74, 220), (71, 190), (74, 235), (75, 210), (76, 200), (74, 188), (76, 210), (76, 235), (73, 188), (75, 215), (75, 216), (74, 220), (68, 180), (72, 185), (75, 200), (71, 210), (70, 220), (72, 185), (73, 231), (72, 210), (75, 195), (74, 200), (70, 205), (76, 200), (71, 190), (82, 250), (72, 185), (73, 180), (74, 170), (71, 180), (75, 208), (77, 235), (72, 215), (74, 244), (72, 220), (73, 185), (78, 230), (77, 190), (73, 200), (73, 180), (73, 190), (73, 196), (73, 180), (76, 230), (75, 224), (70, 160), (73, 178), (72, 205), (73, 185), (75, 210), (74, 180), (73, 190), (73, 200), (76, 257), (73, 190), (75, 220), (70, 165), (77, 205), (72, 200), (77, 208), (74, 185), (75, 215), (75, 170), (75, 235), (75, 210), (72, 170), (74, 180), (71, 170), (76, 190), (71, 150), (75, 230), (76, 203), (83, 260), (75, 246), (74, 186), (76, 210), (72, 198), (72, 210), (75, 215), (75, 180), (72, 200), (77, 245), (73, 200), (72, 192), (70, 192), (74, 200), (72, 192), (74, 205), (72, 190), (71, 186), (70, 170), (71, 197), (76, 219), (74, 200), (76, 220), (74, 207), (74, 225), (74, 207), (75, 212), (75, 225), (71, 170), (71, 190), (74, 210), (77, 230), (71, 210), (74, 200), (75, 238), (77, 234), (76, 222), (74, 200), (76, 190), (72, 170), (71, 220), (72, 223), (75, 210), (73, 215), (68, 196), (72, 175), (69, 175), (73, 189), (73, 205), (75, 210), (70, 180), (70, 180), (74, 197), (75, 220), (74, 228), (74, 190), (73, 204), (74, 165), (75, 216), (77, 220), (73, 208), (74, 210), (76, 215), (74, 195), (75, 200), (73, 215), (76, 229), (78, 240), (75, 207), (73, 205), (77, 208), (74, 185), (72, 190), (74, 170), (72, 208), (71, 225), (73, 190), (75, 225), (73, 185), (67, 180), (67, 165), (76, 240), (74, 220), (73, 212), (70, 163), (75, 215), (70, 175), (72, 205), (77, 210), (79, 205), (78, 208), (74, 215), (75, 180), (75, 200), (78, 230), (76, 211), (75, 230), (69, 190), (75, 220), (72, 180), (75, 205), (73, 190), (74, 180), (75, 205), (75, 190), (73, 195)]\n",
    "\n",
    "# players[1][1]\n",
    "\n",
    "# we can write this in the form of 2d array\n",
    "np.array(players).ndim\n",
    "np.array(players).dtype # harek item/element ko dtype\n",
    "np.array(players).itemsize # harek item ko size\n",
    "np.array(players).size # len ni garna mil6\n",
    "np.array(players).shape # It represents the shape of an array as the number of elements in each dimension.\n",
    "np.array(players)[1][1]"
   ]
  },
  {
   "cell_type": "code",
   "execution_count": 177,
   "id": "b8094505",
   "metadata": {
    "scrolled": true
   },
   "outputs": [
    {
     "data": {
      "text/plain": [
       "array([[ 1.8796, 81.54  ],\n",
       "       [ 1.8796, 97.395 ],\n",
       "       [ 1.8288, 95.13  ],\n",
       "       ...,\n",
       "       [ 1.905 , 92.865 ],\n",
       "       [ 1.905 , 86.07  ],\n",
       "       [ 1.8542, 88.335 ]])"
      ]
     },
     "execution_count": 177,
     "metadata": {},
     "output_type": "execute_result"
    }
   ],
   "source": [
    "# Similar to 1D arrays, nD arrays can also operate on individual elements without using list comprehensions or loops.\n",
    "\n",
    "# convert all the heights in meters to inches\n",
    "\n",
    "# broadcasting\n",
    "np.array(players) * 4 # multiply the array with a single value\n",
    "\n",
    "np.array(players) * [0.0254, 0.453] # multiply the array with a list, matrix multiplication by broadcasting 1x2 to 2x2\n",
    "np.array(players) * [[0.0254, 0.453]] # same result din6"
   ]
  },
  {
   "cell_type": "code",
   "execution_count": null,
   "id": "d5b9fd93",
   "metadata": {},
   "outputs": [],
   "source": [
    "# NOTE: 2d array ma jatti ni columns hunasak6"
   ]
  },
  {
   "cell_type": "code",
   "execution_count": 191,
   "id": "b515b2e9",
   "metadata": {},
   "outputs": [
    {
     "data": {
      "text/plain": [
       "1.9811999999999999"
      ]
     },
     "execution_count": 191,
     "metadata": {},
     "output_type": "execute_result"
    }
   ],
   "source": [
    "# To get an item in 2d array\n",
    "np.array(players)[2,1].ndim # gives us a 1d array\n",
    "\n",
    "# to get an entire column with all the rows\n",
    "np.array(players)[:, 0] # gives us a 1d array\n",
    "\n",
    "# to get an entire row\n",
    "np.array(players)[4] # gives us a 1d array\n",
    "\n",
    "# to get the height of the 125th player\n",
    "\n",
    "(np.array(players) * [0.0254, 0.453])[124][0]\n",
    "(np.array(players) * [0.0254, 0.453])[124,0]"
   ]
  },
  {
   "cell_type": "code",
   "execution_count": 222,
   "id": "773d9b40",
   "metadata": {},
   "outputs": [
    {
     "name": "stdout",
     "output_type": "stream",
     "text": [
      "[[1 4 1 3 4]\n",
      " [2 2 1 1 4]\n",
      " [3 1 2 2 1]\n",
      " [1 3 1 2 2]\n",
      " [3 1 3 3 1]\n",
      " [3 2 2 4 4]\n",
      " [4 1 4 4 2]\n",
      " [2 1 4 3 4]\n",
      " [4 2 3 1 3]\n",
      " [3 2 3 2 2]]\n"
     ]
    },
    {
     "data": {
      "text/plain": [
       "array([1, 4, 1, 3, 4])"
      ]
     },
     "execution_count": 222,
     "metadata": {},
     "output_type": "execute_result"
    }
   ],
   "source": [
    "np.random.randint(1, 5, size=(10,3)).shape\n",
    "arr2 = np.random.randint(1, 5, size=(10,5))\n",
    "print(arr2)\n",
    "# arr2[:, :3]\n",
    "arr2[0]"
   ]
  },
  {
   "cell_type": "code",
   "execution_count": 224,
   "id": "4ca3cad3",
   "metadata": {},
   "outputs": [
    {
     "data": {
      "text/plain": [
       "array([1, 4, 1, 3, 4])"
      ]
     },
     "execution_count": 224,
     "metadata": {},
     "output_type": "execute_result"
    }
   ],
   "source": [
    "col_first = arr2[:, 0]\n",
    "row_first = arr2[0]\n",
    "col_last = arr2[:, -1]\n",
    "row_last = arr2[-1]\n",
    "\n",
    "# col_first\n",
    "row_first\n",
    "# row_last\n",
    "# col_first"
   ]
  },
  {
   "cell_type": "code",
   "execution_count": 236,
   "id": "786369ec",
   "metadata": {},
   "outputs": [
    {
     "data": {
      "text/plain": [
       "(1015, 2)"
      ]
     },
     "execution_count": 236,
     "metadata": {},
     "output_type": "execute_result"
    }
   ],
   "source": [
    "import pandas as pd\n",
    "\n",
    "players_converted = np.array(players) * [[0.0254, 0.453]] \n",
    "players_converted\n",
    "players_converted.shape\n",
    "\n",
    "# just to visualize lets use dataframes\n",
    "# players_converted_df = pd.DataFrame(players_converted, columns = ['heights', 'weights'])\n",
    "# players_converted_df\n",
    "\n",
    "# conditional subsetting le 1d array din6 sadhai\n",
    "# conditionle boolean mask din6 jaslai arrayma as an index diera filter out garna mil6 satisfy gareko array elements harumatrai\n",
    "# yo condition tei array ma ni launa mil6 ya chuttai arko array ma ni launa mil6\n",
    "# ie. 1st array lai boolean mask garera tei array ma as an index dina ni mil6 ya 2nd array ma as an index dina ni milxa\n",
    "# conditional subsetting/bolean masking dui types ko cha: \n",
    "# 1. euta same array ma garne\n",
    "# 2. duita chutta chuttai arrays ma\n",
    "\n",
    "# 1st ko example heraum \n",
    "# the 1st column is the height and the 2nd column is weight\n",
    "# to get the players whose height is greater than 1.8\n",
    "players_converted[players_converted[:,0]>1.8]\n",
    "players_converted[players_converted[:,0]>1.8].shape\n",
    "players_converted.shape \n",
    "# so out of 1015, 936 have height>1.8"
   ]
  },
  {
   "cell_type": "code",
   "execution_count": 259,
   "id": "52a9a20b",
   "metadata": {},
   "outputs": [
    {
     "data": {
      "text/plain": [
       "array([[  1.8796,  97.395 ],\n",
       "       [  1.8542,  85.164 ],\n",
       "       [  1.7526,  94.677 ],\n",
       "       [  1.8034,  90.6   ],\n",
       "       [  1.9304, 104.643 ],\n",
       "       [  1.8542,  85.164 ],\n",
       "       [  1.8542,  81.54  ],\n",
       "       [  1.778 ,  83.805 ],\n",
       "       [  2.0066, 104.19  ],\n",
       "       [  1.8288,  81.54  ],\n",
       "       [  1.8034,  86.976 ],\n",
       "       [  1.905 , 101.925 ],\n",
       "       [  1.9558,  91.959 ],\n",
       "       [  1.8542,  82.446 ],\n",
       "       [  1.905 , 110.985 ],\n",
       "       [  1.8796,  97.395 ],\n",
       "       [  1.8034,  79.275 ],\n",
       "       [  1.8542,  90.6   ],\n",
       "       [  1.8796,  92.865 ],\n",
       "       [  1.9304,  88.335 ],\n",
       "       [  1.905 ,  95.13  ],\n",
       "       [  1.9304,  86.07  ],\n",
       "       [  1.8288,  81.54  ],\n",
       "       [  1.905 ,  95.13  ],\n",
       "       [  1.8542,  99.66  ],\n",
       "       [  1.778 ,  81.54  ],\n",
       "       [  1.778 ,  86.07  ],\n",
       "       [  1.8034,  83.805 ],\n",
       "       [  1.8288,  83.805 ],\n",
       "       [  1.905 ,  90.6   ],\n",
       "       [  1.9812, 106.455 ],\n",
       "       [  1.8034, 113.25  ],\n",
       "       [  1.8542,  95.13  ],\n",
       "       [  1.8542,  88.335 ],\n",
       "       [  1.9304,  92.865 ],\n",
       "       [  1.8796,  99.66  ],\n",
       "       [  1.8542,  77.01  ],\n",
       "       [  1.8288,  83.805 ],\n",
       "       [  1.8542,  99.66  ],\n",
       "       [  1.8288,  81.54  ],\n",
       "       [  1.8542,  99.66  ],\n",
       "       [  1.8288,  81.54  ],\n",
       "       [  1.905 ,  95.13  ],\n",
       "       [  1.905 ,  97.395 ],\n",
       "       [  1.8288,  96.489 ],\n",
       "       [  1.8288,  81.54  ],\n",
       "       [  1.9558, 106.455 ],\n",
       "       [  1.9558, 100.566 ],\n",
       "       [  1.905 ,  95.13  ],\n",
       "       [  1.9304, 104.19  ],\n",
       "       [  2.032 ,  99.66  ],\n",
       "       [  1.905 ,  90.6   ],\n",
       "       [  1.8542,  87.882 ],\n",
       "       [  1.8796,  86.07  ],\n",
       "       [  1.905 , 108.72  ],\n",
       "       [  1.8034,  89.694 ],\n",
       "       [  1.9304,  95.13  ],\n",
       "       [  1.8796,  86.07  ],\n",
       "       [  1.8542,  77.01  ],\n",
       "       [  1.8542,  81.54  ],\n",
       "       [  1.8034,  86.07  ],\n",
       "       [  1.8542,  86.07  ],\n",
       "       [  1.8542,  79.275 ],\n",
       "       [  1.8288,  92.865 ],\n",
       "       [  1.905 ,  97.395 ],\n",
       "       [  1.778 ,  81.54  ],\n",
       "       [  1.8034,  77.01  ],\n",
       "       [  1.8288,  92.865 ],\n",
       "       [  1.905 , 101.925 ],\n",
       "       [  1.8542,  81.54  ],\n",
       "       [  1.9304, 107.361 ],\n",
       "       [  1.905 ,  97.395 ],\n",
       "       [  1.9304, 106.455 ],\n",
       "       [  1.8288,  86.07  ],\n",
       "       [  1.8542,  94.224 ],\n",
       "       [  1.905 ,  95.13  ],\n",
       "       [  1.8796,  86.07  ],\n",
       "       [  1.8034,  77.01  ],\n",
       "       [  1.9558, 101.925 ],\n",
       "       [  1.9812, 104.19  ],\n",
       "       [  1.905 , 102.378 ],\n",
       "       [  1.905 ,  99.207 ],\n",
       "       [  1.9304, 101.925 ],\n",
       "       [  1.8288,  79.728 ],\n",
       "       [  1.8288,  81.54  ],\n",
       "       [  1.8542,  99.66  ],\n",
       "       [  1.8796,  86.07  ],\n",
       "       [  1.8796,  92.865 ],\n",
       "       [  1.905 ,  92.865 ],\n",
       "       [  1.8542,  95.583 ],\n",
       "       [  1.8796,  90.6   ],\n",
       "       [  1.9558,  95.13  ],\n",
       "       [  1.9812,  99.66  ],\n",
       "       [  1.9812,  95.13  ],\n",
       "       [  1.8796,  91.506 ],\n",
       "       [  1.9812, 101.925 ],\n",
       "       [  1.8796,  99.66  ],\n",
       "       [  1.8288,  83.805 ],\n",
       "       [  1.9304,  88.335 ],\n",
       "       [  1.8542,  99.207 ],\n",
       "       [  1.8542,  88.335 ],\n",
       "       [  1.9558,  99.66  ],\n",
       "       [  1.9558, 106.455 ],\n",
       "       [  1.8034,  81.54  ],\n",
       "       [  1.9812, 104.19  ],\n",
       "       [  1.778 ,  86.07  ],\n",
       "       [  1.8796,  86.07  ],\n",
       "       [  1.8288,  90.6   ],\n",
       "       [  1.8542,  83.352 ],\n",
       "       [  1.905 ,  90.6   ],\n",
       "       [  1.8796,  99.207 ],\n",
       "       [  1.8542,  90.6   ],\n",
       "       [  1.8796,  99.66  ],\n",
       "       [  1.8542,  72.48  ],\n",
       "       [  1.9812,  90.6   ],\n",
       "       [  1.9304,  96.942 ],\n",
       "       [  1.8542,  90.6   ],\n",
       "       [  1.905 ,  81.54  ],\n",
       "       [  1.9812, 106.455 ],\n",
       "       [  1.9558, 108.72  ],\n",
       "       [  1.8288,  83.805 ],\n",
       "       [  1.7526,  74.745 ],\n",
       "       [  1.8796,  83.805 ],\n",
       "       [  1.778 ,  77.01  ],\n",
       "       [  1.8796,  95.13  ],\n",
       "       [  1.9304,  92.865 ],\n",
       "       [  1.905 ,  90.6   ],\n",
       "       [  1.8542,  86.07  ],\n",
       "       [  1.8542,  72.48  ],\n",
       "       [  1.8542,  81.54  ],\n",
       "       [  1.8796,  81.54  ],\n",
       "       [  1.8796,  90.6   ],\n",
       "       [  1.778 ,  86.07  ],\n",
       "       [  1.8796, 102.831 ],\n",
       "       [  1.905 ,  90.147 ],\n",
       "       [  1.8288,  83.805 ],\n",
       "       [  1.9558, 108.72  ],\n",
       "       [  1.8542, 101.925 ],\n",
       "       [  1.9304, 104.19  ],\n",
       "       [  1.8542,  90.6   ],\n",
       "       [  1.905 , 110.985 ],\n",
       "       [  1.8796,  86.07  ],\n",
       "       [  1.8542,  95.13  ],\n",
       "       [  1.8034,  90.6   ],\n",
       "       [  1.9304,  92.865 ],\n",
       "       [  1.905 ,  95.13  ],\n",
       "       [  1.8542,  77.01  ],\n",
       "       [  1.8542,  81.54  ],\n",
       "       [  1.9304,  95.13  ],\n",
       "       [  1.8542,  93.318 ],\n",
       "       [  1.905 ,  88.335 ],\n",
       "       [  1.905 ,  90.6   ],\n",
       "       [  1.9558,  90.6   ],\n",
       "       [  1.8796,  92.865 ],\n",
       "       [  1.8034,  95.13  ],\n",
       "       [  1.8796,  90.6   ],\n",
       "       [  1.8796,  92.865 ],\n",
       "       [  1.905 ,  86.07  ],\n",
       "       [  1.8288,  92.865 ],\n",
       "       [  1.8542,  79.275 ],\n",
       "       [  1.9304,  99.66  ],\n",
       "       [  1.9558, 110.985 ],\n",
       "       [  1.8542,  81.54  ],\n",
       "       [  1.778 ,  88.335 ],\n",
       "       [  1.8542,  97.395 ],\n",
       "       [  1.8796,  81.54  ],\n",
       "       [  1.9558,  86.07  ],\n",
       "       [  1.905 ,  86.07  ],\n",
       "       [  1.8542,  95.13  ],\n",
       "       [  1.9558, 115.515 ],\n",
       "       [  1.9558, 104.19  ],\n",
       "       [  1.8796,  92.865 ],\n",
       "       [  1.8796,  97.395 ],\n",
       "       [  1.905 ,  99.66  ],\n",
       "       [  1.8034,  89.241 ],\n",
       "       [  1.778 ,  84.711 ],\n",
       "       [  2.0066, 110.985 ],\n",
       "       [  1.8796,  90.6   ],\n",
       "       [  1.8288,  90.6   ],\n",
       "       [  2.0828, 104.643 ],\n",
       "       [  1.8796,  74.745 ],\n",
       "       [  1.8796, 103.284 ],\n",
       "       [  1.8288,  97.395 ],\n",
       "       [  1.9304, 115.062 ],\n",
       "       [  1.8542,  81.54  ],\n",
       "       [  1.8288,  97.395 ],\n",
       "       [  1.8288,  77.01  ],\n",
       "       [  1.778 ,  74.745 ],\n",
       "       [  1.8034,  77.01  ],\n",
       "       [  1.905 , 101.472 ],\n",
       "       [  1.9304, 108.267 ],\n",
       "       [  1.9304,  95.13  ],\n",
       "       [  1.9812,  99.66  ],\n",
       "       [  1.905 ,  90.6   ],\n",
       "       [  1.9304,  88.335 ],\n",
       "       [  1.8288, 104.19  ],\n",
       "       [  1.8542,  99.66  ],\n",
       "       [  1.778 ,  86.976 ],\n",
       "       [  1.8796,  92.865 ],\n",
       "       [  1.8542,  92.865 ],\n",
       "       [  1.8542,  83.805 ],\n",
       "       [  1.905 ,  92.865 ],\n",
       "       [  1.778 ,  81.54  ],\n",
       "       [  2.0066, 108.72  ],\n",
       "       [  1.905 ,  97.395 ],\n",
       "       [  1.905 ,  88.335 ],\n",
       "       [  1.8542,  97.395 ],\n",
       "       [  1.778 ,  88.335 ],\n",
       "       [  1.8034,  88.335 ],\n",
       "       [  1.905 ,  95.13  ],\n",
       "       [  1.8288,  81.54  ],\n",
       "       [  1.8288,  81.54  ],\n",
       "       [  1.9304, 106.455 ],\n",
       "       [  1.905 ,  90.6   ],\n",
       "       [  1.7526,  81.54  ],\n",
       "       [  1.8288,  91.959 ],\n",
       "       [  1.9304,  90.6   ],\n",
       "       [  1.8034,  86.07  ],\n",
       "       [  1.905 ,  77.01  ],\n",
       "       [  1.9558,  97.395 ],\n",
       "       [  1.778 ,  81.54  ],\n",
       "       [  1.8288,  84.711 ],\n",
       "       [  1.8034,  81.54  ],\n",
       "       [  1.8796,  95.13  ],\n",
       "       [  1.9304,  87.429 ],\n",
       "       [  1.8288,  90.6   ],\n",
       "       [  1.8796,  77.01  ],\n",
       "       [  1.8288,  88.335 ],\n",
       "       [  1.8034,  86.07  ],\n",
       "       [  1.778 ,  81.54  ],\n",
       "       [  1.8288,  77.01  ],\n",
       "       [  1.8796,  95.13  ],\n",
       "       [  1.8796,  99.66  ],\n",
       "       [  1.905 ,  95.13  ],\n",
       "       [  1.8796, 110.985 ],\n",
       "       [  1.8034, 100.113 ],\n",
       "       [  1.8034,  83.805 ],\n",
       "       [  1.9304, 104.19  ],\n",
       "       [  1.8034,  79.275 ],\n",
       "       [  1.8796,  90.6   ],\n",
       "       [  1.8288,  90.6   ],\n",
       "       [  1.9304, 113.25  ],\n",
       "       [  1.9812,  95.13  ],\n",
       "       [  1.8288,  97.395 ],\n",
       "       [  1.9304,  97.395 ],\n",
       "       [  1.778 ,  89.694 ],\n",
       "       [  1.7272,  75.651 ],\n",
       "       [  1.8034,  86.07  ],\n",
       "       [  1.9558,  97.395 ],\n",
       "       [  1.7526,  72.48  ],\n",
       "       [  1.905 ,  79.275 ],\n",
       "       [  1.905 ,  86.07  ],\n",
       "       [  1.9304, 108.72  ],\n",
       "       [  1.8288,  79.275 ],\n",
       "       [  1.9558, 113.25  ],\n",
       "       [  1.778 ,  86.07  ],\n",
       "       [  2.0066,  86.07  ],\n",
       "       [  1.8796,  77.01  ],\n",
       "       [  1.7272,  67.95  ],\n",
       "       [  1.905 ,  99.66  ],\n",
       "       [  1.8288, 117.78  ],\n",
       "       [  1.8288,  88.335 ],\n",
       "       [  1.8542,  86.07  ],\n",
       "       [  1.8796,  81.54  ],\n",
       "       [  1.8288,  88.335 ],\n",
       "       [  1.905 ,  99.207 ],\n",
       "       [  1.8288, 101.925 ],\n",
       "       [  1.8542,  96.036 ],\n",
       "       [  1.9304,  86.07  ],\n",
       "       [  1.8796,  96.036 ],\n",
       "       [  1.905 ,  95.13  ],\n",
       "       [  1.9304,  90.6   ],\n",
       "       [  1.8796,  99.66  ],\n",
       "       [  1.8288,  83.805 ],\n",
       "       [  1.8542, 104.643 ],\n",
       "       [  1.8288,  83.805 ],\n",
       "       [  1.8542,  81.54  ],\n",
       "       [  1.8288,  99.66  ],\n",
       "       [  1.8542,  88.788 ],\n",
       "       [  1.778 ,  72.48  ],\n",
       "       [  1.8288,  92.865 ],\n",
       "       [  1.905 ,  95.13  ],\n",
       "       [  1.8542,  90.6   ],\n",
       "       [  1.9304, 116.421 ],\n",
       "       [  1.9558,  92.865 ],\n",
       "       [  1.9558,  94.224 ],\n",
       "       [  1.905 ,  97.395 ],\n",
       "       [  1.905 ,  95.13  ],\n",
       "       [  1.9304,  91.959 ],\n",
       "       [  1.8288,  95.13  ],\n",
       "       [  1.8542,  90.6   ],\n",
       "       [  1.8796,  92.865 ],\n",
       "       [  1.8288,  86.07  ],\n",
       "       [  1.8796, 101.925 ],\n",
       "       [  1.8796,  93.771 ],\n",
       "       [  1.905 ,  96.036 ],\n",
       "       [  1.8034,  95.13  ],\n",
       "       [  1.9304,  86.07  ],\n",
       "       [  1.8542,  97.395 ],\n",
       "       [  1.7272,  88.788 ],\n",
       "       [  1.8288,  79.275 ],\n",
       "       [  1.7526,  79.275 ],\n",
       "       [  1.8542,  92.865 ],\n",
       "       [  1.905 ,  95.13  ],\n",
       "       [  1.8796,  89.241 ],\n",
       "       [  1.8796, 103.284 ],\n",
       "       [  1.8796,  86.07  ],\n",
       "       [  1.8542,  92.412 ],\n",
       "       [  1.8796,  74.745 ],\n",
       "       [  1.905 ,  97.848 ],\n",
       "       [  1.8796,  95.13  ],\n",
       "       [  1.8542,  97.395 ],\n",
       "       [  1.9304, 103.737 ],\n",
       "       [  1.9812, 108.72  ],\n",
       "       [  1.8542,  92.865 ],\n",
       "       [  1.905 , 101.925 ],\n",
       "       [  1.7018,  81.54  ],\n",
       "       [  1.778 ,  73.839 ],\n",
       "       [  1.778 ,  79.275 ],\n",
       "       [  2.0066,  92.865 ],\n",
       "       [  1.9304,  95.583 ],\n",
       "       [  1.8288,  81.54  ],\n",
       "       [  1.905 ,  92.865 ]])"
      ]
     },
     "execution_count": 259,
     "metadata": {},
     "output_type": "execute_result"
    }
   ],
   "source": [
    "# 2nd ko example heraum\n",
    "# another numpy array that holds the skills of each player\n",
    "skills = np.array(['Keeper', 'Batsman', 'Bowler', 'Keeper-Batsman', 'Batsman', 'Keeper-Batsman', 'Batsman', 'Batsman', 'Batsman', 'Bowler', 'Batsman', 'Batsman', 'Bowler', 'Bowler', 'Bowler', 'Batsman', 'Keeper-Batsman', 'Bowler', 'Keeper-Batsman', 'Batsman', 'Keeper', 'Keeper-Batsman', 'Keeper-Batsman', 'Batsman', 'Batsman', 'Batsman', 'Batsman', 'Keeper-Batsman', 'Batsman', 'Keeper', 'Keeper-Batsman', 'Keeper', 'Keeper-Batsman', 'Keeper-Batsman', 'Batsman', 'Bowler', 'Batsman', 'Keeper-Batsman', 'Batsman', 'Keeper', 'Batsman', 'Keeper', 'Bowler', 'Keeper-Batsman', 'Keeper', 'Bowler', 'Keeper', 'Keeper', 'Keeper', 'Keeper', 'Bowler', 'Keeper-Batsman', 'Bowler', 'Keeper-Batsman', 'Keeper-Batsman', 'Batsman', 'Keeper-Batsman', 'Batsman', 'Keeper-Batsman', 'Keeper-Batsman', 'Keeper', 'Keeper', 'Keeper-Batsman', 'Batsman', 'Batsman', 'Keeper', 'Batsman', 'Keeper-Batsman', 'Batsman', 'Batsman', 'Keeper-Batsman', 'Keeper-Batsman', 'Batsman', 'Batsman', 'Keeper-Batsman', 'Bowler', 'Bowler', 'Batsman', 'Batsman', 'Batsman', 'Bowler', 'Keeper-Batsman', 'Keeper-Batsman', 'Bowler', 'Bowler', 'Batsman', 'Batsman', 'Batsman', 'Keeper-Batsman', 'Keeper-Batsman', 'Bowler', 'Bowler', 'Keeper-Batsman', 'Batsman', 'Batsman', 'Batsman', 'Keeper-Batsman', 'Batsman', 'Batsman', 'Keeper-Batsman', 'Batsman', 'Bowler', 'Batsman', 'Batsman', 'Keeper', 'Batsman', 'Keeper-Batsman', 'Batsman', 'Batsman', 'Keeper-Batsman', 'Batsman', 'Batsman', 'Bowler', 'Keeper', 'Keeper-Batsman', 'Batsman', 'Keeper', 'Batsman', 'Batsman', 'Batsman', 'Batsman', 'Keeper-Batsman', 'Keeper-Batsman', 'Batsman', 'Keeper-Batsman', 'Batsman', 'Keeper-Batsman', 'Batsman', 'Batsman', 'Bowler', 'Batsman', 'Keeper', 'Bowler', 'Batsman', 'Keeper-Batsman', 'Batsman', 'Keeper-Batsman', 'Keeper', 'Keeper-Batsman', 'Keeper-Batsman', 'Batsman', 'Bowler', 'Keeper', 'Batsman', 'Keeper-Batsman', 'Bowler', 'Keeper-Batsman', 'Bowler', 'Bowler', 'Batsman', 'Keeper-Batsman', 'Batsman', 'Bowler', 'Keeper', 'Keeper-Batsman', 'Batsman', 'Keeper', 'Bowler', 'Keeper-Batsman', 'Keeper-Batsman', 'Keeper-Batsman', 'Keeper', 'Keeper', 'Batsman', 'Keeper-Batsman', 'Keeper', 'Keeper-Batsman', 'Batsman', 'Keeper', 'Bowler', 'Keeper-Batsman', 'Keeper', 'Keeper', 'Keeper-Batsman', 'Batsman', 'Keeper', 'Keeper-Batsman', 'Keeper-Batsman', 'Keeper-Batsman', 'Batsman', 'Keeper-Batsman', 'Batsman', 'Keeper-Batsman', 'Keeper-Batsman', 'Bowler', 'Keeper-Batsman', 'Keeper-Batsman', 'Keeper-Batsman', 'Batsman', 'Batsman', 'Bowler', 'Keeper-Batsman', 'Batsman', 'Batsman', 'Keeper-Batsman', 'Batsman', 'Bowler', 'Bowler', 'Keeper-Batsman', 'Bowler', 'Keeper', 'Batsman', 'Bowler', 'Bowler', 'Keeper-Batsman', 'Keeper-Batsman', 'Bowler', 'Keeper-Batsman', 'Keeper', 'Keeper-Batsman', 'Batsman', 'Keeper-Batsman', 'Keeper-Batsman', 'Batsman', 'Batsman', 'Keeper', 'Keeper-Batsman', 'Batsman', 'Keeper', 'Keeper', 'Keeper-Batsman', 'Batsman', 'Keeper-Batsman', 'Keeper-Batsman', 'Batsman', 'Bowler', 'Keeper-Batsman', 'Keeper-Batsman', 'Batsman', 'Bowler', 'Bowler', 'Bowler', 'Bowler', 'Bowler', 'Batsman', 'Keeper-Batsman', 'Keeper-Batsman', 'Bowler', 'Batsman', 'Keeper', 'Batsman', 'Keeper', 'Bowler', 'Bowler', 'Keeper', 'Batsman', 'Keeper-Batsman', 'Batsman', 'Keeper-Batsman', 'Keeper-Batsman', 'Batsman', 'Batsman', 'Bowler', 'Bowler', 'Keeper-Batsman', 'Keeper-Batsman', 'Keeper-Batsman', 'Batsman', 'Batsman', 'Keeper', 'Keeper-Batsman', 'Batsman', 'Batsman', 'Keeper-Batsman', 'Keeper-Batsman', 'Keeper-Batsman', 'Batsman', 'Batsman', 'Batsman', 'Keeper-Batsman', 'Batsman', 'Bowler', 'Bowler', 'Keeper-Batsman', 'Keeper-Batsman', 'Batsman', 'Keeper', 'Bowler', 'Keeper-Batsman', 'Keeper-Batsman', 'Keeper-Batsman', 'Keeper', 'Keeper-Batsman', 'Batsman', 'Keeper-Batsman', 'Bowler', 'Bowler', 'Keeper', 'Bowler', 'Keeper-Batsman', 'Batsman', 'Batsman', 'Keeper', 'Bowler', 'Bowler', 'Batsman', 'Keeper-Batsman', 'Bowler', 'Batsman', 'Batsman', 'Batsman', 'Keeper-Batsman', 'Keeper-Batsman', 'Keeper-Batsman', 'Batsman', 'Keeper-Batsman', 'Bowler', 'Batsman', 'Batsman', 'Batsman', 'Bowler', 'Batsman', 'Batsman', 'Keeper-Batsman', 'Batsman', 'Keeper-Batsman', 'Batsman', 'Batsman', 'Bowler', 'Keeper-Batsman', 'Keeper-Batsman', 'Batsman', 'Bowler', 'Keeper-Batsman', 'Keeper-Batsman', 'Batsman', 'Batsman', 'Batsman', 'Keeper-Batsman', 'Batsman', 'Keeper-Batsman', 'Bowler', 'Keeper-Batsman', 'Keeper-Batsman', 'Batsman', 'Keeper-Batsman', 'Bowler', 'Keeper-Batsman', 'Keeper-Batsman', 'Keeper', 'Batsman', 'Batsman', 'Batsman', 'Keeper', 'Batsman', 'Bowler', 'Keeper-Batsman', 'Keeper-Batsman', 'Batsman', 'Bowler', 'Keeper', 'Batsman', 'Keeper-Batsman', 'Bowler', 'Batsman', 'Bowler', 'Bowler', 'Bowler', 'Batsman', 'Keeper', 'Bowler', 'Bowler', 'Batsman', 'Bowler', 'Keeper-Batsman', 'Keeper-Batsman', 'Keeper-Batsman', 'Bowler', 'Keeper', 'Keeper-Batsman', 'Keeper-Batsman', 'Keeper-Batsman', 'Keeper-Batsman', 'Keeper', 'Bowler', 'Keeper', 'Keeper-Batsman', 'Keeper-Batsman', 'Batsman', 'Keeper', 'Keeper-Batsman', 'Keeper-Batsman', 'Keeper-Batsman', 'Bowler', 'Keeper-Batsman', 'Keeper-Batsman', 'Keeper', 'Keeper-Batsman', 'Keeper-Batsman', 'Keeper-Batsman', 'Keeper', 'Keeper-Batsman', 'Keeper', 'Bowler', 'Batsman', 'Bowler', 'Batsman', 'Bowler', 'Keeper-Batsman', 'Keeper-Batsman', 'Keeper-Batsman', 'Keeper', 'Keeper', 'Keeper', 'Batsman', 'Bowler', 'Batsman', 'Keeper-Batsman', 'Batsman', 'Bowler', 'Keeper', 'Batsman', 'Keeper-Batsman', 'Batsman', 'Batsman', 'Keeper-Batsman', 'Bowler', 'Keeper', 'Batsman', 'Bowler', 'Keeper', 'Keeper', 'Batsman', 'Bowler', 'Bowler', 'Batsman', 'Keeper', 'Keeper', 'Keeper-Batsman', 'Batsman', 'Bowler', 'Keeper-Batsman', 'Bowler', 'Keeper-Batsman', 'Keeper-Batsman', 'Bowler', 'Keeper-Batsman', 'Batsman', 'Keeper-Batsman', 'Keeper-Batsman', 'Batsman', 'Keeper-Batsman', 'Bowler', 'Keeper', 'Keeper-Batsman', 'Keeper-Batsman', 'Keeper', 'Bowler', 'Keeper-Batsman', 'Keeper-Batsman', 'Keeper', 'Keeper-Batsman', 'Bowler', 'Batsman', 'Bowler', 'Bowler', 'Keeper', 'Keeper-Batsman', 'Bowler', 'Keeper-Batsman', 'Bowler', 'Keeper-Batsman', 'Keeper', 'Keeper-Batsman', 'Keeper-Batsman', 'Bowler', 'Bowler', 'Batsman', 'Bowler', 'Keeper', 'Batsman', 'Keeper-Batsman', 'Bowler', 'Keeper-Batsman', 'Batsman', 'Batsman', 'Keeper-Batsman', 'Batsman', 'Keeper', 'Keeper-Batsman', 'Batsman', 'Bowler', 'Bowler', 'Batsman', 'Batsman', 'Batsman', 'Keeper', 'Keeper', 'Keeper-Batsman', 'Bowler', 'Batsman', 'Keeper', 'Keeper-Batsman', 'Batsman', 'Keeper', 'Batsman', 'Batsman', 'Keeper', 'Batsman', 'Keeper-Batsman', 'Bowler', 'Keeper-Batsman', 'Batsman', 'Batsman', 'Bowler', 'Batsman', 'Keeper', 'Bowler', 'Keeper', 'Bowler', 'Batsman', 'Keeper', 'Keeper', 'Keeper-Batsman', 'Keeper-Batsman', 'Batsman', 'Batsman', 'Keeper-Batsman', 'Keeper', 'Bowler', 'Batsman', 'Keeper', 'Bowler', 'Keeper', 'Keeper-Batsman', 'Keeper-Batsman', 'Batsman', 'Batsman', 'Batsman', 'Keeper-Batsman', 'Batsman', 'Batsman', 'Keeper', 'Batsman', 'Keeper-Batsman', 'Batsman', 'Keeper-Batsman', 'Keeper', 'Batsman', 'Bowler', 'Keeper', 'Bowler', 'Batsman', 'Batsman', 'Bowler', 'Batsman', 'Batsman', 'Bowler', 'Bowler', 'Bowler', 'Batsman', 'Keeper', 'Keeper-Batsman', 'Keeper-Batsman', 'Batsman', 'Keeper-Batsman', 'Keeper', 'Keeper-Batsman', 'Batsman', 'Batsman', 'Batsman', 'Bowler', 'Keeper-Batsman', 'Bowler', 'Keeper-Batsman', 'Bowler', 'Batsman', 'Batsman', 'Keeper-Batsman', 'Batsman', 'Batsman', 'Keeper-Batsman', 'Keeper-Batsman', 'Keeper', 'Batsman', 'Bowler', 'Keeper', 'Bowler', 'Bowler', 'Batsman', 'Keeper-Batsman', 'Keeper', 'Keeper-Batsman', 'Batsman', 'Batsman', 'Keeper', 'Keeper', 'Keeper-Batsman', 'Keeper-Batsman', 'Batsman', 'Keeper-Batsman', 'Batsman', 'Batsman', 'Batsman', 'Batsman', 'Keeper', 'Batsman', 'Keeper-Batsman', 'Batsman', 'Keeper-Batsman', 'Keeper', 'Bowler', 'Batsman', 'Keeper-Batsman', 'Batsman', 'Bowler', 'Bowler', 'Keeper-Batsman', 'Keeper-Batsman', 'Keeper-Batsman', 'Batsman', 'Keeper', 'Keeper-Batsman', 'Bowler', 'Batsman', 'Keeper-Batsman', 'Bowler', 'Keeper', 'Batsman', 'Keeper-Batsman', 'Batsman', 'Keeper-Batsman', 'Bowler', 'Bowler', 'Batsman', 'Bowler', 'Keeper-Batsman', 'Keeper-Batsman', 'Batsman', 'Bowler', 'Batsman', 'Batsman', 'Bowler', 'Keeper-Batsman', 'Keeper', 'Bowler', 'Batsman', 'Keeper-Batsman', 'Batsman', 'Bowler', 'Keeper-Batsman', 'Keeper-Batsman', 'Keeper-Batsman', 'Keeper', 'Keeper-Batsman', 'Batsman', 'Keeper', 'Batsman', 'Batsman', 'Keeper', 'Batsman', 'Batsman', 'Keeper-Batsman', 'Batsman', 'Keeper-Batsman', 'Keeper-Batsman', 'Batsman', 'Keeper-Batsman', 'Bowler', 'Batsman', 'Keeper-Batsman', 'Keeper-Batsman', 'Keeper', 'Keeper-Batsman', 'Batsman', 'Batsman', 'Keeper', 'Keeper', 'Batsman', 'Keeper-Batsman', 'Keeper-Batsman', 'Bowler', 'Keeper', 'Keeper-Batsman', 'Keeper-Batsman', 'Keeper-Batsman', 'Keeper', 'Bowler', 'Bowler', 'Keeper-Batsman', 'Bowler', 'Keeper-Batsman', 'Batsman', 'Keeper-Batsman', 'Keeper-Batsman', 'Bowler', 'Batsman', 'Keeper', 'Keeper-Batsman', 'Batsman', 'Keeper-Batsman', 'Batsman', 'Bowler', 'Bowler', 'Keeper', 'Batsman', 'Keeper-Batsman', 'Bowler', 'Keeper-Batsman', 'Keeper-Batsman', 'Batsman', 'Bowler', 'Bowler', 'Keeper-Batsman', 'Batsman', 'Batsman', 'Keeper-Batsman', 'Bowler', 'Keeper-Batsman', 'Batsman', 'Bowler', 'Batsman', 'Keeper-Batsman', 'Keeper-Batsman', 'Keeper-Batsman', 'Bowler', 'Keeper', 'Keeper-Batsman', 'Keeper-Batsman', 'Batsman', 'Batsman', 'Bowler', 'Batsman', 'Bowler', 'Keeper-Batsman', 'Batsman', 'Bowler', 'Bowler', 'Keeper', 'Bowler', 'Keeper-Batsman', 'Bowler', 'Batsman', 'Bowler', 'Keeper-Batsman', 'Keeper-Batsman', 'Keeper-Batsman', 'Keeper', 'Bowler', 'Keeper-Batsman', 'Keeper-Batsman', 'Keeper-Batsman', 'Bowler', 'Bowler', 'Bowler', 'Batsman', 'Keeper', 'Keeper', 'Keeper-Batsman', 'Bowler', 'Keeper', 'Keeper-Batsman', 'Bowler', 'Batsman', 'Batsman', 'Keeper-Batsman', 'Keeper', 'Batsman', 'Bowler', 'Batsman', 'Keeper-Batsman', 'Batsman', 'Batsman', 'Batsman', 'Keeper-Batsman', 'Bowler', 'Keeper', 'Keeper', 'Keeper-Batsman', 'Batsman', 'Keeper-Batsman', 'Keeper-Batsman', 'Keeper-Batsman', 'Batsman', 'Keeper', 'Batsman', 'Keeper-Batsman', 'Keeper-Batsman', 'Keeper-Batsman', 'Bowler', 'Bowler', 'Keeper', 'Keeper-Batsman', 'Keeper-Batsman', 'Batsman', 'Batsman', 'Keeper-Batsman', 'Keeper-Batsman', 'Batsman', 'Batsman', 'Keeper-Batsman', 'Bowler', 'Batsman', 'Keeper-Batsman', 'Batsman', 'Batsman', 'Batsman', 'Bowler', 'Keeper', 'Keeper-Batsman', 'Keeper-Batsman', 'Keeper-Batsman', 'Bowler', 'Batsman', 'Batsman', 'Bowler', 'Batsman', 'Batsman', 'Keeper-Batsman', 'Batsman', 'Keeper-Batsman', 'Batsman', 'Bowler', 'Keeper-Batsman', 'Keeper-Batsman', 'Batsman', 'Batsman', 'Batsman', 'Keeper-Batsman', 'Batsman', 'Batsman', 'Keeper-Batsman', 'Batsman', 'Batsman', 'Batsman', 'Keeper-Batsman', 'Keeper-Batsman', 'Bowler', 'Keeper-Batsman', 'Bowler', 'Bowler', 'Keeper-Batsman', 'Keeper-Batsman', 'Batsman', 'Batsman', 'Bowler', 'Bowler', 'Keeper', 'Bowler', 'Keeper', 'Batsman', 'Batsman', 'Keeper', 'Keeper-Batsman', 'Keeper', 'Bowler', 'Keeper', 'Keeper-Batsman', 'Batsman', 'Keeper', 'Batsman', 'Keeper-Batsman', 'Keeper-Batsman', 'Keeper-Batsman', 'Keeper', 'Batsman', 'Keeper', 'Keeper-Batsman', 'Keeper-Batsman', 'Keeper-Batsman', 'Keeper-Batsman', 'Keeper', 'Bowler', 'Batsman', 'Batsman', 'Keeper-Batsman', 'Keeper', 'Keeper', 'Keeper', 'Keeper-Batsman', 'Keeper-Batsman', 'Batsman', 'Keeper-Batsman', 'Keeper-Batsman', 'Keeper', 'Keeper-Batsman', 'Bowler', 'Keeper-Batsman', 'Batsman', 'Keeper-Batsman', 'Keeper-Batsman', 'Keeper-Batsman', 'Batsman', 'Keeper-Batsman', 'Batsman', 'Keeper-Batsman', 'Batsman', 'Keeper-Batsman', 'Keeper-Batsman', 'Batsman', 'Batsman', 'Keeper-Batsman', 'Keeper-Batsman', 'Bowler', 'Batsman', 'Keeper-Batsman', 'Batsman', 'Bowler', 'Batsman', 'Keeper-Batsman', 'Bowler', 'Batsman', 'Keeper-Batsman', 'Keeper', 'Keeper-Batsman', 'Keeper-Batsman', 'Bowler', 'Keeper-Batsman', 'Batsman', 'Keeper-Batsman', 'Keeper', 'Bowler', 'Keeper-Batsman', 'Bowler', 'Batsman', 'Bowler', 'Bowler', 'Keeper', 'Keeper-Batsman', 'Batsman', 'Keeper-Batsman', 'Bowler', 'Keeper-Batsman', 'Bowler', 'Batsman', 'Batsman', 'Keeper-Batsman', 'Keeper-Batsman', 'Keeper-Batsman', 'Bowler', 'Keeper', 'Bowler', 'Keeper-Batsman', 'Batsman', 'Batsman', 'Batsman', 'Keeper-Batsman', 'Bowler', 'Bowler', 'Keeper-Batsman', 'Keeper-Batsman', 'Batsman', 'Keeper-Batsman', 'Keeper-Batsman', 'Keeper-Batsman', 'Keeper', 'Keeper-Batsman', 'Batsman', 'Keeper-Batsman', 'Keeper-Batsman', 'Bowler', 'Keeper-Batsman', 'Batsman', 'Batsman', 'Batsman', 'Batsman', 'Bowler', 'Batsman', 'Batsman', 'Keeper-Batsman', 'Bowler', 'Batsman', 'Keeper-Batsman', 'Batsman', 'Batsman', 'Batsman', 'Batsman', 'Batsman', 'Keeper', 'Keeper-Batsman', 'Batsman', 'Bowler', 'Keeper-Batsman', 'Keeper-Batsman', 'Batsman', 'Batsman', 'Batsman', 'Bowler', 'Batsman', 'Keeper', 'Bowler', 'Bowler', 'Keeper', 'Bowler', 'Bowler', 'Keeper', 'Batsman', 'Keeper-Batsman', 'Batsman', 'Keeper-Batsman', 'Bowler', 'Keeper-Batsman', 'Keeper-Batsman', 'Batsman', 'Keeper-Batsman', 'Batsman', 'Keeper-Batsman', 'Keeper-Batsman', 'Batsman', 'Keeper-Batsman', 'Keeper-Batsman', 'Bowler', 'Bowler', 'Bowler', 'Batsman', 'Bowler', 'Keeper-Batsman', 'Keeper-Batsman', 'Batsman', 'Bowler', 'Keeper', 'Keeper-Batsman', 'Batsman', 'Bowler', 'Keeper-Batsman'])\n",
    "skills.shape # yesko ni shape 1015 nai cha\n",
    "\n",
    "# now we want to find the heights of batsmen only\n",
    "# for that we have to concatenate the numpy arrays to a single array, tara yaha duita arraysko dimension namilne vakole\n",
    "# concatenate garna mildaina, \n",
    "# new_array = np.concatenate([players_converted, skills], axis = 0) # concatenating horizontally, adding column wise\n",
    "# new_array # yo code garna mildaina\n",
    "\n",
    "# direct garna mil6 masking batai, euta array use garera arko array ma boolean mask garne\n",
    "players_converted.shape # 1015 wata rows\n",
    "skills.shape # 1015 wata rows\n",
    "skills[skills=='Batsman'] # yo garda ni 1015 nai hun6 rows haru\n",
    "batsmen = players_converted[skills=='Batsman']\n",
    "# paila players_converted ma jancha, for each row, arko array ma gaera skills=='Batsman' condition check gar6\n",
    "batsmen # yesle True values matrai din6\n"
   ]
  },
  {
   "cell_type": "code",
   "execution_count": 669,
   "id": "e7c1f86c",
   "metadata": {},
   "outputs": [
    {
     "data": {
      "text/plain": [
       "3.141592653589793"
      ]
     },
     "execution_count": 669,
     "metadata": {},
     "output_type": "execute_result"
    }
   ],
   "source": [
    "np.pi"
   ]
  },
  {
   "cell_type": "code",
   "execution_count": 670,
   "id": "ccaf771b",
   "metadata": {},
   "outputs": [
    {
     "data": {
      "text/plain": [
       "array([0.        , 0.62831853, 1.25663706, 1.88495559, 2.51327412,\n",
       "       3.14159265])"
      ]
     },
     "execution_count": 670,
     "metadata": {},
     "output_type": "execute_result"
    }
   ],
   "source": [
    "np.linspace(0, np.pi, 6)"
   ]
  },
  {
   "cell_type": "code",
   "execution_count": 672,
   "id": "760166d9",
   "metadata": {},
   "outputs": [
    {
     "data": {
      "text/plain": [
       "array([0.00000000e+00, 5.87785252e-01, 9.51056516e-01, 9.51056516e-01,\n",
       "       5.87785252e-01, 1.22464680e-16])"
      ]
     },
     "execution_count": 672,
     "metadata": {},
     "output_type": "execute_result"
    }
   ],
   "source": [
    "np.sin(np.linspace(0, np.pi, 6)) # similarly for cos, tan"
   ]
  },
  {
   "cell_type": "code",
   "execution_count": 674,
   "id": "620635db",
   "metadata": {},
   "outputs": [
    {
     "data": {
      "text/plain": [
       "array([   2.71828183,    7.3890561 ,  148.4131591 , 1096.63315843])"
      ]
     },
     "execution_count": 674,
     "metadata": {},
     "output_type": "execute_result"
    }
   ],
   "source": [
    "np.exp([1, 2, 5,7]) # e to the power list elements, e = 2.718"
   ]
  },
  {
   "cell_type": "code",
   "execution_count": 677,
   "id": "9ded3eab",
   "metadata": {},
   "outputs": [
    {
     "data": {
      "text/plain": [
       "array([  2.,   4.,  32., 128.])"
      ]
     },
     "execution_count": 677,
     "metadata": {},
     "output_type": "execute_result"
    }
   ],
   "source": [
    "np.exp2([1, 2, 5,7]) # 2^1, 2^2, 5^5, 7^7"
   ]
  },
  {
   "cell_type": "code",
   "execution_count": 678,
   "id": "9dd2f674",
   "metadata": {},
   "outputs": [
    {
     "data": {
      "text/plain": [
       "array([0.        , 0.69314718, 1.60943791, 1.94591015])"
      ]
     },
     "execution_count": 678,
     "metadata": {},
     "output_type": "execute_result"
    }
   ],
   "source": [
    "np.log([1, 2, 5,7])"
   ]
  },
  {
   "cell_type": "code",
   "execution_count": 679,
   "id": "f37dcc4c",
   "metadata": {},
   "outputs": [
    {
     "data": {
      "text/plain": [
       "array([0.        , 1.        , 2.32192809, 2.80735492])"
      ]
     },
     "execution_count": 679,
     "metadata": {},
     "output_type": "execute_result"
    }
   ],
   "source": [
    "np.log2([1, 2, 5,7])"
   ]
  },
  {
   "cell_type": "code",
   "execution_count": 680,
   "id": "51e09ebd",
   "metadata": {},
   "outputs": [
    {
     "data": {
      "text/plain": [
       "array([0.        , 0.30103   , 0.69897   , 0.84509804])"
      ]
     },
     "execution_count": 680,
     "metadata": {},
     "output_type": "execute_result"
    }
   ],
   "source": [
    "np.log10([1, 2, 5,7])"
   ]
  },
  {
   "cell_type": "code",
   "execution_count": 681,
   "id": "e3568890",
   "metadata": {},
   "outputs": [
    {
     "data": {
      "text/plain": [
       "array([ 1,  4, 25, 49], dtype=int32)"
      ]
     },
     "execution_count": 681,
     "metadata": {},
     "output_type": "execute_result"
    }
   ],
   "source": [
    "np.power([1, 2, 5,7], 2)"
   ]
  },
  {
   "cell_type": "code",
   "execution_count": 682,
   "id": "e1041b31",
   "metadata": {},
   "outputs": [
    {
     "data": {
      "text/plain": [
       "array([  2,   4,  32, 128], dtype=int32)"
      ]
     },
     "execution_count": 682,
     "metadata": {},
     "output_type": "execute_result"
    }
   ],
   "source": [
    "np.power(2, [1, 2, 5,7])"
   ]
  },
  {
   "cell_type": "code",
   "execution_count": 683,
   "id": "0ffe41be",
   "metadata": {},
   "outputs": [
    {
     "data": {
      "text/plain": [
       "array([0., 0., 0., 0., 0., 0., 0., 0., 0., 0.])"
      ]
     },
     "execution_count": 683,
     "metadata": {},
     "output_type": "execute_result"
    }
   ],
   "source": [
    "np.zeros(10)"
   ]
  },
  {
   "cell_type": "code",
   "execution_count": 684,
   "id": "83ff8ed0",
   "metadata": {},
   "outputs": [
    {
     "data": {
      "text/plain": [
       "array([0., 0., 0., 0., 0., 0., 0., 0., 0., 0.])"
      ]
     },
     "execution_count": 684,
     "metadata": {},
     "output_type": "execute_result"
    }
   ],
   "source": [
    "np.empty(10)"
   ]
  },
  {
   "cell_type": "code",
   "execution_count": 706,
   "id": "6fd34bfb",
   "metadata": {},
   "outputs": [
    {
     "data": {
      "text/plain": [
       "array([0., 0., 0., 0.])"
      ]
     },
     "execution_count": 706,
     "metadata": {},
     "output_type": "execute_result"
    }
   ],
   "source": [
    "# power ma out garne vae jun empty array ma halne ho tesko dimension thik hunupar6\n",
    "ca1 = np.zeros(4)\n",
    "ca1"
   ]
  },
  {
   "cell_type": "code",
   "execution_count": 708,
   "id": "caf1bfe8",
   "metadata": {},
   "outputs": [
    {
     "data": {
      "text/plain": [
       "array([ 1.,  4., 25., 49.])"
      ]
     },
     "execution_count": 708,
     "metadata": {},
     "output_type": "execute_result"
    }
   ],
   "source": [
    "np.power([1, 2, 5,7], 2, out=ca1) # out gare empty list ma rakh6\n",
    "ca1"
   ]
  },
  {
   "cell_type": "code",
   "execution_count": 710,
   "id": "d1977ddd",
   "metadata": {},
   "outputs": [
    {
     "data": {
      "text/plain": [
       "array([0., 0., 0., 0.])"
      ]
     },
     "execution_count": 710,
     "metadata": {},
     "output_type": "execute_result"
    }
   ],
   "source": [
    "ca1 = np.zeros(4)\n",
    "ca1"
   ]
  },
  {
   "cell_type": "code",
   "execution_count": 709,
   "id": "79fd562e",
   "metadata": {},
   "outputs": [
    {
     "data": {
      "text/plain": [
       "array([  1.,   8., 125., 343.])"
      ]
     },
     "execution_count": 709,
     "metadata": {},
     "output_type": "execute_result"
    }
   ],
   "source": [
    "np.power([1, 2, 5,7], 3, out=ca1[::1]) # out ma step ni rakhna mil6, ra harek step ma rakh6 value\n",
    "ca1"
   ]
  },
  {
   "cell_type": "code",
   "execution_count": 711,
   "id": "df6a458d",
   "metadata": {},
   "outputs": [
    {
     "data": {
      "text/plain": [
       "15"
      ]
     },
     "execution_count": 711,
     "metadata": {},
     "output_type": "execute_result"
    }
   ],
   "source": [
    "np.sum([1, 2, 5,7])"
   ]
  },
  {
   "cell_type": "code",
   "execution_count": 712,
   "id": "d4d2eeac",
   "metadata": {},
   "outputs": [
    {
     "data": {
      "text/plain": [
       "15"
      ]
     },
     "execution_count": 712,
     "metadata": {},
     "output_type": "execute_result"
    }
   ],
   "source": [
    "sum([1, 2, 5,7])"
   ]
  },
  {
   "cell_type": "code",
   "execution_count": 714,
   "id": "2a03bff7",
   "metadata": {},
   "outputs": [
    {
     "data": {
      "text/plain": [
       "15"
      ]
     },
     "execution_count": 714,
     "metadata": {},
     "output_type": "execute_result"
    }
   ],
   "source": [
    "np.add.reduce([1, 2, 5,7]) # reduce le euta value din6"
   ]
  },
  {
   "cell_type": "code",
   "execution_count": 713,
   "id": "9f2510ae",
   "metadata": {},
   "outputs": [
    {
     "data": {
      "text/plain": [
       "array([ 1,  3,  8, 15], dtype=int32)"
      ]
     },
     "execution_count": 713,
     "metadata": {},
     "output_type": "execute_result"
    }
   ],
   "source": [
    "np.add.accumulate([1, 2, 5,7]) # accumulate le list din6 jasko last value nai reduce le nikalne value hun6\n",
    "\n",
    "# yaha add vanne chai base function ho jun duitai case ma chahin6"
   ]
  },
  {
   "cell_type": "code",
   "execution_count": 718,
   "id": "7c061ea8",
   "metadata": {
    "collapsed": true
   },
   "outputs": [
    {
     "name": "stdout",
     "output_type": "stream",
     "text": [
      "Help on package numpy.linalg in numpy:\n",
      "\n",
      "NAME\n",
      "    numpy.linalg\n",
      "\n",
      "DESCRIPTION\n",
      "    ``numpy.linalg``\n",
      "    ================\n",
      "    \n",
      "    The NumPy linear algebra functions rely on BLAS and LAPACK to provide efficient\n",
      "    low level implementations of standard linear algebra algorithms. Those\n",
      "    libraries may be provided by NumPy itself using C versions of a subset of their\n",
      "    reference implementations but, when possible, highly optimized libraries that\n",
      "    take advantage of specialized processor functionality are preferred. Examples\n",
      "    of such libraries are OpenBLAS, MKL (TM), and ATLAS. Because those libraries\n",
      "    are multithreaded and processor dependent, environmental variables and external\n",
      "    packages such as threadpoolctl may be needed to control the number of threads\n",
      "    or specify the processor architecture.\n",
      "    \n",
      "    - OpenBLAS: https://www.openblas.net/\n",
      "    - threadpoolctl: https://github.com/joblib/threadpoolctl\n",
      "    \n",
      "    Please note that the most-used linear algebra functions in NumPy are present in\n",
      "    the main ``numpy`` namespace rather than in ``numpy.linalg``.  There are:\n",
      "    ``dot``, ``vdot``, ``inner``, ``outer``, ``matmul``, ``tensordot``, ``einsum``,\n",
      "    ``einsum_path`` and ``kron``.\n",
      "    \n",
      "    Functions present in numpy.linalg are listed below.\n",
      "    \n",
      "    \n",
      "    Matrix and vector products\n",
      "    --------------------------\n",
      "    \n",
      "       multi_dot\n",
      "       matrix_power\n",
      "    \n",
      "    Decompositions\n",
      "    --------------\n",
      "    \n",
      "       cholesky\n",
      "       qr\n",
      "       svd\n",
      "    \n",
      "    Matrix eigenvalues\n",
      "    ------------------\n",
      "    \n",
      "       eig\n",
      "       eigh\n",
      "       eigvals\n",
      "       eigvalsh\n",
      "    \n",
      "    Norms and other numbers\n",
      "    -----------------------\n",
      "    \n",
      "       norm\n",
      "       cond\n",
      "       det\n",
      "       matrix_rank\n",
      "       slogdet\n",
      "    \n",
      "    Solving equations and inverting matrices\n",
      "    ----------------------------------------\n",
      "    \n",
      "       solve\n",
      "       tensorsolve\n",
      "       lstsq\n",
      "       inv\n",
      "       pinv\n",
      "       tensorinv\n",
      "    \n",
      "    Exceptions\n",
      "    ----------\n",
      "    \n",
      "       LinAlgError\n",
      "\n",
      "PACKAGE CONTENTS\n",
      "    _umath_linalg\n",
      "    lapack_lite\n",
      "    linalg\n",
      "    setup\n",
      "    tests (package)\n",
      "\n",
      "CLASSES\n",
      "    builtins.Exception(builtins.BaseException)\n",
      "        LinAlgError\n",
      "    \n",
      "    class LinAlgError(builtins.Exception)\n",
      "     |  Generic Python-exception-derived object raised by linalg functions.\n",
      "     |  \n",
      "     |  General purpose exception class, derived from Python's exception.Exception\n",
      "     |  class, programmatically raised in linalg functions when a Linear\n",
      "     |  Algebra-related condition would prevent further correct execution of the\n",
      "     |  function.\n",
      "     |  \n",
      "     |  Parameters\n",
      "     |  ----------\n",
      "     |  None\n",
      "     |  \n",
      "     |  Examples\n",
      "     |  --------\n",
      "     |  >>> from numpy import linalg as LA\n",
      "     |  >>> LA.inv(np.zeros((2,2)))\n",
      "     |  Traceback (most recent call last):\n",
      "     |    File \"<stdin>\", line 1, in <module>\n",
      "     |    File \"...linalg.py\", line 350,\n",
      "     |      in inv return wrap(solve(a, identity(a.shape[0], dtype=a.dtype)))\n",
      "     |    File \"...linalg.py\", line 249,\n",
      "     |      in solve\n",
      "     |      raise LinAlgError('Singular matrix')\n",
      "     |  numpy.linalg.LinAlgError: Singular matrix\n",
      "     |  \n",
      "     |  Method resolution order:\n",
      "     |      LinAlgError\n",
      "     |      builtins.Exception\n",
      "     |      builtins.BaseException\n",
      "     |      builtins.object\n",
      "     |  \n",
      "     |  Data descriptors defined here:\n",
      "     |  \n",
      "     |  __weakref__\n",
      "     |      list of weak references to the object (if defined)\n",
      "     |  \n",
      "     |  ----------------------------------------------------------------------\n",
      "     |  Methods inherited from builtins.Exception:\n",
      "     |  \n",
      "     |  __init__(self, /, *args, **kwargs)\n",
      "     |      Initialize self.  See help(type(self)) for accurate signature.\n",
      "     |  \n",
      "     |  ----------------------------------------------------------------------\n",
      "     |  Static methods inherited from builtins.Exception:\n",
      "     |  \n",
      "     |  __new__(*args, **kwargs) from builtins.type\n",
      "     |      Create and return a new object.  See help(type) for accurate signature.\n",
      "     |  \n",
      "     |  ----------------------------------------------------------------------\n",
      "     |  Methods inherited from builtins.BaseException:\n",
      "     |  \n",
      "     |  __delattr__(self, name, /)\n",
      "     |      Implement delattr(self, name).\n",
      "     |  \n",
      "     |  __getattribute__(self, name, /)\n",
      "     |      Return getattr(self, name).\n",
      "     |  \n",
      "     |  __reduce__(...)\n",
      "     |      Helper for pickle.\n",
      "     |  \n",
      "     |  __repr__(self, /)\n",
      "     |      Return repr(self).\n",
      "     |  \n",
      "     |  __setattr__(self, name, value, /)\n",
      "     |      Implement setattr(self, name, value).\n",
      "     |  \n",
      "     |  __setstate__(...)\n",
      "     |  \n",
      "     |  __str__(self, /)\n",
      "     |      Return str(self).\n",
      "     |  \n",
      "     |  with_traceback(...)\n",
      "     |      Exception.with_traceback(tb) --\n",
      "     |      set self.__traceback__ to tb and return self.\n",
      "     |  \n",
      "     |  ----------------------------------------------------------------------\n",
      "     |  Data descriptors inherited from builtins.BaseException:\n",
      "     |  \n",
      "     |  __cause__\n",
      "     |      exception cause\n",
      "     |  \n",
      "     |  __context__\n",
      "     |      exception context\n",
      "     |  \n",
      "     |  __dict__\n",
      "     |  \n",
      "     |  __suppress_context__\n",
      "     |  \n",
      "     |  __traceback__\n",
      "     |  \n",
      "     |  args\n",
      "\n",
      "FUNCTIONS\n",
      "    cholesky(a)\n",
      "        Cholesky decomposition.\n",
      "        \n",
      "        Return the Cholesky decomposition, `L * L.H`, of the square matrix `a`,\n",
      "        where `L` is lower-triangular and .H is the conjugate transpose operator\n",
      "        (which is the ordinary transpose if `a` is real-valued).  `a` must be\n",
      "        Hermitian (symmetric if real-valued) and positive-definite. No\n",
      "        checking is performed to verify whether `a` is Hermitian or not.\n",
      "        In addition, only the lower-triangular and diagonal elements of `a`\n",
      "        are used. Only `L` is actually returned.\n",
      "        \n",
      "        Parameters\n",
      "        ----------\n",
      "        a : (..., M, M) array_like\n",
      "            Hermitian (symmetric if all elements are real), positive-definite\n",
      "            input matrix.\n",
      "        \n",
      "        Returns\n",
      "        -------\n",
      "        L : (..., M, M) array_like\n",
      "            Upper or lower-triangular Cholesky factor of `a`.  Returns a\n",
      "            matrix object if `a` is a matrix object.\n",
      "        \n",
      "        Raises\n",
      "        ------\n",
      "        LinAlgError\n",
      "           If the decomposition fails, for example, if `a` is not\n",
      "           positive-definite.\n",
      "        \n",
      "        See Also\n",
      "        --------\n",
      "        scipy.linalg.cholesky : Similar function in SciPy.\n",
      "        scipy.linalg.cholesky_banded : Cholesky decompose a banded Hermitian\n",
      "                                       positive-definite matrix.\n",
      "        scipy.linalg.cho_factor : Cholesky decomposition of a matrix, to use in\n",
      "                                  `scipy.linalg.cho_solve`.\n",
      "        \n",
      "        Notes\n",
      "        -----\n",
      "        \n",
      "        .. versionadded:: 1.8.0\n",
      "        \n",
      "        Broadcasting rules apply, see the `numpy.linalg` documentation for\n",
      "        details.\n",
      "        \n",
      "        The Cholesky decomposition is often used as a fast way of solving\n",
      "        \n",
      "        .. math:: A \\mathbf{x} = \\mathbf{b}\n",
      "        \n",
      "        (when `A` is both Hermitian/symmetric and positive-definite).\n",
      "        \n",
      "        First, we solve for :math:`\\mathbf{y}` in\n",
      "        \n",
      "        .. math:: L \\mathbf{y} = \\mathbf{b},\n",
      "        \n",
      "        and then for :math:`\\mathbf{x}` in\n",
      "        \n",
      "        .. math:: L.H \\mathbf{x} = \\mathbf{y}.\n",
      "        \n",
      "        Examples\n",
      "        --------\n",
      "        >>> A = np.array([[1,-2j],[2j,5]])\n",
      "        >>> A\n",
      "        array([[ 1.+0.j, -0.-2.j],\n",
      "               [ 0.+2.j,  5.+0.j]])\n",
      "        >>> L = np.linalg.cholesky(A)\n",
      "        >>> L\n",
      "        array([[1.+0.j, 0.+0.j],\n",
      "               [0.+2.j, 1.+0.j]])\n",
      "        >>> np.dot(L, L.T.conj()) # verify that L * L.H = A\n",
      "        array([[1.+0.j, 0.-2.j],\n",
      "               [0.+2.j, 5.+0.j]])\n",
      "        >>> A = [[1,-2j],[2j,5]] # what happens if A is only array_like?\n",
      "        >>> np.linalg.cholesky(A) # an ndarray object is returned\n",
      "        array([[1.+0.j, 0.+0.j],\n",
      "               [0.+2.j, 1.+0.j]])\n",
      "        >>> # But a matrix object is returned if A is a matrix object\n",
      "        >>> np.linalg.cholesky(np.matrix(A))\n",
      "        matrix([[ 1.+0.j,  0.+0.j],\n",
      "                [ 0.+2.j,  1.+0.j]])\n",
      "    \n",
      "    cond(x, p=None)\n",
      "        Compute the condition number of a matrix.\n",
      "        \n",
      "        This function is capable of returning the condition number using\n",
      "        one of seven different norms, depending on the value of `p` (see\n",
      "        Parameters below).\n",
      "        \n",
      "        Parameters\n",
      "        ----------\n",
      "        x : (..., M, N) array_like\n",
      "            The matrix whose condition number is sought.\n",
      "        p : {None, 1, -1, 2, -2, inf, -inf, 'fro'}, optional\n",
      "            Order of the norm:\n",
      "        \n",
      "            =====  ============================\n",
      "            p      norm for matrices\n",
      "            =====  ============================\n",
      "            None   2-norm, computed directly using the ``SVD``\n",
      "            'fro'  Frobenius norm\n",
      "            inf    max(sum(abs(x), axis=1))\n",
      "            -inf   min(sum(abs(x), axis=1))\n",
      "            1      max(sum(abs(x), axis=0))\n",
      "            -1     min(sum(abs(x), axis=0))\n",
      "            2      2-norm (largest sing. value)\n",
      "            -2     smallest singular value\n",
      "            =====  ============================\n",
      "        \n",
      "            inf means the numpy.inf object, and the Frobenius norm is\n",
      "            the root-of-sum-of-squares norm.\n",
      "        \n",
      "        Returns\n",
      "        -------\n",
      "        c : {float, inf}\n",
      "            The condition number of the matrix. May be infinite.\n",
      "        \n",
      "        See Also\n",
      "        --------\n",
      "        numpy.linalg.norm\n",
      "        \n",
      "        Notes\n",
      "        -----\n",
      "        The condition number of `x` is defined as the norm of `x` times the\n",
      "        norm of the inverse of `x` [1]_; the norm can be the usual L2-norm\n",
      "        (root-of-sum-of-squares) or one of a number of other matrix norms.\n",
      "        \n",
      "        References\n",
      "        ----------\n",
      "        .. [1] G. Strang, *Linear Algebra and Its Applications*, Orlando, FL,\n",
      "               Academic Press, Inc., 1980, pg. 285.\n",
      "        \n",
      "        Examples\n",
      "        --------\n",
      "        >>> from numpy import linalg as LA\n",
      "        >>> a = np.array([[1, 0, -1], [0, 1, 0], [1, 0, 1]])\n",
      "        >>> a\n",
      "        array([[ 1,  0, -1],\n",
      "               [ 0,  1,  0],\n",
      "               [ 1,  0,  1]])\n",
      "        >>> LA.cond(a)\n",
      "        1.4142135623730951\n",
      "        >>> LA.cond(a, 'fro')\n",
      "        3.1622776601683795\n",
      "        >>> LA.cond(a, np.inf)\n",
      "        2.0\n",
      "        >>> LA.cond(a, -np.inf)\n",
      "        1.0\n",
      "        >>> LA.cond(a, 1)\n",
      "        2.0\n",
      "        >>> LA.cond(a, -1)\n",
      "        1.0\n",
      "        >>> LA.cond(a, 2)\n",
      "        1.4142135623730951\n",
      "        >>> LA.cond(a, -2)\n",
      "        0.70710678118654746 # may vary\n",
      "        >>> min(LA.svd(a, compute_uv=False))*min(LA.svd(LA.inv(a), compute_uv=False))\n",
      "        0.70710678118654746 # may vary\n",
      "    \n",
      "    det(a)\n",
      "        Compute the determinant of an array.\n",
      "        \n",
      "        Parameters\n",
      "        ----------\n",
      "        a : (..., M, M) array_like\n",
      "            Input array to compute determinants for.\n",
      "        \n",
      "        Returns\n",
      "        -------\n",
      "        det : (...) array_like\n",
      "            Determinant of `a`.\n",
      "        \n",
      "        See Also\n",
      "        --------\n",
      "        slogdet : Another way to represent the determinant, more suitable\n",
      "          for large matrices where underflow/overflow may occur.\n",
      "        scipy.linalg.det : Similar function in SciPy.\n",
      "        \n",
      "        Notes\n",
      "        -----\n",
      "        \n",
      "        .. versionadded:: 1.8.0\n",
      "        \n",
      "        Broadcasting rules apply, see the `numpy.linalg` documentation for\n",
      "        details.\n",
      "        \n",
      "        The determinant is computed via LU factorization using the LAPACK\n",
      "        routine ``z/dgetrf``.\n",
      "        \n",
      "        Examples\n",
      "        --------\n",
      "        The determinant of a 2-D array [[a, b], [c, d]] is ad - bc:\n",
      "        \n",
      "        >>> a = np.array([[1, 2], [3, 4]])\n",
      "        >>> np.linalg.det(a)\n",
      "        -2.0 # may vary\n",
      "        \n",
      "        Computing determinants for a stack of matrices:\n",
      "        \n",
      "        >>> a = np.array([ [[1, 2], [3, 4]], [[1, 2], [2, 1]], [[1, 3], [3, 1]] ])\n",
      "        >>> a.shape\n",
      "        (3, 2, 2)\n",
      "        >>> np.linalg.det(a)\n",
      "        array([-2., -3., -8.])\n",
      "    \n",
      "    eig(a)\n",
      "        Compute the eigenvalues and right eigenvectors of a square array.\n",
      "        \n",
      "        Parameters\n",
      "        ----------\n",
      "        a : (..., M, M) array\n",
      "            Matrices for which the eigenvalues and right eigenvectors will\n",
      "            be computed\n",
      "        \n",
      "        Returns\n",
      "        -------\n",
      "        w : (..., M) array\n",
      "            The eigenvalues, each repeated according to its multiplicity.\n",
      "            The eigenvalues are not necessarily ordered. The resulting\n",
      "            array will be of complex type, unless the imaginary part is\n",
      "            zero in which case it will be cast to a real type. When `a`\n",
      "            is real the resulting eigenvalues will be real (0 imaginary\n",
      "            part) or occur in conjugate pairs\n",
      "        \n",
      "        v : (..., M, M) array\n",
      "            The normalized (unit \"length\") eigenvectors, such that the\n",
      "            column ``v[:,i]`` is the eigenvector corresponding to the\n",
      "            eigenvalue ``w[i]``.\n",
      "        \n",
      "        Raises\n",
      "        ------\n",
      "        LinAlgError\n",
      "            If the eigenvalue computation does not converge.\n",
      "        \n",
      "        See Also\n",
      "        --------\n",
      "        eigvals : eigenvalues of a non-symmetric array.\n",
      "        eigh : eigenvalues and eigenvectors of a real symmetric or complex\n",
      "               Hermitian (conjugate symmetric) array.\n",
      "        eigvalsh : eigenvalues of a real symmetric or complex Hermitian\n",
      "                   (conjugate symmetric) array.\n",
      "        scipy.linalg.eig : Similar function in SciPy that also solves the\n",
      "                           generalized eigenvalue problem.\n",
      "        scipy.linalg.schur : Best choice for unitary and other non-Hermitian\n",
      "                             normal matrices.\n",
      "        \n",
      "        Notes\n",
      "        -----\n",
      "        \n",
      "        .. versionadded:: 1.8.0\n",
      "        \n",
      "        Broadcasting rules apply, see the `numpy.linalg` documentation for\n",
      "        details.\n",
      "        \n",
      "        This is implemented using the ``_geev`` LAPACK routines which compute\n",
      "        the eigenvalues and eigenvectors of general square arrays.\n",
      "        \n",
      "        The number `w` is an eigenvalue of `a` if there exists a vector\n",
      "        `v` such that ``a @ v = w * v``. Thus, the arrays `a`, `w`, and\n",
      "        `v` satisfy the equations ``a @ v[:,i] = w[i] * v[:,i]``\n",
      "        for :math:`i \\in \\{0,...,M-1\\}`.\n",
      "        \n",
      "        The array `v` of eigenvectors may not be of maximum rank, that is, some\n",
      "        of the columns may be linearly dependent, although round-off error may\n",
      "        obscure that fact. If the eigenvalues are all different, then theoretically\n",
      "        the eigenvectors are linearly independent and `a` can be diagonalized by\n",
      "        a similarity transformation using `v`, i.e, ``inv(v) @ a @ v`` is diagonal.\n",
      "        \n",
      "        For non-Hermitian normal matrices the SciPy function `scipy.linalg.schur`\n",
      "        is preferred because the matrix `v` is guaranteed to be unitary, which is\n",
      "        not the case when using `eig`. The Schur factorization produces an\n",
      "        upper triangular matrix rather than a diagonal matrix, but for normal\n",
      "        matrices only the diagonal of the upper triangular matrix is needed, the\n",
      "        rest is roundoff error.\n",
      "        \n",
      "        Finally, it is emphasized that `v` consists of the *right* (as in\n",
      "        right-hand side) eigenvectors of `a`.  A vector `y` satisfying\n",
      "        ``y.T @ a = z * y.T`` for some number `z` is called a *left*\n",
      "        eigenvector of `a`, and, in general, the left and right eigenvectors\n",
      "        of a matrix are not necessarily the (perhaps conjugate) transposes\n",
      "        of each other.\n",
      "        \n",
      "        References\n",
      "        ----------\n",
      "        G. Strang, *Linear Algebra and Its Applications*, 2nd Ed., Orlando, FL,\n",
      "        Academic Press, Inc., 1980, Various pp.\n",
      "        \n",
      "        Examples\n",
      "        --------\n",
      "        >>> from numpy import linalg as LA\n",
      "        \n",
      "        (Almost) trivial example with real e-values and e-vectors.\n",
      "        \n",
      "        >>> w, v = LA.eig(np.diag((1, 2, 3)))\n",
      "        >>> w; v\n",
      "        array([1., 2., 3.])\n",
      "        array([[1., 0., 0.],\n",
      "               [0., 1., 0.],\n",
      "               [0., 0., 1.]])\n",
      "        \n",
      "        Real matrix possessing complex e-values and e-vectors; note that the\n",
      "        e-values are complex conjugates of each other.\n",
      "        \n",
      "        >>> w, v = LA.eig(np.array([[1, -1], [1, 1]]))\n",
      "        >>> w; v\n",
      "        array([1.+1.j, 1.-1.j])\n",
      "        array([[0.70710678+0.j        , 0.70710678-0.j        ],\n",
      "               [0.        -0.70710678j, 0.        +0.70710678j]])\n",
      "        \n",
      "        Complex-valued matrix with real e-values (but complex-valued e-vectors);\n",
      "        note that ``a.conj().T == a``, i.e., `a` is Hermitian.\n",
      "        \n",
      "        >>> a = np.array([[1, 1j], [-1j, 1]])\n",
      "        >>> w, v = LA.eig(a)\n",
      "        >>> w; v\n",
      "        array([2.+0.j, 0.+0.j])\n",
      "        array([[ 0.        +0.70710678j,  0.70710678+0.j        ], # may vary\n",
      "               [ 0.70710678+0.j        , -0.        +0.70710678j]])\n",
      "        \n",
      "        Be careful about round-off error!\n",
      "        \n",
      "        >>> a = np.array([[1 + 1e-9, 0], [0, 1 - 1e-9]])\n",
      "        >>> # Theor. e-values are 1 +/- 1e-9\n",
      "        >>> w, v = LA.eig(a)\n",
      "        >>> w; v\n",
      "        array([1., 1.])\n",
      "        array([[1., 0.],\n",
      "               [0., 1.]])\n",
      "    \n",
      "    eigh(a, UPLO='L')\n",
      "        Return the eigenvalues and eigenvectors of a complex Hermitian\n",
      "        (conjugate symmetric) or a real symmetric matrix.\n",
      "        \n",
      "        Returns two objects, a 1-D array containing the eigenvalues of `a`, and\n",
      "        a 2-D square array or matrix (depending on the input type) of the\n",
      "        corresponding eigenvectors (in columns).\n",
      "        \n",
      "        Parameters\n",
      "        ----------\n",
      "        a : (..., M, M) array\n",
      "            Hermitian or real symmetric matrices whose eigenvalues and\n",
      "            eigenvectors are to be computed.\n",
      "        UPLO : {'L', 'U'}, optional\n",
      "            Specifies whether the calculation is done with the lower triangular\n",
      "            part of `a` ('L', default) or the upper triangular part ('U').\n",
      "            Irrespective of this value only the real parts of the diagonal will\n",
      "            be considered in the computation to preserve the notion of a Hermitian\n",
      "            matrix. It therefore follows that the imaginary part of the diagonal\n",
      "            will always be treated as zero.\n",
      "        \n",
      "        Returns\n",
      "        -------\n",
      "        w : (..., M) ndarray\n",
      "            The eigenvalues in ascending order, each repeated according to\n",
      "            its multiplicity.\n",
      "        v : {(..., M, M) ndarray, (..., M, M) matrix}\n",
      "            The column ``v[:, i]`` is the normalized eigenvector corresponding\n",
      "            to the eigenvalue ``w[i]``.  Will return a matrix object if `a` is\n",
      "            a matrix object.\n",
      "        \n",
      "        Raises\n",
      "        ------\n",
      "        LinAlgError\n",
      "            If the eigenvalue computation does not converge.\n",
      "        \n",
      "        See Also\n",
      "        --------\n",
      "        eigvalsh : eigenvalues of real symmetric or complex Hermitian\n",
      "                   (conjugate symmetric) arrays.\n",
      "        eig : eigenvalues and right eigenvectors for non-symmetric arrays.\n",
      "        eigvals : eigenvalues of non-symmetric arrays.\n",
      "        scipy.linalg.eigh : Similar function in SciPy (but also solves the\n",
      "                            generalized eigenvalue problem).\n",
      "        \n",
      "        Notes\n",
      "        -----\n",
      "        \n",
      "        .. versionadded:: 1.8.0\n",
      "        \n",
      "        Broadcasting rules apply, see the `numpy.linalg` documentation for\n",
      "        details.\n",
      "        \n",
      "        The eigenvalues/eigenvectors are computed using LAPACK routines ``_syevd``,\n",
      "        ``_heevd``.\n",
      "        \n",
      "        The eigenvalues of real symmetric or complex Hermitian matrices are\n",
      "        always real. [1]_ The array `v` of (column) eigenvectors is unitary\n",
      "        and `a`, `w`, and `v` satisfy the equations\n",
      "        ``dot(a, v[:, i]) = w[i] * v[:, i]``.\n",
      "        \n",
      "        References\n",
      "        ----------\n",
      "        .. [1] G. Strang, *Linear Algebra and Its Applications*, 2nd Ed., Orlando,\n",
      "               FL, Academic Press, Inc., 1980, pg. 222.\n",
      "        \n",
      "        Examples\n",
      "        --------\n",
      "        >>> from numpy import linalg as LA\n",
      "        >>> a = np.array([[1, -2j], [2j, 5]])\n",
      "        >>> a\n",
      "        array([[ 1.+0.j, -0.-2.j],\n",
      "               [ 0.+2.j,  5.+0.j]])\n",
      "        >>> w, v = LA.eigh(a)\n",
      "        >>> w; v\n",
      "        array([0.17157288, 5.82842712])\n",
      "        array([[-0.92387953+0.j        , -0.38268343+0.j        ], # may vary\n",
      "               [ 0.        +0.38268343j,  0.        -0.92387953j]])\n",
      "        \n",
      "        >>> np.dot(a, v[:, 0]) - w[0] * v[:, 0] # verify 1st e-val/vec pair\n",
      "        array([5.55111512e-17+0.0000000e+00j, 0.00000000e+00+1.2490009e-16j])\n",
      "        >>> np.dot(a, v[:, 1]) - w[1] * v[:, 1] # verify 2nd e-val/vec pair\n",
      "        array([0.+0.j, 0.+0.j])\n",
      "        \n",
      "        >>> A = np.matrix(a) # what happens if input is a matrix object\n",
      "        >>> A\n",
      "        matrix([[ 1.+0.j, -0.-2.j],\n",
      "                [ 0.+2.j,  5.+0.j]])\n",
      "        >>> w, v = LA.eigh(A)\n",
      "        >>> w; v\n",
      "        array([0.17157288, 5.82842712])\n",
      "        matrix([[-0.92387953+0.j        , -0.38268343+0.j        ], # may vary\n",
      "                [ 0.        +0.38268343j,  0.        -0.92387953j]])\n",
      "        \n",
      "        >>> # demonstrate the treatment of the imaginary part of the diagonal\n",
      "        >>> a = np.array([[5+2j, 9-2j], [0+2j, 2-1j]])\n",
      "        >>> a\n",
      "        array([[5.+2.j, 9.-2.j],\n",
      "               [0.+2.j, 2.-1.j]])\n",
      "        >>> # with UPLO='L' this is numerically equivalent to using LA.eig() with:\n",
      "        >>> b = np.array([[5.+0.j, 0.-2.j], [0.+2.j, 2.-0.j]])\n",
      "        >>> b\n",
      "        array([[5.+0.j, 0.-2.j],\n",
      "               [0.+2.j, 2.+0.j]])\n",
      "        >>> wa, va = LA.eigh(a)\n",
      "        >>> wb, vb = LA.eig(b)\n",
      "        >>> wa; wb\n",
      "        array([1., 6.])\n",
      "        array([6.+0.j, 1.+0.j])\n",
      "        >>> va; vb\n",
      "        array([[-0.4472136 +0.j        , -0.89442719+0.j        ], # may vary\n",
      "               [ 0.        +0.89442719j,  0.        -0.4472136j ]])\n",
      "        array([[ 0.89442719+0.j       , -0.        +0.4472136j],\n",
      "               [-0.        +0.4472136j,  0.89442719+0.j       ]])\n",
      "    \n",
      "    eigvals(a)\n",
      "        Compute the eigenvalues of a general matrix.\n",
      "        \n",
      "        Main difference between `eigvals` and `eig`: the eigenvectors aren't\n",
      "        returned.\n",
      "        \n",
      "        Parameters\n",
      "        ----------\n",
      "        a : (..., M, M) array_like\n",
      "            A complex- or real-valued matrix whose eigenvalues will be computed.\n",
      "        \n",
      "        Returns\n",
      "        -------\n",
      "        w : (..., M,) ndarray\n",
      "            The eigenvalues, each repeated according to its multiplicity.\n",
      "            They are not necessarily ordered, nor are they necessarily\n",
      "            real for real matrices.\n",
      "        \n",
      "        Raises\n",
      "        ------\n",
      "        LinAlgError\n",
      "            If the eigenvalue computation does not converge.\n",
      "        \n",
      "        See Also\n",
      "        --------\n",
      "        eig : eigenvalues and right eigenvectors of general arrays\n",
      "        eigvalsh : eigenvalues of real symmetric or complex Hermitian\n",
      "                   (conjugate symmetric) arrays.\n",
      "        eigh : eigenvalues and eigenvectors of real symmetric or complex\n",
      "               Hermitian (conjugate symmetric) arrays.\n",
      "        scipy.linalg.eigvals : Similar function in SciPy.\n",
      "        \n",
      "        Notes\n",
      "        -----\n",
      "        \n",
      "        .. versionadded:: 1.8.0\n",
      "        \n",
      "        Broadcasting rules apply, see the `numpy.linalg` documentation for\n",
      "        details.\n",
      "        \n",
      "        This is implemented using the ``_geev`` LAPACK routines which compute\n",
      "        the eigenvalues and eigenvectors of general square arrays.\n",
      "        \n",
      "        Examples\n",
      "        --------\n",
      "        Illustration, using the fact that the eigenvalues of a diagonal matrix\n",
      "        are its diagonal elements, that multiplying a matrix on the left\n",
      "        by an orthogonal matrix, `Q`, and on the right by `Q.T` (the transpose\n",
      "        of `Q`), preserves the eigenvalues of the \"middle\" matrix.  In other words,\n",
      "        if `Q` is orthogonal, then ``Q * A * Q.T`` has the same eigenvalues as\n",
      "        ``A``:\n",
      "        \n",
      "        >>> from numpy import linalg as LA\n",
      "        >>> x = np.random.random()\n",
      "        >>> Q = np.array([[np.cos(x), -np.sin(x)], [np.sin(x), np.cos(x)]])\n",
      "        >>> LA.norm(Q[0, :]), LA.norm(Q[1, :]), np.dot(Q[0, :],Q[1, :])\n",
      "        (1.0, 1.0, 0.0)\n",
      "        \n",
      "        Now multiply a diagonal matrix by ``Q`` on one side and by ``Q.T`` on the other:\n",
      "        \n",
      "        >>> D = np.diag((-1,1))\n",
      "        >>> LA.eigvals(D)\n",
      "        array([-1.,  1.])\n",
      "        >>> A = np.dot(Q, D)\n",
      "        >>> A = np.dot(A, Q.T)\n",
      "        >>> LA.eigvals(A)\n",
      "        array([ 1., -1.]) # random\n",
      "    \n",
      "    eigvalsh(a, UPLO='L')\n",
      "        Compute the eigenvalues of a complex Hermitian or real symmetric matrix.\n",
      "        \n",
      "        Main difference from eigh: the eigenvectors are not computed.\n",
      "        \n",
      "        Parameters\n",
      "        ----------\n",
      "        a : (..., M, M) array_like\n",
      "            A complex- or real-valued matrix whose eigenvalues are to be\n",
      "            computed.\n",
      "        UPLO : {'L', 'U'}, optional\n",
      "            Specifies whether the calculation is done with the lower triangular\n",
      "            part of `a` ('L', default) or the upper triangular part ('U').\n",
      "            Irrespective of this value only the real parts of the diagonal will\n",
      "            be considered in the computation to preserve the notion of a Hermitian\n",
      "            matrix. It therefore follows that the imaginary part of the diagonal\n",
      "            will always be treated as zero.\n",
      "        \n",
      "        Returns\n",
      "        -------\n",
      "        w : (..., M,) ndarray\n",
      "            The eigenvalues in ascending order, each repeated according to\n",
      "            its multiplicity.\n",
      "        \n",
      "        Raises\n",
      "        ------\n",
      "        LinAlgError\n",
      "            If the eigenvalue computation does not converge.\n",
      "        \n",
      "        See Also\n",
      "        --------\n",
      "        eigh : eigenvalues and eigenvectors of real symmetric or complex Hermitian\n",
      "               (conjugate symmetric) arrays.\n",
      "        eigvals : eigenvalues of general real or complex arrays.\n",
      "        eig : eigenvalues and right eigenvectors of general real or complex\n",
      "              arrays.\n",
      "        scipy.linalg.eigvalsh : Similar function in SciPy.\n",
      "        \n",
      "        Notes\n",
      "        -----\n",
      "        \n",
      "        .. versionadded:: 1.8.0\n",
      "        \n",
      "        Broadcasting rules apply, see the `numpy.linalg` documentation for\n",
      "        details.\n",
      "        \n",
      "        The eigenvalues are computed using LAPACK routines ``_syevd``, ``_heevd``.\n",
      "        \n",
      "        Examples\n",
      "        --------\n",
      "        >>> from numpy import linalg as LA\n",
      "        >>> a = np.array([[1, -2j], [2j, 5]])\n",
      "        >>> LA.eigvalsh(a)\n",
      "        array([ 0.17157288,  5.82842712]) # may vary\n",
      "        \n",
      "        >>> # demonstrate the treatment of the imaginary part of the diagonal\n",
      "        >>> a = np.array([[5+2j, 9-2j], [0+2j, 2-1j]])\n",
      "        >>> a\n",
      "        array([[5.+2.j, 9.-2.j],\n",
      "               [0.+2.j, 2.-1.j]])\n",
      "        >>> # with UPLO='L' this is numerically equivalent to using LA.eigvals()\n",
      "        >>> # with:\n",
      "        >>> b = np.array([[5.+0.j, 0.-2.j], [0.+2.j, 2.-0.j]])\n",
      "        >>> b\n",
      "        array([[5.+0.j, 0.-2.j],\n",
      "               [0.+2.j, 2.+0.j]])\n",
      "        >>> wa = LA.eigvalsh(a)\n",
      "        >>> wb = LA.eigvals(b)\n",
      "        >>> wa; wb\n",
      "        array([1., 6.])\n",
      "        array([6.+0.j, 1.+0.j])\n",
      "    \n",
      "    inv(a)\n",
      "        Compute the (multiplicative) inverse of a matrix.\n",
      "        \n",
      "        Given a square matrix `a`, return the matrix `ainv` satisfying\n",
      "        ``dot(a, ainv) = dot(ainv, a) = eye(a.shape[0])``.\n",
      "        \n",
      "        Parameters\n",
      "        ----------\n",
      "        a : (..., M, M) array_like\n",
      "            Matrix to be inverted.\n",
      "        \n",
      "        Returns\n",
      "        -------\n",
      "        ainv : (..., M, M) ndarray or matrix\n",
      "            (Multiplicative) inverse of the matrix `a`.\n",
      "        \n",
      "        Raises\n",
      "        ------\n",
      "        LinAlgError\n",
      "            If `a` is not square or inversion fails.\n",
      "        \n",
      "        See Also\n",
      "        --------\n",
      "        scipy.linalg.inv : Similar function in SciPy.\n",
      "        \n",
      "        Notes\n",
      "        -----\n",
      "        \n",
      "        .. versionadded:: 1.8.0\n",
      "        \n",
      "        Broadcasting rules apply, see the `numpy.linalg` documentation for\n",
      "        details.\n",
      "        \n",
      "        Examples\n",
      "        --------\n",
      "        >>> from numpy.linalg import inv\n",
      "        >>> a = np.array([[1., 2.], [3., 4.]])\n",
      "        >>> ainv = inv(a)\n",
      "        >>> np.allclose(np.dot(a, ainv), np.eye(2))\n",
      "        True\n",
      "        >>> np.allclose(np.dot(ainv, a), np.eye(2))\n",
      "        True\n",
      "        \n",
      "        If a is a matrix object, then the return value is a matrix as well:\n",
      "        \n",
      "        >>> ainv = inv(np.matrix(a))\n",
      "        >>> ainv\n",
      "        matrix([[-2. ,  1. ],\n",
      "                [ 1.5, -0.5]])\n",
      "        \n",
      "        Inverses of several matrices can be computed at once:\n",
      "        \n",
      "        >>> a = np.array([[[1., 2.], [3., 4.]], [[1, 3], [3, 5]]])\n",
      "        >>> inv(a)\n",
      "        array([[[-2.  ,  1.  ],\n",
      "                [ 1.5 , -0.5 ]],\n",
      "               [[-1.25,  0.75],\n",
      "                [ 0.75, -0.25]]])\n",
      "    \n",
      "    lstsq(a, b, rcond='warn')\n",
      "        Return the least-squares solution to a linear matrix equation.\n",
      "        \n",
      "        Computes the vector x that approximatively solves the equation\n",
      "        ``a @ x = b``. The equation may be under-, well-, or over-determined\n",
      "        (i.e., the number of linearly independent rows of `a` can be less than,\n",
      "        equal to, or greater than its number of linearly independent columns).\n",
      "        If `a` is square and of full rank, then `x` (but for round-off error)\n",
      "        is the \"exact\" solution of the equation. Else, `x` minimizes the\n",
      "        Euclidean 2-norm :math:`|| b - a x ||`.\n",
      "        \n",
      "        Parameters\n",
      "        ----------\n",
      "        a : (M, N) array_like\n",
      "            \"Coefficient\" matrix.\n",
      "        b : {(M,), (M, K)} array_like\n",
      "            Ordinate or \"dependent variable\" values. If `b` is two-dimensional,\n",
      "            the least-squares solution is calculated for each of the `K` columns\n",
      "            of `b`.\n",
      "        rcond : float, optional\n",
      "            Cut-off ratio for small singular values of `a`.\n",
      "            For the purposes of rank determination, singular values are treated\n",
      "            as zero if they are smaller than `rcond` times the largest singular\n",
      "            value of `a`.\n",
      "        \n",
      "            .. versionchanged:: 1.14.0\n",
      "               If not set, a FutureWarning is given. The previous default\n",
      "               of ``-1`` will use the machine precision as `rcond` parameter,\n",
      "               the new default will use the machine precision times `max(M, N)`.\n",
      "               To silence the warning and use the new default, use ``rcond=None``,\n",
      "               to keep using the old behavior, use ``rcond=-1``.\n",
      "        \n",
      "        Returns\n",
      "        -------\n",
      "        x : {(N,), (N, K)} ndarray\n",
      "            Least-squares solution. If `b` is two-dimensional,\n",
      "            the solutions are in the `K` columns of `x`.\n",
      "        residuals : {(1,), (K,), (0,)} ndarray\n",
      "            Sums of squared residuals: Squared Euclidean 2-norm for each column in\n",
      "            ``b - a @ x``.\n",
      "            If the rank of `a` is < N or M <= N, this is an empty array.\n",
      "            If `b` is 1-dimensional, this is a (1,) shape array.\n",
      "            Otherwise the shape is (K,).\n",
      "        rank : int\n",
      "            Rank of matrix `a`.\n",
      "        s : (min(M, N),) ndarray\n",
      "            Singular values of `a`.\n",
      "        \n",
      "        Raises\n",
      "        ------\n",
      "        LinAlgError\n",
      "            If computation does not converge.\n",
      "        \n",
      "        See Also\n",
      "        --------\n",
      "        scipy.linalg.lstsq : Similar function in SciPy.\n",
      "        \n",
      "        Notes\n",
      "        -----\n",
      "        If `b` is a matrix, then all array results are returned as matrices.\n",
      "        \n",
      "        Examples\n",
      "        --------\n",
      "        Fit a line, ``y = mx + c``, through some noisy data-points:\n",
      "        \n",
      "        >>> x = np.array([0, 1, 2, 3])\n",
      "        >>> y = np.array([-1, 0.2, 0.9, 2.1])\n",
      "        \n",
      "        By examining the coefficients, we see that the line should have a\n",
      "        gradient of roughly 1 and cut the y-axis at, more or less, -1.\n",
      "        \n",
      "        We can rewrite the line equation as ``y = Ap``, where ``A = [[x 1]]``\n",
      "        and ``p = [[m], [c]]``.  Now use `lstsq` to solve for `p`:\n",
      "        \n",
      "        >>> A = np.vstack([x, np.ones(len(x))]).T\n",
      "        >>> A\n",
      "        array([[ 0.,  1.],\n",
      "               [ 1.,  1.],\n",
      "               [ 2.,  1.],\n",
      "               [ 3.,  1.]])\n",
      "        \n",
      "        >>> m, c = np.linalg.lstsq(A, y, rcond=None)[0]\n",
      "        >>> m, c\n",
      "        (1.0 -0.95) # may vary\n",
      "        \n",
      "        Plot the data along with the fitted line:\n",
      "        \n",
      "        >>> import matplotlib.pyplot as plt\n",
      "        >>> _ = plt.plot(x, y, 'o', label='Original data', markersize=10)\n",
      "        >>> _ = plt.plot(x, m*x + c, 'r', label='Fitted line')\n",
      "        >>> _ = plt.legend()\n",
      "        >>> plt.show()\n",
      "    \n",
      "    matrix_power(a, n)\n",
      "        Raise a square matrix to the (integer) power `n`.\n",
      "        \n",
      "        For positive integers `n`, the power is computed by repeated matrix\n",
      "        squarings and matrix multiplications. If ``n == 0``, the identity matrix\n",
      "        of the same shape as M is returned. If ``n < 0``, the inverse\n",
      "        is computed and then raised to the ``abs(n)``.\n",
      "        \n",
      "        .. note:: Stacks of object matrices are not currently supported.\n",
      "        \n",
      "        Parameters\n",
      "        ----------\n",
      "        a : (..., M, M) array_like\n",
      "            Matrix to be \"powered\".\n",
      "        n : int\n",
      "            The exponent can be any integer or long integer, positive,\n",
      "            negative, or zero.\n",
      "        \n",
      "        Returns\n",
      "        -------\n",
      "        a**n : (..., M, M) ndarray or matrix object\n",
      "            The return value is the same shape and type as `M`;\n",
      "            if the exponent is positive or zero then the type of the\n",
      "            elements is the same as those of `M`. If the exponent is\n",
      "            negative the elements are floating-point.\n",
      "        \n",
      "        Raises\n",
      "        ------\n",
      "        LinAlgError\n",
      "            For matrices that are not square or that (for negative powers) cannot\n",
      "            be inverted numerically.\n",
      "        \n",
      "        Examples\n",
      "        --------\n",
      "        >>> from numpy.linalg import matrix_power\n",
      "        >>> i = np.array([[0, 1], [-1, 0]]) # matrix equiv. of the imaginary unit\n",
      "        >>> matrix_power(i, 3) # should = -i\n",
      "        array([[ 0, -1],\n",
      "               [ 1,  0]])\n",
      "        >>> matrix_power(i, 0)\n",
      "        array([[1, 0],\n",
      "               [0, 1]])\n",
      "        >>> matrix_power(i, -3) # should = 1/(-i) = i, but w/ f.p. elements\n",
      "        array([[ 0.,  1.],\n",
      "               [-1.,  0.]])\n",
      "        \n",
      "        Somewhat more sophisticated example\n",
      "        \n",
      "        >>> q = np.zeros((4, 4))\n",
      "        >>> q[0:2, 0:2] = -i\n",
      "        >>> q[2:4, 2:4] = i\n",
      "        >>> q # one of the three quaternion units not equal to 1\n",
      "        array([[ 0., -1.,  0.,  0.],\n",
      "               [ 1.,  0.,  0.,  0.],\n",
      "               [ 0.,  0.,  0.,  1.],\n",
      "               [ 0.,  0., -1.,  0.]])\n",
      "        >>> matrix_power(q, 2) # = -np.eye(4)\n",
      "        array([[-1.,  0.,  0.,  0.],\n",
      "               [ 0., -1.,  0.,  0.],\n",
      "               [ 0.,  0., -1.,  0.],\n",
      "               [ 0.,  0.,  0., -1.]])\n",
      "    \n",
      "    matrix_rank(M, tol=None, hermitian=False)\n",
      "        Return matrix rank of array using SVD method\n",
      "        \n",
      "        Rank of the array is the number of singular values of the array that are\n",
      "        greater than `tol`.\n",
      "        \n",
      "        .. versionchanged:: 1.14\n",
      "           Can now operate on stacks of matrices\n",
      "        \n",
      "        Parameters\n",
      "        ----------\n",
      "        M : {(M,), (..., M, N)} array_like\n",
      "            Input vector or stack of matrices.\n",
      "        tol : (...) array_like, float, optional\n",
      "            Threshold below which SVD values are considered zero. If `tol` is\n",
      "            None, and ``S`` is an array with singular values for `M`, and\n",
      "            ``eps`` is the epsilon value for datatype of ``S``, then `tol` is\n",
      "            set to ``S.max() * max(M.shape) * eps``.\n",
      "        \n",
      "            .. versionchanged:: 1.14\n",
      "               Broadcasted against the stack of matrices\n",
      "        hermitian : bool, optional\n",
      "            If True, `M` is assumed to be Hermitian (symmetric if real-valued),\n",
      "            enabling a more efficient method for finding singular values.\n",
      "            Defaults to False.\n",
      "        \n",
      "            .. versionadded:: 1.14\n",
      "        \n",
      "        Returns\n",
      "        -------\n",
      "        rank : (...) array_like\n",
      "            Rank of M.\n",
      "        \n",
      "        Notes\n",
      "        -----\n",
      "        The default threshold to detect rank deficiency is a test on the magnitude\n",
      "        of the singular values of `M`.  By default, we identify singular values less\n",
      "        than ``S.max() * max(M.shape) * eps`` as indicating rank deficiency (with\n",
      "        the symbols defined above). This is the algorithm MATLAB uses [1].  It also\n",
      "        appears in *Numerical recipes* in the discussion of SVD solutions for linear\n",
      "        least squares [2].\n",
      "        \n",
      "        This default threshold is designed to detect rank deficiency accounting for\n",
      "        the numerical errors of the SVD computation.  Imagine that there is a column\n",
      "        in `M` that is an exact (in floating point) linear combination of other\n",
      "        columns in `M`. Computing the SVD on `M` will not produce a singular value\n",
      "        exactly equal to 0 in general: any difference of the smallest SVD value from\n",
      "        0 will be caused by numerical imprecision in the calculation of the SVD.\n",
      "        Our threshold for small SVD values takes this numerical imprecision into\n",
      "        account, and the default threshold will detect such numerical rank\n",
      "        deficiency.  The threshold may declare a matrix `M` rank deficient even if\n",
      "        the linear combination of some columns of `M` is not exactly equal to\n",
      "        another column of `M` but only numerically very close to another column of\n",
      "        `M`.\n",
      "        \n",
      "        We chose our default threshold because it is in wide use.  Other thresholds\n",
      "        are possible.  For example, elsewhere in the 2007 edition of *Numerical\n",
      "        recipes* there is an alternative threshold of ``S.max() *\n",
      "        np.finfo(M.dtype).eps / 2. * np.sqrt(m + n + 1.)``. The authors describe\n",
      "        this threshold as being based on \"expected roundoff error\" (p 71).\n",
      "        \n",
      "        The thresholds above deal with floating point roundoff error in the\n",
      "        calculation of the SVD.  However, you may have more information about the\n",
      "        sources of error in `M` that would make you consider other tolerance values\n",
      "        to detect *effective* rank deficiency.  The most useful measure of the\n",
      "        tolerance depends on the operations you intend to use on your matrix.  For\n",
      "        example, if your data come from uncertain measurements with uncertainties\n",
      "        greater than floating point epsilon, choosing a tolerance near that\n",
      "        uncertainty may be preferable.  The tolerance may be absolute if the\n",
      "        uncertainties are absolute rather than relative.\n",
      "        \n",
      "        References\n",
      "        ----------\n",
      "        .. [1] MATLAB reference documention, \"Rank\"\n",
      "               https://www.mathworks.com/help/techdoc/ref/rank.html\n",
      "        .. [2] W. H. Press, S. A. Teukolsky, W. T. Vetterling and B. P. Flannery,\n",
      "               \"Numerical Recipes (3rd edition)\", Cambridge University Press, 2007,\n",
      "               page 795.\n",
      "        \n",
      "        Examples\n",
      "        --------\n",
      "        >>> from numpy.linalg import matrix_rank\n",
      "        >>> matrix_rank(np.eye(4)) # Full rank matrix\n",
      "        4\n",
      "        >>> I=np.eye(4); I[-1,-1] = 0. # rank deficient matrix\n",
      "        >>> matrix_rank(I)\n",
      "        3\n",
      "        >>> matrix_rank(np.ones((4,))) # 1 dimension - rank 1 unless all 0\n",
      "        1\n",
      "        >>> matrix_rank(np.zeros((4,)))\n",
      "        0\n",
      "    \n",
      "    multi_dot(arrays, *, out=None)\n",
      "        Compute the dot product of two or more arrays in a single function call,\n",
      "        while automatically selecting the fastest evaluation order.\n",
      "        \n",
      "        `multi_dot` chains `numpy.dot` and uses optimal parenthesization\n",
      "        of the matrices [1]_ [2]_. Depending on the shapes of the matrices,\n",
      "        this can speed up the multiplication a lot.\n",
      "        \n",
      "        If the first argument is 1-D it is treated as a row vector.\n",
      "        If the last argument is 1-D it is treated as a column vector.\n",
      "        The other arguments must be 2-D.\n",
      "        \n",
      "        Think of `multi_dot` as::\n",
      "        \n",
      "            def multi_dot(arrays): return functools.reduce(np.dot, arrays)\n",
      "        \n",
      "        \n",
      "        Parameters\n",
      "        ----------\n",
      "        arrays : sequence of array_like\n",
      "            If the first argument is 1-D it is treated as row vector.\n",
      "            If the last argument is 1-D it is treated as column vector.\n",
      "            The other arguments must be 2-D.\n",
      "        out : ndarray, optional\n",
      "            Output argument. This must have the exact kind that would be returned\n",
      "            if it was not used. In particular, it must have the right type, must be\n",
      "            C-contiguous, and its dtype must be the dtype that would be returned\n",
      "            for `dot(a, b)`. This is a performance feature. Therefore, if these\n",
      "            conditions are not met, an exception is raised, instead of attempting\n",
      "            to be flexible.\n",
      "        \n",
      "            .. versionadded:: 1.19.0\n",
      "        \n",
      "        Returns\n",
      "        -------\n",
      "        output : ndarray\n",
      "            Returns the dot product of the supplied arrays.\n",
      "        \n",
      "        See Also\n",
      "        --------\n",
      "        numpy.dot : dot multiplication with two arguments.\n",
      "        \n",
      "        References\n",
      "        ----------\n",
      "        \n",
      "        .. [1] Cormen, \"Introduction to Algorithms\", Chapter 15.2, p. 370-378\n",
      "        .. [2] https://en.wikipedia.org/wiki/Matrix_chain_multiplication\n",
      "        \n",
      "        Examples\n",
      "        --------\n",
      "        `multi_dot` allows you to write::\n",
      "        \n",
      "        >>> from numpy.linalg import multi_dot\n",
      "        >>> # Prepare some data\n",
      "        >>> A = np.random.random((10000, 100))\n",
      "        >>> B = np.random.random((100, 1000))\n",
      "        >>> C = np.random.random((1000, 5))\n",
      "        >>> D = np.random.random((5, 333))\n",
      "        >>> # the actual dot multiplication\n",
      "        >>> _ = multi_dot([A, B, C, D])\n",
      "        \n",
      "        instead of::\n",
      "        \n",
      "        >>> _ = np.dot(np.dot(np.dot(A, B), C), D)\n",
      "        >>> # or\n",
      "        >>> _ = A.dot(B).dot(C).dot(D)\n",
      "        \n",
      "        Notes\n",
      "        -----\n",
      "        The cost for a matrix multiplication can be calculated with the\n",
      "        following function::\n",
      "        \n",
      "            def cost(A, B):\n",
      "                return A.shape[0] * A.shape[1] * B.shape[1]\n",
      "        \n",
      "        Assume we have three matrices\n",
      "        :math:`A_{10x100}, B_{100x5}, C_{5x50}`.\n",
      "        \n",
      "        The costs for the two different parenthesizations are as follows::\n",
      "        \n",
      "            cost((AB)C) = 10*100*5 + 10*5*50   = 5000 + 2500   = 7500\n",
      "            cost(A(BC)) = 10*100*50 + 100*5*50 = 50000 + 25000 = 75000\n",
      "    \n",
      "    norm(x, ord=None, axis=None, keepdims=False)\n",
      "        Matrix or vector norm.\n",
      "        \n",
      "        This function is able to return one of eight different matrix norms,\n",
      "        or one of an infinite number of vector norms (described below), depending\n",
      "        on the value of the ``ord`` parameter.\n",
      "        \n",
      "        Parameters\n",
      "        ----------\n",
      "        x : array_like\n",
      "            Input array.  If `axis` is None, `x` must be 1-D or 2-D, unless `ord`\n",
      "            is None. If both `axis` and `ord` are None, the 2-norm of\n",
      "            ``x.ravel`` will be returned.\n",
      "        ord : {non-zero int, inf, -inf, 'fro', 'nuc'}, optional\n",
      "            Order of the norm (see table under ``Notes``). inf means numpy's\n",
      "            `inf` object. The default is None.\n",
      "        axis : {None, int, 2-tuple of ints}, optional.\n",
      "            If `axis` is an integer, it specifies the axis of `x` along which to\n",
      "            compute the vector norms.  If `axis` is a 2-tuple, it specifies the\n",
      "            axes that hold 2-D matrices, and the matrix norms of these matrices\n",
      "            are computed.  If `axis` is None then either a vector norm (when `x`\n",
      "            is 1-D) or a matrix norm (when `x` is 2-D) is returned. The default\n",
      "            is None.\n",
      "        \n",
      "            .. versionadded:: 1.8.0\n",
      "        \n",
      "        keepdims : bool, optional\n",
      "            If this is set to True, the axes which are normed over are left in the\n",
      "            result as dimensions with size one.  With this option the result will\n",
      "            broadcast correctly against the original `x`.\n",
      "        \n",
      "            .. versionadded:: 1.10.0\n",
      "        \n",
      "        Returns\n",
      "        -------\n",
      "        n : float or ndarray\n",
      "            Norm of the matrix or vector(s).\n",
      "        \n",
      "        See Also\n",
      "        --------\n",
      "        scipy.linalg.norm : Similar function in SciPy.\n",
      "        \n",
      "        Notes\n",
      "        -----\n",
      "        For values of ``ord < 1``, the result is, strictly speaking, not a\n",
      "        mathematical 'norm', but it may still be useful for various numerical\n",
      "        purposes.\n",
      "        \n",
      "        The following norms can be calculated:\n",
      "        \n",
      "        =====  ============================  ==========================\n",
      "        ord    norm for matrices             norm for vectors\n",
      "        =====  ============================  ==========================\n",
      "        None   Frobenius norm                2-norm\n",
      "        'fro'  Frobenius norm                --\n",
      "        'nuc'  nuclear norm                  --\n",
      "        inf    max(sum(abs(x), axis=1))      max(abs(x))\n",
      "        -inf   min(sum(abs(x), axis=1))      min(abs(x))\n",
      "        0      --                            sum(x != 0)\n",
      "        1      max(sum(abs(x), axis=0))      as below\n",
      "        -1     min(sum(abs(x), axis=0))      as below\n",
      "        2      2-norm (largest sing. value)  as below\n",
      "        -2     smallest singular value       as below\n",
      "        other  --                            sum(abs(x)**ord)**(1./ord)\n",
      "        =====  ============================  ==========================\n",
      "        \n",
      "        The Frobenius norm is given by [1]_:\n",
      "        \n",
      "            :math:`||A||_F = [\\sum_{i,j} abs(a_{i,j})^2]^{1/2}`\n",
      "        \n",
      "        The nuclear norm is the sum of the singular values.\n",
      "        \n",
      "        Both the Frobenius and nuclear norm orders are only defined for\n",
      "        matrices and raise a ValueError when ``x.ndim != 2``.\n",
      "        \n",
      "        References\n",
      "        ----------\n",
      "        .. [1] G. H. Golub and C. F. Van Loan, *Matrix Computations*,\n",
      "               Baltimore, MD, Johns Hopkins University Press, 1985, pg. 15\n",
      "        \n",
      "        Examples\n",
      "        --------\n",
      "        >>> from numpy import linalg as LA\n",
      "        >>> a = np.arange(9) - 4\n",
      "        >>> a\n",
      "        array([-4, -3, -2, ...,  2,  3,  4])\n",
      "        >>> b = a.reshape((3, 3))\n",
      "        >>> b\n",
      "        array([[-4, -3, -2],\n",
      "               [-1,  0,  1],\n",
      "               [ 2,  3,  4]])\n",
      "        \n",
      "        >>> LA.norm(a)\n",
      "        7.745966692414834\n",
      "        >>> LA.norm(b)\n",
      "        7.745966692414834\n",
      "        >>> LA.norm(b, 'fro')\n",
      "        7.745966692414834\n",
      "        >>> LA.norm(a, np.inf)\n",
      "        4.0\n",
      "        >>> LA.norm(b, np.inf)\n",
      "        9.0\n",
      "        >>> LA.norm(a, -np.inf)\n",
      "        0.0\n",
      "        >>> LA.norm(b, -np.inf)\n",
      "        2.0\n",
      "        \n",
      "        >>> LA.norm(a, 1)\n",
      "        20.0\n",
      "        >>> LA.norm(b, 1)\n",
      "        7.0\n",
      "        >>> LA.norm(a, -1)\n",
      "        -4.6566128774142013e-010\n",
      "        >>> LA.norm(b, -1)\n",
      "        6.0\n",
      "        >>> LA.norm(a, 2)\n",
      "        7.745966692414834\n",
      "        >>> LA.norm(b, 2)\n",
      "        7.3484692283495345\n",
      "        \n",
      "        >>> LA.norm(a, -2)\n",
      "        0.0\n",
      "        >>> LA.norm(b, -2)\n",
      "        1.8570331885190563e-016 # may vary\n",
      "        >>> LA.norm(a, 3)\n",
      "        5.8480354764257312 # may vary\n",
      "        >>> LA.norm(a, -3)\n",
      "        0.0\n",
      "        \n",
      "        Using the `axis` argument to compute vector norms:\n",
      "        \n",
      "        >>> c = np.array([[ 1, 2, 3],\n",
      "        ...               [-1, 1, 4]])\n",
      "        >>> LA.norm(c, axis=0)\n",
      "        array([ 1.41421356,  2.23606798,  5.        ])\n",
      "        >>> LA.norm(c, axis=1)\n",
      "        array([ 3.74165739,  4.24264069])\n",
      "        >>> LA.norm(c, ord=1, axis=1)\n",
      "        array([ 6.,  6.])\n",
      "        \n",
      "        Using the `axis` argument to compute matrix norms:\n",
      "        \n",
      "        >>> m = np.arange(8).reshape(2,2,2)\n",
      "        >>> LA.norm(m, axis=(1,2))\n",
      "        array([  3.74165739,  11.22497216])\n",
      "        >>> LA.norm(m[0, :, :]), LA.norm(m[1, :, :])\n",
      "        (3.7416573867739413, 11.224972160321824)\n",
      "    \n",
      "    pinv(a, rcond=1e-15, hermitian=False)\n",
      "        Compute the (Moore-Penrose) pseudo-inverse of a matrix.\n",
      "        \n",
      "        Calculate the generalized inverse of a matrix using its\n",
      "        singular-value decomposition (SVD) and including all\n",
      "        *large* singular values.\n",
      "        \n",
      "        .. versionchanged:: 1.14\n",
      "           Can now operate on stacks of matrices\n",
      "        \n",
      "        Parameters\n",
      "        ----------\n",
      "        a : (..., M, N) array_like\n",
      "            Matrix or stack of matrices to be pseudo-inverted.\n",
      "        rcond : (...) array_like of float\n",
      "            Cutoff for small singular values.\n",
      "            Singular values less than or equal to\n",
      "            ``rcond * largest_singular_value`` are set to zero.\n",
      "            Broadcasts against the stack of matrices.\n",
      "        hermitian : bool, optional\n",
      "            If True, `a` is assumed to be Hermitian (symmetric if real-valued),\n",
      "            enabling a more efficient method for finding singular values.\n",
      "            Defaults to False.\n",
      "        \n",
      "            .. versionadded:: 1.17.0\n",
      "        \n",
      "        Returns\n",
      "        -------\n",
      "        B : (..., N, M) ndarray\n",
      "            The pseudo-inverse of `a`. If `a` is a `matrix` instance, then so\n",
      "            is `B`.\n",
      "        \n",
      "        Raises\n",
      "        ------\n",
      "        LinAlgError\n",
      "            If the SVD computation does not converge.\n",
      "        \n",
      "        See Also\n",
      "        --------\n",
      "        scipy.linalg.pinv : Similar function in SciPy.\n",
      "        scipy.linalg.pinv2 : Similar function in SciPy (SVD-based).\n",
      "        scipy.linalg.pinvh : Compute the (Moore-Penrose) pseudo-inverse of a\n",
      "                             Hermitian matrix.\n",
      "        \n",
      "        Notes\n",
      "        -----\n",
      "        The pseudo-inverse of a matrix A, denoted :math:`A^+`, is\n",
      "        defined as: \"the matrix that 'solves' [the least-squares problem]\n",
      "        :math:`Ax = b`,\" i.e., if :math:`\\bar{x}` is said solution, then\n",
      "        :math:`A^+` is that matrix such that :math:`\\bar{x} = A^+b`.\n",
      "        \n",
      "        It can be shown that if :math:`Q_1 \\Sigma Q_2^T = A` is the singular\n",
      "        value decomposition of A, then\n",
      "        :math:`A^+ = Q_2 \\Sigma^+ Q_1^T`, where :math:`Q_{1,2}` are\n",
      "        orthogonal matrices, :math:`\\Sigma` is a diagonal matrix consisting\n",
      "        of A's so-called singular values, (followed, typically, by\n",
      "        zeros), and then :math:`\\Sigma^+` is simply the diagonal matrix\n",
      "        consisting of the reciprocals of A's singular values\n",
      "        (again, followed by zeros). [1]_\n",
      "        \n",
      "        References\n",
      "        ----------\n",
      "        .. [1] G. Strang, *Linear Algebra and Its Applications*, 2nd Ed., Orlando,\n",
      "               FL, Academic Press, Inc., 1980, pp. 139-142.\n",
      "        \n",
      "        Examples\n",
      "        --------\n",
      "        The following example checks that ``a * a+ * a == a`` and\n",
      "        ``a+ * a * a+ == a+``:\n",
      "        \n",
      "        >>> a = np.random.randn(9, 6)\n",
      "        >>> B = np.linalg.pinv(a)\n",
      "        >>> np.allclose(a, np.dot(a, np.dot(B, a)))\n",
      "        True\n",
      "        >>> np.allclose(B, np.dot(B, np.dot(a, B)))\n",
      "        True\n",
      "    \n",
      "    qr(a, mode='reduced')\n",
      "        Compute the qr factorization of a matrix.\n",
      "        \n",
      "        Factor the matrix `a` as *qr*, where `q` is orthonormal and `r` is\n",
      "        upper-triangular.\n",
      "        \n",
      "        Parameters\n",
      "        ----------\n",
      "        a : array_like, shape (M, N)\n",
      "            Matrix to be factored.\n",
      "        mode : {'reduced', 'complete', 'r', 'raw'}, optional\n",
      "            If K = min(M, N), then\n",
      "        \n",
      "            * 'reduced'  : returns q, r with dimensions (M, K), (K, N) (default)\n",
      "            * 'complete' : returns q, r with dimensions (M, M), (M, N)\n",
      "            * 'r'        : returns r only with dimensions (K, N)\n",
      "            * 'raw'      : returns h, tau with dimensions (N, M), (K,)\n",
      "        \n",
      "            The options 'reduced', 'complete, and 'raw' are new in numpy 1.8,\n",
      "            see the notes for more information. The default is 'reduced', and to\n",
      "            maintain backward compatibility with earlier versions of numpy both\n",
      "            it and the old default 'full' can be omitted. Note that array h\n",
      "            returned in 'raw' mode is transposed for calling Fortran. The\n",
      "            'economic' mode is deprecated.  The modes 'full' and 'economic' may\n",
      "            be passed using only the first letter for backwards compatibility,\n",
      "            but all others must be spelled out. See the Notes for more\n",
      "            explanation.\n",
      "        \n",
      "        \n",
      "        Returns\n",
      "        -------\n",
      "        q : ndarray of float or complex, optional\n",
      "            A matrix with orthonormal columns. When mode = 'complete' the\n",
      "            result is an orthogonal/unitary matrix depending on whether or not\n",
      "            a is real/complex. The determinant may be either +/- 1 in that\n",
      "            case.\n",
      "        r : ndarray of float or complex, optional\n",
      "            The upper-triangular matrix.\n",
      "        (h, tau) : ndarrays of np.double or np.cdouble, optional\n",
      "            The array h contains the Householder reflectors that generate q\n",
      "            along with r. The tau array contains scaling factors for the\n",
      "            reflectors. In the deprecated  'economic' mode only h is returned.\n",
      "        \n",
      "        Raises\n",
      "        ------\n",
      "        LinAlgError\n",
      "            If factoring fails.\n",
      "        \n",
      "        See Also\n",
      "        --------\n",
      "        scipy.linalg.qr : Similar function in SciPy.\n",
      "        scipy.linalg.rq : Compute RQ decomposition of a matrix.\n",
      "        \n",
      "        Notes\n",
      "        -----\n",
      "        This is an interface to the LAPACK routines ``dgeqrf``, ``zgeqrf``,\n",
      "        ``dorgqr``, and ``zungqr``.\n",
      "        \n",
      "        For more information on the qr factorization, see for example:\n",
      "        https://en.wikipedia.org/wiki/QR_factorization\n",
      "        \n",
      "        Subclasses of `ndarray` are preserved except for the 'raw' mode. So if\n",
      "        `a` is of type `matrix`, all the return values will be matrices too.\n",
      "        \n",
      "        New 'reduced', 'complete', and 'raw' options for mode were added in\n",
      "        NumPy 1.8.0 and the old option 'full' was made an alias of 'reduced'.  In\n",
      "        addition the options 'full' and 'economic' were deprecated.  Because\n",
      "        'full' was the previous default and 'reduced' is the new default,\n",
      "        backward compatibility can be maintained by letting `mode` default.\n",
      "        The 'raw' option was added so that LAPACK routines that can multiply\n",
      "        arrays by q using the Householder reflectors can be used. Note that in\n",
      "        this case the returned arrays are of type np.double or np.cdouble and\n",
      "        the h array is transposed to be FORTRAN compatible.  No routines using\n",
      "        the 'raw' return are currently exposed by numpy, but some are available\n",
      "        in lapack_lite and just await the necessary work.\n",
      "        \n",
      "        Examples\n",
      "        --------\n",
      "        >>> a = np.random.randn(9, 6)\n",
      "        >>> q, r = np.linalg.qr(a)\n",
      "        >>> np.allclose(a, np.dot(q, r))  # a does equal qr\n",
      "        True\n",
      "        >>> r2 = np.linalg.qr(a, mode='r')\n",
      "        >>> np.allclose(r, r2)  # mode='r' returns the same r as mode='full'\n",
      "        True\n",
      "        \n",
      "        Example illustrating a common use of `qr`: solving of least squares\n",
      "        problems\n",
      "        \n",
      "        What are the least-squares-best `m` and `y0` in ``y = y0 + mx`` for\n",
      "        the following data: {(0,1), (1,0), (1,2), (2,1)}. (Graph the points\n",
      "        and you'll see that it should be y0 = 0, m = 1.)  The answer is provided\n",
      "        by solving the over-determined matrix equation ``Ax = b``, where::\n",
      "        \n",
      "          A = array([[0, 1], [1, 1], [1, 1], [2, 1]])\n",
      "          x = array([[y0], [m]])\n",
      "          b = array([[1], [0], [2], [1]])\n",
      "        \n",
      "        If A = qr such that q is orthonormal (which is always possible via\n",
      "        Gram-Schmidt), then ``x = inv(r) * (q.T) * b``.  (In numpy practice,\n",
      "        however, we simply use `lstsq`.)\n",
      "        \n",
      "        >>> A = np.array([[0, 1], [1, 1], [1, 1], [2, 1]])\n",
      "        >>> A\n",
      "        array([[0, 1],\n",
      "               [1, 1],\n",
      "               [1, 1],\n",
      "               [2, 1]])\n",
      "        >>> b = np.array([1, 0, 2, 1])\n",
      "        >>> q, r = np.linalg.qr(A)\n",
      "        >>> p = np.dot(q.T, b)\n",
      "        >>> np.dot(np.linalg.inv(r), p)\n",
      "        array([  1.1e-16,   1.0e+00])\n",
      "    \n",
      "    slogdet(a)\n",
      "        Compute the sign and (natural) logarithm of the determinant of an array.\n",
      "        \n",
      "        If an array has a very small or very large determinant, then a call to\n",
      "        `det` may overflow or underflow. This routine is more robust against such\n",
      "        issues, because it computes the logarithm of the determinant rather than\n",
      "        the determinant itself.\n",
      "        \n",
      "        Parameters\n",
      "        ----------\n",
      "        a : (..., M, M) array_like\n",
      "            Input array, has to be a square 2-D array.\n",
      "        \n",
      "        Returns\n",
      "        -------\n",
      "        sign : (...) array_like\n",
      "            A number representing the sign of the determinant. For a real matrix,\n",
      "            this is 1, 0, or -1. For a complex matrix, this is a complex number\n",
      "            with absolute value 1 (i.e., it is on the unit circle), or else 0.\n",
      "        logdet : (...) array_like\n",
      "            The natural log of the absolute value of the determinant.\n",
      "        \n",
      "        If the determinant is zero, then `sign` will be 0 and `logdet` will be\n",
      "        -Inf. In all cases, the determinant is equal to ``sign * np.exp(logdet)``.\n",
      "        \n",
      "        See Also\n",
      "        --------\n",
      "        det\n",
      "        \n",
      "        Notes\n",
      "        -----\n",
      "        \n",
      "        .. versionadded:: 1.8.0\n",
      "        \n",
      "        Broadcasting rules apply, see the `numpy.linalg` documentation for\n",
      "        details.\n",
      "        \n",
      "        .. versionadded:: 1.6.0\n",
      "        \n",
      "        The determinant is computed via LU factorization using the LAPACK\n",
      "        routine ``z/dgetrf``.\n",
      "        \n",
      "        \n",
      "        Examples\n",
      "        --------\n",
      "        The determinant of a 2-D array ``[[a, b], [c, d]]`` is ``ad - bc``:\n",
      "        \n",
      "        >>> a = np.array([[1, 2], [3, 4]])\n",
      "        >>> (sign, logdet) = np.linalg.slogdet(a)\n",
      "        >>> (sign, logdet)\n",
      "        (-1, 0.69314718055994529) # may vary\n",
      "        >>> sign * np.exp(logdet)\n",
      "        -2.0\n",
      "        \n",
      "        Computing log-determinants for a stack of matrices:\n",
      "        \n",
      "        >>> a = np.array([ [[1, 2], [3, 4]], [[1, 2], [2, 1]], [[1, 3], [3, 1]] ])\n",
      "        >>> a.shape\n",
      "        (3, 2, 2)\n",
      "        >>> sign, logdet = np.linalg.slogdet(a)\n",
      "        >>> (sign, logdet)\n",
      "        (array([-1., -1., -1.]), array([ 0.69314718,  1.09861229,  2.07944154]))\n",
      "        >>> sign * np.exp(logdet)\n",
      "        array([-2., -3., -8.])\n",
      "        \n",
      "        This routine succeeds where ordinary `det` does not:\n",
      "        \n",
      "        >>> np.linalg.det(np.eye(500) * 0.1)\n",
      "        0.0\n",
      "        >>> np.linalg.slogdet(np.eye(500) * 0.1)\n",
      "        (1, -1151.2925464970228)\n",
      "    \n",
      "    solve(a, b)\n",
      "        Solve a linear matrix equation, or system of linear scalar equations.\n",
      "        \n",
      "        Computes the \"exact\" solution, `x`, of the well-determined, i.e., full\n",
      "        rank, linear matrix equation `ax = b`.\n",
      "        \n",
      "        Parameters\n",
      "        ----------\n",
      "        a : (..., M, M) array_like\n",
      "            Coefficient matrix.\n",
      "        b : {(..., M,), (..., M, K)}, array_like\n",
      "            Ordinate or \"dependent variable\" values.\n",
      "        \n",
      "        Returns\n",
      "        -------\n",
      "        x : {(..., M,), (..., M, K)} ndarray\n",
      "            Solution to the system a x = b.  Returned shape is identical to `b`.\n",
      "        \n",
      "        Raises\n",
      "        ------\n",
      "        LinAlgError\n",
      "            If `a` is singular or not square.\n",
      "        \n",
      "        See Also\n",
      "        --------\n",
      "        scipy.linalg.solve : Similar function in SciPy.\n",
      "        \n",
      "        Notes\n",
      "        -----\n",
      "        \n",
      "        .. versionadded:: 1.8.0\n",
      "        \n",
      "        Broadcasting rules apply, see the `numpy.linalg` documentation for\n",
      "        details.\n",
      "        \n",
      "        The solutions are computed using LAPACK routine ``_gesv``.\n",
      "        \n",
      "        `a` must be square and of full-rank, i.e., all rows (or, equivalently,\n",
      "        columns) must be linearly independent; if either is not true, use\n",
      "        `lstsq` for the least-squares best \"solution\" of the\n",
      "        system/equation.\n",
      "        \n",
      "        References\n",
      "        ----------\n",
      "        .. [1] G. Strang, *Linear Algebra and Its Applications*, 2nd Ed., Orlando,\n",
      "               FL, Academic Press, Inc., 1980, pg. 22.\n",
      "        \n",
      "        Examples\n",
      "        --------\n",
      "        Solve the system of equations ``x0 + 2 * x1 = 1`` and ``3 * x0 + 5 * x1 = 2``:\n",
      "        \n",
      "        >>> a = np.array([[1, 2], [3, 5]])\n",
      "        >>> b = np.array([1, 2])\n",
      "        >>> x = np.linalg.solve(a, b)\n",
      "        >>> x\n",
      "        array([-1.,  1.])\n",
      "        \n",
      "        Check that the solution is correct:\n",
      "        \n",
      "        >>> np.allclose(np.dot(a, x), b)\n",
      "        True\n",
      "    \n",
      "    svd(a, full_matrices=True, compute_uv=True, hermitian=False)\n",
      "        Singular Value Decomposition.\n",
      "        \n",
      "        When `a` is a 2D array, it is factorized as ``u @ np.diag(s) @ vh\n",
      "        = (u * s) @ vh``, where `u` and `vh` are 2D unitary arrays and `s` is a 1D\n",
      "        array of `a`'s singular values. When `a` is higher-dimensional, SVD is\n",
      "        applied in stacked mode as explained below.\n",
      "        \n",
      "        Parameters\n",
      "        ----------\n",
      "        a : (..., M, N) array_like\n",
      "            A real or complex array with ``a.ndim >= 2``.\n",
      "        full_matrices : bool, optional\n",
      "            If True (default), `u` and `vh` have the shapes ``(..., M, M)`` and\n",
      "            ``(..., N, N)``, respectively.  Otherwise, the shapes are\n",
      "            ``(..., M, K)`` and ``(..., K, N)``, respectively, where\n",
      "            ``K = min(M, N)``.\n",
      "        compute_uv : bool, optional\n",
      "            Whether or not to compute `u` and `vh` in addition to `s`.  True\n",
      "            by default.\n",
      "        hermitian : bool, optional\n",
      "            If True, `a` is assumed to be Hermitian (symmetric if real-valued),\n",
      "            enabling a more efficient method for finding singular values.\n",
      "            Defaults to False.\n",
      "        \n",
      "            .. versionadded:: 1.17.0\n",
      "        \n",
      "        Returns\n",
      "        -------\n",
      "        u : { (..., M, M), (..., M, K) } array\n",
      "            Unitary array(s). The first ``a.ndim - 2`` dimensions have the same\n",
      "            size as those of the input `a`. The size of the last two dimensions\n",
      "            depends on the value of `full_matrices`. Only returned when\n",
      "            `compute_uv` is True.\n",
      "        s : (..., K) array\n",
      "            Vector(s) with the singular values, within each vector sorted in\n",
      "            descending order. The first ``a.ndim - 2`` dimensions have the same\n",
      "            size as those of the input `a`.\n",
      "        vh : { (..., N, N), (..., K, N) } array\n",
      "            Unitary array(s). The first ``a.ndim - 2`` dimensions have the same\n",
      "            size as those of the input `a`. The size of the last two dimensions\n",
      "            depends on the value of `full_matrices`. Only returned when\n",
      "            `compute_uv` is True.\n",
      "        \n",
      "        Raises\n",
      "        ------\n",
      "        LinAlgError\n",
      "            If SVD computation does not converge.\n",
      "        \n",
      "        See Also\n",
      "        --------\n",
      "        scipy.linalg.svd : Similar function in SciPy.\n",
      "        scipy.linalg.svdvals : Compute singular values of a matrix.\n",
      "        \n",
      "        Notes\n",
      "        -----\n",
      "        \n",
      "        .. versionchanged:: 1.8.0\n",
      "           Broadcasting rules apply, see the `numpy.linalg` documentation for\n",
      "           details.\n",
      "        \n",
      "        The decomposition is performed using LAPACK routine ``_gesdd``.\n",
      "        \n",
      "        SVD is usually described for the factorization of a 2D matrix :math:`A`.\n",
      "        The higher-dimensional case will be discussed below. In the 2D case, SVD is\n",
      "        written as :math:`A = U S V^H`, where :math:`A = a`, :math:`U= u`,\n",
      "        :math:`S= \\mathtt{np.diag}(s)` and :math:`V^H = vh`. The 1D array `s`\n",
      "        contains the singular values of `a` and `u` and `vh` are unitary. The rows\n",
      "        of `vh` are the eigenvectors of :math:`A^H A` and the columns of `u` are\n",
      "        the eigenvectors of :math:`A A^H`. In both cases the corresponding\n",
      "        (possibly non-zero) eigenvalues are given by ``s**2``.\n",
      "        \n",
      "        If `a` has more than two dimensions, then broadcasting rules apply, as\n",
      "        explained in :ref:`routines.linalg-broadcasting`. This means that SVD is\n",
      "        working in \"stacked\" mode: it iterates over all indices of the first\n",
      "        ``a.ndim - 2`` dimensions and for each combination SVD is applied to the\n",
      "        last two indices. The matrix `a` can be reconstructed from the\n",
      "        decomposition with either ``(u * s[..., None, :]) @ vh`` or\n",
      "        ``u @ (s[..., None] * vh)``. (The ``@`` operator can be replaced by the\n",
      "        function ``np.matmul`` for python versions below 3.5.)\n",
      "        \n",
      "        If `a` is a ``matrix`` object (as opposed to an ``ndarray``), then so are\n",
      "        all the return values.\n",
      "        \n",
      "        Examples\n",
      "        --------\n",
      "        >>> a = np.random.randn(9, 6) + 1j*np.random.randn(9, 6)\n",
      "        >>> b = np.random.randn(2, 7, 8, 3) + 1j*np.random.randn(2, 7, 8, 3)\n",
      "        \n",
      "        Reconstruction based on full SVD, 2D case:\n",
      "        \n",
      "        >>> u, s, vh = np.linalg.svd(a, full_matrices=True)\n",
      "        >>> u.shape, s.shape, vh.shape\n",
      "        ((9, 9), (6,), (6, 6))\n",
      "        >>> np.allclose(a, np.dot(u[:, :6] * s, vh))\n",
      "        True\n",
      "        >>> smat = np.zeros((9, 6), dtype=complex)\n",
      "        >>> smat[:6, :6] = np.diag(s)\n",
      "        >>> np.allclose(a, np.dot(u, np.dot(smat, vh)))\n",
      "        True\n",
      "        \n",
      "        Reconstruction based on reduced SVD, 2D case:\n",
      "        \n",
      "        >>> u, s, vh = np.linalg.svd(a, full_matrices=False)\n",
      "        >>> u.shape, s.shape, vh.shape\n",
      "        ((9, 6), (6,), (6, 6))\n",
      "        >>> np.allclose(a, np.dot(u * s, vh))\n",
      "        True\n",
      "        >>> smat = np.diag(s)\n",
      "        >>> np.allclose(a, np.dot(u, np.dot(smat, vh)))\n",
      "        True\n",
      "        \n",
      "        Reconstruction based on full SVD, 4D case:\n",
      "        \n",
      "        >>> u, s, vh = np.linalg.svd(b, full_matrices=True)\n",
      "        >>> u.shape, s.shape, vh.shape\n",
      "        ((2, 7, 8, 8), (2, 7, 3), (2, 7, 3, 3))\n",
      "        >>> np.allclose(b, np.matmul(u[..., :3] * s[..., None, :], vh))\n",
      "        True\n",
      "        >>> np.allclose(b, np.matmul(u[..., :3], s[..., None] * vh))\n",
      "        True\n",
      "        \n",
      "        Reconstruction based on reduced SVD, 4D case:\n",
      "        \n",
      "        >>> u, s, vh = np.linalg.svd(b, full_matrices=False)\n",
      "        >>> u.shape, s.shape, vh.shape\n",
      "        ((2, 7, 8, 3), (2, 7, 3), (2, 7, 3, 3))\n",
      "        >>> np.allclose(b, np.matmul(u * s[..., None, :], vh))\n",
      "        True\n",
      "        >>> np.allclose(b, np.matmul(u, s[..., None] * vh))\n",
      "        True\n",
      "    \n",
      "    tensorinv(a, ind=2)\n",
      "        Compute the 'inverse' of an N-dimensional array.\n",
      "        \n",
      "        The result is an inverse for `a` relative to the tensordot operation\n",
      "        ``tensordot(a, b, ind)``, i. e., up to floating-point accuracy,\n",
      "        ``tensordot(tensorinv(a), a, ind)`` is the \"identity\" tensor for the\n",
      "        tensordot operation.\n",
      "        \n",
      "        Parameters\n",
      "        ----------\n",
      "        a : array_like\n",
      "            Tensor to 'invert'. Its shape must be 'square', i. e.,\n",
      "            ``prod(a.shape[:ind]) == prod(a.shape[ind:])``.\n",
      "        ind : int, optional\n",
      "            Number of first indices that are involved in the inverse sum.\n",
      "            Must be a positive integer, default is 2.\n",
      "        \n",
      "        Returns\n",
      "        -------\n",
      "        b : ndarray\n",
      "            `a`'s tensordot inverse, shape ``a.shape[ind:] + a.shape[:ind]``.\n",
      "        \n",
      "        Raises\n",
      "        ------\n",
      "        LinAlgError\n",
      "            If `a` is singular or not 'square' (in the above sense).\n",
      "        \n",
      "        See Also\n",
      "        --------\n",
      "        numpy.tensordot, tensorsolve\n",
      "        \n",
      "        Examples\n",
      "        --------\n",
      "        >>> a = np.eye(4*6)\n",
      "        >>> a.shape = (4, 6, 8, 3)\n",
      "        >>> ainv = np.linalg.tensorinv(a, ind=2)\n",
      "        >>> ainv.shape\n",
      "        (8, 3, 4, 6)\n",
      "        >>> b = np.random.randn(4, 6)\n",
      "        >>> np.allclose(np.tensordot(ainv, b), np.linalg.tensorsolve(a, b))\n",
      "        True\n",
      "        \n",
      "        >>> a = np.eye(4*6)\n",
      "        >>> a.shape = (24, 8, 3)\n",
      "        >>> ainv = np.linalg.tensorinv(a, ind=1)\n",
      "        >>> ainv.shape\n",
      "        (8, 3, 24)\n",
      "        >>> b = np.random.randn(24)\n",
      "        >>> np.allclose(np.tensordot(ainv, b, 1), np.linalg.tensorsolve(a, b))\n",
      "        True\n",
      "    \n",
      "    tensorsolve(a, b, axes=None)\n",
      "        Solve the tensor equation ``a x = b`` for x.\n",
      "        \n",
      "        It is assumed that all indices of `x` are summed over in the product,\n",
      "        together with the rightmost indices of `a`, as is done in, for example,\n",
      "        ``tensordot(a, x, axes=b.ndim)``.\n",
      "        \n",
      "        Parameters\n",
      "        ----------\n",
      "        a : array_like\n",
      "            Coefficient tensor, of shape ``b.shape + Q``. `Q`, a tuple, equals\n",
      "            the shape of that sub-tensor of `a` consisting of the appropriate\n",
      "            number of its rightmost indices, and must be such that\n",
      "            ``prod(Q) == prod(b.shape)`` (in which sense `a` is said to be\n",
      "            'square').\n",
      "        b : array_like\n",
      "            Right-hand tensor, which can be of any shape.\n",
      "        axes : tuple of ints, optional\n",
      "            Axes in `a` to reorder to the right, before inversion.\n",
      "            If None (default), no reordering is done.\n",
      "        \n",
      "        Returns\n",
      "        -------\n",
      "        x : ndarray, shape Q\n",
      "        \n",
      "        Raises\n",
      "        ------\n",
      "        LinAlgError\n",
      "            If `a` is singular or not 'square' (in the above sense).\n",
      "        \n",
      "        See Also\n",
      "        --------\n",
      "        numpy.tensordot, tensorinv, numpy.einsum\n",
      "        \n",
      "        Examples\n",
      "        --------\n",
      "        >>> a = np.eye(2*3*4)\n",
      "        >>> a.shape = (2*3, 4, 2, 3, 4)\n",
      "        >>> b = np.random.randn(2*3, 4)\n",
      "        >>> x = np.linalg.tensorsolve(a, b)\n",
      "        >>> x.shape\n",
      "        (2, 3, 4)\n",
      "        >>> np.allclose(np.tensordot(a, x, axes=3), b)\n",
      "        True\n",
      "\n",
      "DATA\n",
      "    test = <numpy._pytesttester.PytestTester object>\n",
      "\n",
      "FILE\n",
      "    c:\\programdata\\anaconda3\\lib\\site-packages\\numpy\\linalg\\__init__.py\n",
      "\n",
      "\n"
     ]
    },
    {
     "data": {
      "text/plain": [
       "['LinAlgError',\n",
       " '__builtins__',\n",
       " '__cached__',\n",
       " '__doc__',\n",
       " '__file__',\n",
       " '__loader__',\n",
       " '__name__',\n",
       " '__package__',\n",
       " '__path__',\n",
       " '__spec__',\n",
       " '_umath_linalg',\n",
       " 'cholesky',\n",
       " 'cond',\n",
       " 'det',\n",
       " 'eig',\n",
       " 'eigh',\n",
       " 'eigvals',\n",
       " 'eigvalsh',\n",
       " 'inv',\n",
       " 'lapack_lite',\n",
       " 'linalg',\n",
       " 'lstsq',\n",
       " 'matrix_power',\n",
       " 'matrix_rank',\n",
       " 'multi_dot',\n",
       " 'norm',\n",
       " 'pinv',\n",
       " 'qr',\n",
       " 'slogdet',\n",
       " 'solve',\n",
       " 'svd',\n",
       " 'tensorinv',\n",
       " 'tensorsolve',\n",
       " 'test']"
      ]
     },
     "execution_count": 718,
     "metadata": {},
     "output_type": "execute_result"
    }
   ],
   "source": [
    "help(np.linalg)\n",
    "dir(np.linalg)"
   ]
  },
  {
   "cell_type": "code",
   "execution_count": 720,
   "id": "a62417d0",
   "metadata": {},
   "outputs": [
    {
     "data": {
      "text/plain": [
       "285"
      ]
     },
     "execution_count": 720,
     "metadata": {},
     "output_type": "execute_result"
    }
   ],
   "source": [
    "np.dot(np.arange(10), np.arange(10))"
   ]
  },
  {
   "cell_type": "code",
   "execution_count": null,
   "id": "5f47c45d",
   "metadata": {},
   "outputs": [],
   "source": [
    "# np.linalg.inv()\n",
    "# np.linalg.det()\n",
    "# np.linalg.eig()"
   ]
  },
  {
   "cell_type": "code",
   "execution_count": 737,
   "id": "aa30476d",
   "metadata": {},
   "outputs": [
    {
     "data": {
      "text/plain": [
       "3"
      ]
     },
     "execution_count": 737,
     "metadata": {},
     "output_type": "execute_result"
    }
   ],
   "source": [
    "np.random.seed(46)\n",
    "# np.random.random((3,3))\n",
    "np.linalg.matrix_rank(np.random.random((3,3)))"
   ]
  },
  {
   "cell_type": "code",
   "execution_count": 739,
   "id": "c798d549",
   "metadata": {},
   "outputs": [
    {
     "data": {
      "text/plain": [
       "array([[ 2.48174304,  1.50677365, -1.6453494 ],\n",
       "       [ 0.14778418, -1.03972884,  0.96592319],\n",
       "       [-2.0185767 ,  1.60568349,  1.20207022]])"
      ]
     },
     "execution_count": 739,
     "metadata": {},
     "output_type": "execute_result"
    }
   ],
   "source": [
    "np.linalg.inv(np.random.random((3,3)))"
   ]
  },
  {
   "cell_type": "code",
   "execution_count": 740,
   "id": "ace848fd",
   "metadata": {},
   "outputs": [
    {
     "data": {
      "text/plain": [
       "-0.048907060572290835"
      ]
     },
     "execution_count": 740,
     "metadata": {},
     "output_type": "execute_result"
    }
   ],
   "source": [
    "np.linalg.det(np.random.random((3,3)))"
   ]
  },
  {
   "cell_type": "code",
   "execution_count": 748,
   "id": "6b11306c",
   "metadata": {},
   "outputs": [
    {
     "data": {
      "text/plain": [
       "array([[ -1.37141283,  26.88741683, -15.88792337],\n",
       "       [  5.10508318, -51.64852307,  33.11665878],\n",
       "       [  0.79111798,  -2.4011897 ,   1.54556401]])"
      ]
     },
     "execution_count": 748,
     "metadata": {},
     "output_type": "execute_result"
    }
   ],
   "source": [
    "\n",
    "np.matmul(np.random.random((3,3)), np.linalg.inv(np.random.random((3,3)))) # multiplying a matrix with its inverse"
   ]
  },
  {
   "cell_type": "code",
   "execution_count": 757,
   "id": "a45e2c9d",
   "metadata": {},
   "outputs": [
    {
     "data": {
      "text/plain": [
       "array([[ 2.11553884, -0.24085233, -0.50997646],\n",
       "       [ 0.9707623 ,  0.33653894,  0.24520778],\n",
       "       [ 2.49715045, -1.09492263,  0.39945517]])"
      ]
     },
     "execution_count": 757,
     "metadata": {},
     "output_type": "execute_result"
    }
   ],
   "source": [
    "np.random.RandomState(89)\n",
    "# np.random.seed(78)\n",
    "np.matmul(np.random.random((3,3)), np.linalg.inv(np.random.random((3,3)))) # multiplying a matrix with its inverse"
   ]
  },
  {
   "cell_type": "code",
   "execution_count": 755,
   "id": "54336482",
   "metadata": {},
   "outputs": [
    {
     "data": {
      "text/plain": [
       "array([[0.31795903, 0.33276945, 0.16921168],\n",
       "       [0.61388593, 0.60681343, 0.45530234],\n",
       "       [0.9624899 , 0.83674246, 0.97437003]])"
      ]
     },
     "execution_count": 755,
     "metadata": {},
     "output_type": "execute_result"
    }
   ],
   "source": [
    "# if multiply a matrix by its inverse we get an identity matrix\n",
    "np.random.seed(57)\n",
    "np.matmul(np.random.random((3,3)), np.random.random((3,3))) # this is matrix multiplication"
   ]
  },
  {
   "cell_type": "code",
   "execution_count": 756,
   "id": "dd91bd56",
   "metadata": {},
   "outputs": [
    {
     "data": {
      "text/plain": [
       "array([[0.66886588, 0.00667546, 0.01631165],\n",
       "       [0.00432604, 0.27873585, 0.0451231 ],\n",
       "       [0.0079314 , 0.03316463, 0.0128514 ]])"
      ]
     },
     "execution_count": 756,
     "metadata": {},
     "output_type": "execute_result"
    }
   ],
   "source": [
    "np.random.random((3,3))*np.random.random((3,3)) # this is simple multiplication of two arrays"
   ]
  },
  {
   "cell_type": "code",
   "execution_count": 773,
   "id": "d171c8e4",
   "metadata": {},
   "outputs": [
    {
     "data": {
      "text/plain": [
       "array([[ 1.00000000e+00,  0.00000000e+00,  2.77555756e-16],\n",
       "       [-1.77635684e-15,  1.00000000e+00,  2.22044605e-16],\n",
       "       [ 4.44089210e-16,  5.55111512e-17,  1.00000000e+00]])"
      ]
     },
     "execution_count": 773,
     "metadata": {},
     "output_type": "execute_result"
    }
   ],
   "source": [
    "A = [[3,4,1],[3,6,7],[7,8,3]]\n",
    "A\n",
    "np.matmul(A, np.linalg.inv(A)) # multiplying the matrix with its inverse gives an identity matrix"
   ]
  },
  {
   "cell_type": "code",
   "execution_count": 774,
   "id": "6665ebf5",
   "metadata": {},
   "outputs": [
    {
     "data": {
      "text/plain": [
       "array([[ 454,  648,  438],\n",
       "       [1002, 1456, 1002],\n",
       "       [1002, 1440,  982]])"
      ]
     },
     "execution_count": 774,
     "metadata": {},
     "output_type": "execute_result"
    }
   ],
   "source": [
    "np.linalg.matrix_power(A, 3) # A*A*A"
   ]
  },
  {
   "cell_type": "code",
   "execution_count": null,
   "id": "95182305",
   "metadata": {},
   "outputs": [],
   "source": [
    "# comparing elementwise operation incase to know the memory consumption"
   ]
  },
  {
   "cell_type": "code",
   "execution_count": 795,
   "id": "76fc3084",
   "metadata": {},
   "outputs": [
    {
     "name": "stdout",
     "output_type": "stream",
     "text": [
      "0.44068288803100586\n",
      "0.0050013065338134766\n",
      "the ratio of time taken is 88.0\n"
     ]
    }
   ],
   "source": [
    "list_1 = [i for i in np.arange(1000000)]\n",
    "list_2 = [j*2 for j in np.arange(1000000)]\n",
    "\n",
    "import time\n",
    "t0 = time.time()\n",
    "list(map(lambda x, y: x+y,list_1 , list_2)) # elementwise operation between a list\n",
    "t1 = time.time()\n",
    "t2 = t1-t0\n",
    "print(t2)\n",
    "\n",
    "arr1A = np.array(np.arange(1000000))\n",
    "arr2A = np.array(np.arange(1000000))\n",
    "\n",
    "t3 = time.time()\n",
    "arr1A * arr2A # elementwise operation between arrays\n",
    "t4 = time.time()\n",
    "t5 = t4-t3\n",
    "print(t5)\n",
    "\n",
    "# so the ratio:\n",
    "print(f'the ratio of time taken is {t2//t5}') # it takes t2//t5 times faster in array than list\n",
    "\n",
    "# NumPy is written in C, which is basically being executed behind the scenes.\n",
    "# NumPy arrays are more compact than lists, i.e., they take less storage space than lists.\n",
    "\n"
   ]
  },
  {
   "cell_type": "code",
   "execution_count": null,
   "id": "7af20043",
   "metadata": {},
   "outputs": [],
   "source": [
    "# Basics+of+NumPy+Starter vanne herne"
   ]
  },
  {
   "cell_type": "markdown",
   "id": "b587e15d",
   "metadata": {},
   "source": [
    "###### Numpy Array"
   ]
  },
  {
   "cell_type": "code",
   "execution_count": null,
   "id": "ca5689f6",
   "metadata": {},
   "outputs": [],
   "source": [
    "size# in memory there are contiguous(sangsangai, ekpaxi arko) located physically in memory when we are using lists and array.\n",
    "# first element ko address j ho list ya array ko address ni tei ho\n",
    "\n",
    "# np.array() garda yo array() function le Array vane class ko instance banau6.\n",
    "# sosize dtype is a property and type() is a method"
   ]
  },
  {
   "cell_type": "code",
   "execution_count": 74,
   "id": "ba9b64ce",
   "metadata": {},
   "outputs": [],
   "source": [
    "arr2 = np.array([1,2,3], dtype = 'float')\n",
    "arr2.dtype?"
   ]
  },
  {
   "cell_type": "code",
   "execution_count": 73,
   "id": "757fa2b2",
   "metadata": {
    "collapsed": true
   },
   "outputs": [
    {
     "data": {
      "text/plain": [
       "['T',\n",
       " '__abs__',\n",
       " '__add__',\n",
       " '__and__',\n",
       " '__array__',\n",
       " '__array_finalize__',\n",
       " '__array_function__',\n",
       " '__array_interface__',\n",
       " '__array_prepare__',\n",
       " '__array_priority__',\n",
       " '__array_struct__',\n",
       " '__array_ufunc__',\n",
       " '__array_wrap__',\n",
       " '__bool__',\n",
       " '__class__',\n",
       " '__complex__',\n",
       " '__contains__',\n",
       " '__copy__',\n",
       " '__deepcopy__',\n",
       " '__delattr__',\n",
       " '__delitem__',\n",
       " '__dir__',\n",
       " '__divmod__',\n",
       " '__doc__',\n",
       " '__eq__',\n",
       " '__float__',\n",
       " '__floordiv__',\n",
       " '__format__',\n",
       " '__ge__',\n",
       " '__getattribute__',\n",
       " '__getitem__',\n",
       " '__gt__',\n",
       " '__hash__',\n",
       " '__iadd__',\n",
       " '__iand__',\n",
       " '__ifloordiv__',\n",
       " '__ilshift__',\n",
       " '__imatmul__',\n",
       " '__imod__',\n",
       " '__imul__',\n",
       " '__index__',\n",
       " '__init__',\n",
       " '__init_subclass__',\n",
       " '__int__',\n",
       " '__invert__',\n",
       " '__ior__',\n",
       " '__ipow__',\n",
       " '__irshift__',\n",
       " '__isub__',\n",
       " '__iter__',\n",
       " '__itruediv__',\n",
       " '__ixor__',\n",
       " '__le__',\n",
       " '__len__',\n",
       " '__lshift__',\n",
       " '__lt__',\n",
       " '__matmul__',\n",
       " '__mod__',\n",
       " '__mul__',\n",
       " '__ne__',\n",
       " '__neg__',\n",
       " '__new__',\n",
       " '__or__',\n",
       " '__pos__',\n",
       " '__pow__',\n",
       " '__radd__',\n",
       " '__rand__',\n",
       " '__rdivmod__',\n",
       " '__reduce__',\n",
       " '__reduce_ex__',\n",
       " '__repr__',\n",
       " '__rfloordiv__',\n",
       " '__rlshift__',\n",
       " '__rmatmul__',\n",
       " '__rmod__',\n",
       " '__rmul__',\n",
       " '__ror__',\n",
       " '__rpow__',\n",
       " '__rrshift__',\n",
       " '__rshift__',\n",
       " '__rsub__',\n",
       " '__rtruediv__',\n",
       " '__rxor__',\n",
       " '__setattr__',\n",
       " '__setitem__',\n",
       " '__setstate__',\n",
       " '__sizeof__',\n",
       " '__str__',\n",
       " '__sub__',\n",
       " '__subclasshook__',\n",
       " '__truediv__',\n",
       " '__xor__',\n",
       " 'all',\n",
       " 'any',\n",
       " 'argmax',\n",
       " 'argmin',\n",
       " 'argpartition',\n",
       " 'argsort',\n",
       " 'astype',\n",
       " 'base',\n",
       " 'byteswap',\n",
       " 'choose',\n",
       " 'clip',\n",
       " 'compress',\n",
       " 'conj',\n",
       " 'conjugate',\n",
       " 'copy',\n",
       " 'ctypes',\n",
       " 'cumprod',\n",
       " 'cumsum',\n",
       " 'data',\n",
       " 'diagonal',\n",
       " 'dot',\n",
       " 'dtype',\n",
       " 'dump',\n",
       " 'dumps',\n",
       " 'fill',\n",
       " 'flags',\n",
       " 'flat',\n",
       " 'flatten',\n",
       " 'getfield',\n",
       " 'imag',\n",
       " 'item',\n",
       " 'itemset',\n",
       " 'itemsize',\n",
       " 'max',\n",
       " 'mean',\n",
       " 'min',\n",
       " 'nbytes',\n",
       " 'ndim',\n",
       " 'newbyteorder',\n",
       " 'nonzero',\n",
       " 'partition',\n",
       " 'prod',\n",
       " 'ptp',\n",
       " 'put',\n",
       " 'ravel',\n",
       " 'real',\n",
       " 'repeat',\n",
       " 'reshape',\n",
       " 'resize',\n",
       " 'round',\n",
       " 'searchsorted',\n",
       " 'setfield',\n",
       " 'setflags',\n",
       " 'shape',\n",
       " 'size',\n",
       " 'sort',\n",
       " 'squeeze',\n",
       " 'std',\n",
       " 'strides',\n",
       " 'sum',\n",
       " 'swapaxes',\n",
       " 'take',\n",
       " 'tobytes',\n",
       " 'tofile',\n",
       " 'tolist',\n",
       " 'tostring',\n",
       " 'trace',\n",
       " 'transpose',\n",
       " 'var',\n",
       " 'view']"
      ]
     },
     "execution_count": 73,
     "metadata": {},
     "output_type": "execute_result"
    }
   ],
   "source": [
    "dir(arr2)\n"
   ]
  },
  {
   "cell_type": "code",
   "execution_count": 55,
   "id": "420e4187",
   "metadata": {},
   "outputs": [
    {
     "name": "stdout",
     "output_type": "stream",
     "text": [
      "['hi', True, 67.89, 100]\n",
      "<class 'list'>\n",
      "int32\n"
     ]
    }
   ],
   "source": [
    "# difference between list and array\n",
    "\n",
    "lst= ['hi', True, 67.89, 100]\n",
    "print(lst)\n",
    "\n",
    "### Upcasting ######\n",
    "\n",
    "# print(np.array(lst, dtype = 'int')) \n",
    "# list pass gareko array ma with elements of different datatypes\n",
    "# sabai string ma  print gar6 because array is only for a fixed datatype \n",
    "# arrays can only have a single type of data\n",
    "# yaad garne dtype = int dida yadi float data type vako item cha vane teslai int ma upcast garna sakdaina so error din6\n",
    "\n",
    "lst1 = [1, True]\n",
    "print(np.array(lst1, dtype = 'int').dtype)"
   ]
  },
  {
   "cell_type": "code",
   "execution_count": 22,
   "id": "f1b00e73",
   "metadata": {
    "collapsed": true
   },
   "outputs": [
    {
     "ename": "AttributeError",
     "evalue": "'numpy.ndarray' object has no attribute 'dim'",
     "output_type": "error",
     "traceback": [
      "\u001b[1;31m---------------------------------------------------------------------------\u001b[0m",
      "\u001b[1;31mAttributeError\u001b[0m                            Traceback (most recent call last)",
      "\u001b[1;32m~\\AppData\\Local\\Temp/ipykernel_25892/1439396934.py\u001b[0m in \u001b[0;36m<module>\u001b[1;34m\u001b[0m\n\u001b[0;32m      2\u001b[0m \u001b[0mmy_arr\u001b[0m \u001b[1;33m=\u001b[0m \u001b[0mnp\u001b[0m\u001b[1;33m.\u001b[0m\u001b[0marray\u001b[0m\u001b[1;33m(\u001b[0m\u001b[1;33m[\u001b[0m\u001b[1;36m2\u001b[0m\u001b[1;33m,\u001b[0m\u001b[1;36m3\u001b[0m\u001b[1;33m,\u001b[0m\u001b[1;36m5\u001b[0m\u001b[1;33m,\u001b[0m\u001b[1;36m6\u001b[0m\u001b[1;33m,\u001b[0m\u001b[1;36m8\u001b[0m\u001b[1;33m]\u001b[0m\u001b[1;33m)\u001b[0m \u001b[1;31m# passing a 1dlist\u001b[0m\u001b[1;33m\u001b[0m\u001b[1;33m\u001b[0m\u001b[0m\n\u001b[0;32m      3\u001b[0m \u001b[0mtype\u001b[0m\u001b[1;33m(\u001b[0m\u001b[0mmy_arr\u001b[0m\u001b[1;33m)\u001b[0m \u001b[1;31m#type(object)\u001b[0m\u001b[1;33m\u001b[0m\u001b[1;33m\u001b[0m\u001b[0m\n\u001b[1;32m----> 4\u001b[1;33m \u001b[0mmy_arr\u001b[0m\u001b[1;33m.\u001b[0m\u001b[0mdim\u001b[0m\u001b[1;33m\u001b[0m\u001b[1;33m\u001b[0m\u001b[0m\n\u001b[0m\u001b[0;32m      5\u001b[0m \u001b[1;31m# gives a 1 d array\u001b[0m\u001b[1;33m\u001b[0m\u001b[1;33m\u001b[0m\u001b[0m\n\u001b[0;32m      6\u001b[0m \u001b[1;31m# my_arr.dtype\u001b[0m\u001b[1;33m\u001b[0m\u001b[1;33m\u001b[0m\u001b[0m\n",
      "\u001b[1;31mAttributeError\u001b[0m: 'numpy.ndarray' object has no attribute 'dim'"
     ]
    }
   ],
   "source": [
    "# array function ma passing a 1 dimensinal list\n",
    "my_arr = np.array([2,3,5,6,8]) # passing a 1d list\n",
    "type(my_arr) #type(object)\n",
    "# gives a n dim array\n",
    "my_arr.dtype"
   ]
  },
  {
   "cell_type": "code",
   "execution_count": 140,
   "id": "bc6b6635",
   "metadata": {},
   "outputs": [
    {
     "data": {
      "text/plain": [
       "numpy.ndarray"
      ]
     },
     "execution_count": 140,
     "metadata": {},
     "output_type": "execute_result"
    }
   ],
   "source": [
    "my_arr = np.array((2,3,4,5)) # passing a tuple\n",
    "# as an array \n",
    "type(my_arr)\n",
    "# gives a n d array"
   ]
  },
  {
   "cell_type": "code",
   "execution_count": 67,
   "id": "1180be2b",
   "metadata": {},
   "outputs": [
    {
     "data": {
      "text/plain": [
       "1"
      ]
     },
     "execution_count": 67,
     "metadata": {},
     "output_type": "execute_result"
    }
   ],
   "source": [
    "# list ya tuple j de pani np.array le ndarray ma convert gar6\n",
    "\n",
    "# print(np.array((1,2,3)).dtype)\n",
    "arr = np.array((1,2,3)) # it gives a ndarry\n",
    "type(arr)\n",
    "arr.ndim\n",
    "# arr.dtype\n",
    "# print(arr)"
   ]
  },
  {
   "cell_type": "code",
   "execution_count": 33,
   "id": "0b19d606",
   "metadata": {},
   "outputs": [
    {
     "data": {
      "text/plain": [
       "dtype('int32')"
      ]
     },
     "execution_count": 33,
     "metadata": {},
     "output_type": "execute_result"
    }
   ],
   "source": [
    "my_arr.dtype # the dtype() function is used to determine the data type of elements in a numpy array"
   ]
  },
  {
   "cell_type": "code",
   "execution_count": 24,
   "id": "47c9e0e0",
   "metadata": {},
   "outputs": [
    {
     "data": {
      "text/plain": [
       "1"
      ]
     },
     "execution_count": 24,
     "metadata": {},
     "output_type": "execute_result"
    }
   ],
   "source": [
    "my_arr.ndim"
   ]
  },
  {
   "cell_type": "code",
   "execution_count": 17,
   "id": "8d273e2a",
   "metadata": {
    "scrolled": true
   },
   "outputs": [
    {
     "name": "stdout",
     "output_type": "stream",
     "text": [
      "[2 3 5 6 8]\n"
     ]
    }
   ],
   "source": [
    "print(my_arr)"
   ]
  },
  {
   "cell_type": "code",
   "execution_count": 23,
   "id": "aef39312",
   "metadata": {},
   "outputs": [
    {
     "name": "stdout",
     "output_type": "stream",
     "text": [
      "<class 'numpy.ndarray'>\n"
     ]
    }
   ],
   "source": [
    "type(my_arr)"
   ]
  },
  {
   "cell_type": "code",
   "execution_count": 19,
   "id": "56e619e3",
   "metadata": {},
   "outputs": [
    {
     "name": "stdout",
     "output_type": "stream",
     "text": [
      "<class 'numpy.ndarray'>\n"
     ]
    }
   ],
   "source": [
    "print(type(my_arr))"
   ]
  },
  {
   "cell_type": "code",
   "execution_count": 56,
   "id": "982aa6df",
   "metadata": {
    "scrolled": true
   },
   "outputs": [
    {
     "data": {
      "text/plain": [
       "dtype('int32')"
      ]
     },
     "execution_count": 56,
     "metadata": {},
     "output_type": "execute_result"
    }
   ],
   "source": [
    "np.array([2,3,4]).dtype"
   ]
  },
  {
   "cell_type": "code",
   "execution_count": 58,
   "id": "145489a2",
   "metadata": {},
   "outputs": [
    {
     "name": "stdout",
     "output_type": "stream",
     "text": [
      "<class 'numpy.int32'>\n"
     ]
    }
   ],
   "source": [
    "print(np.array([2,3,4]).dtype.type)"
   ]
  },
  {
   "cell_type": "code",
   "execution_count": 55,
   "id": "739f9efa",
   "metadata": {},
   "outputs": [
    {
     "data": {
      "text/plain": [
       "numpy.str_"
      ]
     },
     "execution_count": 55,
     "metadata": {},
     "output_type": "execute_result"
    }
   ],
   "source": [
    "np.array([2,3,4,'d']).dtype.type # upcast to string datatype"
   ]
  },
  {
   "cell_type": "code",
   "execution_count": 66,
   "id": "3df9a782",
   "metadata": {},
   "outputs": [
    {
     "data": {
      "text/plain": [
       "numpy.int32"
      ]
     },
     "execution_count": 66,
     "metadata": {},
     "output_type": "execute_result"
    }
   ],
   "source": [
    "np.array([4, 2]).dtype.type # upcast to int"
   ]
  },
  {
   "cell_type": "code",
   "execution_count": 127,
   "id": "2e05536f",
   "metadata": {},
   "outputs": [
    {
     "data": {
      "text/plain": [
       "array([2.3, 5. , 7. ])"
      ]
     },
     "execution_count": 127,
     "metadata": {},
     "output_type": "execute_result"
    }
   ],
   "source": [
    "uparr = np.array([2.3, 5, 7]) # upcast to float\n",
    "uparr\n",
    "# string, float, integer >> yo order ma hun6\n",
    "# Array vanne class ko instantiation banako by giving the array() function which will return the instance and keeps it in uparr \n",
    "# so uparr is an instance of the class Array ra dtype vaneko method haina property ho kinaki parenthesis chaina\n"
   ]
  },
  {
   "cell_type": "code",
   "execution_count": 125,
   "id": "d974e0c4",
   "metadata": {},
   "outputs": [
    {
     "data": {
      "text/plain": [
       "dtype('float64')"
      ]
     },
     "execution_count": 125,
     "metadata": {},
     "output_type": "execute_result"
    }
   ],
   "source": [
    "uparr.dtype"
   ]
  },
  {
   "cell_type": "code",
   "execution_count": 68,
   "id": "b189bb49",
   "metadata": {},
   "outputs": [
    {
     "data": {
      "text/plain": [
       "numpy.str_"
      ]
     },
     "execution_count": 68,
     "metadata": {},
     "output_type": "execute_result"
    }
   ],
   "source": [
    "np.array([2.2, 5, 'r']).dtype.type"
   ]
  },
  {
   "cell_type": "code",
   "execution_count": 102,
   "id": "773e2250",
   "metadata": {},
   "outputs": [
    {
     "data": {
      "text/plain": [
       "list"
      ]
     },
     "execution_count": 102,
     "metadata": {},
     "output_type": "execute_result"
    }
   ],
   "source": [
    "lst = [1,2,'f']\n",
    "lst\n",
    "type(lst)"
   ]
  },
  {
   "cell_type": "code",
   "execution_count": 116,
   "id": "c6eea4ee",
   "metadata": {},
   "outputs": [
    {
     "name": "stdout",
     "output_type": "stream",
     "text": [
      "the data type is int32\n"
     ]
    }
   ],
   "source": [
    "print(\"the data type is\", np.array([432, 5667, 456], dtype = 'int32').dtype)\n",
    "\n"
   ]
  },
  {
   "cell_type": "code",
   "execution_count": 117,
   "id": "2e70c4e9",
   "metadata": {},
   "outputs": [
    {
     "name": "stdout",
     "output_type": "stream",
     "text": [
      "the data type is int16\n"
     ]
    }
   ],
   "source": [
    "print(\"the data type is\", np.array([432, 5667, 456], dtype = 'int16').dtype)\n"
   ]
  },
  {
   "cell_type": "code",
   "execution_count": 118,
   "id": "4150ea03",
   "metadata": {},
   "outputs": [
    {
     "name": "stdout",
     "output_type": "stream",
     "text": [
      "the data type is int64\n"
     ]
    }
   ],
   "source": [
    "print(\"the data type is\", np.array([432, 5667, 456], dtype = 'int64').dtype)\n"
   ]
  },
  {
   "cell_type": "code",
   "execution_count": 132,
   "id": "078437a8",
   "metadata": {},
   "outputs": [
    {
     "data": {
      "text/plain": [
       "dtype('bool')"
      ]
     },
     "execution_count": 132,
     "metadata": {},
     "output_type": "execute_result"
    }
   ],
   "source": [
    "np.array([True, False]).dtype "
   ]
  },
  {
   "cell_type": "code",
   "execution_count": 134,
   "id": "3adc8a85",
   "metadata": {},
   "outputs": [
    {
     "data": {
      "text/plain": [
       "array([1., 0., 3.], dtype=float32)"
      ]
     },
     "execution_count": 134,
     "metadata": {},
     "output_type": "execute_result"
    }
   ],
   "source": [
    "np.array([True, False, 3], dtype = 'float32') # upcast to float"
   ]
  },
  {
   "cell_type": "code",
   "execution_count": 136,
   "id": "7ca2a9f0",
   "metadata": {},
   "outputs": [
    {
     "data": {
      "text/plain": [
       "dtype('int32')"
      ]
     },
     "execution_count": 136,
     "metadata": {},
     "output_type": "execute_result"
    }
   ],
   "source": [
    "np.array([True, False, 3], dtype = 'int').dtype # upcast to int"
   ]
  },
  {
   "cell_type": "code",
   "execution_count": 76,
   "id": "e2d87101",
   "metadata": {},
   "outputs": [],
   "source": [
    "# if in a tuple there is only one element then we have to write a comma and nothing after that ie. (2,)\n",
    "# shape use garda jatti pani dimension chan tetti wata nai items hun6n tuple ma\n",
    "# jastai:\n",
    "#     yadi 1 dim vae (1, ) or (6, )... -----> euta matrai item in tuple\n",
    "#     yadi 2 dim vae (1, 3) or (5,8)... -----> duita matrai item in tuple\n",
    "#     yadi 3 dim vae (2,4,5) or (9,5,6)... ------> tintaa matrai item in tuple\n",
    "\n",
    "# ra jaile pani shape function le dine tuple ko 1st element is row and 2nd element is column"
   ]
  },
  {
   "cell_type": "code",
   "execution_count": 407,
   "id": "fdcc0d45",
   "metadata": {},
   "outputs": [
    {
     "data": {
      "text/plain": [
       "(4,)"
      ]
     },
     "execution_count": 407,
     "metadata": {},
     "output_type": "execute_result"
    }
   ],
   "source": [
    "# remember in a 1d array the shape, there is no concept of rows and columns and is always only a single number in a tuple\n",
    "# which is the number of elements of that one dimensional array\n",
    "# it is basically a sequence of elements\n",
    "np.array([1,2,3,4]).shape"
   ]
  },
  {
   "cell_type": "code",
   "execution_count": 214,
   "id": "710e94a8",
   "metadata": {},
   "outputs": [
    {
     "name": "stdout",
     "output_type": "stream",
     "text": [
      "[[1]]\n"
     ]
    },
    {
     "data": {
      "text/plain": [
       "(1, 1, 3)"
      ]
     },
     "execution_count": 214,
     "metadata": {},
     "output_type": "execute_result"
    }
   ],
   "source": [
    "## 2d array with shape (1,1) \n",
    "## ndim 2 cha vane euta row euta column hun6\n",
    "print(np.array([[1]]))\n",
    "np.array([[[1,2,3]]]).shape"
   ]
  },
  {
   "cell_type": "code",
   "execution_count": 216,
   "id": "9e9cd534",
   "metadata": {},
   "outputs": [
    {
     "data": {
      "text/plain": [
       "(1, 1, 3)"
      ]
     },
     "execution_count": 216,
     "metadata": {},
     "output_type": "execute_result"
    }
   ],
   "source": [
    "## 2d array with shape (1,1)\n",
    "## ndim 2 cha vane euta row euta column hun6\n",
    "np.array([[3,]]).shape\n",
    "np.array([[[1,2,3]]]).shape"
   ]
  },
  {
   "cell_type": "code",
   "execution_count": 212,
   "id": "9fd93dcc",
   "metadata": {},
   "outputs": [
    {
     "name": "stdout",
     "output_type": "stream",
     "text": [
      "[[[1 2 3]]]\n"
     ]
    },
    {
     "data": {
      "text/plain": [
       "(1, 1, 3)"
      ]
     },
     "execution_count": 212,
     "metadata": {},
     "output_type": "execute_result"
    }
   ],
   "source": [
    "# 3 d array with a shape(1,1,1) length breadth and height\n",
    "print(np.array([[[1,2,3]]]))\n",
    "np.array([[[1,2,3]]]).ndim\n",
    "np.array([[[1,2,3]]]).shape"
   ]
  },
  {
   "cell_type": "markdown",
   "id": "1b20915a",
   "metadata": {},
   "source": [
    "#### shapele row katiwata cha ra column kati wata cha dincha\n"
   ]
  },
  {
   "cell_type": "code",
   "execution_count": 155,
   "id": "6509d763",
   "metadata": {},
   "outputs": [
    {
     "data": {
      "text/plain": [
       "(1,)"
      ]
     },
     "execution_count": 155,
     "metadata": {},
     "output_type": "execute_result"
    }
   ],
   "source": [
    "## shape property use garda it returns shape as a tuple of elements\n",
    "## if dimesion is 2 then there will be 2 elements in the tuple, if 3 dim then 3 elements inside the tuple\n",
    "## so shape property use garda, array ko jatti wata dimesions hun6 tetti wata element hun6 tuple vitra\n",
    "## always row comes first and then columns. eg. in (2,3) 2 is the number of rows ans 3 in the number of columns\n",
    "## if there are no columns and there only rows then there will be only a number of rows inside the tuple\n",
    "# harek dimension ma kati elements chan vanera shape le din6\n",
    "# 3d vaneko stak of paper vanera bujhdaa hun6\n",
    "# in 3d The first element of the tuple is the number of rows,\n",
    "# the second element is the number of columns, and the third element is the number of layers.\n",
    "\n",
    "np.array([2]).shape # here 1 dimension so numbers of the elements inside the tuple is 1"
   ]
  },
  {
   "cell_type": "code",
   "execution_count": null,
   "id": "e170c461",
   "metadata": {},
   "outputs": [],
   "source": [
    "# shape 4 ya (4,) matrai hunu vaneko 4 wata rows matrai hunu ra kunai ni columns nahunu ho"
   ]
  },
  {
   "cell_type": "code",
   "execution_count": 156,
   "id": "06437219",
   "metadata": {},
   "outputs": [
    {
     "data": {
      "text/plain": [
       "(2, 1)"
      ]
     },
     "execution_count": 156,
     "metadata": {},
     "output_type": "execute_result"
    }
   ],
   "source": [
    "np.array([[1],[2]]).shape # returns the shape as a tuple"
   ]
  },
  {
   "cell_type": "code",
   "execution_count": 157,
   "id": "4d2a6e26",
   "metadata": {},
   "outputs": [
    {
     "name": "stdout",
     "output_type": "stream",
     "text": [
      "[[1 3 5]\n",
      " [2 6 9]\n",
      " [6 1 4]]\n"
     ]
    }
   ],
   "source": [
    "print(np.array([[1,3,5],[2,6,9],[6,1,4]])) # 2 dimensional array"
   ]
  },
  {
   "cell_type": "code",
   "execution_count": 158,
   "id": "78114cac",
   "metadata": {},
   "outputs": [
    {
     "name": "stdout",
     "output_type": "stream",
     "text": [
      "2\n"
     ]
    }
   ],
   "source": [
    "print(np.array([[1,3,5],[2,6,9],[6,1,4]]).ndim)"
   ]
  },
  {
   "cell_type": "code",
   "execution_count": 160,
   "id": "14726c0d",
   "metadata": {},
   "outputs": [
    {
     "name": "stdout",
     "output_type": "stream",
     "text": [
      "(3, 3)\n"
     ]
    }
   ],
   "source": [
    "print(np.array([[1,3,5],[2,6,9],[6,1,4]]).shape)"
   ]
  },
  {
   "cell_type": "code",
   "execution_count": 159,
   "id": "8ac6e84a",
   "metadata": {
    "scrolled": true
   },
   "outputs": [
    {
     "name": "stdout",
     "output_type": "stream",
     "text": [
      "(3, 3)\n"
     ]
    }
   ],
   "source": [
    "print(np.array([[1,3,5],[2,6,9],[6,1,4]]).shape) # 2 dimensions gives 2 items inside the tuple "
   ]
  },
  {
   "cell_type": "code",
   "execution_count": 173,
   "id": "90f7f997",
   "metadata": {},
   "outputs": [
    {
     "data": {
      "text/plain": [
       "array([0., 0., 0., 0.])"
      ]
     },
     "execution_count": 173,
     "metadata": {},
     "output_type": "execute_result"
    }
   ],
   "source": [
    "# np.zeros(shape, dtype) gives array filled with zeros.\n",
    "np.zeros(4) # default is float but other data types can be explicitly given "
   ]
  },
  {
   "cell_type": "code",
   "execution_count": 177,
   "id": "b7639b1e",
   "metadata": {},
   "outputs": [
    {
     "data": {
      "text/plain": [
       "(4,)"
      ]
     },
     "execution_count": 177,
     "metadata": {},
     "output_type": "execute_result"
    }
   ],
   "source": [
    "np.zeros(4,).shape"
   ]
  },
  {
   "cell_type": "code",
   "execution_count": 168,
   "id": "7bd22ea3",
   "metadata": {},
   "outputs": [
    {
     "data": {
      "text/plain": [
       "array(['', ''], dtype='<U1')"
      ]
     },
     "execution_count": 168,
     "metadata": {},
     "output_type": "execute_result"
    }
   ],
   "source": [
    "np.zeros(2, dtype = str) # array of 1 dimensional/ of shape 1"
   ]
  },
  {
   "cell_type": "code",
   "execution_count": 170,
   "id": "e6340711",
   "metadata": {},
   "outputs": [
    {
     "data": {
      "text/plain": [
       "array([0, 0, 0])"
      ]
     },
     "execution_count": 170,
     "metadata": {},
     "output_type": "execute_result"
    }
   ],
   "source": [
    "np.zeros((3,), dtype = int)"
   ]
  },
  {
   "cell_type": "code",
   "execution_count": 171,
   "id": "b7115287",
   "metadata": {},
   "outputs": [
    {
     "data": {
      "text/plain": [
       "array([[0, 0, 0, 0],\n",
       "       [0, 0, 0, 0],\n",
       "       [0, 0, 0, 0]])"
      ]
     },
     "execution_count": 171,
     "metadata": {},
     "output_type": "execute_result"
    }
   ],
   "source": [
    "np.zeros((3,4), dtype = int) # creating a 2 dimensional zero array\n",
    "# this gives 3x4 ko euta array with no height so dim is 2: only breadth and length"
   ]
  },
  {
   "cell_type": "code",
   "execution_count": 185,
   "id": "dd29c6c9",
   "metadata": {},
   "outputs": [
    {
     "data": {
      "text/plain": [
       "array([[0., 0., 0., 0.],\n",
       "       [0., 0., 0., 0.],\n",
       "       [0., 0., 0., 0.]])"
      ]
     },
     "execution_count": 185,
     "metadata": {},
     "output_type": "execute_result"
    }
   ],
   "source": [
    "np.zeros((1, 3, 4),) # yo gare 3x4 ko euta array din6"
   ]
  },
  {
   "cell_type": "code",
   "execution_count": 186,
   "id": "5dac766f",
   "metadata": {},
   "outputs": [
    {
     "data": {
      "text/plain": [
       "array([[[0., 0., 0., 0.],\n",
       "        [0., 0., 0., 0.],\n",
       "        [0., 0., 0., 0.]],\n",
       "\n",
       "       [[0., 0., 0., 0.],\n",
       "        [0., 0., 0., 0.],\n",
       "        [0., 0., 0., 0.]]])"
      ]
     },
     "execution_count": 186,
     "metadata": {},
     "output_type": "execute_result"
    }
   ],
   "source": [
    "np.zeros((2, 3, 4),) # yo gare 3x4 ko duita arrays din6"
   ]
  },
  {
   "cell_type": "code",
   "execution_count": null,
   "id": "fcbef858",
   "metadata": {},
   "outputs": [],
   "source": [
    "np.zeros((3, 3, 4),) # yo gare 3x4 ko tintaa arrays din6"
   ]
  },
  {
   "cell_type": "code",
   "execution_count": 187,
   "id": "cdeb1c65",
   "metadata": {},
   "outputs": [
    {
     "data": {
      "text/plain": [
       "array([[[[0., 0.],\n",
       "         [0., 0.],\n",
       "         [0., 0.],\n",
       "         [0., 0.]],\n",
       "\n",
       "        [[0., 0.],\n",
       "         [0., 0.],\n",
       "         [0., 0.],\n",
       "         [0., 0.]],\n",
       "\n",
       "        [[0., 0.],\n",
       "         [0., 0.],\n",
       "         [0., 0.],\n",
       "         [0., 0.]]]])"
      ]
     },
     "execution_count": 187,
     "metadata": {},
     "output_type": "execute_result"
    }
   ],
   "source": [
    "np.zeros((1,3,4,2)) # 4x2 ko tin wata array ek choti din6"
   ]
  },
  {
   "cell_type": "code",
   "execution_count": 190,
   "id": "c27fc6c2",
   "metadata": {},
   "outputs": [
    {
     "data": {
      "text/plain": [
       "array([[[[0., 0.],\n",
       "         [0., 0.],\n",
       "         [0., 0.],\n",
       "         [0., 0.]],\n",
       "\n",
       "        [[0., 0.],\n",
       "         [0., 0.],\n",
       "         [0., 0.],\n",
       "         [0., 0.]],\n",
       "\n",
       "        [[0., 0.],\n",
       "         [0., 0.],\n",
       "         [0., 0.],\n",
       "         [0., 0.]]],\n",
       "\n",
       "\n",
       "       [[[0., 0.],\n",
       "         [0., 0.],\n",
       "         [0., 0.],\n",
       "         [0., 0.]],\n",
       "\n",
       "        [[0., 0.],\n",
       "         [0., 0.],\n",
       "         [0., 0.],\n",
       "         [0., 0.]],\n",
       "\n",
       "        [[0., 0.],\n",
       "         [0., 0.],\n",
       "         [0., 0.],\n",
       "         [0., 0.]]]])"
      ]
     },
     "execution_count": 190,
     "metadata": {},
     "output_type": "execute_result"
    }
   ],
   "source": [
    "np.zeros((2,3,4,2)) # 4x2 ko tin wata array dui choti din6"
   ]
  },
  {
   "cell_type": "code",
   "execution_count": 191,
   "id": "353c1f35",
   "metadata": {},
   "outputs": [
    {
     "data": {
      "text/plain": [
       "array([1., 1., 1., 1., 1.])"
      ]
     },
     "execution_count": 191,
     "metadata": {},
     "output_type": "execute_result"
    }
   ],
   "source": [
    "np.ones(5,) # funtion givs arrays filled with 1s"
   ]
  },
  {
   "cell_type": "code",
   "execution_count": 193,
   "id": "0db6de3a",
   "metadata": {},
   "outputs": [
    {
     "data": {
      "text/plain": [
       "array([1, 3, 5, 7])"
      ]
     },
     "execution_count": 193,
     "metadata": {},
     "output_type": "execute_result"
    }
   ],
   "source": [
    "# create an array of elements ranging from 1 to 8, but dont know how many number of elements there is supposed to be, give step\n",
    "np.arange(1,8,2) # step is 2, gives us array of 4 elements"
   ]
  },
  {
   "cell_type": "code",
   "execution_count": 194,
   "id": "98dc1e2c",
   "metadata": {},
   "outputs": [
    {
     "data": {
      "text/plain": [
       "array([1, 2, 3, 4, 5, 6, 7])"
      ]
     },
     "execution_count": 194,
     "metadata": {},
     "output_type": "execute_result"
    }
   ],
   "source": [
    "np.arange(1,8,1) # step is 1"
   ]
  },
  {
   "cell_type": "code",
   "execution_count": 12,
   "id": "b48a7d40",
   "metadata": {},
   "outputs": [
    {
     "data": {
      "text/plain": [
       "array([1, 8])"
      ]
     },
     "execution_count": 12,
     "metadata": {},
     "output_type": "execute_result"
    }
   ],
   "source": [
    "np.arange(1,10,7)"
   ]
  },
  {
   "cell_type": "markdown",
   "id": "3777d158",
   "metadata": {},
   "source": [
    "#### 2 d Array"
   ]
  },
  {
   "cell_type": "code",
   "execution_count": null,
   "id": "8b358146",
   "metadata": {},
   "outputs": [],
   "source": [
    "# array() method le euta matrai argument lin6 (as list or tuple)\n",
    "# euta vanda badhi list dinako lagi[] use garne"
   ]
  },
  {
   "cell_type": "code",
   "execution_count": 98,
   "id": "30b85ce6",
   "metadata": {},
   "outputs": [
    {
     "data": {
      "text/plain": [
       "(3,)"
      ]
     },
     "execution_count": 98,
     "metadata": {},
     "output_type": "execute_result"
    }
   ],
   "source": [
    "np.array([1,2,3]).shape # yo vanya 1 row matrai vako matrix ho\n"
   ]
  },
  {
   "cell_type": "code",
   "execution_count": 102,
   "id": "58cbc7d8",
   "metadata": {},
   "outputs": [],
   "source": [
    "array2d = np.array(\n",
    "        [[1],\n",
    "         [4],\n",
    "         [7]])"
   ]
  },
  {
   "cell_type": "code",
   "execution_count": 103,
   "id": "0a23e46f",
   "metadata": {},
   "outputs": [
    {
     "data": {
      "text/plain": [
       "(3, 1)"
      ]
     },
     "execution_count": 103,
     "metadata": {},
     "output_type": "execute_result"
    }
   ],
   "source": [
    "array2d.shape # 3x1"
   ]
  },
  {
   "cell_type": "code",
   "execution_count": 118,
   "id": "245227bc",
   "metadata": {},
   "outputs": [],
   "source": [
    "arr = np.array(2)"
   ]
  },
  {
   "cell_type": "code",
   "execution_count": 119,
   "id": "18c462af",
   "metadata": {},
   "outputs": [
    {
     "data": {
      "text/plain": [
       "array(2)"
      ]
     },
     "execution_count": 119,
     "metadata": {},
     "output_type": "execute_result"
    }
   ],
   "source": [
    "arr"
   ]
  },
  {
   "cell_type": "code",
   "execution_count": 120,
   "id": "cc0795ab",
   "metadata": {},
   "outputs": [
    {
     "data": {
      "text/plain": [
       "0"
      ]
     },
     "execution_count": 120,
     "metadata": {},
     "output_type": "execute_result"
    }
   ],
   "source": [
    "arr.ndim"
   ]
  },
  {
   "cell_type": "code",
   "execution_count": 130,
   "id": "2305905a",
   "metadata": {},
   "outputs": [
    {
     "data": {
      "text/plain": [
       "1"
      ]
     },
     "execution_count": 130,
     "metadata": {},
     "output_type": "execute_result"
    }
   ],
   "source": [
    "# argument ta euta matrai dine ho\n",
    "# tyo argument euta list huna sak6, euta list vitra arko list hunasak6, euta list vitra arko list vitra arko list hunasak6\n",
    "# list vitra elements deko as an argument\n",
    "arr1  = np.array([1,2,3])\n",
    "arr1.ndim\n",
    "# arr1.shape"
   ]
  },
  {
   "cell_type": "code",
   "execution_count": 137,
   "id": "4292c527",
   "metadata": {},
   "outputs": [
    {
     "data": {
      "text/plain": [
       "(1, 3)"
      ]
     },
     "execution_count": 137,
     "metadata": {},
     "output_type": "execute_result"
    }
   ],
   "source": [
    "# list deko as an argument ---> yo vaneko 1d array ho\n",
    "arr1 = np.array([\n",
    "                [1,2,3]\n",
    "               ])\n",
    "arr1\n",
    "arr1.ndim\n",
    "arr1.shape"
   ]
  },
  {
   "cell_type": "code",
   "execution_count": 140,
   "id": "49b5a645",
   "metadata": {},
   "outputs": [
    {
     "data": {
      "text/plain": [
       "(2, 3)"
      ]
     },
     "execution_count": 140,
     "metadata": {},
     "output_type": "execute_result"
    }
   ],
   "source": [
    "# list vitra duita lists deko as an argument  ---> yo vaneko 2d array ho\n",
    "arr1 = np.array([[1,2,3],\n",
    "                 [4,5,6]])\n",
    "arr1\n",
    "arr1.ndim\n",
    "arr1.shape"
   ]
  },
  {
   "cell_type": "code",
   "execution_count": 148,
   "id": "2ab86bc3",
   "metadata": {},
   "outputs": [
    {
     "data": {
      "text/plain": [
       "(1, 2, 3)"
      ]
     },
     "execution_count": 148,
     "metadata": {},
     "output_type": "execute_result"
    }
   ],
   "source": [
    "# list vitra list vitra euta list ----> yo vaneko 3d array ho\n",
    "\n",
    "arr1 = np.array([[[1,2,3],\n",
    "                  [2,3,4]]])\n",
    "arr1\n",
    "arr1.ndim\n",
    "arr1.shape # 2x3 ko euta slice vaneko"
   ]
  },
  {
   "cell_type": "code",
   "execution_count": 153,
   "id": "c6726145",
   "metadata": {},
   "outputs": [
    {
     "data": {
      "text/plain": [
       "(1, 3, 4)"
      ]
     },
     "execution_count": 153,
     "metadata": {},
     "output_type": "execute_result"
    }
   ],
   "source": [
    "arr1 = np.array([[[1,2,3,4],\n",
    "           [2,3,4,5],\n",
    "           [3,4,5,6]]])\n",
    "arr1\n",
    "# arr1.ndim\n",
    "arr1.shape # 3x4 ko euta slice\n"
   ]
  },
  {
   "cell_type": "code",
   "execution_count": 154,
   "id": "ab101a2e",
   "metadata": {},
   "outputs": [],
   "source": [
    "arr1 = np.array([\n",
    "    \n",
    "                [\n",
    "                 [1,2,3,4],\n",
    "                 [2,3,4,5],    ### ----->> yo euta slice vayo\n",
    "                 [3,4,5,6]\n",
    "                ]\n",
    "                ,\n",
    "    \n",
    "                [\n",
    "                 [1,2,3,4],\n",
    "                 [2,3,4,5],    ### ----->> yo euta slice vayo\n",
    "                 [3,4,5,6]\n",
    "                ]\n",
    "                ,\n",
    "    \n",
    "                [\n",
    "                 [1,2,3,4],\n",
    "                 [2,3,4,5],  ### ----->> yo euta slice vayo\n",
    "                 [3,4,5,6]\n",
    "                ]\n",
    "    \n",
    "               ])"
   ]
  },
  {
   "cell_type": "code",
   "execution_count": 155,
   "id": "7038c8a5",
   "metadata": {},
   "outputs": [
    {
     "data": {
      "text/plain": [
       "array([[[1, 2, 3, 4],\n",
       "        [2, 3, 4, 5],\n",
       "        [3, 4, 5, 6]],\n",
       "\n",
       "       [[1, 2, 3, 4],\n",
       "        [2, 3, 4, 5],\n",
       "        [3, 4, 5, 6]],\n",
       "\n",
       "       [[1, 2, 3, 4],\n",
       "        [2, 3, 4, 5],\n",
       "        [3, 4, 5, 6]]])"
      ]
     },
     "execution_count": 155,
     "metadata": {},
     "output_type": "execute_result"
    }
   ],
   "source": [
    "arr1"
   ]
  },
  {
   "cell_type": "code",
   "execution_count": 156,
   "id": "ff1d71d9",
   "metadata": {},
   "outputs": [
    {
     "data": {
      "text/plain": [
       "3"
      ]
     },
     "execution_count": 156,
     "metadata": {},
     "output_type": "execute_result"
    }
   ],
   "source": [
    "arr1.ndim"
   ]
  },
  {
   "cell_type": "code",
   "execution_count": 157,
   "id": "0391e71a",
   "metadata": {},
   "outputs": [
    {
     "data": {
      "text/plain": [
       "(3, 3, 4)"
      ]
     },
     "execution_count": 157,
     "metadata": {},
     "output_type": "execute_result"
    }
   ],
   "source": [
    "arr1.shape"
   ]
  },
  {
   "cell_type": "markdown",
   "id": "f851c4a1",
   "metadata": {},
   "source": [
    "##### size"
   ]
  },
  {
   "cell_type": "code",
   "execution_count": 319,
   "id": "b2c9cec1",
   "metadata": {},
   "outputs": [
    {
     "data": {
      "text/plain": [
       "36"
      ]
     },
     "execution_count": 319,
     "metadata": {},
     "output_type": "execute_result"
    }
   ],
   "source": [
    "arr1.size # gives the total number of elements"
   ]
  },
  {
   "cell_type": "code",
   "execution_count": 320,
   "id": "2f60469f",
   "metadata": {},
   "outputs": [
    {
     "data": {
      "text/plain": [
       "dtype('int32')"
      ]
     },
     "execution_count": 320,
     "metadata": {},
     "output_type": "execute_result"
    }
   ],
   "source": [
    "arr1.dtype # gives the data type of array elements"
   ]
  },
  {
   "cell_type": "code",
   "execution_count": 321,
   "id": "d7c9cb0a",
   "metadata": {},
   "outputs": [
    {
     "data": {
      "text/plain": [
       "numpy.ndarray"
      ]
     },
     "execution_count": 321,
     "metadata": {},
     "output_type": "execute_result"
    }
   ],
   "source": [
    "type(arr1) # gives the data type of array"
   ]
  },
  {
   "cell_type": "code",
   "execution_count": 324,
   "id": "fa6b860a",
   "metadata": {},
   "outputs": [
    {
     "data": {
      "text/plain": [
       "array([[[1, 2, 3, 4],\n",
       "        [2, 3, 4, 5],\n",
       "        [3, 4, 5, 6]],\n",
       "\n",
       "       [[1, 2, 3, 4],\n",
       "        [2, 3, 4, 5],\n",
       "        [3, 4, 5, 6]],\n",
       "\n",
       "       [[1, 2, 3, 4],\n",
       "        [2, 3, 4, 5],\n",
       "        [3, 4, 5, 6]]])"
      ]
     },
     "execution_count": 324,
     "metadata": {},
     "output_type": "execute_result"
    }
   ],
   "source": [
    "arr1"
   ]
  },
  {
   "cell_type": "code",
   "execution_count": 322,
   "id": "62dbdbc8",
   "metadata": {},
   "outputs": [
    {
     "data": {
      "text/plain": [
       "4"
      ]
     },
     "execution_count": 322,
     "metadata": {},
     "output_type": "execute_result"
    }
   ],
   "source": [
    "arr1.itemsize # euta elementle kati byte khan6"
   ]
  },
  {
   "cell_type": "code",
   "execution_count": 325,
   "id": "bfd46965",
   "metadata": {},
   "outputs": [
    {
     "data": {
      "text/plain": [
       "dtype('int32')"
      ]
     },
     "execution_count": 325,
     "metadata": {},
     "output_type": "execute_result"
    }
   ],
   "source": [
    "arr1.dtype"
   ]
  },
  {
   "cell_type": "code",
   "execution_count": 3,
   "id": "4ad98216",
   "metadata": {},
   "outputs": [
    {
     "name": "stdout",
     "output_type": "stream",
     "text": [
      "32\n"
     ]
    }
   ],
   "source": [
    "# to create an array of memory size 32 from only four items in the list [2, 4, 5, -2]\n",
    "arr1 = np.resize([2, 4, 5, -2], (8,))\n",
    "print(arr1.nbytes)"
   ]
  },
  {
   "cell_type": "raw",
   "id": "9a77648d",
   "metadata": {},
   "source": [
    "arr1.nbytes # ram ma kati khayo array le memory\n",
    "# array vitra ko total elements le total ma kitti byte khayo\n",
    "# int32 ko lagi euta element le 4 bytes khan6\n",
    "# int64 ko lagi euta element le 8 bytes khan6\n",
    "# int16 ko lagi euta element le 2 bytes khan6\n",
    "# so 36 * 4 = 144"
   ]
  },
  {
   "cell_type": "markdown",
   "id": "30405ac6",
   "metadata": {},
   "source": [
    "#### Zeros"
   ]
  },
  {
   "cell_type": "code",
   "execution_count": null,
   "id": "e2826994",
   "metadata": {},
   "outputs": [],
   "source": [
    "# default ma dtype float hun6"
   ]
  },
  {
   "cell_type": "code",
   "execution_count": 110,
   "id": "f466e866",
   "metadata": {},
   "outputs": [
    {
     "data": {
      "text/plain": [
       "array([0, 0])"
      ]
     },
     "execution_count": 110,
     "metadata": {},
     "output_type": "execute_result"
    }
   ],
   "source": [
    "# argument euta matra lin6 zeros() le\n",
    "# argument euta number dida --> euta dimesion ko array din6 \n",
    "# tyo number jati diyin6 tetti wata elements hun6n\n",
    "# np.zeros(2, dtype = int) yo garda 1d array din6\n",
    "np.array([0,0])"
   ]
  },
  {
   "cell_type": "code",
   "execution_count": 116,
   "id": "bf1cf2e7",
   "metadata": {},
   "outputs": [
    {
     "data": {
      "text/plain": [
       "array([0., 0., 0.])"
      ]
     },
     "execution_count": 116,
     "metadata": {},
     "output_type": "execute_result"
    }
   ],
   "source": [
    "np.zeros(3)"
   ]
  },
  {
   "cell_type": "code",
   "execution_count": 112,
   "id": "89da76c3",
   "metadata": {},
   "outputs": [
    {
     "data": {
      "text/plain": [
       "array([[0, 0, 0],\n",
       "       [0, 0, 0]])"
      ]
     },
     "execution_count": 112,
     "metadata": {},
     "output_type": "execute_result"
    }
   ],
   "source": [
    "# argument euta tuple pass garda\n",
    "np.zeros((2,3), dtype = int) # yo garda 2d array dincha"
   ]
  },
  {
   "cell_type": "code",
   "execution_count": 115,
   "id": "d9404fb0",
   "metadata": {},
   "outputs": [
    {
     "data": {
      "text/plain": [
       "array([[['', ''],\n",
       "        ['', ''],\n",
       "        ['', ''],\n",
       "        ['', '']],\n",
       "\n",
       "       [['', ''],\n",
       "        ['', ''],\n",
       "        ['', ''],\n",
       "        ['', '']],\n",
       "\n",
       "       [['', ''],\n",
       "        ['', ''],\n",
       "        ['', ''],\n",
       "        ['', '']]], dtype='<U1')"
      ]
     },
     "execution_count": 115,
     "metadata": {},
     "output_type": "execute_result"
    }
   ],
   "source": [
    "# argument ma (3,4,2) garda 3d array din6\n",
    "np.zeros((3,4,2), dtype = str) ## 4x2 ko 3wata slice"
   ]
  },
  {
   "cell_type": "code",
   "execution_count": 158,
   "id": "adacf842",
   "metadata": {},
   "outputs": [
    {
     "data": {
      "text/plain": [
       "array([[0., 0., 0.]])"
      ]
     },
     "execution_count": 158,
     "metadata": {},
     "output_type": "execute_result"
    }
   ],
   "source": [
    "np.zeros((1,3))"
   ]
  },
  {
   "cell_type": "code",
   "execution_count": 159,
   "id": "adc4ce1e",
   "metadata": {},
   "outputs": [
    {
     "data": {
      "text/plain": [
       "array([[[0., 0., 0.]]])"
      ]
     },
     "execution_count": 159,
     "metadata": {},
     "output_type": "execute_result"
    }
   ],
   "source": [
    "np.zeros((1,1,3))"
   ]
  },
  {
   "cell_type": "markdown",
   "id": "31067c57",
   "metadata": {},
   "source": [
    "##### Ones"
   ]
  },
  {
   "cell_type": "code",
   "execution_count": 161,
   "id": "80558d2f",
   "metadata": {},
   "outputs": [
    {
     "data": {
      "text/plain": [
       "array([1., 1.])"
      ]
     },
     "execution_count": 161,
     "metadata": {},
     "output_type": "execute_result"
    }
   ],
   "source": [
    "np.ones((2,))"
   ]
  },
  {
   "cell_type": "code",
   "execution_count": 162,
   "id": "eb819fbc",
   "metadata": {},
   "outputs": [
    {
     "data": {
      "text/plain": [
       "array([[[1., 1., 1.],\n",
       "        [1., 1., 1.]],\n",
       "\n",
       "       [[1., 1., 1.],\n",
       "        [1., 1., 1.]]])"
      ]
     },
     "execution_count": 162,
     "metadata": {},
     "output_type": "execute_result"
    }
   ],
   "source": [
    "np.ones((2,2,3))"
   ]
  },
  {
   "cell_type": "code",
   "execution_count": 163,
   "id": "60317120",
   "metadata": {},
   "outputs": [
    {
     "data": {
      "text/plain": [
       "array([0, 1, 2, 3, 4])"
      ]
     },
     "execution_count": 163,
     "metadata": {},
     "output_type": "execute_result"
    }
   ],
   "source": [
    "np.arange(5)"
   ]
  },
  {
   "cell_type": "code",
   "execution_count": 171,
   "id": "3a9dbdf2",
   "metadata": {},
   "outputs": [
    {
     "data": {
      "text/plain": [
       "range(0, 5)"
      ]
     },
     "execution_count": 171,
     "metadata": {},
     "output_type": "execute_result"
    }
   ],
   "source": [
    "range(5)"
   ]
  },
  {
   "cell_type": "code",
   "execution_count": 170,
   "id": "bda9fc62",
   "metadata": {
    "scrolled": true
   },
   "outputs": [
    {
     "data": {
      "text/plain": [
       "[0, 1, 2, 3, 4]"
      ]
     },
     "execution_count": 170,
     "metadata": {},
     "output_type": "execute_result"
    }
   ],
   "source": [
    "list(range(5)) # get a list of elements from 0 to 4"
   ]
  },
  {
   "cell_type": "markdown",
   "id": "4d22e4df",
   "metadata": {},
   "source": [
    "##### accessing an element of an array"
   ]
  },
  {
   "cell_type": "code",
   "execution_count": 344,
   "id": "b3263e06",
   "metadata": {},
   "outputs": [
    {
     "data": {
      "text/plain": [
       "array([[0.22199317, 0.87073231, 0.20671916],\n",
       "       [0.91861091, 0.48841119, 0.61174386],\n",
       "       [0.76590786, 0.51841799, 0.2968005 ],\n",
       "       [0.18772123, 0.08074127, 0.7384403 ]])"
      ]
     },
     "execution_count": 344,
     "metadata": {},
     "output_type": "execute_result"
    }
   ],
   "source": [
    "np.random.seed(5)\n",
    "arr2 = np.random.random((4,3))\n",
    "arr2"
   ]
  },
  {
   "cell_type": "code",
   "execution_count": 345,
   "id": "29b894ae",
   "metadata": {},
   "outputs": [
    {
     "data": {
      "text/plain": [
       "0.73844029619897"
      ]
     },
     "execution_count": 345,
     "metadata": {},
     "output_type": "execute_result"
    }
   ],
   "source": [
    "# -ve indexing\n",
    "arr2[-1, -1]"
   ]
  },
  {
   "cell_type": "code",
   "execution_count": 346,
   "id": "98f00aae",
   "metadata": {},
   "outputs": [
    {
     "data": {
      "text/plain": [
       "0.73844029619897"
      ]
     },
     "execution_count": 346,
     "metadata": {},
     "output_type": "execute_result"
    }
   ],
   "source": [
    "# +ve indexing\n",
    "arr2[3, 2]"
   ]
  },
  {
   "cell_type": "code",
   "execution_count": 347,
   "id": "aa0bb345",
   "metadata": {},
   "outputs": [
    {
     "data": {
      "text/plain": [
       "0.73844029619897"
      ]
     },
     "execution_count": 347,
     "metadata": {},
     "output_type": "execute_result"
    }
   ],
   "source": [
    "# +ve ra -ve indexing mix garera garna mil6\n",
    "arr2[-1, 2]"
   ]
  },
  {
   "cell_type": "code",
   "execution_count": 348,
   "id": "150d0926",
   "metadata": {},
   "outputs": [
    {
     "data": {
      "text/plain": [
       "0.73844029619897"
      ]
     },
     "execution_count": 348,
     "metadata": {},
     "output_type": "execute_result"
    }
   ],
   "source": [
    "arr2[3, -1]"
   ]
  },
  {
   "cell_type": "markdown",
   "id": "be685218",
   "metadata": {},
   "source": [
    "##### update garne euta array ko element"
   ]
  },
  {
   "cell_type": "code",
   "execution_count": 361,
   "id": "ea438c35",
   "metadata": {},
   "outputs": [
    {
     "data": {
      "text/plain": [
       "array([[ 0.22199317,  0.87073231,  0.20671916],\n",
       "       [ 0.91861091,  0.48841119,  0.61174386],\n",
       "       [ 0.76590786,  0.51841799,  0.2968005 ],\n",
       "       [ 0.18772123,  0.08074127, 10.        ]])"
      ]
     },
     "execution_count": 361,
     "metadata": {},
     "output_type": "execute_result"
    }
   ],
   "source": [
    "arr2[-1, 2] = 10 # yesma 10 ko satta 100 diyaum vane tei anusar aru elements harulai scale gardin6\n",
    "arr2"
   ]
  },
  {
   "cell_type": "markdown",
   "id": "664d7e2d",
   "metadata": {},
   "source": [
    "##### slicing arrays"
   ]
  },
  {
   "cell_type": "code",
   "execution_count": 362,
   "id": "84ff0e4b",
   "metadata": {},
   "outputs": [
    {
     "data": {
      "text/plain": [
       "array([[ 0.22199317,  0.87073231,  0.20671916],\n",
       "       [ 0.91861091,  0.48841119,  0.61174386],\n",
       "       [ 0.76590786,  0.51841799,  0.2968005 ],\n",
       "       [ 0.18772123,  0.08074127, 10.        ]])"
      ]
     },
     "execution_count": 362,
     "metadata": {},
     "output_type": "execute_result"
    }
   ],
   "source": [
    "## list ko slicing and array ko slicing is same\n",
    "# slicing garyo vane returns a np array\n",
    "arr2"
   ]
  },
  {
   "cell_type": "code",
   "execution_count": null,
   "id": "683b7f8f",
   "metadata": {
    "collapsed": true
   },
   "outputs": [],
   "source": []
  },
  {
   "cell_type": "code",
   "execution_count": 363,
   "id": "2874c88b",
   "metadata": {},
   "outputs": [
    {
     "data": {
      "text/plain": [
       "array([3, 4])"
      ]
     },
     "execution_count": 363,
     "metadata": {},
     "output_type": "execute_result"
    }
   ],
   "source": [
    "# for 1d array\n",
    "arr1d = np.array([1,2,3,4,5,6])\n",
    "arr1d[2:4]"
   ]
  },
  {
   "cell_type": "code",
   "execution_count": 364,
   "id": "856a6d87",
   "metadata": {},
   "outputs": [
    {
     "data": {
      "text/plain": [
       "array([[ 0.22199317,  0.87073231,  0.20671916],\n",
       "       [ 0.91861091,  0.48841119,  0.61174386],\n",
       "       [ 0.76590786,  0.51841799,  0.2968005 ],\n",
       "       [ 0.18772123,  0.08074127, 10.        ]])"
      ]
     },
     "execution_count": 364,
     "metadata": {},
     "output_type": "execute_result"
    }
   ],
   "source": [
    "# for 2d array\n",
    "# comma hun6 euta\n",
    "# comma agadiko row ho kun dekhi kun samma\n",
    "# comma paxiko column ko ho kun dekhi kun samma\n",
    "# : paxi excluding hun6 ra agadi chai including hun6\n",
    "arr2[:, :]"
   ]
  },
  {
   "cell_type": "code",
   "execution_count": 375,
   "id": "33890ff6",
   "metadata": {},
   "outputs": [
    {
     "data": {
      "text/plain": [
       "array([[ 0.51841799,  0.2968005 ],\n",
       "       [ 0.08074127, 10.        ]])"
      ]
     },
     "execution_count": 375,
     "metadata": {},
     "output_type": "execute_result"
    }
   ],
   "source": [
    "arr2[2:, 1:] "
   ]
  },
  {
   "cell_type": "code",
   "execution_count": 376,
   "id": "5145c693",
   "metadata": {},
   "outputs": [
    {
     "data": {
      "text/plain": [
       "array([[9, 7, 1, 0, 9, 8],\n",
       "       [8, 8, 9, 7, 7, 8],\n",
       "       [0, 9, 2, 5, 3, 3],\n",
       "       [3, 9, 8, 7, 5, 8]])"
      ]
     },
     "execution_count": 376,
     "metadata": {},
     "output_type": "execute_result"
    }
   ],
   "source": [
    "np.random.seed(35)\n",
    "arr2d = np.random.randint(0,10, size = (4,6))\n",
    "arr2d"
   ]
  },
  {
   "cell_type": "code",
   "execution_count": 377,
   "id": "1c76887c",
   "metadata": {},
   "outputs": [
    {
     "data": {
      "text/plain": [
       "array([[8, 9, 7],\n",
       "       [9, 2, 5]])"
      ]
     },
     "execution_count": 377,
     "metadata": {},
     "output_type": "execute_result"
    }
   ],
   "source": [
    "arr2d[1:3, 1:4]"
   ]
  },
  {
   "cell_type": "code",
   "execution_count": 378,
   "id": "678ac101",
   "metadata": {},
   "outputs": [
    {
     "data": {
      "text/plain": [
       "array([[7, 0, 8],\n",
       "       [9, 5, 3]])"
      ]
     },
     "execution_count": 378,
     "metadata": {},
     "output_type": "execute_result"
    }
   ],
   "source": [
    "# alternate columns ya alternate rows nikalne ho vane step use garne\n",
    "arr2d[0:3:2, 1::2]"
   ]
  },
  {
   "cell_type": "code",
   "execution_count": 388,
   "id": "901cb153",
   "metadata": {},
   "outputs": [
    {
     "data": {
      "text/plain": [
       "array([0, 9, 2, 5, 3, 3])"
      ]
     },
     "execution_count": 388,
     "metadata": {},
     "output_type": "execute_result"
    }
   ],
   "source": [
    "# yadi euta row matrai nikalnu cha vane tyo row ko index matrai diye pug6\n",
    "arr2d[2]\n",
    "arr2d[2, 0:]"
   ]
  },
  {
   "cell_type": "code",
   "execution_count": 387,
   "id": "3dc38f2f",
   "metadata": {},
   "outputs": [
    {
     "data": {
      "text/plain": [
       "array([9, 7, 3, 5])"
      ]
     },
     "execution_count": 387,
     "metadata": {},
     "output_type": "execute_result"
    }
   ],
   "source": [
    "# get only one colummn and show it as an 1darray\n",
    "# arr2d[:, 1]\n",
    "# arr2d[:, -2]\n",
    "\n",
    "# get only one column and show it as a column and not a 1d array\n",
    "arr2d[:, 1:2]\n"
   ]
  },
  {
   "cell_type": "code",
   "execution_count": 389,
   "id": "524bdd05",
   "metadata": {},
   "outputs": [
    {
     "data": {
      "text/plain": [
       "array([[9, 1, 9],\n",
       "       [8, 9, 7],\n",
       "       [0, 2, 3],\n",
       "       [3, 8, 5]])"
      ]
     },
     "execution_count": 389,
     "metadata": {},
     "output_type": "execute_result"
    }
   ],
   "source": [
    "# get only multiple columns \n",
    "arr2d[:,::2]"
   ]
  },
  {
   "cell_type": "code",
   "execution_count": 392,
   "id": "119debcc",
   "metadata": {},
   "outputs": [
    {
     "data": {
      "text/plain": [
       "array([[9, 7, 1, 0, 9, 8],\n",
       "       [8, 8, 9, 7, 7, 8],\n",
       "       [0, 9, 2, 5, 3, 3],\n",
       "       [3, 9, 8, 7, 5, 8]])"
      ]
     },
     "execution_count": 392,
     "metadata": {},
     "output_type": "execute_result"
    }
   ],
   "source": [
    "arr2d"
   ]
  },
  {
   "cell_type": "code",
   "execution_count": 393,
   "id": "8c9b85bb",
   "metadata": {},
   "outputs": [
    {
     "data": {
      "text/plain": [
       "array([[9, 7, 1, 0, 9, 8],\n",
       "       [0, 9, 2, 5, 3, 3]])"
      ]
     },
     "execution_count": 393,
     "metadata": {},
     "output_type": "execute_result"
    }
   ],
   "source": [
    "# get mutiple rows\n",
    "\n",
    "arr2d[::2] "
   ]
  },
  {
   "cell_type": "code",
   "execution_count": 394,
   "id": "721a77d9",
   "metadata": {},
   "outputs": [
    {
     "data": {
      "text/plain": [
       "array([[9, 1, 9],\n",
       "       [0, 2, 3]])"
      ]
     },
     "execution_count": 394,
     "metadata": {},
     "output_type": "execute_result"
    }
   ],
   "source": [
    "# get the alternate rows and alternate columns \n",
    "arr2d[::2,::2] # : agadi j dincha row ya column tyo chai suru ma din6 ani balla step garera din6 aru rows and columns"
   ]
  },
  {
   "cell_type": "code",
   "execution_count": 395,
   "id": "90f870c9",
   "metadata": {},
   "outputs": [
    {
     "data": {
      "text/plain": [
       "array([[9, 7],\n",
       "       [8, 5]])"
      ]
     },
     "execution_count": 395,
     "metadata": {},
     "output_type": "execute_result"
    }
   ],
   "source": [
    "arr2d[1::2,2:5:2]"
   ]
  },
  {
   "cell_type": "code",
   "execution_count": 399,
   "id": "9b2df438",
   "metadata": {},
   "outputs": [
    {
     "data": {
      "text/plain": [
       "array([4, 3, 2, 1])"
      ]
     },
     "execution_count": 399,
     "metadata": {},
     "output_type": "execute_result"
    }
   ],
   "source": [
    "# reversing the whole array\n",
    "\n",
    "# for 1d array\n",
    "\n",
    "arr1d = np.array([1,2,3,4])\n",
    "arr1d\n",
    "\n",
    "arr1d[::-1]\n"
   ]
  },
  {
   "cell_type": "code",
   "execution_count": 400,
   "id": "84ca2fdd",
   "metadata": {},
   "outputs": [
    {
     "data": {
      "text/plain": [
       "array([[8, 5, 7, 8, 9, 3],\n",
       "       [3, 3, 5, 2, 9, 0],\n",
       "       [8, 7, 7, 9, 8, 8],\n",
       "       [8, 9, 0, 1, 7, 9]])"
      ]
     },
     "execution_count": 400,
     "metadata": {},
     "output_type": "execute_result"
    }
   ],
   "source": [
    "# reversing all the rows and columns basically reversing the whole array\n",
    "arr2d[::-1, ::-1]"
   ]
  },
  {
   "cell_type": "code",
   "execution_count": 401,
   "id": "3f443765",
   "metadata": {},
   "outputs": [
    {
     "data": {
      "text/plain": [
       "array([[8, 9, 0, 1, 7, 9],\n",
       "       [8, 7, 7, 9, 8, 8],\n",
       "       [3, 3, 5, 2, 9, 0],\n",
       "       [8, 5, 7, 8, 9, 3]])"
      ]
     },
     "execution_count": 401,
     "metadata": {},
     "output_type": "execute_result"
    }
   ],
   "source": [
    "# reversing only columns\n",
    "arr2d[::, ::-1]"
   ]
  },
  {
   "cell_type": "code",
   "execution_count": 402,
   "id": "3fbdb930",
   "metadata": {},
   "outputs": [
    {
     "data": {
      "text/plain": [
       "array([[3, 9, 8, 7, 5, 8],\n",
       "       [0, 9, 2, 5, 3, 3],\n",
       "       [8, 8, 9, 7, 7, 8],\n",
       "       [9, 7, 1, 0, 9, 8]])"
      ]
     },
     "execution_count": 402,
     "metadata": {},
     "output_type": "execute_result"
    }
   ],
   "source": [
    "# reversing only rows\n",
    "arr2d[::-1, ::]"
   ]
  },
  {
   "cell_type": "markdown",
   "id": "0d768599",
   "metadata": {},
   "source": [
    "##### Arange"
   ]
  },
  {
   "cell_type": "code",
   "execution_count": 173,
   "id": "15831581",
   "metadata": {},
   "outputs": [
    {
     "data": {
      "text/plain": [
       "array([0, 1, 2, 3, 4])"
      ]
     },
     "execution_count": 173,
     "metadata": {},
     "output_type": "execute_result"
    }
   ],
   "source": [
    "np.arange(5)"
   ]
  },
  {
   "cell_type": "code",
   "execution_count": 174,
   "id": "c1951030",
   "metadata": {},
   "outputs": [
    {
     "data": {
      "text/plain": [
       "array([1, 2, 3, 4])"
      ]
     },
     "execution_count": 174,
     "metadata": {},
     "output_type": "execute_result"
    }
   ],
   "source": [
    "np.arange(1,5)"
   ]
  },
  {
   "cell_type": "code",
   "execution_count": 177,
   "id": "7d0b3aca",
   "metadata": {},
   "outputs": [
    {
     "data": {
      "text/plain": [
       "array([1, 3, 5, 7, 9])"
      ]
     },
     "execution_count": 177,
     "metadata": {},
     "output_type": "execute_result"
    }
   ],
   "source": [
    "np.arange(1,10,2) # step 2"
   ]
  },
  {
   "cell_type": "markdown",
   "id": "b573210c",
   "metadata": {},
   "source": [
    "##### linspace"
   ]
  },
  {
   "cell_type": "code",
   "execution_count": 180,
   "id": "35364798",
   "metadata": {},
   "outputs": [
    {
     "data": {
      "text/plain": [
       "array([ 1. ,  5.5, 10. ])"
      ]
     },
     "execution_count": 180,
     "metadata": {},
     "output_type": "execute_result"
    }
   ],
   "source": [
    "# equally spaced ma dincha\n",
    "np.linspace(1, 10, 3)\n"
   ]
  },
  {
   "cell_type": "code",
   "execution_count": 185,
   "id": "18a86765",
   "metadata": {},
   "outputs": [
    {
     "data": {
      "text/plain": [
       "array([ 2,  4,  6,  8, 10])"
      ]
     },
     "execution_count": 185,
     "metadata": {},
     "output_type": "execute_result"
    }
   ],
   "source": [
    "np.linspace(2, 10, 5, dtype= int) # 5 wata numbers equally spaced from the number 2 to number 10"
   ]
  },
  {
   "cell_type": "markdown",
   "id": "cc688805",
   "metadata": {},
   "source": [
    "##### random numbers"
   ]
  },
  {
   "cell_type": "code",
   "execution_count": 190,
   "id": "d8df5f0d",
   "metadata": {},
   "outputs": [
    {
     "data": {
      "text/plain": [
       "array([[0.20407349, 0.01263552],\n",
       "       [0.59570623, 0.98007333],\n",
       "       [0.19292151, 0.54390402]])"
      ]
     },
     "execution_count": 190,
     "metadata": {},
     "output_type": "execute_result"
    }
   ],
   "source": [
    "'''\n",
    "Create an array of the given shape and populate it with\n",
    "random samples from a uniform distribution\n",
    "over ``[0, 1)``\n",
    "\n",
    "Returns\n",
    "-------\n",
    "out : ndarray, shape ``(d0, d1, ..., dn)``\n",
    "    Random values.\n",
    "'''\n",
    "np.random.rand(3,2) # array of the given shape containing random numbers between 0 and 1 din6 harek choti chutta chuttai\n",
    "                    # din6 execute garda"
   ]
  },
  {
   "cell_type": "code",
   "execution_count": 197,
   "id": "31cc1666",
   "metadata": {},
   "outputs": [
    {
     "data": {
      "text/plain": [
       "array([0.98905878, 0.84454044, 0.24980606, 0.59735891, 0.47618741,\n",
       "       0.56380933, 0.38136731, 0.0765909 , 0.34530471, 0.35360532])"
      ]
     },
     "execution_count": 197,
     "metadata": {},
     "output_type": "execute_result"
    }
   ],
   "source": [
    "np.random.random(10) # array with 10 wata random numbers dincha harek choti yo execute grada farak farak"
   ]
  },
  {
   "cell_type": "code",
   "execution_count": 198,
   "id": "f082fd9c",
   "metadata": {},
   "outputs": [
    {
     "data": {
      "text/plain": [
       "array([[-1.43073842, -0.39321281,  0.30079119],\n",
       "       [-0.07765781,  0.79913586, -0.92233315],\n",
       "       [-0.32973824,  0.27403512, -1.72340262]])"
      ]
     },
     "execution_count": 198,
     "metadata": {},
     "output_type": "execute_result"
    }
   ],
   "source": [
    "np.random.normal(0, 1, (3,3))"
   ]
  },
  {
   "cell_type": "code",
   "execution_count": 201,
   "id": "6c82b572",
   "metadata": {},
   "outputs": [
    {
     "data": {
      "text/plain": [
       "array([13, 14, 12, 10, 19, 16, 14, 14, 14, 12, 19, 10, 16, 18, 15, 16, 16,\n",
       "       16, 19, 10])"
      ]
     },
     "execution_count": 201,
     "metadata": {},
     "output_type": "execute_result"
    }
   ],
   "source": [
    "np.random.randint(10, 20, size = 20)"
   ]
  },
  {
   "cell_type": "code",
   "execution_count": 256,
   "id": "07da882d",
   "metadata": {},
   "outputs": [
    {
     "data": {
      "text/plain": [
       "array([25, 35, 37, 31, 10, 47, 34, 26, 13, 16, 49, 48, 14, 49, 45,  2, 11,\n",
       "       27, 36, 13])"
      ]
     },
     "execution_count": 256,
     "metadata": {},
     "output_type": "execute_result"
    }
   ],
   "source": [
    "# yadi harek choti execute garda same numbers generate garos vaniyo vane random.seed ya randomState use garne\n",
    "\n",
    "np.random.seed(212)\n",
    "y = np.random.randint(1, 50, size = 20)\n",
    "y"
   ]
  },
  {
   "cell_type": "code",
   "execution_count": 257,
   "id": "e37dce42",
   "metadata": {},
   "outputs": [],
   "source": [
    "# random.seed() jastai ho yo RandomState()\n",
    "\n",
    "# np.random.RandomState(0) \n",
    "# x = np.random.randint(10, size = 20)\n",
    "# x"
   ]
  },
  {
   "cell_type": "markdown",
   "id": "cab52c29",
   "metadata": {},
   "source": [
    "##### Mean"
   ]
  },
  {
   "cell_type": "code",
   "execution_count": 212,
   "id": "23ab33a3",
   "metadata": {},
   "outputs": [
    {
     "data": {
      "text/plain": [
       "28.4"
      ]
     },
     "execution_count": 212,
     "metadata": {},
     "output_type": "execute_result"
    }
   ],
   "source": [
    "n = len(y)\n",
    "mean_of_y = sum(y)/n\n",
    "mean_of_y"
   ]
  },
  {
   "cell_type": "code",
   "execution_count": 213,
   "id": "ed136786",
   "metadata": {},
   "outputs": [
    {
     "data": {
      "text/plain": [
       "28.4"
      ]
     },
     "execution_count": 213,
     "metadata": {},
     "output_type": "execute_result"
    }
   ],
   "source": [
    "np.mean(y)"
   ]
  },
  {
   "cell_type": "markdown",
   "id": "ad339c0f",
   "metadata": {},
   "source": [
    "##### Median"
   ]
  },
  {
   "cell_type": "code",
   "execution_count": 267,
   "id": "57c7c086",
   "metadata": {},
   "outputs": [
    {
     "name": "stdout",
     "output_type": "stream",
     "text": [
      "[76 28  7  3  4 68 77 49 23 50 53  6 14 35 76 75]\n",
      "4.375\n"
     ]
    }
   ],
   "source": [
    "def get_median(x):  \n",
    "    \n",
    "    sorted_data = sorted(x)\n",
    "    len_of_data = len(sorted_data)\n",
    "    mid_index = len_of_data//2\n",
    "    \n",
    "    if len(sorted_data)%2==0: # yadi remainder 0 aae tyo even number of elements hun6\n",
    "        median = (sorted_data[mid_index]+sorted_data[mid_index-1])/len_of_data\n",
    "    else: # yadi remainder 0 aaena vane tyo odd number of elements hun6\n",
    "        median = sorted_data[mid_index]\n",
    "    \n",
    "    return median\n",
    "   \n",
    "np.random.seed(12)      \n",
    "print(np.random.randint(1, 78, 16))\n",
    "print(get_median(np.random.randint(1, 78, 16)))"
   ]
  },
  {
   "cell_type": "code",
   "execution_count": 269,
   "id": "2b8a10e9",
   "metadata": {},
   "outputs": [
    {
     "name": "stdout",
     "output_type": "stream",
     "text": [
      "[76 28  7  3  4 68 77 49 23 50 53  6 14 35 76 75]\n"
     ]
    },
    {
     "data": {
      "text/plain": [
       "42.0"
      ]
     },
     "execution_count": 269,
     "metadata": {},
     "output_type": "execute_result"
    }
   ],
   "source": [
    "np.random.seed(12)      \n",
    "rng = np.random.randint(1, 78, 16 )\n",
    "print(rng)\n",
    "x_even = sorted(rng)\n",
    "np.median(x_even)"
   ]
  },
  {
   "cell_type": "markdown",
   "id": "0ee18570",
   "metadata": {},
   "source": [
    "##### Covariance"
   ]
  },
  {
   "cell_type": "code",
   "execution_count": 271,
   "id": "c405e5f8",
   "metadata": {},
   "outputs": [],
   "source": [
    "np.random.seed(34)\n",
    "x = np.random.randint(1,89,30)\n",
    "y= np.random.randint(1,89,30)"
   ]
  },
  {
   "cell_type": "code",
   "execution_count": 272,
   "id": "b049f6cb",
   "metadata": {},
   "outputs": [
    {
     "data": {
      "text/plain": [
       "array([[ 662.96091954, -163.11034483],\n",
       "       [-163.11034483,  684.45517241]])"
      ]
     },
     "execution_count": 272,
     "metadata": {},
     "output_type": "execute_result"
    }
   ],
   "source": [
    "np.cov(x,y)"
   ]
  },
  {
   "cell_type": "markdown",
   "id": "d8d17b2d",
   "metadata": {},
   "source": [
    "##### Correlation"
   ]
  },
  {
   "cell_type": "code",
   "execution_count": 273,
   "id": "6a270d55",
   "metadata": {},
   "outputs": [
    {
     "data": {
      "text/plain": [
       "array([[ 1.        , -0.24213916],\n",
       "       [-0.24213916,  1.        ]])"
      ]
     },
     "execution_count": 273,
     "metadata": {},
     "output_type": "execute_result"
    }
   ],
   "source": [
    "np.corrcoef(x,y)"
   ]
  },
  {
   "cell_type": "code",
   "execution_count": 275,
   "id": "a18943ca",
   "metadata": {},
   "outputs": [
    {
     "name": "stdout",
     "output_type": "stream",
     "text": [
      "[34 86 69 36 70 12 79 30 19 30 30 21 63  6 21 52 20 86 22 64 73 43 85 73\n",
      " 78 37  3 38 59 43]\n",
      "[76 35 59 63 39 67 71 43 44 86 32 85 63 85 58 78 45 20 39 24 10 14 71  9\n",
      " 37 49 14  2  6 74]\n"
     ]
    }
   ],
   "source": [
    "print(x)\n",
    "print(y)\n"
   ]
  },
  {
   "cell_type": "markdown",
   "id": "e45834c1",
   "metadata": {},
   "source": [
    "##### To plot these points (34, 76), (86, 35), and so on"
   ]
  },
  {
   "cell_type": "code",
   "execution_count": 284,
   "id": "ace3706c",
   "metadata": {},
   "outputs": [
    {
     "data": {
      "image/png": "[encoded data removed]",
      "text/plain": [
       "<Figure size 432x288 with 1 Axes>"
      ]
     },
     "metadata": {
      "needs_background": "light"
     },
     "output_type": "display_data"
    }
   ],
   "source": [
    "# polynomial vaneko ta yesto hun6 nita: p(x) = x+6\n",
    "\n",
    "import matplotlib.pyplot as plt\n",
    "\n",
    "plt.scatter(x,y)\n",
    "# This line creates a scatter plot using the scatter function from the matplotlib.pyplot library.\n",
    "# It takes two arrays, x and y, as input and plots the data points as individual markers on the plot.\n",
    "\n",
    "### to create a polynomial line\n",
    "### first need to get the coefficients of the polynomial\n",
    "### then create the polynomial object/function\n",
    "### then plot that \n",
    "\n",
    "z = np.polyfit(x,y, deg = 1) # deg 1 vaneko linear polynomial ho junma the highest degree of the variable is equal to 1\n",
    "# This line fits a polynomial line to the data points (x, y) using the polyfit function from the numpy library.\n",
    "# It takes three arguments: the arrays x and y, and the degree of the polynomial to fit (in this case, 1 indicates a linear polynomial).\n",
    "# The function calculates the coefficients of the polynomial line that best fits the data and stores them in the variable z.\n",
    "\n",
    "p = np.poly1d(z)\n",
    "# This line creates a polynomial object using the poly1d function from numpy.\n",
    "# It takes the coefficients z calculated from the previous step and creates a polynomial function p based on those coefficients.\n",
    "\n",
    "plt.plot(x, p(x), \"r-o\")\n",
    "# This line plots the polynomial line on the same plot as the scatter plot.\n",
    "# It uses the plot function from matplotlib.pyplot to create the line.\n",
    "# The x array is used as the x-values, and p(x) calculates the corresponding y-values on the polynomial line. \n",
    "# The string \"r-o\" specifies the line color (\"r\" for red) and style (\"o\" for circle markers).\n",
    "\n",
    "\n",
    "plt.show()"
   ]
  },
  {
   "cell_type": "markdown",
   "id": "f783523a",
   "metadata": {},
   "source": [
    "##### Uniform distribution"
   ]
  },
  {
   "cell_type": "code",
   "execution_count": 288,
   "id": "62a4cad3",
   "metadata": {},
   "outputs": [
    {
     "data": {
      "text/plain": [
       "(100000,)"
      ]
     },
     "execution_count": 288,
     "metadata": {},
     "output_type": "execute_result"
    }
   ],
   "source": [
    "# we take 100000 samples(numbers) from the set of numbers from 0 to 1.\n",
    "\n",
    "uni = np.random.random(100000)\n",
    "uni.shape"
   ]
  },
  {
   "cell_type": "code",
   "execution_count": 294,
   "id": "ace54f79",
   "metadata": {},
   "outputs": [
    {
     "data": {
      "text/plain": [
       "(array([ 9835., 10190., 10065.,  9976.,  9909.,  9911.,  9860., 10210.,\n",
       "         9996., 10048.]),\n",
       " array([4.16764547e-06, 1.00002674e-01, 2.00001180e-01, 2.99999686e-01,\n",
       "        3.99998193e-01, 4.99996699e-01, 5.99995205e-01, 6.99993711e-01,\n",
       "        7.99992218e-01, 8.99990724e-01, 9.99989230e-01]),\n",
       " <BarContainer object of 10 artists>)"
      ]
     },
     "execution_count": 294,
     "metadata": {},
     "output_type": "execute_result"
    },
    {
     "data": {
      "image/png": "[encoded data removed]",
      "text/plain": [
       "<Figure size 432x288 with 1 Axes>"
      ]
     },
     "metadata": {
      "needs_background": "light"
     },
     "output_type": "display_data"
    }
   ],
   "source": [
    "# aba randomly nikaleko 1 lakh wata numbers(jun 0 dekhi 1 ko bich ma chhan), sablai histogram ma depict garnuparyo\n",
    "\n",
    "plt.hist(uni) # yesma almost sabai numbers ko count ustai cha lagvag peak ustai cha. count vs numbers plot"
   ]
  },
  {
   "cell_type": "code",
   "execution_count": 304,
   "id": "835e0ac8",
   "metadata": {},
   "outputs": [
    {
     "data": {
      "text/plain": [
       "array([[1., 0., 0., 0.],\n",
       "       [0., 1., 0., 0.],\n",
       "       [0., 0., 1., 0.],\n",
       "       [0., 0., 0., 1.]])"
      ]
     },
     "execution_count": 304,
     "metadata": {},
     "output_type": "execute_result"
    }
   ],
   "source": [
    "np.eye(4) \n",
    "# identity matrix is always a square matrix(which has equal number of columns and rows) \n",
    "# and so the argument given to the eye() function is only one number"
   ]
  },
  {
   "cell_type": "code",
   "execution_count": 316,
   "id": "1916f78b",
   "metadata": {},
   "outputs": [
    {
     "data": {
      "text/plain": [
       "array([[[2, 9],\n",
       "        [5, 2],\n",
       "        [7, 9]],\n",
       "\n",
       "       [[5, 6],\n",
       "        [5, 9],\n",
       "        [9, 6]]])"
      ]
     },
     "execution_count": 316,
     "metadata": {},
     "output_type": "execute_result"
    }
   ],
   "source": [
    "np.random.seed(4)\n",
    "np.random.randint(10, size = 20)\n",
    "np.random.randint(10, size = (2,3))\n",
    "np.random.randint(10, size = (2,3,2))"
   ]
  },
  {
   "cell_type": "markdown",
   "id": "d35844d4",
   "metadata": {},
   "source": [
    "##### reshape an array"
   ]
  },
  {
   "cell_type": "code",
   "execution_count": 405,
   "id": "9ff263af",
   "metadata": {},
   "outputs": [
    {
     "data": {
      "text/plain": [
       "4"
      ]
     },
     "execution_count": 405,
     "metadata": {},
     "output_type": "execute_result"
    }
   ],
   "source": [
    "# reshape an array\n",
    "x1 = np.array([1,2,3,4])\n",
    "x1.shape\n",
    "x1.size\n"
   ]
  },
  {
   "cell_type": "code",
   "execution_count": 412,
   "id": "6f3409fb",
   "metadata": {},
   "outputs": [
    {
     "data": {
      "text/plain": [
       "array([[1, 2],\n",
       "       [3, 4]])"
      ]
     },
     "execution_count": 412,
     "metadata": {},
     "output_type": "execute_result"
    }
   ],
   "source": [
    "# array ko size jatti cha tetti aune gari shape banaunupar6\n",
    "# like 4 cha size vane ki (2,2) ya (4,1) ya (1,4) ko hunupar6\n",
    "# 1d array lai reshape garepaxi 2 array din6\n",
    "x1.reshape((2,2))"
   ]
  },
  {
   "cell_type": "code",
   "execution_count": 417,
   "id": "2bce6cf8",
   "metadata": {},
   "outputs": [
    {
     "data": {
      "text/plain": [
       "array([[1, 2, 3, 4]])"
      ]
     },
     "execution_count": 417,
     "metadata": {},
     "output_type": "execute_result"
    }
   ],
   "source": [
    "# aba shape as argument hardcode nagarne ho vane yetti wata rows vako de ra columns milaera dey\n",
    "# ya columns yetti wata vako dey ra rows milaera dey \n",
    "\n",
    "x1.reshape((4,-1))\n",
    "x1.reshape((-1,4))"
   ]
  },
  {
   "cell_type": "code",
   "execution_count": 418,
   "id": "8622f69e",
   "metadata": {},
   "outputs": [
    {
     "data": {
      "text/plain": [
       "array([[1],\n",
       "       [2],\n",
       "       [3],\n",
       "       [4]])"
      ]
     },
     "execution_count": 418,
     "metadata": {},
     "output_type": "execute_result"
    }
   ],
   "source": [
    "#row vector and column vector\n",
    "\n",
    "x1.reshape((-1,1)) # gives a column vector"
   ]
  },
  {
   "cell_type": "code",
   "execution_count": 419,
   "id": "ea286092",
   "metadata": {},
   "outputs": [
    {
     "data": {
      "text/plain": [
       "array([[1],\n",
       "       [2],\n",
       "       [3],\n",
       "       [4]])"
      ]
     },
     "execution_count": 419,
     "metadata": {},
     "output_type": "execute_result"
    }
   ],
   "source": [
    "# arko tarika le lekhna mil6. yo tarika badi used hun6\n",
    "# rows ko lagi x1 ko rows haru sabai lii, ra euta axes thapde column ko lagi\n",
    "x1[:, np.newaxis]"
   ]
  },
  {
   "cell_type": "code",
   "execution_count": 421,
   "id": "cb9d3350",
   "metadata": {},
   "outputs": [
    {
     "data": {
      "text/plain": [
       "array([ 1,  2,  3,  4,  5,  6,  7,  8,  9, 10])"
      ]
     },
     "execution_count": 421,
     "metadata": {},
     "output_type": "execute_result"
    }
   ],
   "source": [
    "x2 = np.array([1,2,3,4,5,6,7,8,9,10])\n",
    "x2 # row vector form ma din6"
   ]
  },
  {
   "cell_type": "code",
   "execution_count": 422,
   "id": "e424edb6",
   "metadata": {},
   "outputs": [
    {
     "data": {
      "text/plain": [
       "array([[ 1,  2,  3,  4,  5,  6,  7,  8,  9, 10]])"
      ]
     },
     "execution_count": 422,
     "metadata": {},
     "output_type": "execute_result"
    }
   ],
   "source": [
    "x2[np.newaxis, :] "
   ]
  },
  {
   "cell_type": "code",
   "execution_count": 423,
   "id": "ca4ba7f3",
   "metadata": {
    "scrolled": true
   },
   "outputs": [
    {
     "data": {
      "text/plain": [
       "array([[ 1],\n",
       "       [ 2],\n",
       "       [ 3],\n",
       "       [ 4],\n",
       "       [ 5],\n",
       "       [ 6],\n",
       "       [ 7],\n",
       "       [ 8],\n",
       "       [ 9],\n",
       "       [10]])"
      ]
     },
     "execution_count": 423,
     "metadata": {},
     "output_type": "execute_result"
    }
   ],
   "source": [
    "# sabai numbers harulai rows baanaune and euta column thapne, x1 ma ta row column vanne chadai chaina ni\n",
    "x2[:, np.newaxis] # column vector"
   ]
  },
  {
   "cell_type": "markdown",
   "id": "83ddba75",
   "metadata": {},
   "source": [
    "##### Concatenation and stacking: hstack and vstack"
   ]
  },
  {
   "cell_type": "code",
   "execution_count": 427,
   "id": "366c0fb1",
   "metadata": {},
   "outputs": [
    {
     "data": {
      "text/plain": [
       "array([1, 2, 3, 4, 3, 4, 5, 6])"
      ]
     },
     "execution_count": 427,
     "metadata": {},
     "output_type": "execute_result"
    }
   ],
   "source": [
    "# array concatenation \n",
    "\n",
    "# concatenation of 1d array\n",
    "x1 = np.array([1,2,3,4])\n",
    "x2 = np.array([3,4,5,6])\n",
    "\n",
    "np.concatenate([x1, x2])"
   ]
  },
  {
   "cell_type": "code",
   "execution_count": 433,
   "id": "8e8813d8",
   "metadata": {},
   "outputs": [
    {
     "data": {
      "text/plain": [
       "array([1, 2, 3, 4, 3, 4, 5, 6])"
      ]
     },
     "execution_count": 433,
     "metadata": {},
     "output_type": "execute_result"
    }
   ],
   "source": [
    "np.hstack([x1,x2])"
   ]
  },
  {
   "cell_type": "code",
   "execution_count": 480,
   "id": "3cfb25a8",
   "metadata": {},
   "outputs": [
    {
     "data": {
      "text/plain": [
       "(array([[8, 9, 3, 8],\n",
       "        [8, 0, 5, 3],\n",
       "        [9, 9, 5, 7]]),\n",
       " array([[6, 0, 4, 7],\n",
       "        [8, 1, 6, 2],\n",
       "        [2, 1, 3, 5]]))"
      ]
     },
     "execution_count": 480,
     "metadata": {},
     "output_type": "execute_result"
    }
   ],
   "source": [
    "np.random.seed(3)\n",
    "x3 = np.random.randint(0, 10, (3,4))\n",
    "x4 = np.random.randint(0, 10, (3,4))\n",
    "x3 , x4"
   ]
  },
  {
   "cell_type": "code",
   "execution_count": 486,
   "id": "4460661f",
   "metadata": {},
   "outputs": [
    {
     "data": {
      "text/plain": [
       "array([[8, 9, 3, 8],\n",
       "       [8, 0, 5, 3],\n",
       "       [9, 9, 5, 7],\n",
       "       [6, 0, 4, 7],\n",
       "       [8, 1, 6, 2],\n",
       "       [2, 1, 3, 5]])"
      ]
     },
     "execution_count": 486,
     "metadata": {},
     "output_type": "execute_result"
    }
   ],
   "source": [
    "# concatenation of 2d array\n",
    "\n",
    "# np.hstack([x3,x4])\n",
    "# np.vstack([x3,x4])\n",
    "\n",
    "# shape = ( 3, 4)\n",
    "# index->>> 0  1\n",
    "#          row col\n",
    "\n",
    "np.concatenate([x3,x4], axis = 0)  # join by row / vertically stack\n",
    "# np.concatenate([x3, x4], axis = 1 ) # join by column / horizontally stack\n",
    "\n",
    "\n",
    "\n"
   ]
  },
  {
   "cell_type": "code",
   "execution_count": 490,
   "id": "49468422",
   "metadata": {},
   "outputs": [],
   "source": [
    "# concatenating  \n",
    "x5 = np.array([[3],\n",
    "               [4]])\n",
    "x6 = np.array([[7,3,4],\n",
    "               [8,6,7]])"
   ]
  },
  {
   "cell_type": "code",
   "execution_count": 492,
   "id": "a0ef7f47",
   "metadata": {},
   "outputs": [
    {
     "data": {
      "text/plain": [
       "array([[3, 7, 3, 4],\n",
       "       [4, 8, 6, 7]])"
      ]
     },
     "execution_count": 492,
     "metadata": {},
     "output_type": "execute_result"
    }
   ],
   "source": [
    "np.concatenate([x5, x6], axis = 1) # concatenating horizontally, adding column wise"
   ]
  },
  {
   "cell_type": "code",
   "execution_count": 497,
   "id": "02c6e488",
   "metadata": {},
   "outputs": [
    {
     "data": {
      "text/plain": [
       "array([[3, 7, 3, 4],\n",
       "       [4, 8, 6, 7]])"
      ]
     },
     "execution_count": 497,
     "metadata": {},
     "output_type": "execute_result"
    }
   ],
   "source": [
    "np.hstack([x5, x6]) # side ma thapne ----->\n",
    "\n",
    "# concatenate vanda yo ramro\n",
    "# number of columns increase hun6"
   ]
  },
  {
   "cell_type": "code",
   "execution_count": 494,
   "id": "b1a42864",
   "metadata": {},
   "outputs": [],
   "source": [
    "x7 = np.array([\n",
    "              [1,2,3]\n",
    "             ])\n",
    "\n",
    "x8 = np.array([\n",
    "              [1,2,3],\n",
    "              [5,6,7]\n",
    "              ])"
   ]
  },
  {
   "cell_type": "code",
   "execution_count": 495,
   "id": "528226c2",
   "metadata": {},
   "outputs": [
    {
     "data": {
      "text/plain": [
       "array([[1, 2, 3],\n",
       "       [1, 2, 3],\n",
       "       [5, 6, 7]])"
      ]
     },
     "execution_count": 495,
     "metadata": {},
     "output_type": "execute_result"
    }
   ],
   "source": [
    "np.concatenate([x7, x8], axis = 0) # concatenating vertically, addding row wise"
   ]
  },
  {
   "cell_type": "code",
   "execution_count": 496,
   "id": "e168ca58",
   "metadata": {},
   "outputs": [
    {
     "data": {
      "text/plain": [
       "array([[1, 2, 3],\n",
       "       [1, 2, 3],\n",
       "       [5, 6, 7]])"
      ]
     },
     "execution_count": 496,
     "metadata": {},
     "output_type": "execute_result"
    }
   ],
   "source": [
    "np.vstack([x7, x8]) # tala thapne                                   \n",
    "                    # number of rows increase hun6"
   ]
  },
  {
   "cell_type": "markdown",
   "id": "74a44be1",
   "metadata": {},
   "source": [
    "##### Split an array"
   ]
  },
  {
   "cell_type": "code",
   "execution_count": 519,
   "id": "90b990de",
   "metadata": {},
   "outputs": [
    {
     "name": "stdout",
     "output_type": "stream",
     "text": [
      "[0 1] [2 3 4 5 6] [7 8] [ 9 10 11 12 13 14 15 16 17 18 19 20 21 22 23 24 25 26 27 28]\n"
     ]
    }
   ],
   "source": [
    "z = np.arange(29)\n",
    "\n",
    "# breakpoints, kun kun index ma kaatne vanera as a list/tuple dine\n",
    "\n",
    "# a1, a2 = np.split(z, 2) # can take in list and tuple also to split\n",
    "# a1, a2, a3 = np.split(z, [2, 7])\n",
    "a1, a2, a3, a4 = np.split(z, (2, 7, 9))\n",
    "\n",
    "# print(a1, a2)\n",
    "print(a1, a2, a3, a4)"
   ]
  },
  {
   "cell_type": "code",
   "execution_count": 526,
   "id": "2d7677b2",
   "metadata": {},
   "outputs": [
    {
     "data": {
      "text/plain": [
       "array([[ 2,  3,  4,  5,  6],\n",
       "       [ 7,  8,  9, 10, 11]])"
      ]
     },
     "execution_count": 526,
     "metadata": {},
     "output_type": "execute_result"
    }
   ],
   "source": [
    "np.arange(2,12).reshape((2, 5))"
   ]
  },
  {
   "cell_type": "code",
   "execution_count": 527,
   "id": "f03fbcf4",
   "metadata": {},
   "outputs": [
    {
     "data": {
      "text/plain": [
       "array([[ 0,  1],\n",
       "       [ 2,  3],\n",
       "       [ 4,  5],\n",
       "       [ 6,  7],\n",
       "       [ 8,  9],\n",
       "       [10, 11],\n",
       "       [12, 13],\n",
       "       [14, 15]])"
      ]
     },
     "execution_count": 527,
     "metadata": {},
     "output_type": "execute_result"
    }
   ],
   "source": [
    "np.arange(16).reshape((8, 2))"
   ]
  },
  {
   "cell_type": "code",
   "execution_count": 538,
   "id": "4189da92",
   "metadata": {},
   "outputs": [],
   "source": [
    "## 1d array lai we can reshape and make it a 2d array\n",
    "# np.arange(16) # arange gives 1d array\n",
    "grid = np.arange(16).reshape(8,2) # reshape garda 2d array din6"
   ]
  },
  {
   "cell_type": "code",
   "execution_count": 540,
   "id": "86543100",
   "metadata": {},
   "outputs": [
    {
     "data": {
      "text/plain": [
       "[array([[0, 1],\n",
       "        [2, 3]]),\n",
       " array([[ 4,  5],\n",
       "        [ 6,  7],\n",
       "        [ 8,  9],\n",
       "        [10, 11],\n",
       "        [12, 13],\n",
       "        [14, 15]])]"
      ]
     },
     "execution_count": 540,
     "metadata": {},
     "output_type": "execute_result"
    }
   ],
   "source": [
    "np.vsplit(grid,[2])\n"
   ]
  },
  {
   "cell_type": "code",
   "execution_count": 541,
   "id": "80eb52db",
   "metadata": {},
   "outputs": [
    {
     "data": {
      "text/plain": [
       "array([[ 0,  1,  2,  3,  4,  5,  6,  7],\n",
       "       [ 8,  9, 10, 11, 12, 13, 14, 15]])"
      ]
     },
     "execution_count": 541,
     "metadata": {},
     "output_type": "execute_result"
    }
   ],
   "source": [
    "grid = np.arange(16).reshape(2,8)"
   ]
  },
  {
   "cell_type": "code",
   "execution_count": 542,
   "id": "95619c6b",
   "metadata": {},
   "outputs": [
    {
     "data": {
      "text/plain": [
       "[array([[0, 1],\n",
       "        [2, 3]]),\n",
       " array([[4, 5],\n",
       "        [6, 7],\n",
       "        [8, 9]]),\n",
       " array([[10, 11],\n",
       "        [12, 13],\n",
       "        [14, 15]])]"
      ]
     },
     "execution_count": 542,
     "metadata": {},
     "output_type": "execute_result"
    }
   ],
   "source": [
    "np.split(grid, [2, 5])"
   ]
  },
  {
   "cell_type": "code",
   "execution_count": 547,
   "id": "4d09adef",
   "metadata": {},
   "outputs": [
    {
     "data": {
      "text/plain": [
       "array([[3],\n",
       "       [4]])"
      ]
     },
     "execution_count": 547,
     "metadata": {},
     "output_type": "execute_result"
    }
   ],
   "source": [
    "x5"
   ]
  },
  {
   "cell_type": "code",
   "execution_count": 560,
   "id": "945f760e",
   "metadata": {},
   "outputs": [
    {
     "data": {
      "text/plain": [
       "array([ 0,  6, 12, 18, 24, 30, 36, 42])"
      ]
     },
     "execution_count": 560,
     "metadata": {},
     "output_type": "execute_result"
    }
   ],
   "source": [
    "x10 = np.array(np.random.randint(1,10,9))\n",
    "x11 = np.arange(8)\n",
    "x11 + 1000\n",
    "x11 - 5\n",
    "x11 / 2\n",
    "x11 * 6\n"
   ]
  },
  {
   "cell_type": "code",
   "execution_count": 561,
   "id": "75d4e664",
   "metadata": {},
   "outputs": [
    {
     "data": {
      "text/plain": [
       "array([11, 14, 14, 13, 11,  7,  7,  7, 11])"
      ]
     },
     "execution_count": 561,
     "metadata": {},
     "output_type": "execute_result"
    }
   ],
   "source": [
    "# update gar6 each element and replaces them\n",
    "x10 += 5\n",
    "x10"
   ]
  },
  {
   "cell_type": "code",
   "execution_count": 562,
   "id": "e6ef90ba",
   "metadata": {},
   "outputs": [
    {
     "data": {
      "text/plain": [
       "array([-2515.456, -3652.264, -3652.264, -3241.792, -2515.456, -1404.928,\n",
       "       -1404.928, -1404.928, -2515.456])"
      ]
     },
     "execution_count": 562,
     "metadata": {},
     "output_type": "execute_result"
    }
   ],
   "source": [
    "# takes care of order of operation\n",
    "# BODMAS rule lai maintiain gar6 ufunc le\n",
    "\n",
    "-(0.6 * x10 + 7)**3"
   ]
  },
  {
   "cell_type": "code",
   "execution_count": 563,
   "id": "2986604a",
   "metadata": {},
   "outputs": [
    {
     "data": {
      "text/plain": [
       "array([11, 14, 14, 13, 11,  7,  7,  7, 11])"
      ]
     },
     "execution_count": 563,
     "metadata": {},
     "output_type": "execute_result"
    }
   ],
   "source": [
    "x10"
   ]
  },
  {
   "cell_type": "code",
   "execution_count": 566,
   "id": "07f79bb0",
   "metadata": {},
   "outputs": [
    {
     "data": {
      "text/plain": [
       "array([-11, -14, -14, -13, -11,  -7,  -7,  -7, -11])"
      ]
     },
     "execution_count": 566,
     "metadata": {},
     "output_type": "execute_result"
    }
   ],
   "source": [
    "x10 = -x10\n",
    "x10"
   ]
  },
  {
   "cell_type": "code",
   "execution_count": 569,
   "id": "bf33fb67",
   "metadata": {},
   "outputs": [
    {
     "data": {
      "text/plain": [
       "array([11, 14, 14, 13, 11,  7,  7,  7, 11])"
      ]
     },
     "execution_count": 569,
     "metadata": {},
     "output_type": "execute_result"
    }
   ],
   "source": [
    "abs(x10) #python core ko ho yo abs jasle vectorised operation gar6. \n",
    "np.abs(x10) # abs lai numpy le ni use gar6 as numpy ko function, for vectorised operation\n"
   ]
  },
  {
   "cell_type": "code",
   "execution_count": 571,
   "id": "d78323cf",
   "metadata": {
    "scrolled": true
   },
   "outputs": [
    {
     "data": {
      "text/plain": [
       "array([11, 14, 14, 13, 11,  7,  7,  7, 11])"
      ]
     },
     "execution_count": 571,
     "metadata": {},
     "output_type": "execute_result"
    }
   ],
   "source": [
    "np.absolute(x10)"
   ]
  },
  {
   "cell_type": "code",
   "execution_count": 576,
   "id": "5ba70b73",
   "metadata": {},
   "outputs": [
    {
     "data": {
      "text/plain": [
       "array([0, 1, 3])"
      ]
     },
     "execution_count": 576,
     "metadata": {},
     "output_type": "execute_result"
    }
   ],
   "source": [
    "theta = np.linspace(0, np.pi, 3, dtype = int)\n",
    "theta"
   ]
  },
  {
   "cell_type": "code",
   "execution_count": 580,
   "id": "73d9b4b3",
   "metadata": {},
   "outputs": [
    {
     "data": {
      "text/plain": [
       "array([0.        , 0.84147098, 0.14112001])"
      ]
     },
     "execution_count": 580,
     "metadata": {},
     "output_type": "execute_result"
    }
   ],
   "source": [
    "np.sin(theta)"
   ]
  },
  {
   "cell_type": "code",
   "execution_count": 584,
   "id": "41c66564",
   "metadata": {},
   "outputs": [
    {
     "data": {
      "text/plain": [
       "array([ 1.        ,  0.54030231, -0.9899925 ])"
      ]
     },
     "execution_count": 584,
     "metadata": {},
     "output_type": "execute_result"
    }
   ],
   "source": [
    "np.cos(theta)"
   ]
  },
  {
   "cell_type": "code",
   "execution_count": 587,
   "id": "13d42e29",
   "metadata": {},
   "outputs": [
    {
     "data": {
      "text/plain": [
       "array([ 1.        ,  2.71828183, 20.08553692])"
      ]
     },
     "execution_count": 587,
     "metadata": {},
     "output_type": "execute_result"
    }
   ],
   "source": [
    "np.exp(theta)"
   ]
  },
  {
   "cell_type": "code",
   "execution_count": 590,
   "id": "10cfd84a",
   "metadata": {},
   "outputs": [
    {
     "data": {
      "text/plain": [
       "array([ 0,  1,  4,  9, 16, 25, 36, 49, 64, 81], dtype=int32)"
      ]
     },
     "execution_count": 590,
     "metadata": {},
     "output_type": "execute_result"
    }
   ],
   "source": [
    "z = np.arange(10)\n",
    "z\n",
    "np.power(z, 2)"
   ]
  },
  {
   "cell_type": "code",
   "execution_count": 591,
   "id": "62f50f25",
   "metadata": {},
   "outputs": [
    {
     "data": {
      "text/plain": [
       "array([  1,   2,   4,   8,  16,  32,  64, 128, 256, 512], dtype=int32)"
      ]
     },
     "execution_count": 591,
     "metadata": {},
     "output_type": "execute_result"
    }
   ],
   "source": [
    "np.power(2, z)"
   ]
  },
  {
   "cell_type": "code",
   "execution_count": 592,
   "id": "04363c34",
   "metadata": {},
   "outputs": [
    {
     "data": {
      "text/plain": [
       "array([  1,   2,   4,   8,  16,  32,  64, 128, 256, 512], dtype=int32)"
      ]
     },
     "execution_count": 592,
     "metadata": {},
     "output_type": "execute_result"
    }
   ],
   "source": [
    "2**z # yo chai z numpy array vako le garda matrai successfull execution vako ho"
   ]
  },
  {
   "cell_type": "code",
   "execution_count": 593,
   "id": "0c5752a0",
   "metadata": {},
   "outputs": [
    {
     "data": {
      "text/plain": [
       "7.38905609893065"
      ]
     },
     "execution_count": 593,
     "metadata": {},
     "output_type": "execute_result"
    }
   ],
   "source": [
    "np.exp(2)"
   ]
  },
  {
   "cell_type": "code",
   "execution_count": 594,
   "id": "49fa969e",
   "metadata": {},
   "outputs": [
    {
     "data": {
      "text/plain": [
       "8.0"
      ]
     },
     "execution_count": 594,
     "metadata": {},
     "output_type": "execute_result"
    }
   ],
   "source": [
    "np.exp2(3)"
   ]
  },
  {
   "cell_type": "code",
   "execution_count": 598,
   "id": "84cde312",
   "metadata": {},
   "outputs": [],
   "source": [
    "a = np.array([2])"
   ]
  },
  {
   "cell_type": "code",
   "execution_count": 610,
   "id": "0ff698c2",
   "metadata": {},
   "outputs": [
    {
     "data": {
      "text/plain": [
       "array([4], dtype=int32)"
      ]
     },
     "execution_count": 610,
     "metadata": {},
     "output_type": "execute_result"
    }
   ],
   "source": [
    "a**2 # a^2\n",
    "np.power(a, 2) # power is 2"
   ]
  },
  {
   "cell_type": "code",
   "execution_count": 611,
   "id": "65adfd2d",
   "metadata": {},
   "outputs": [
    {
     "data": {
      "text/plain": [
       "array([4], dtype=int32)"
      ]
     },
     "execution_count": 611,
     "metadata": {},
     "output_type": "execute_result"
    }
   ],
   "source": [
    "2 ** a # 2^2\n",
    "np.power(2, a) # power is a"
   ]
  },
  {
   "cell_type": "markdown",
   "id": "2dcebe88",
   "metadata": {},
   "source": [
    "##### advanced u func features"
   ]
  },
  {
   "cell_type": "markdown",
   "id": "db767efc",
   "metadata": {},
   "source": [
    "###### aggregation functions\n"
   ]
  },
  {
   "cell_type": "code",
   "execution_count": 619,
   "id": "fc7e3c53",
   "metadata": {},
   "outputs": [
    {
     "data": {
      "text/plain": [
       "0"
      ]
     },
     "execution_count": 619,
     "metadata": {},
     "output_type": "execute_result"
    }
   ],
   "source": [
    "\n",
    "arr = np.arange(20) # 1+2+3+4+5+6+7+8+9+10+11+12+13+14+15+16+17+18+19 = 190\n",
    "np.add.reduce(arr)\n",
    "np.subtract.reduce(arr)\n",
    "np.multiply.reduce(arr) # 0*1*2....*19 = 0  \n",
    "# factorial jastai"
   ]
  },
  {
   "cell_type": "markdown",
   "id": "dd19a1c2",
   "metadata": {},
   "source": [
    "###### accumulator\n"
   ]
  },
  {
   "cell_type": "code",
   "execution_count": 620,
   "id": "6f6047e1",
   "metadata": {},
   "outputs": [
    {
     "data": {
      "text/plain": [
       "array([0, 1, 2, 3, 4, 5, 6, 7, 8, 9])"
      ]
     },
     "execution_count": 620,
     "metadata": {},
     "output_type": "execute_result"
    }
   ],
   "source": [
    "np.arange(10)"
   ]
  },
  {
   "cell_type": "code",
   "execution_count": 624,
   "id": "e71a16b7",
   "metadata": {},
   "outputs": [
    {
     "data": {
      "text/plain": [
       "array([ 0,  1,  3,  6, 10, 15, 21, 28, 36, 45], dtype=int32)"
      ]
     },
     "execution_count": 624,
     "metadata": {},
     "output_type": "execute_result"
    }
   ],
   "source": [
    "np.add.accumulate(np.arange(10)) # 0, 0+1=1, 1+2=3, 3+3=,...."
   ]
  },
  {
   "cell_type": "markdown",
   "id": "e4cb87b0",
   "metadata": {},
   "source": [
    "###### vector/matrix multiplication"
   ]
  },
  {
   "cell_type": "code",
   "execution_count": null,
   "id": "c2e719fe",
   "metadata": {},
   "outputs": [],
   "source": [
    "# Outer product"
   ]
  },
  {
   "cell_type": "code",
   "execution_count": 4,
   "id": "b86ae87b",
   "metadata": {},
   "outputs": [
    {
     "data": {
      "text/plain": [
       "(2, 2)"
      ]
     },
     "execution_count": 4,
     "metadata": {},
     "output_type": "execute_result"
    }
   ],
   "source": [
    "u = np.array([[1,2,3]])\n",
    "v = np.array([[4,5,6]])\n",
    "\n",
    "u.ndim, v.ndim"
   ]
  },
  {
   "cell_type": "code",
   "execution_count": 635,
   "id": "d61d51d2",
   "metadata": {},
   "outputs": [
    {
     "data": {
      "text/plain": [
       "array([[1],\n",
       "       [2],\n",
       "       [3]])"
      ]
     },
     "execution_count": 635,
     "metadata": {},
     "output_type": "execute_result"
    }
   ],
   "source": [
    "u.T"
   ]
  },
  {
   "cell_type": "code",
   "execution_count": 6,
   "id": "7293a335",
   "metadata": {},
   "outputs": [
    {
     "data": {
      "text/plain": [
       "((3, 1), (1, 3))"
      ]
     },
     "execution_count": 6,
     "metadata": {},
     "output_type": "execute_result"
    }
   ],
   "source": [
    "u.T.shape, v.shape"
   ]
  },
  {
   "cell_type": "code",
   "execution_count": null,
   "id": "3905c890",
   "metadata": {},
   "outputs": [],
   "source": [
    "u.T * v"
   ]
  },
  {
   "cell_type": "code",
   "execution_count": 637,
   "id": "58647069",
   "metadata": {},
   "outputs": [
    {
     "data": {
      "text/plain": [
       "array([[ 4,  5,  6],\n",
       "       [ 8, 10, 12],\n",
       "       [12, 15, 18]])"
      ]
     },
     "execution_count": 637,
     "metadata": {},
     "output_type": "execute_result"
    }
   ],
   "source": [
    "np.outer(u,v) # no need to transpose"
   ]
  },
  {
   "cell_type": "code",
   "execution_count": 642,
   "id": "4dd9d012",
   "metadata": {},
   "outputs": [
    {
     "data": {
      "text/plain": [
       "array([[[[ 4,  5,  6]],\n",
       "\n",
       "        [[ 8, 10, 12]],\n",
       "\n",
       "        [[12, 15, 18]]]])"
      ]
     },
     "execution_count": 642,
     "metadata": {},
     "output_type": "execute_result"
    }
   ],
   "source": [
    "np.multiply.outer(u,v) # yesle 4 dim result din6, yo use nagarne"
   ]
  },
  {
   "cell_type": "code",
   "execution_count": null,
   "id": "9ed350b6",
   "metadata": {},
   "outputs": [],
   "source": [
    "# inner product/ dot product"
   ]
  },
  {
   "cell_type": "code",
   "execution_count": 639,
   "id": "074481fd",
   "metadata": {},
   "outputs": [
    {
     "data": {
      "text/plain": [
       "array([[32]])"
      ]
     },
     "execution_count": 639,
     "metadata": {},
     "output_type": "execute_result"
    }
   ],
   "source": [
    "np.matmul(u,v.T)"
   ]
  },
  {
   "cell_type": "code",
   "execution_count": 640,
   "id": "b81c9f97",
   "metadata": {},
   "outputs": [],
   "source": [
    "## u*v.T garda matrix nai result gar6, scaler result gardaina so we use matmul() function for getting the scaler"
   ]
  },
  {
   "cell_type": "markdown",
   "id": "2003f353",
   "metadata": {},
   "source": [
    "###### sum of all the elements in a array"
   ]
  },
  {
   "cell_type": "code",
   "execution_count": 645,
   "id": "8e3102e9",
   "metadata": {},
   "outputs": [],
   "source": [
    "x7 = [[[ 4,  5,  6],\n",
    "       [ 8, 10, 12],\n",
    "       [12, 15, 18]], \n",
    "      [[ 4,  5,  6],\n",
    "       [ 8, 10, 12],\n",
    "       [12, 15, 18]]]"
   ]
  },
  {
   "cell_type": "code",
   "execution_count": 651,
   "id": "b1900c6a",
   "metadata": {},
   "outputs": [
    {
     "data": {
      "text/plain": [
       "180"
      ]
     },
     "execution_count": 651,
     "metadata": {},
     "output_type": "execute_result"
    }
   ],
   "source": [
    "np.sum(x7)"
   ]
  },
  {
   "cell_type": "code",
   "execution_count": 663,
   "id": "442ad64a",
   "metadata": {},
   "outputs": [
    {
     "name": "stdout",
     "output_type": "stream",
     "text": [
      "259 ms ± 17.8 ms per loop (mean ± std. dev. of 7 runs, 1 loop each)\n"
     ]
    }
   ],
   "source": [
    "big_arr = np.random.rand(1000000)\n",
    "%timeit sum(bigarr)"
   ]
  },
  {
   "cell_type": "code",
   "execution_count": 664,
   "id": "1d029870",
   "metadata": {},
   "outputs": [
    {
     "name": "stdout",
     "output_type": "stream",
     "text": [
      "238 ms ± 12.6 ms per loop (mean ± std. dev. of 7 runs, 1 loop each)\n"
     ]
    }
   ],
   "source": [
    "%timeit sum(bigarr)"
   ]
  },
  {
   "cell_type": "code",
   "execution_count": 665,
   "id": "51817e53",
   "metadata": {},
   "outputs": [],
   "source": [
    "#### yaha bata thaha hun6 ki numpy sum is orders of magnnitude faster"
   ]
  },
  {
   "cell_type": "code",
   "execution_count": 666,
   "id": "5e7f8e55",
   "metadata": {},
   "outputs": [],
   "source": [
    "# min and maximum functions"
   ]
  },
  {
   "cell_type": "code",
   "execution_count": 671,
   "id": "b0b891ff",
   "metadata": {},
   "outputs": [
    {
     "name": "stdout",
     "output_type": "stream",
     "text": [
      "349 ms ± 6.49 ms per loop (mean ± std. dev. of 7 runs, 1 loop each)\n"
     ]
    }
   ],
   "source": [
    "# min(big_arr), max(big_arr) \n",
    "%timeit min(big_arr), max(big_arr)"
   ]
  },
  {
   "cell_type": "code",
   "execution_count": 668,
   "id": "4b8c7853",
   "metadata": {},
   "outputs": [
    {
     "name": "stdout",
     "output_type": "stream",
     "text": [
      "1.92 ms ± 16.8 µs per loop (mean ± std. dev. of 7 runs, 1000 loops each)\n"
     ]
    }
   ],
   "source": [
    "%timeit np.min(big_arr), np.max(big_arr)"
   ]
  },
  {
   "cell_type": "markdown",
   "id": "4695dd96",
   "metadata": {},
   "source": [
    "###### multidimensional aggregate "
   ]
  },
  {
   "cell_type": "code",
   "execution_count": 681,
   "id": "135d4a6c",
   "metadata": {},
   "outputs": [],
   "source": [
    "np.random.seed(5)\n",
    "x110 = np.random.rand(3,4)"
   ]
  },
  {
   "cell_type": "code",
   "execution_count": 682,
   "id": "43d13185",
   "metadata": {},
   "outputs": [
    {
     "data": {
      "text/plain": [
       "array([[0.22199317, 0.87073231, 0.20671916, 0.91861091],\n",
       "       [0.48841119, 0.61174386, 0.76590786, 0.51841799],\n",
       "       [0.2968005 , 0.18772123, 0.08074127, 0.7384403 ]])"
      ]
     },
     "execution_count": 682,
     "metadata": {},
     "output_type": "execute_result"
    }
   ],
   "source": [
    "x110"
   ]
  },
  {
   "cell_type": "code",
   "execution_count": 684,
   "id": "9fdea95d",
   "metadata": {},
   "outputs": [
    {
     "data": {
      "text/plain": [
       "array([2.21805554, 2.3844809 , 1.3037033 ])"
      ]
     },
     "execution_count": 684,
     "metadata": {},
     "output_type": "execute_result"
    }
   ],
   "source": [
    "np.sum(x110, axis = 1) # column collapse garepaxi euta column hun6 ra row 3 wata hun6"
   ]
  },
  {
   "cell_type": "code",
   "execution_count": 685,
   "id": "3cb28397",
   "metadata": {},
   "outputs": [
    {
     "data": {
      "text/plain": [
       "array([1.00720486, 1.6701974 , 1.05336828, 2.17546919])"
      ]
     },
     "execution_count": 685,
     "metadata": {},
     "output_type": "execute_result"
    }
   ],
   "source": [
    "np.sum(x110, axis = 0) # row haru collapse garyo vane euta matrai row hun6 ra column chai 4 wata hun6"
   ]
  },
  {
   "cell_type": "markdown",
   "id": "9f86c305",
   "metadata": {},
   "source": [
    "###### presidents height"
   ]
  },
  {
   "cell_type": "code",
   "execution_count": 687,
   "id": "231c7a7e",
   "metadata": {},
   "outputs": [],
   "source": []
  },
  {
   "cell_type": "code",
   "execution_count": 694,
   "id": "253c5478",
   "metadata": {},
   "outputs": [],
   "source": [
    "dataframe = pd.read_csv(\"president_heights.csv\") # read garera dataframe ma diyo, a normal table"
   ]
  },
  {
   "cell_type": "code",
   "execution_count": 695,
   "id": "aa46b862",
   "metadata": {},
   "outputs": [
    {
     "data": {
      "text/html": [
       "<div>\n",
       "<style scoped>\n",
       "    .dataframe tbody tr th:only-of-type {\n",
       "        vertical-align: middle;\n",
       "    }\n",
       "\n",
       "    .dataframe tbody tr th {\n",
       "        vertical-align: top;\n",
       "    }\n",
       "\n",
       "    .dataframe thead th {\n",
       "        text-align: right;\n",
       "    }\n",
       "</style>\n",
       "<table border=\"1\" class=\"dataframe\">\n",
       "  <thead>\n",
       "    <tr style=\"text-align: right;\">\n",
       "      <th></th>\n",
       "      <th>order</th>\n",
       "      <th>name</th>\n",
       "      <th>height(cm)</th>\n",
       "    </tr>\n",
       "  </thead>\n",
       "  <tbody>\n",
       "    <tr>\n",
       "      <th>0</th>\n",
       "      <td>1</td>\n",
       "      <td>George Washington</td>\n",
       "      <td>189</td>\n",
       "    </tr>\n",
       "    <tr>\n",
       "      <th>1</th>\n",
       "      <td>2</td>\n",
       "      <td>John Adams</td>\n",
       "      <td>170</td>\n",
       "    </tr>\n",
       "    <tr>\n",
       "      <th>2</th>\n",
       "      <td>3</td>\n",
       "      <td>Thomas Jefferson</td>\n",
       "      <td>189</td>\n",
       "    </tr>\n",
       "    <tr>\n",
       "      <th>3</th>\n",
       "      <td>4</td>\n",
       "      <td>James Madison</td>\n",
       "      <td>163</td>\n",
       "    </tr>\n",
       "    <tr>\n",
       "      <th>4</th>\n",
       "      <td>5</td>\n",
       "      <td>James Monroe</td>\n",
       "      <td>183</td>\n",
       "    </tr>\n",
       "    <tr>\n",
       "      <th>5</th>\n",
       "      <td>6</td>\n",
       "      <td>John Quincy Adams</td>\n",
       "      <td>171</td>\n",
       "    </tr>\n",
       "    <tr>\n",
       "      <th>6</th>\n",
       "      <td>7</td>\n",
       "      <td>Andrew Jackson</td>\n",
       "      <td>185</td>\n",
       "    </tr>\n",
       "    <tr>\n",
       "      <th>7</th>\n",
       "      <td>8</td>\n",
       "      <td>Martin Van Buren</td>\n",
       "      <td>168</td>\n",
       "    </tr>\n",
       "    <tr>\n",
       "      <th>8</th>\n",
       "      <td>9</td>\n",
       "      <td>William Henry Harrison</td>\n",
       "      <td>173</td>\n",
       "    </tr>\n",
       "    <tr>\n",
       "      <th>9</th>\n",
       "      <td>10</td>\n",
       "      <td>John Tyler</td>\n",
       "      <td>183</td>\n",
       "    </tr>\n",
       "    <tr>\n",
       "      <th>10</th>\n",
       "      <td>11</td>\n",
       "      <td>James K. Polk</td>\n",
       "      <td>173</td>\n",
       "    </tr>\n",
       "    <tr>\n",
       "      <th>11</th>\n",
       "      <td>12</td>\n",
       "      <td>Zachary Taylor</td>\n",
       "      <td>173</td>\n",
       "    </tr>\n",
       "    <tr>\n",
       "      <th>12</th>\n",
       "      <td>13</td>\n",
       "      <td>Millard Fillmore</td>\n",
       "      <td>175</td>\n",
       "    </tr>\n",
       "    <tr>\n",
       "      <th>13</th>\n",
       "      <td>14</td>\n",
       "      <td>Franklin Pierce</td>\n",
       "      <td>178</td>\n",
       "    </tr>\n",
       "    <tr>\n",
       "      <th>14</th>\n",
       "      <td>15</td>\n",
       "      <td>James Buchanan</td>\n",
       "      <td>183</td>\n",
       "    </tr>\n",
       "    <tr>\n",
       "      <th>15</th>\n",
       "      <td>16</td>\n",
       "      <td>Abraham Lincoln</td>\n",
       "      <td>193</td>\n",
       "    </tr>\n",
       "    <tr>\n",
       "      <th>16</th>\n",
       "      <td>17</td>\n",
       "      <td>Andrew Johnson</td>\n",
       "      <td>178</td>\n",
       "    </tr>\n",
       "    <tr>\n",
       "      <th>17</th>\n",
       "      <td>18</td>\n",
       "      <td>Ulysses S. Grant</td>\n",
       "      <td>173</td>\n",
       "    </tr>\n",
       "    <tr>\n",
       "      <th>18</th>\n",
       "      <td>19</td>\n",
       "      <td>Rutherford B. Hayes</td>\n",
       "      <td>174</td>\n",
       "    </tr>\n",
       "    <tr>\n",
       "      <th>19</th>\n",
       "      <td>20</td>\n",
       "      <td>James A. Garfield</td>\n",
       "      <td>183</td>\n",
       "    </tr>\n",
       "    <tr>\n",
       "      <th>20</th>\n",
       "      <td>21</td>\n",
       "      <td>Chester A. Arthur</td>\n",
       "      <td>183</td>\n",
       "    </tr>\n",
       "    <tr>\n",
       "      <th>21</th>\n",
       "      <td>23</td>\n",
       "      <td>Benjamin Harrison</td>\n",
       "      <td>168</td>\n",
       "    </tr>\n",
       "    <tr>\n",
       "      <th>22</th>\n",
       "      <td>25</td>\n",
       "      <td>William McKinley</td>\n",
       "      <td>170</td>\n",
       "    </tr>\n",
       "    <tr>\n",
       "      <th>23</th>\n",
       "      <td>26</td>\n",
       "      <td>Theodore Roosevelt</td>\n",
       "      <td>178</td>\n",
       "    </tr>\n",
       "    <tr>\n",
       "      <th>24</th>\n",
       "      <td>27</td>\n",
       "      <td>William Howard Taft</td>\n",
       "      <td>182</td>\n",
       "    </tr>\n",
       "    <tr>\n",
       "      <th>25</th>\n",
       "      <td>28</td>\n",
       "      <td>Woodrow Wilson</td>\n",
       "      <td>180</td>\n",
       "    </tr>\n",
       "    <tr>\n",
       "      <th>26</th>\n",
       "      <td>29</td>\n",
       "      <td>Warren G. Harding</td>\n",
       "      <td>183</td>\n",
       "    </tr>\n",
       "    <tr>\n",
       "      <th>27</th>\n",
       "      <td>30</td>\n",
       "      <td>Calvin Coolidge</td>\n",
       "      <td>178</td>\n",
       "    </tr>\n",
       "    <tr>\n",
       "      <th>28</th>\n",
       "      <td>31</td>\n",
       "      <td>Herbert Hoover</td>\n",
       "      <td>182</td>\n",
       "    </tr>\n",
       "    <tr>\n",
       "      <th>29</th>\n",
       "      <td>32</td>\n",
       "      <td>Franklin D. Roosevelt</td>\n",
       "      <td>188</td>\n",
       "    </tr>\n",
       "    <tr>\n",
       "      <th>30</th>\n",
       "      <td>33</td>\n",
       "      <td>Harry S. Truman</td>\n",
       "      <td>175</td>\n",
       "    </tr>\n",
       "    <tr>\n",
       "      <th>31</th>\n",
       "      <td>34</td>\n",
       "      <td>Dwight D. Eisenhower</td>\n",
       "      <td>179</td>\n",
       "    </tr>\n",
       "    <tr>\n",
       "      <th>32</th>\n",
       "      <td>35</td>\n",
       "      <td>John F. Kennedy</td>\n",
       "      <td>183</td>\n",
       "    </tr>\n",
       "    <tr>\n",
       "      <th>33</th>\n",
       "      <td>36</td>\n",
       "      <td>Lyndon B. Johnson</td>\n",
       "      <td>193</td>\n",
       "    </tr>\n",
       "    <tr>\n",
       "      <th>34</th>\n",
       "      <td>37</td>\n",
       "      <td>Richard Nixon</td>\n",
       "      <td>182</td>\n",
       "    </tr>\n",
       "    <tr>\n",
       "      <th>35</th>\n",
       "      <td>38</td>\n",
       "      <td>Gerald Ford</td>\n",
       "      <td>183</td>\n",
       "    </tr>\n",
       "    <tr>\n",
       "      <th>36</th>\n",
       "      <td>39</td>\n",
       "      <td>Jimmy Carter</td>\n",
       "      <td>177</td>\n",
       "    </tr>\n",
       "    <tr>\n",
       "      <th>37</th>\n",
       "      <td>40</td>\n",
       "      <td>Ronald Reagan</td>\n",
       "      <td>185</td>\n",
       "    </tr>\n",
       "    <tr>\n",
       "      <th>38</th>\n",
       "      <td>41</td>\n",
       "      <td>George H. W. Bush</td>\n",
       "      <td>188</td>\n",
       "    </tr>\n",
       "    <tr>\n",
       "      <th>39</th>\n",
       "      <td>42</td>\n",
       "      <td>Bill Clinton</td>\n",
       "      <td>188</td>\n",
       "    </tr>\n",
       "    <tr>\n",
       "      <th>40</th>\n",
       "      <td>43</td>\n",
       "      <td>George W. Bush</td>\n",
       "      <td>182</td>\n",
       "    </tr>\n",
       "    <tr>\n",
       "      <th>41</th>\n",
       "      <td>44</td>\n",
       "      <td>Barack Obama</td>\n",
       "      <td>185</td>\n",
       "    </tr>\n",
       "  </tbody>\n",
       "</table>\n",
       "</div>"
      ],
      "text/plain": [
       "    order                    name  height(cm)\n",
       "0       1       George Washington         189\n",
       "1       2              John Adams         170\n",
       "2       3        Thomas Jefferson         189\n",
       "3       4           James Madison         163\n",
       "4       5            James Monroe         183\n",
       "5       6       John Quincy Adams         171\n",
       "6       7          Andrew Jackson         185\n",
       "7       8        Martin Van Buren         168\n",
       "8       9  William Henry Harrison         173\n",
       "9      10              John Tyler         183\n",
       "10     11           James K. Polk         173\n",
       "11     12          Zachary Taylor         173\n",
       "12     13        Millard Fillmore         175\n",
       "13     14         Franklin Pierce         178\n",
       "14     15          James Buchanan         183\n",
       "15     16         Abraham Lincoln         193\n",
       "16     17          Andrew Johnson         178\n",
       "17     18        Ulysses S. Grant         173\n",
       "18     19     Rutherford B. Hayes         174\n",
       "19     20       James A. Garfield         183\n",
       "20     21       Chester A. Arthur         183\n",
       "21     23       Benjamin Harrison         168\n",
       "22     25        William McKinley         170\n",
       "23     26      Theodore Roosevelt         178\n",
       "24     27     William Howard Taft         182\n",
       "25     28          Woodrow Wilson         180\n",
       "26     29       Warren G. Harding         183\n",
       "27     30         Calvin Coolidge         178\n",
       "28     31          Herbert Hoover         182\n",
       "29     32   Franklin D. Roosevelt         188\n",
       "30     33         Harry S. Truman         175\n",
       "31     34    Dwight D. Eisenhower         179\n",
       "32     35         John F. Kennedy         183\n",
       "33     36       Lyndon B. Johnson         193\n",
       "34     37           Richard Nixon         182\n",
       "35     38             Gerald Ford         183\n",
       "36     39            Jimmy Carter         177\n",
       "37     40           Ronald Reagan         185\n",
       "38     41       George H. W. Bush         188\n",
       "39     42            Bill Clinton         188\n",
       "40     43          George W. Bush         182\n",
       "41     44            Barack Obama         185"
      ]
     },
     "execution_count": 695,
     "metadata": {},
     "output_type": "execute_result"
    }
   ],
   "source": [
    "dataframe"
   ]
  },
  {
   "cell_type": "code",
   "execution_count": 699,
   "id": "d1d1b081",
   "metadata": {},
   "outputs": [
    {
     "data": {
      "text/html": [
       "<div>\n",
       "<style scoped>\n",
       "    .dataframe tbody tr th:only-of-type {\n",
       "        vertical-align: middle;\n",
       "    }\n",
       "\n",
       "    .dataframe tbody tr th {\n",
       "        vertical-align: top;\n",
       "    }\n",
       "\n",
       "    .dataframe thead th {\n",
       "        text-align: right;\n",
       "    }\n",
       "</style>\n",
       "<table border=\"1\" class=\"dataframe\">\n",
       "  <thead>\n",
       "    <tr style=\"text-align: right;\">\n",
       "      <th></th>\n",
       "      <th>order</th>\n",
       "      <th>name</th>\n",
       "      <th>height(cm)</th>\n",
       "    </tr>\n",
       "  </thead>\n",
       "  <tbody>\n",
       "    <tr>\n",
       "      <th>0</th>\n",
       "      <td>1</td>\n",
       "      <td>George Washington</td>\n",
       "      <td>189</td>\n",
       "    </tr>\n",
       "    <tr>\n",
       "      <th>1</th>\n",
       "      <td>2</td>\n",
       "      <td>John Adams</td>\n",
       "      <td>170</td>\n",
       "    </tr>\n",
       "    <tr>\n",
       "      <th>2</th>\n",
       "      <td>3</td>\n",
       "      <td>Thomas Jefferson</td>\n",
       "      <td>189</td>\n",
       "    </tr>\n",
       "    <tr>\n",
       "      <th>3</th>\n",
       "      <td>4</td>\n",
       "      <td>James Madison</td>\n",
       "      <td>163</td>\n",
       "    </tr>\n",
       "    <tr>\n",
       "      <th>4</th>\n",
       "      <td>5</td>\n",
       "      <td>James Monroe</td>\n",
       "      <td>183</td>\n",
       "    </tr>\n",
       "  </tbody>\n",
       "</table>\n",
       "</div>"
      ],
      "text/plain": [
       "   order               name  height(cm)\n",
       "0      1  George Washington         189\n",
       "1      2         John Adams         170\n",
       "2      3   Thomas Jefferson         189\n",
       "3      4      James Madison         163\n",
       "4      5       James Monroe         183"
      ]
     },
     "execution_count": 699,
     "metadata": {},
     "output_type": "execute_result"
    }
   ],
   "source": [
    "dataframe.head()"
   ]
  },
  {
   "cell_type": "code",
   "execution_count": 700,
   "id": "46aec06a",
   "metadata": {},
   "outputs": [
    {
     "data": {
      "text/plain": [
       "(42, 3)"
      ]
     },
     "execution_count": 700,
     "metadata": {},
     "output_type": "execute_result"
    }
   ],
   "source": [
    "dataframe.shape # katti rows and katti columns"
   ]
  },
  {
   "cell_type": "code",
   "execution_count": 718,
   "id": "160b65a1",
   "metadata": {},
   "outputs": [
    {
     "data": {
      "text/plain": [
       "pandas.core.frame.DataFrame"
      ]
     },
     "execution_count": 718,
     "metadata": {},
     "output_type": "execute_result"
    }
   ],
   "source": [
    "type(dataframe) # dataframe ho yo"
   ]
  },
  {
   "cell_type": "code",
   "execution_count": 729,
   "id": "4b8a8b53",
   "metadata": {},
   "outputs": [
    {
     "data": {
      "text/plain": [
       "pandas.core.series.Series"
      ]
     },
     "execution_count": 729,
     "metadata": {},
     "output_type": "execute_result"
    }
   ],
   "source": [
    "heights = dataframe['height(cm)'] # yo chai series form ma cha\n",
    "\n",
    "type(dataframe['height(cm)'])"
   ]
  },
  {
   "cell_type": "code",
   "execution_count": 707,
   "id": "ba6bd45a",
   "metadata": {},
   "outputs": [
    {
     "data": {
      "text/plain": [
       "array([189, 170, 189, 163, 183, 171, 185, 168, 173, 183, 173, 173, 175,\n",
       "       178, 183, 193, 178, 173, 174, 183, 183, 168, 170, 178, 182, 180,\n",
       "       183, 178, 182, 188, 175, 179, 183, 193, 182, 183, 177, 185, 188,\n",
       "       188, 182, 185], dtype=int64)"
      ]
     },
     "execution_count": 707,
     "metadata": {},
     "output_type": "execute_result"
    }
   ],
   "source": [
    "np.array(heights) # aba yeslai array form ma cast gareko"
   ]
  },
  {
   "cell_type": "code",
   "execution_count": 709,
   "id": "c01f0dcb",
   "metadata": {},
   "outputs": [
    {
     "data": {
      "text/plain": [
       "42"
      ]
     },
     "execution_count": 709,
     "metadata": {},
     "output_type": "execute_result"
    }
   ],
   "source": [
    "heights.size"
   ]
  },
  {
   "cell_type": "code",
   "execution_count": 710,
   "id": "2a442e36",
   "metadata": {},
   "outputs": [
    {
     "data": {
      "text/plain": [
       "42"
      ]
     },
     "execution_count": 710,
     "metadata": {},
     "output_type": "execute_result"
    }
   ],
   "source": [
    "len(heights)"
   ]
  },
  {
   "cell_type": "code",
   "execution_count": 713,
   "id": "848544d1",
   "metadata": {},
   "outputs": [
    {
     "data": {
      "text/plain": [
       "179.73809523809524"
      ]
     },
     "execution_count": 713,
     "metadata": {},
     "output_type": "execute_result"
    }
   ],
   "source": [
    "# to get the average of values we normally use mean\n",
    "\n",
    "heights.mean()"
   ]
  },
  {
   "cell_type": "code",
   "execution_count": 714,
   "id": "cfde00f3",
   "metadata": {},
   "outputs": [
    {
     "data": {
      "text/plain": [
       "163"
      ]
     },
     "execution_count": 714,
     "metadata": {},
     "output_type": "execute_result"
    }
   ],
   "source": [
    "heights.min()"
   ]
  },
  {
   "cell_type": "code",
   "execution_count": 715,
   "id": "019e3ab8",
   "metadata": {},
   "outputs": [
    {
     "data": {
      "text/plain": [
       "193"
      ]
     },
     "execution_count": 715,
     "metadata": {},
     "output_type": "execute_result"
    }
   ],
   "source": [
    "heights.max()"
   ]
  },
  {
   "cell_type": "code",
   "execution_count": 720,
   "id": "cde2981e",
   "metadata": {},
   "outputs": [
    {
     "data": {
      "text/plain": [
       "7.015868855358296"
      ]
     },
     "execution_count": 720,
     "metadata": {},
     "output_type": "execute_result"
    }
   ],
   "source": [
    "heights.std()"
   ]
  },
  {
   "cell_type": "code",
   "execution_count": 716,
   "id": "98943bc4",
   "metadata": {},
   "outputs": [
    {
     "data": {
      "text/plain": [
       "pandas.core.series.Series"
      ]
     },
     "execution_count": 716,
     "metadata": {},
     "output_type": "execute_result"
    }
   ],
   "source": [
    "type(heights)"
   ]
  },
  {
   "cell_type": "code",
   "execution_count": 728,
   "id": "0ec994cc",
   "metadata": {
    "scrolled": true
   },
   "outputs": [
    {
     "data": {
      "image/png": "[encoded data removed]",
      "text/plain": [
       "<Figure size 432x288 with 1 Axes>"
      ]
     },
     "metadata": {},
     "output_type": "display_data"
    }
   ],
   "source": [
    "\n",
    "sns.set();\n",
    "plt.hist(heights); # a histogram is a frequency plot\n",
    "\n",
    "# semi colon use garda nachainekura haru dekhaudaina"
   ]
  },
  {
   "cell_type": "code",
   "execution_count": null,
   "id": "966e03f1",
   "metadata": {},
   "outputs": [],
   "source": [
    "## yesma 160-165 inches  height haru kati wata? euta\n",
    "## 165-170 inches  vaka kati wata? duita... and so on\n",
    "## xaxis le kun data van6\n",
    "## y axis le frequncy, tyo data katiwata van6 "
   ]
  },
  {
   "cell_type": "code",
   "execution_count": 743,
   "id": "b8d23ff1",
   "metadata": {},
   "outputs": [
    {
     "data": {
      "image/png": "[encoded data removed]",
      "text/plain": [
       "<Figure size 432x288 with 1 Axes>"
      ]
     },
     "metadata": {},
     "output_type": "display_data"
    }
   ],
   "source": [
    "# example\n",
    "x = [1,2,3,4,5,6,2,3,4,3,1]\n",
    "plt.hist(x);\n",
    "plt.title('the number of items and their frequencies');\n",
    "plt.ylabel('number of item data');\n",
    "plt.xlabel('item data');"
   ]
  },
  {
   "cell_type": "code",
   "execution_count": 746,
   "id": "cab165f7",
   "metadata": {},
   "outputs": [
    {
     "data": {
      "text/plain": [
       "array([5, 7, 9])"
      ]
     },
     "execution_count": 746,
     "metadata": {},
     "output_type": "execute_result"
    }
   ],
   "source": [
    "x = np.array([1,2,3])\n",
    "y = np.array([4,5,6])\n",
    "# arrays of equal shape and size\n",
    "x + y # ufunc addition in which elements are added each element wise and there will be 3 items in the result"
   ]
  },
  {
   "cell_type": "markdown",
   "id": "b5c02cd1",
   "metadata": {},
   "source": [
    "##### Broadcasting"
   ]
  },
  {
   "cell_type": "code",
   "execution_count": 750,
   "id": "8c30aa12",
   "metadata": {},
   "outputs": [
    {
     "data": {
      "text/plain": [
       "array([2, 3, 4])"
      ]
     },
     "execution_count": 750,
     "metadata": {},
     "output_type": "execute_result"
    }
   ],
   "source": [
    "# Broadcasting between a matrix/ vector and a scalar\n",
    "\n",
    "# it is also a vectorized operation\n",
    "# [1] vaneko 1 ho ----> scalar ho\n",
    "x + 1 # garda array lai scalar sanga jodnu ho\n",
    "# yesma broadcasting gareko, duwai arraylai euta shape and size ma lerau6 ani addition gar6.\n",
    "# [1] scalar lai [1,1,1]\n",
    "x + np.array([1,1,1])\n",
    "# vannale chuttta chuttai dimensions vako duita arrays harulai operations garna khojda broadcast gar6\n",
    "# broadcasting le dimension ni thapdin6 ra rows ya columns ni thapdin6"
   ]
  },
  {
   "cell_type": "code",
   "execution_count": 775,
   "id": "60115aa7",
   "metadata": {},
   "outputs": [
    {
     "data": {
      "text/plain": [
       "array([[1., 1., 1., 1.],\n",
       "       [1., 1., 1., 1.],\n",
       "       [1., 1., 1., 1.]])"
      ]
     },
     "execution_count": 775,
     "metadata": {},
     "output_type": "execute_result"
    }
   ],
   "source": [
    "# Broadcasting between a 1d array and a 2d array\n",
    "# 1d lai 2d ma broadcast gar6\n",
    "\n",
    "ones1 = np.ones((3,4))\n",
    "ones1"
   ]
  },
  {
   "cell_type": "code",
   "execution_count": 788,
   "id": "46dddded",
   "metadata": {},
   "outputs": [
    {
     "data": {
      "text/plain": [
       "array([[1., 1., 1., 1.],\n",
       "       [1., 1., 1., 1.],\n",
       "       [1., 1., 1., 1.]])"
      ]
     },
     "execution_count": 788,
     "metadata": {},
     "output_type": "execute_result"
    }
   ],
   "source": [
    "ones2 = np.ones((3,4))\n",
    "ones2"
   ]
  },
  {
   "cell_type": "code",
   "execution_count": 789,
   "id": "afba4a13",
   "metadata": {},
   "outputs": [
    {
     "data": {
      "text/plain": [
       "array([[2., 2., 2., 2.],\n",
       "       [2., 2., 2., 2.],\n",
       "       [2., 2., 2., 2.]])"
      ]
     },
     "execution_count": 789,
     "metadata": {},
     "output_type": "execute_result"
    }
   ],
   "source": [
    "ones1 + ones2 # yesari duita same dimensions ko array add gar6 normal ma ta, so yesma ta broadcast chahindaina"
   ]
  },
  {
   "cell_type": "code",
   "execution_count": 795,
   "id": "154233f6",
   "metadata": {},
   "outputs": [
    {
     "data": {
      "text/plain": [
       "array([[3., 3., 4., 5.],\n",
       "       [3., 3., 4., 5.],\n",
       "       [3., 3., 4., 5.]])"
      ]
     },
     "execution_count": 795,
     "metadata": {},
     "output_type": "execute_result"
    }
   ],
   "source": [
    "ones1 + np.array([2,2,3,4]) # 2d array + 1d array\n"
   ]
  },
  {
   "cell_type": "code",
   "execution_count": 885,
   "id": "c81e6f67",
   "metadata": {},
   "outputs": [],
   "source": [
    "array_one_dimensional = np.array([2, 4, 5, 4]) # shape is (4,) "
   ]
  },
  {
   "cell_type": "code",
   "execution_count": 886,
   "id": "835453e2",
   "metadata": {},
   "outputs": [],
   "source": [
    "array_two_dimensional = np.ones((3, 4)) # shape is (3,4)"
   ]
  },
  {
   "cell_type": "code",
   "execution_count": 887,
   "id": "8515a4e3",
   "metadata": {},
   "outputs": [
    {
     "data": {
      "text/plain": [
       "array([[3., 5., 6., 5.],\n",
       "       [3., 5., 6., 5.],\n",
       "       [3., 5., 6., 5.]])"
      ]
     },
     "execution_count": 887,
     "metadata": {},
     "output_type": "execute_result"
    }
   ],
   "source": [
    "array_one_dimensional + array_two_dimensional # array_one_dimensional lai broadcast gar6 3x4 array ma"
   ]
  },
  {
   "cell_type": "code",
   "execution_count": 908,
   "id": "17419bdc",
   "metadata": {},
   "outputs": [
    {
     "data": {
      "text/plain": [
       "array([[2., 2., 2.],\n",
       "       [2., 2., 2.],\n",
       "       [2., 2., 2.]])"
      ]
     },
     "execution_count": 908,
     "metadata": {},
     "output_type": "execute_result"
    }
   ],
   "source": [
    "# Broadcating betweeen two 2d arrays\n",
    "\n",
    "array_one_dimensional_another = np.ones((1,3)) # 2d array din6\n",
    "array_two_dimensional_another = np.ones((3,1), dtype = int) \n",
    "array_one_dimensional_another + array_two_dimensional_another"
   ]
  },
  {
   "cell_type": "code",
   "execution_count": 923,
   "id": "17e90bfe",
   "metadata": {},
   "outputs": [
    {
     "data": {
      "text/plain": [
       "array([[0.77132064, 0.02075195, 0.63364823],\n",
       "       [0.74880388, 0.49850701, 0.22479665],\n",
       "       [0.19806286, 0.76053071, 0.16911084],\n",
       "       [0.08833981, 0.68535982, 0.95339335],\n",
       "       [0.00394827, 0.51219226, 0.81262096],\n",
       "       [0.61252607, 0.72175532, 0.29187607],\n",
       "       [0.91777412, 0.71457578, 0.54254437],\n",
       "       [0.14217005, 0.37334076, 0.67413362],\n",
       "       [0.44183317, 0.43401399, 0.61776698],\n",
       "       [0.51313824, 0.65039718, 0.60103895]])"
      ]
     },
     "execution_count": 923,
     "metadata": {},
     "output_type": "execute_result"
    }
   ],
   "source": [
    "np.random.seed(10)\n",
    "X = np.random.random((10,3)) #uniform distribution bata liney\n",
    "X"
   ]
  },
  {
   "cell_type": "code",
   "execution_count": 933,
   "id": "2a63e0f9",
   "metadata": {},
   "outputs": [
    {
     "data": {
      "text/plain": [
       "array([0.44379171, 0.53714248, 0.552093  ])"
      ]
     },
     "execution_count": 933,
     "metadata": {},
     "output_type": "execute_result"
    }
   ],
   "source": [
    "# aba yesma harek column ko mean nikalne vae\n",
    "# tintaa columns ko means nikalnupare row/col collapse ko logic laune\n",
    "mu = np.mean(X, axis = 0)\n",
    "mu"
   ]
  },
  {
   "cell_type": "code",
   "execution_count": 936,
   "id": "15d2f17b",
   "metadata": {},
   "outputs": [
    {
     "data": {
      "text/plain": [
       "array([[ 0.32752893, -0.51639053,  0.08155523],\n",
       "       [ 0.30501217, -0.03863547, -0.32729636],\n",
       "       [-0.24572885,  0.22338823, -0.38298216],\n",
       "       [-0.3554519 ,  0.14821734,  0.40130035],\n",
       "       [-0.43984345, -0.02495022,  0.26052796],\n",
       "       [ 0.16873435,  0.18461284, -0.26021693],\n",
       "       [ 0.47398241,  0.1774333 , -0.00954863],\n",
       "       [-0.30162166, -0.16380172,  0.12204061],\n",
       "       [-0.00195854, -0.10312849,  0.06567398],\n",
       "       [ 0.06934653,  0.1132547 ,  0.04894595]])"
      ]
     },
     "execution_count": 936,
     "metadata": {},
     "output_type": "execute_result"
    }
   ],
   "source": [
    "centered_mean = X - mu\n",
    "centered_mean"
   ]
  },
  {
   "cell_type": "code",
   "execution_count": 939,
   "id": "00a96d0f",
   "metadata": {},
   "outputs": [
    {
     "data": {
      "text/plain": [
       "array([-1.11022302e-17, -5.55111512e-17, -3.33066907e-17])"
      ]
     },
     "execution_count": 939,
     "metadata": {},
     "output_type": "execute_result"
    }
   ],
   "source": [
    "np.mean(centered_mean, axis = 0)"
   ]
  },
  {
   "cell_type": "markdown",
   "id": "e8326ae9",
   "metadata": {},
   "source": [
    "##### Comparison operators as ufunc"
   ]
  },
  {
   "cell_type": "code",
   "execution_count": 943,
   "id": "db3f747c",
   "metadata": {},
   "outputs": [
    {
     "data": {
      "text/plain": [
       "array([0, 1, 2, 3, 4, 5, 6, 7, 8])"
      ]
     },
     "execution_count": 943,
     "metadata": {},
     "output_type": "execute_result"
    }
   ],
   "source": [
    "a = np.arange(9)\n",
    "a"
   ]
  },
  {
   "cell_type": "code",
   "execution_count": 944,
   "id": "2ac62ba7",
   "metadata": {},
   "outputs": [
    {
     "data": {
      "text/plain": [
       "array([False, False, False, False, False, False,  True,  True,  True])"
      ]
     },
     "execution_count": 944,
     "metadata": {},
     "output_type": "execute_result"
    }
   ],
   "source": [
    "a > 5"
   ]
  },
  {
   "cell_type": "code",
   "execution_count": 945,
   "id": "2a05324c",
   "metadata": {},
   "outputs": [
    {
     "data": {
      "text/plain": [
       "array([ True,  True,  True,  True,  True,  True,  True, False, False])"
      ]
     },
     "execution_count": 945,
     "metadata": {},
     "output_type": "execute_result"
    }
   ],
   "source": [
    "a < 7"
   ]
  },
  {
   "cell_type": "code",
   "execution_count": 946,
   "id": "504a4ca4",
   "metadata": {},
   "outputs": [
    {
     "data": {
      "text/plain": [
       "array([False, False, False, False,  True, False, False, False, False])"
      ]
     },
     "execution_count": 946,
     "metadata": {},
     "output_type": "execute_result"
    }
   ],
   "source": [
    "a == 4"
   ]
  },
  {
   "cell_type": "code",
   "execution_count": 947,
   "id": "ee8e6364",
   "metadata": {},
   "outputs": [
    {
     "data": {
      "text/plain": [
       "array([ True,  True,  True,  True, False,  True,  True,  True,  True])"
      ]
     },
     "execution_count": 947,
     "metadata": {},
     "output_type": "execute_result"
    }
   ],
   "source": [
    "a != 4 "
   ]
  },
  {
   "cell_type": "code",
   "execution_count": 948,
   "id": "fe091923",
   "metadata": {},
   "outputs": [
    {
     "data": {
      "text/plain": [
       "array([False,  True, False, False, False, False, False, False, False])"
      ]
     },
     "execution_count": 948,
     "metadata": {},
     "output_type": "execute_result"
    }
   ],
   "source": [
    "(a * 4) == (4 ** a)"
   ]
  },
  {
   "cell_type": "code",
   "execution_count": 970,
   "id": "4b2c474a",
   "metadata": {},
   "outputs": [
    {
     "data": {
      "text/plain": [
       "array([[5, 0, 3],\n",
       "       [3, 7, 9],\n",
       "       [3, 5, 2],\n",
       "       [4, 7, 6]])"
      ]
     },
     "execution_count": 970,
     "metadata": {},
     "output_type": "execute_result"
    }
   ],
   "source": [
    "np.random.seed(0)\n",
    "b = np.random.randint(0, 10, size = (4, 3))\n",
    "b"
   ]
  },
  {
   "cell_type": "code",
   "execution_count": 972,
   "id": "9d8859da",
   "metadata": {},
   "outputs": [
    {
     "data": {
      "text/plain": [
       "array([[False, False, False],\n",
       "       [False,  True,  True],\n",
       "       [False, False, False],\n",
       "       [False,  True,  True]])"
      ]
     },
     "execution_count": 972,
     "metadata": {},
     "output_type": "execute_result"
    }
   ],
   "source": [
    "b >= 6 "
   ]
  },
  {
   "cell_type": "code",
   "execution_count": 978,
   "id": "c1b1b3df",
   "metadata": {},
   "outputs": [
    {
     "data": {
      "text/plain": [
       "array([[4, 3, 0, 3],\n",
       "       [5, 0, 2, 3],\n",
       "       [8, 1, 3, 3]])"
      ]
     },
     "execution_count": 978,
     "metadata": {},
     "output_type": "execute_result"
    }
   ],
   "source": [
    "c = np.random.randint(0, 10, size = (3,4))\n",
    "c"
   ]
  },
  {
   "cell_type": "code",
   "execution_count": 988,
   "id": "709bdac0",
   "metadata": {},
   "outputs": [
    {
     "data": {
      "text/plain": [
       "array([[ True, False, False, False],\n",
       "       [ True, False, False, False],\n",
       "       [ True, False, False, False]])"
      ]
     },
     "execution_count": 988,
     "metadata": {},
     "output_type": "execute_result"
    }
   ],
   "source": [
    "c>3"
   ]
  },
  {
   "cell_type": "code",
   "execution_count": 986,
   "id": "c038b250",
   "metadata": {},
   "outputs": [
    {
     "data": {
      "text/plain": [
       "3"
      ]
     },
     "execution_count": 986,
     "metadata": {},
     "output_type": "execute_result"
    }
   ],
   "source": [
    "# how many elements of an array are greater/less/equal/notequal than a particular number, using the comparison ufunc?\n",
    "# nonzero = 1\n",
    "np.count_nonzero(c>3) # non zeros vaneko not zero ho, vaneko 1 ho, vaneko true ho. so true katiwata cha count gar6 yesle"
   ]
  },
  {
   "cell_type": "code",
   "execution_count": 987,
   "id": "0d36e5dd",
   "metadata": {},
   "outputs": [
    {
     "data": {
      "text/plain": [
       "2"
      ]
     },
     "execution_count": 987,
     "metadata": {},
     "output_type": "execute_result"
    }
   ],
   "source": [
    "# alternatively we can use the sum()\n",
    "\n",
    "# jastai mathi, comparison garda matrai, ie. c>3 le return gar6 euta boolean array:\n",
    "# array([[True, False, False, False],\n",
    "#        [ True, False, False, False],\n",
    "#        [ True, False, False, False]])\n",
    "# aba yei arraylai sum() function ma as argument dida harek True ra False lai cast gar6 1s ra 0s ma.\n",
    "# ani result chai integer din6, by taking all the 1s of all the True values and adding them, how you would add them normally.\n",
    "# ani tei 1s haru sab normally math ma jastai jod6, logically jodne haina, like tintaa true vae 1+1+1=3 gar6\n",
    "np.sum(c>4) # # yo garda ni same answer din6 but yesma sum gar6."
   ]
  },
  {
   "cell_type": "markdown",
   "id": "5f075779",
   "metadata": {},
   "source": [
    "##### Working with boolean arrays"
   ]
  },
  {
   "cell_type": "markdown",
   "id": "5e9986ec",
   "metadata": {},
   "source": [
    "##### any() and all()"
   ]
  },
  {
   "cell_type": "code",
   "execution_count": 989,
   "id": "c5b9d950",
   "metadata": {},
   "outputs": [
    {
     "data": {
      "text/plain": [
       "array([[15,  8,  1,  2],\n",
       "       [10,  1, 11,  4],\n",
       "       [12,  3,  1,  1]])"
      ]
     },
     "execution_count": 989,
     "metadata": {},
     "output_type": "execute_result"
    }
   ],
   "source": [
    "# any\n",
    "\n",
    "c = np.random.randint(1, 18, (3,4))\n",
    "c"
   ]
  },
  {
   "cell_type": "code",
   "execution_count": 990,
   "id": "685e3fd0",
   "metadata": {},
   "outputs": [
    {
     "data": {
      "text/plain": [
       "True"
      ]
     },
     "execution_count": 990,
     "metadata": {},
     "output_type": "execute_result"
    }
   ],
   "source": [
    "np.any(c>14) # k kunai element in the array > 14 cha? cha vane True return gar6 natra False return gar6\n",
    "# yo case ma euta cha so True result gar6"
   ]
  },
  {
   "cell_type": "code",
   "execution_count": 991,
   "id": "551c7a96",
   "metadata": {},
   "outputs": [
    {
     "data": {
      "text/plain": [
       "False"
      ]
     },
     "execution_count": 991,
     "metadata": {},
     "output_type": "execute_result"
    }
   ],
   "source": [
    "np.any(c<=0)"
   ]
  },
  {
   "cell_type": "code",
   "execution_count": 992,
   "id": "6a475569",
   "metadata": {},
   "outputs": [
    {
     "data": {
      "text/plain": [
       "False"
      ]
     },
     "execution_count": 992,
     "metadata": {},
     "output_type": "execute_result"
    }
   ],
   "source": [
    "np.all(c<14) # k sabai element < 14 cha? cha vane true, returns an arrry with true or false"
   ]
  },
  {
   "cell_type": "code",
   "execution_count": 993,
   "id": "250a1d2b",
   "metadata": {},
   "outputs": [
    {
     "data": {
      "text/plain": [
       "True"
      ]
     },
     "execution_count": 993,
     "metadata": {},
     "output_type": "execute_result"
    }
   ],
   "source": [
    "\n",
    "np.all(c!=13)"
   ]
  },
  {
   "cell_type": "code",
   "execution_count": 4,
   "id": "d4004009",
   "metadata": {},
   "outputs": [
    {
     "data": {
      "text/plain": [
       "array([False, False,  True, False])"
      ]
     },
     "execution_count": 4,
     "metadata": {},
     "output_type": "execute_result"
    }
   ],
   "source": [
    "e = np.array([[1,2,3],\n",
    "              [4,5,6],\n",
    "              [7,8,9],\n",
    "              [10,11,12]])\n",
    "# np.any(e>3, axis = 0)\n",
    "np.any(e==8, axis = 1)\n",
    "# np.all(e!=5, axis = 0)\n",
    "# np.all(e==6, axis = 1) \n",
    "# [[False False False]\n",
    "#  [False False True]\n",
    "#  [False False False]\n",
    "#  [False False False]]\n",
    "# this array is returned by the comparison operation\n",
    "# no it checks in each row because column collapses\n",
    "# here in each row is \"all\" the elements True, if all elemnts are true then True is returned otherwise False is returned"
   ]
  },
  {
   "cell_type": "code",
   "execution_count": 12,
   "id": "8ae9594d",
   "metadata": {},
   "outputs": [
    {
     "data": {
      "text/plain": [
       "array([[9, 3, 4],\n",
       "       [0, 9, 1],\n",
       "       [9, 1, 4]])"
      ]
     },
     "execution_count": 12,
     "metadata": {},
     "output_type": "execute_result"
    }
   ],
   "source": [
    "np.random.seed(6)\n",
    "e = np.random.randint(0,10,size = (3,3))\n",
    "e"
   ]
  },
  {
   "cell_type": "code",
   "execution_count": 10,
   "id": "0803d67c",
   "metadata": {},
   "outputs": [
    {
     "data": {
      "text/plain": [
       "array([False, False, False])"
      ]
     },
     "execution_count": 10,
     "metadata": {},
     "output_type": "execute_result"
    }
   ],
   "source": [
    "np.all(e>4, axis=0)"
   ]
  },
  {
   "cell_type": "code",
   "execution_count": 15,
   "id": "ae521a14",
   "metadata": {},
   "outputs": [],
   "source": [
    "f = np.array([[9, 3, 4],\n",
    "              [9, 9, 1],\n",
    "              [9, 1, 4]])"
   ]
  },
  {
   "cell_type": "code",
   "execution_count": 17,
   "id": "809c8a90",
   "metadata": {},
   "outputs": [
    {
     "data": {
      "text/plain": [
       "array([ True, False, False])"
      ]
     },
     "execution_count": 17,
     "metadata": {},
     "output_type": "execute_result"
    }
   ],
   "source": [
    "np.all(f==9, axis = 0) # columns check garne"
   ]
  },
  {
   "cell_type": "code",
   "execution_count": 18,
   "id": "c5834dfe",
   "metadata": {},
   "outputs": [
    {
     "data": {
      "text/plain": [
       "array([ True, False, False])"
      ]
     },
     "execution_count": 18,
     "metadata": {},
     "output_type": "execute_result"
    }
   ],
   "source": [
    "np.all(f>1, axis = 1) # rows check garne"
   ]
  },
  {
   "cell_type": "markdown",
   "id": "0493a70d",
   "metadata": {},
   "source": [
    "##### bitwise logical operator"
   ]
  },
  {
   "cell_type": "code",
   "execution_count": 19,
   "id": "8ef4ab6a",
   "metadata": {},
   "outputs": [],
   "source": [
    "# how many numbers in f are greater than 2 and less than 7"
   ]
  },
  {
   "cell_type": "code",
   "execution_count": 28,
   "id": "72469e03",
   "metadata": {},
   "outputs": [
    {
     "data": {
      "text/plain": [
       "array([[False,  True,  True],\n",
       "       [False, False, False],\n",
       "       [False, False,  True]])"
      ]
     },
     "execution_count": 28,
     "metadata": {},
     "output_type": "execute_result"
    }
   ],
   "source": [
    "(f<7) & (f>2)"
   ]
  },
  {
   "cell_type": "code",
   "execution_count": 29,
   "id": "8b660957",
   "metadata": {},
   "outputs": [
    {
     "data": {
      "text/plain": [
       "3"
      ]
     },
     "execution_count": 29,
     "metadata": {},
     "output_type": "execute_result"
    }
   ],
   "source": [
    "np.sum((f<7) & (f>2)) # tintaa true cha so 3 result gar6"
   ]
  },
  {
   "cell_type": "markdown",
   "id": "315320bc",
   "metadata": {},
   "source": [
    "##### Mask"
   ]
  },
  {
   "cell_type": "code",
   "execution_count": 36,
   "id": "307d70de",
   "metadata": {},
   "outputs": [
    {
     "data": {
      "text/plain": [
       "array([[4, 9, 6, 3],\n",
       "       [3, 7, 7, 9],\n",
       "       [7, 8, 9, 8]])"
      ]
     },
     "execution_count": 36,
     "metadata": {},
     "output_type": "execute_result"
    }
   ],
   "source": [
    "np.random.seed(7)\n",
    "Y = np.random.randint(10, size=(3,4))\n",
    "Y\n",
    "                                "
   ]
  },
  {
   "cell_type": "code",
   "execution_count": 37,
   "id": "17261142",
   "metadata": {},
   "outputs": [
    {
     "data": {
      "text/plain": [
       "array([[False,  True, False, False],\n",
       "       [False, False, False,  True],\n",
       "       [False,  True,  True,  True]])"
      ]
     },
     "execution_count": 37,
     "metadata": {},
     "output_type": "execute_result"
    }
   ],
   "source": [
    "Y>7"
   ]
  },
  {
   "cell_type": "code",
   "execution_count": 38,
   "id": "73519609",
   "metadata": {},
   "outputs": [],
   "source": [
    "mask = Y>7"
   ]
  },
  {
   "cell_type": "code",
   "execution_count": 39,
   "id": "5a3ec89d",
   "metadata": {},
   "outputs": [
    {
     "data": {
      "text/plain": [
       "array([9, 9, 8, 9, 8])"
      ]
     },
     "execution_count": 39,
     "metadata": {},
     "output_type": "execute_result"
    }
   ],
   "source": [
    "Y[mask] # jun position ma true hun6n tyo tyo elements matrai lin6 ani 1d array ma dekhau6 "
   ]
  },
  {
   "cell_type": "markdown",
   "id": "88dc315b",
   "metadata": {},
   "source": [
    "#####    Seattle rainfall analysis"
   ]
  },
  {
   "cell_type": "code",
   "execution_count": 42,
   "id": "8118d837",
   "metadata": {},
   "outputs": [
    {
     "name": "stdout",
     "output_type": "stream",
     "text": [
      " Volume in drive C is Acer\n",
      " Volume Serial Number is E622-D599\n",
      "\n",
      " Directory of C:\\Users\\BJ\n",
      "\n",
      "12/27/2021  05:04    <DIR>          Searches\n",
      "06/04/2021  19:15            45,488 Seattle2014.csv\n",
      "               1 File(s)         45,488 bytes\n",
      "               1 Dir(s)  62,958,465,024 bytes free\n"
     ]
    }
   ],
   "source": [
    "ls Se*"
   ]
  },
  {
   "cell_type": "code",
   "execution_count": 45,
   "id": "1c946843",
   "metadata": {},
   "outputs": [],
   "source": [
    "data = pd.read_csv('Seattle2014.csv')"
   ]
  },
  {
   "cell_type": "code",
   "execution_count": 49,
   "id": "a7c857fb",
   "metadata": {},
   "outputs": [
    {
     "data": {
      "text/html": [
       "<div>\n",
       "<style scoped>\n",
       "    .dataframe tbody tr th:only-of-type {\n",
       "        vertical-align: middle;\n",
       "    }\n",
       "\n",
       "    .dataframe tbody tr th {\n",
       "        vertical-align: top;\n",
       "    }\n",
       "\n",
       "    .dataframe thead th {\n",
       "        text-align: right;\n",
       "    }\n",
       "</style>\n",
       "<table border=\"1\" class=\"dataframe\">\n",
       "  <thead>\n",
       "    <tr style=\"text-align: right;\">\n",
       "      <th></th>\n",
       "      <th>STATION</th>\n",
       "      <th>STATION_NAME</th>\n",
       "      <th>DATE</th>\n",
       "      <th>PRCP</th>\n",
       "      <th>SNWD</th>\n",
       "      <th>SNOW</th>\n",
       "      <th>TMAX</th>\n",
       "      <th>TMIN</th>\n",
       "      <th>AWND</th>\n",
       "      <th>WDF2</th>\n",
       "      <th>WDF5</th>\n",
       "      <th>WSF2</th>\n",
       "      <th>WSF5</th>\n",
       "      <th>WT01</th>\n",
       "      <th>WT05</th>\n",
       "      <th>WT02</th>\n",
       "      <th>WT03</th>\n",
       "    </tr>\n",
       "  </thead>\n",
       "  <tbody>\n",
       "    <tr>\n",
       "      <th>0</th>\n",
       "      <td>GHCND:USW00024233</td>\n",
       "      <td>SEATTLE TACOMA INTERNATIONAL AIRPORT WA US</td>\n",
       "      <td>20140101</td>\n",
       "      <td>0</td>\n",
       "      <td>0</td>\n",
       "      <td>0</td>\n",
       "      <td>72</td>\n",
       "      <td>33</td>\n",
       "      <td>12</td>\n",
       "      <td>340</td>\n",
       "      <td>310</td>\n",
       "      <td>36</td>\n",
       "      <td>40</td>\n",
       "      <td>-9999</td>\n",
       "      <td>-9999</td>\n",
       "      <td>-9999</td>\n",
       "      <td>-9999</td>\n",
       "    </tr>\n",
       "    <tr>\n",
       "      <th>1</th>\n",
       "      <td>GHCND:USW00024233</td>\n",
       "      <td>SEATTLE TACOMA INTERNATIONAL AIRPORT WA US</td>\n",
       "      <td>20140102</td>\n",
       "      <td>41</td>\n",
       "      <td>0</td>\n",
       "      <td>0</td>\n",
       "      <td>106</td>\n",
       "      <td>61</td>\n",
       "      <td>32</td>\n",
       "      <td>190</td>\n",
       "      <td>200</td>\n",
       "      <td>94</td>\n",
       "      <td>116</td>\n",
       "      <td>-9999</td>\n",
       "      <td>-9999</td>\n",
       "      <td>-9999</td>\n",
       "      <td>-9999</td>\n",
       "    </tr>\n",
       "    <tr>\n",
       "      <th>2</th>\n",
       "      <td>GHCND:USW00024233</td>\n",
       "      <td>SEATTLE TACOMA INTERNATIONAL AIRPORT WA US</td>\n",
       "      <td>20140103</td>\n",
       "      <td>15</td>\n",
       "      <td>0</td>\n",
       "      <td>0</td>\n",
       "      <td>89</td>\n",
       "      <td>28</td>\n",
       "      <td>26</td>\n",
       "      <td>30</td>\n",
       "      <td>50</td>\n",
       "      <td>63</td>\n",
       "      <td>72</td>\n",
       "      <td>1</td>\n",
       "      <td>-9999</td>\n",
       "      <td>-9999</td>\n",
       "      <td>-9999</td>\n",
       "    </tr>\n",
       "    <tr>\n",
       "      <th>3</th>\n",
       "      <td>GHCND:USW00024233</td>\n",
       "      <td>SEATTLE TACOMA INTERNATIONAL AIRPORT WA US</td>\n",
       "      <td>20140104</td>\n",
       "      <td>0</td>\n",
       "      <td>0</td>\n",
       "      <td>0</td>\n",
       "      <td>78</td>\n",
       "      <td>6</td>\n",
       "      <td>27</td>\n",
       "      <td>40</td>\n",
       "      <td>40</td>\n",
       "      <td>45</td>\n",
       "      <td>58</td>\n",
       "      <td>1</td>\n",
       "      <td>-9999</td>\n",
       "      <td>-9999</td>\n",
       "      <td>-9999</td>\n",
       "    </tr>\n",
       "    <tr>\n",
       "      <th>4</th>\n",
       "      <td>GHCND:USW00024233</td>\n",
       "      <td>SEATTLE TACOMA INTERNATIONAL AIRPORT WA US</td>\n",
       "      <td>20140105</td>\n",
       "      <td>0</td>\n",
       "      <td>0</td>\n",
       "      <td>0</td>\n",
       "      <td>83</td>\n",
       "      <td>-5</td>\n",
       "      <td>37</td>\n",
       "      <td>10</td>\n",
       "      <td>10</td>\n",
       "      <td>67</td>\n",
       "      <td>76</td>\n",
       "      <td>-9999</td>\n",
       "      <td>-9999</td>\n",
       "      <td>-9999</td>\n",
       "      <td>-9999</td>\n",
       "    </tr>\n",
       "  </tbody>\n",
       "</table>\n",
       "</div>"
      ],
      "text/plain": [
       "             STATION                                STATION_NAME      DATE  \\\n",
       "0  GHCND:USW00024233  SEATTLE TACOMA INTERNATIONAL AIRPORT WA US  20140101   \n",
       "1  GHCND:USW00024233  SEATTLE TACOMA INTERNATIONAL AIRPORT WA US  20140102   \n",
       "2  GHCND:USW00024233  SEATTLE TACOMA INTERNATIONAL AIRPORT WA US  20140103   \n",
       "3  GHCND:USW00024233  SEATTLE TACOMA INTERNATIONAL AIRPORT WA US  20140104   \n",
       "4  GHCND:USW00024233  SEATTLE TACOMA INTERNATIONAL AIRPORT WA US  20140105   \n",
       "\n",
       "   PRCP  SNWD  SNOW  TMAX  TMIN  AWND  WDF2  WDF5  WSF2  WSF5  WT01  WT05  \\\n",
       "0     0     0     0    72    33    12   340   310    36    40 -9999 -9999   \n",
       "1    41     0     0   106    61    32   190   200    94   116 -9999 -9999   \n",
       "2    15     0     0    89    28    26    30    50    63    72     1 -9999   \n",
       "3     0     0     0    78     6    27    40    40    45    58     1 -9999   \n",
       "4     0     0     0    83    -5    37    10    10    67    76 -9999 -9999   \n",
       "\n",
       "   WT02  WT03  \n",
       "0 -9999 -9999  \n",
       "1 -9999 -9999  \n",
       "2 -9999 -9999  \n",
       "3 -9999 -9999  \n",
       "4 -9999 -9999  "
      ]
     },
     "execution_count": 49,
     "metadata": {},
     "output_type": "execute_result"
    }
   ],
   "source": [
    "data.head()"
   ]
  },
  {
   "cell_type": "code",
   "execution_count": 50,
   "id": "0758a4fa",
   "metadata": {},
   "outputs": [
    {
     "data": {
      "text/plain": [
       "Index(['STATION', 'STATION_NAME', 'DATE', 'PRCP', 'SNWD', 'SNOW', 'TMAX',\n",
       "       'TMIN', 'AWND', 'WDF2', 'WDF5', 'WSF2', 'WSF5', 'WT01', 'WT05', 'WT02',\n",
       "       'WT03'],\n",
       "      dtype='object')"
      ]
     },
     "execution_count": 50,
     "metadata": {},
     "output_type": "execute_result"
    }
   ],
   "source": [
    "data.columns"
   ]
  },
  {
   "cell_type": "code",
   "execution_count": 48,
   "id": "f3183b8d",
   "metadata": {},
   "outputs": [
    {
     "data": {
      "text/plain": [
       "17"
      ]
     },
     "execution_count": 48,
     "metadata": {},
     "output_type": "execute_result"
    }
   ],
   "source": [
    "len(data.columns)"
   ]
  },
  {
   "cell_type": "code",
   "execution_count": 55,
   "id": "78880a02",
   "metadata": {},
   "outputs": [
    {
     "data": {
      "text/plain": [
       "0       0\n",
       "1      41\n",
       "2      15\n",
       "3       0\n",
       "4       0\n",
       "       ..\n",
       "360    33\n",
       "361    41\n",
       "362     0\n",
       "363     0\n",
       "364     0\n",
       "Name: PRCP, Length: 365, dtype: int64"
      ]
     },
     "execution_count": 55,
     "metadata": {},
     "output_type": "execute_result"
    }
   ],
   "source": [
    "# show the PRCP column only\n",
    "# gives us a series object\n",
    "data['PRCP']\n",
    "# first ko 0 index vaneko january 1st ho ra 364 vaneko december 31st ho"
   ]
  },
  {
   "cell_type": "code",
   "execution_count": 56,
   "id": "22f27eab",
   "metadata": {},
   "outputs": [
    {
     "data": {
      "text/plain": [
       "array([  0,  41,  15,   0,   0,   3, 122,  97,  58,  43, 213,  15,   0,\n",
       "         0,   0,   0,   0,   0,   0,   0,   0,   5,   0,   0,   0,   0,\n",
       "         0,  89, 216,   0,  23,  20,   0,   0,   0,   0,   0,   0,  51,\n",
       "         5, 183, 170,  46,  18,  94, 117, 264, 145, 152,  10,  30,  28,\n",
       "        25,  61, 130,   3,   0,   0,   0,   5, 191, 107, 165, 467,  30,\n",
       "         0, 323,  43, 188,   0,   0,   5,  69,  81, 277,   3,   0,   5,\n",
       "         0,   0,   0,   0,   0,  41,  36,   3, 221, 140,   0,   0,   0,\n",
       "         0,  25,   0,  46,   0,   0,  46,   0,   0,   0,   0,   0,   0,\n",
       "         5, 109, 185,   0, 137,   0,  51, 142,  89, 124,   0,  33,  69,\n",
       "         0,   0,   0,   0,   0, 333, 160,  51,   0,   0, 137,  20,   5,\n",
       "         0,   0,   0,   0,   0,   0,   0,   0,   0,   0,   0,   0,  38,\n",
       "         0,  56,   0,   0,   0,   0,   0,   0,   0,   0,   0,   0,   0,\n",
       "         0,   0,   0,   0,   0,   0,  18,  64,   0,   5,  36,  13,   0,\n",
       "         8,   3,   0,   0,   0,   0,   0,   0,  18,  23,   0,   0,   0,\n",
       "         0,   0,   0,   0,   0,   0,   0,   0,   0,   0,   0,   0,   0,\n",
       "         0,   0,   0,   0,   0,   0,   0,   3, 193,   0,   0,   0,   0,\n",
       "         0,   0,   0,   0,   0,   5,   0,   0,   0,   0,   0,   0,   0,\n",
       "         0,   5, 127, 216,   0,  10,   0,   0,   0,   0,   0,   0,   0,\n",
       "         0,   0,   0,   0,   0,   0,   0,  84,  13,   0,  30,   0,   0,\n",
       "         0,   0,   0,   0,   0,   0,   0,   0,   0,   0,   0,   0,   5,\n",
       "         3,   0,   0,   0,   3, 183, 203,  43,  89,   0,   0,   8,   0,\n",
       "         0,   0,   0,   0,   0,   0,   0,   0,   0,   3,  74,   0,  76,\n",
       "        71,  86,   0,  33, 150,   0, 117,  10, 320,  94,  41,  61,  15,\n",
       "         8, 127,   5, 254, 170,   0,  18, 109,  41,  48,  41,   0,   0,\n",
       "        51,   0,   0,   0,   0,   0,   0,   0,   0,   0,   0,  36, 152,\n",
       "         5, 119,  13, 183,   3,  33, 343,  36,   0,   0,   0,   0,   8,\n",
       "        30,  74,   0,  91,  99, 130,  69,   0,   0,   0,   0,   0,  28,\n",
       "       130,  30, 196,   0,   0, 206,  53,   0,   0,  33,  41,   0,   0,\n",
       "         0], dtype=int64)"
      ]
     },
     "execution_count": 56,
     "metadata": {},
     "output_type": "execute_result"
    }
   ],
   "source": [
    "# implicit index dekhaira6, so tyeslai hatauna .values garyo vane hat6\n",
    "# ra values harulai array form ma lekhdin6\n",
    "\n",
    "rainfall = data['PRCP'].values\n",
    "\n",
    "# sab rainfall data \n",
    "# 0 vaneko no rain"
   ]
  },
  {
   "cell_type": "code",
   "execution_count": 64,
   "id": "5780c6c0",
   "metadata": {},
   "outputs": [],
   "source": [
    "# OR\n",
    "\n",
    "rainfall = data.PRCP.values"
   ]
  },
  {
   "cell_type": "code",
   "execution_count": 67,
   "id": "0c5fa792",
   "metadata": {},
   "outputs": [],
   "source": [
    "# lets convert the mm to inches in rainfall\n",
    "\n",
    "# 1 inches = 254 mm\n",
    "\n",
    "inches = rainfall / 254 \n",
    "\n",
    "# ufunc opeartion\n",
    "# vectorized operation"
   ]
  },
  {
   "cell_type": "code",
   "execution_count": 71,
   "id": "bba41349",
   "metadata": {},
   "outputs": [
    {
     "data": {
      "text/plain": [
       "(365,)"
      ]
     },
     "execution_count": 71,
     "metadata": {},
     "output_type": "execute_result"
    }
   ],
   "source": [
    "rainfall.shape"
   ]
  },
  {
   "cell_type": "code",
   "execution_count": 72,
   "id": "4819243e",
   "metadata": {},
   "outputs": [
    {
     "data": {
      "text/plain": [
       "(365,)"
      ]
     },
     "execution_count": 72,
     "metadata": {},
     "output_type": "execute_result"
    }
   ],
   "source": [
    "inches.shape"
   ]
  },
  {
   "cell_type": "code",
   "execution_count": 85,
   "id": "8194e5c7",
   "metadata": {},
   "outputs": [
    {
     "data": {
      "image/png": "[encoded data removed]",
      "text/plain": [
       "<Figure size 432x288 with 1 Axes>"
      ]
     },
     "metadata": {},
     "output_type": "display_data"
    }
   ],
   "source": [
    "sns.set(); # bucketing, bins\n",
    "plt.hist(inches, bins = 30);\n",
    "plt.title(\"rainfall in inches\");\n",
    "plt.xlabel('inches');\n",
    "plt.ylabel('no. of days');"
   ]
  },
  {
   "cell_type": "code",
   "execution_count": 98,
   "id": "ef0abfea",
   "metadata": {},
   "outputs": [],
   "source": [
    "# how many days that had a rainfall between 0.5 and 1.0 inches\n",
    "\n",
    "rf = (inches >= 0.5) & (inches <= 1.0)"
   ]
  },
  {
   "cell_type": "code",
   "execution_count": 99,
   "id": "60af4220",
   "metadata": {},
   "outputs": [
    {
     "data": {
      "text/plain": [
       "array([False, False, False, False, False, False, False, False, False,\n",
       "       False,  True, False, False, False, False, False, False, False,\n",
       "       False, False, False, False, False, False, False, False, False,\n",
       "       False,  True, False, False, False, False, False, False, False,\n",
       "       False, False, False, False,  True,  True, False, False, False,\n",
       "       False, False,  True,  True, False, False, False, False, False,\n",
       "        True, False, False, False, False, False,  True, False,  True,\n",
       "       False, False, False, False, False,  True, False, False, False,\n",
       "       False, False, False, False, False, False, False, False, False,\n",
       "       False, False, False, False, False,  True,  True, False, False,\n",
       "       False, False, False, False, False, False, False, False, False,\n",
       "       False, False, False, False, False, False, False,  True, False,\n",
       "        True, False, False,  True, False, False, False, False, False,\n",
       "       False, False, False, False, False, False,  True, False, False,\n",
       "       False,  True, False, False, False, False, False, False, False,\n",
       "       False, False, False, False, False, False, False, False, False,\n",
       "       False, False, False, False, False, False, False, False, False,\n",
       "       False, False, False, False, False, False, False, False, False,\n",
       "       False, False, False, False, False, False, False, False, False,\n",
       "       False, False, False, False, False, False, False, False, False,\n",
       "       False, False, False, False, False, False, False, False, False,\n",
       "       False, False, False, False, False, False, False, False, False,\n",
       "       False, False, False, False, False,  True, False, False, False,\n",
       "       False, False, False, False, False, False, False, False, False,\n",
       "       False, False, False, False, False, False, False,  True,  True,\n",
       "       False, False, False, False, False, False, False, False, False,\n",
       "       False, False, False, False, False, False, False, False, False,\n",
       "       False, False, False, False, False, False, False, False, False,\n",
       "       False, False, False, False, False, False, False, False, False,\n",
       "       False, False, False, False,  True,  True, False, False, False,\n",
       "       False, False, False, False, False, False, False, False, False,\n",
       "       False, False, False, False, False, False, False, False, False,\n",
       "       False, False,  True, False, False, False, False, False, False,\n",
       "       False, False, False,  True, False,  True,  True, False, False,\n",
       "       False, False, False, False, False, False, False, False, False,\n",
       "       False, False, False, False, False, False, False, False, False,\n",
       "        True, False, False, False,  True, False, False, False, False,\n",
       "       False, False, False, False, False, False, False, False, False,\n",
       "       False,  True, False, False, False, False, False, False, False,\n",
       "        True, False,  True, False, False,  True, False, False, False,\n",
       "       False, False, False, False, False])"
      ]
     },
     "execution_count": 99,
     "metadata": {},
     "output_type": "execute_result"
    }
   ],
   "source": [
    "rf"
   ]
  },
  {
   "cell_type": "code",
   "execution_count": 114,
   "id": "03a1214a",
   "metadata": {},
   "outputs": [
    {
     "data": {
      "text/plain": [
       "32"
      ]
     },
     "execution_count": 114,
     "metadata": {},
     "output_type": "execute_result"
    }
   ],
   "source": [
    "np.sum((inches >= 0.5) & (inches <= 1.0))"
   ]
  },
  {
   "cell_type": "code",
   "execution_count": 101,
   "id": "08236731",
   "metadata": {},
   "outputs": [
    {
     "data": {
      "text/plain": [
       "32"
      ]
     },
     "execution_count": 101,
     "metadata": {},
     "output_type": "execute_result"
    }
   ],
   "source": [
    "np.count_nonzero(rf)"
   ]
  },
  {
   "cell_type": "code",
   "execution_count": 102,
   "id": "2619c81d",
   "metadata": {},
   "outputs": [],
   "source": [
    "mask_rf = (inches >= 0.5) & (inches <= 1.0)"
   ]
  },
  {
   "cell_type": "code",
   "execution_count": 104,
   "id": "f51480b8",
   "metadata": {},
   "outputs": [
    {
     "data": {
      "text/plain": [
       "array([0.83858268, 0.8503937 , 0.72047244, 0.66929134, 0.57086614,\n",
       "       0.5984252 , 0.51181102, 0.7519685 , 0.6496063 , 0.74015748,\n",
       "       0.87007874, 0.5511811 , 0.72834646, 0.53937008, 0.55905512,\n",
       "       0.62992126, 0.53937008, 0.75984252, 0.5       , 0.8503937 ,\n",
       "       0.72047244, 0.7992126 , 0.59055118, 0.5       , 1.        ,\n",
       "       0.66929134, 0.5984252 , 0.72047244, 0.51181102, 0.51181102,\n",
       "       0.77165354, 0.81102362])"
      ]
     },
     "execution_count": 104,
     "metadata": {},
     "output_type": "execute_result"
    }
   ],
   "source": [
    "inches[mask_rf]"
   ]
  },
  {
   "cell_type": "code",
   "execution_count": 111,
   "id": "973cde4a",
   "metadata": {},
   "outputs": [
    {
     "data": {
      "text/plain": [
       "array([ True,  True,  True,  True,  True,  True, False, False,  True,\n",
       "        True, False,  True,  True,  True,  True,  True,  True,  True,\n",
       "        True,  True,  True,  True,  True,  True,  True,  True,  True,\n",
       "       False, False,  True,  True,  True,  True,  True,  True,  True,\n",
       "        True,  True,  True,  True, False, False,  True,  True, False,\n",
       "       False, False, False, False,  True,  True,  True,  True,  True,\n",
       "       False,  True,  True,  True,  True,  True, False, False, False,\n",
       "       False,  True,  True, False,  True, False,  True,  True,  True,\n",
       "       False, False, False,  True,  True,  True,  True,  True,  True,\n",
       "        True,  True,  True,  True,  True, False, False,  True,  True,\n",
       "        True,  True,  True,  True,  True,  True,  True,  True,  True,\n",
       "        True,  True,  True,  True,  True,  True, False, False,  True,\n",
       "       False,  True,  True, False, False, False,  True,  True, False,\n",
       "        True,  True,  True,  True,  True, False, False,  True,  True,\n",
       "        True, False,  True,  True,  True,  True,  True,  True,  True,\n",
       "        True,  True,  True,  True,  True,  True,  True,  True,  True,\n",
       "        True,  True,  True,  True,  True,  True,  True,  True,  True,\n",
       "        True,  True,  True,  True,  True,  True,  True,  True,  True,\n",
       "        True, False,  True,  True,  True,  True,  True,  True,  True,\n",
       "        True,  True,  True,  True,  True,  True,  True,  True,  True,\n",
       "        True,  True,  True,  True,  True,  True,  True,  True,  True,\n",
       "        True,  True,  True,  True,  True,  True,  True,  True,  True,\n",
       "        True,  True,  True,  True,  True, False,  True,  True,  True,\n",
       "        True,  True,  True,  True,  True,  True,  True,  True,  True,\n",
       "        True,  True,  True,  True,  True,  True,  True, False, False,\n",
       "        True,  True,  True,  True,  True,  True,  True,  True,  True,\n",
       "        True,  True,  True,  True,  True,  True,  True, False,  True,\n",
       "        True,  True,  True,  True,  True,  True,  True,  True,  True,\n",
       "        True,  True,  True,  True,  True,  True,  True,  True,  True,\n",
       "        True,  True,  True,  True, False, False,  True, False,  True,\n",
       "        True,  True,  True,  True,  True,  True,  True,  True,  True,\n",
       "        True,  True,  True,  True, False,  True, False, False, False,\n",
       "        True,  True, False,  True, False,  True, False, False,  True,\n",
       "        True,  True,  True, False,  True, False, False,  True,  True,\n",
       "       False,  True,  True,  True,  True,  True,  True,  True,  True,\n",
       "        True,  True,  True,  True,  True,  True,  True,  True,  True,\n",
       "       False,  True, False,  True, False,  True,  True, False,  True,\n",
       "        True,  True,  True,  True,  True,  True, False,  True, False,\n",
       "       False, False, False,  True,  True,  True,  True,  True,  True,\n",
       "       False,  True, False,  True,  True, False,  True,  True,  True,\n",
       "        True,  True,  True,  True,  True])"
      ]
     },
     "execution_count": 111,
     "metadata": {},
     "output_type": "execute_result"
    }
   ],
   "source": [
    "# how many days where there were no rainfall or close to no rainfall?\n",
    "\n",
    "rf_dry = (inches >= 0) & (inches <= 0.25) # yadi dry days ko matrai chaiyo vane inches == 0 garne\n",
    "rf_dry"
   ]
  },
  {
   "cell_type": "code",
   "execution_count": 109,
   "id": "e05a0e95",
   "metadata": {},
   "outputs": [
    {
     "data": {
      "text/plain": [
       "299"
      ]
     },
     "execution_count": 109,
     "metadata": {},
     "output_type": "execute_result"
    }
   ],
   "source": [
    "np.sum(rf_dry)"
   ]
  },
  {
   "cell_type": "code",
   "execution_count": 110,
   "id": "a0961de3",
   "metadata": {},
   "outputs": [
    {
     "data": {
      "text/plain": [
       "299"
      ]
     },
     "execution_count": 110,
     "metadata": {},
     "output_type": "execute_result"
    }
   ],
   "source": [
    "np.count_nonzero(rf_dry)"
   ]
  },
  {
   "cell_type": "code",
   "execution_count": 112,
   "id": "b34fdb9b",
   "metadata": {},
   "outputs": [
    {
     "data": {
      "text/plain": [
       "array([0.        , 0.16141732, 0.05905512, 0.        , 0.        ,\n",
       "       0.01181102, 0.22834646, 0.16929134, 0.05905512, 0.        ,\n",
       "       0.        , 0.        , 0.        , 0.        , 0.        ,\n",
       "       0.        , 0.        , 0.        , 0.01968504, 0.        ,\n",
       "       0.        , 0.        , 0.        , 0.        , 0.        ,\n",
       "       0.09055118, 0.07874016, 0.        , 0.        , 0.        ,\n",
       "       0.        , 0.        , 0.        , 0.2007874 , 0.01968504,\n",
       "       0.18110236, 0.07086614, 0.03937008, 0.11811024, 0.11023622,\n",
       "       0.0984252 , 0.24015748, 0.01181102, 0.        , 0.        ,\n",
       "       0.        , 0.01968504, 0.11811024, 0.        , 0.16929134,\n",
       "       0.        , 0.        , 0.01968504, 0.01181102, 0.        ,\n",
       "       0.01968504, 0.        , 0.        , 0.        , 0.        ,\n",
       "       0.        , 0.16141732, 0.14173228, 0.01181102, 0.        ,\n",
       "       0.        , 0.        , 0.        , 0.0984252 , 0.        ,\n",
       "       0.18110236, 0.        , 0.        , 0.18110236, 0.        ,\n",
       "       0.        , 0.        , 0.        , 0.        , 0.        ,\n",
       "       0.01968504, 0.        , 0.        , 0.2007874 , 0.        ,\n",
       "       0.12992126, 0.        , 0.        , 0.        , 0.        ,\n",
       "       0.        , 0.2007874 , 0.        , 0.        , 0.07874016,\n",
       "       0.01968504, 0.        , 0.        , 0.        , 0.        ,\n",
       "       0.        , 0.        , 0.        , 0.        , 0.        ,\n",
       "       0.        , 0.        , 0.        , 0.1496063 , 0.        ,\n",
       "       0.22047244, 0.        , 0.        , 0.        , 0.        ,\n",
       "       0.        , 0.        , 0.        , 0.        , 0.        ,\n",
       "       0.        , 0.        , 0.        , 0.        , 0.        ,\n",
       "       0.        , 0.        , 0.        , 0.07086614, 0.        ,\n",
       "       0.01968504, 0.14173228, 0.0511811 , 0.        , 0.03149606,\n",
       "       0.01181102, 0.        , 0.        , 0.        , 0.        ,\n",
       "       0.        , 0.        , 0.07086614, 0.09055118, 0.        ,\n",
       "       0.        , 0.        , 0.        , 0.        , 0.        ,\n",
       "       0.        , 0.        , 0.        , 0.        , 0.        ,\n",
       "       0.        , 0.        , 0.        , 0.        , 0.        ,\n",
       "       0.        , 0.        , 0.        , 0.        , 0.        ,\n",
       "       0.        , 0.        , 0.01181102, 0.        , 0.        ,\n",
       "       0.        , 0.        , 0.        , 0.        , 0.        ,\n",
       "       0.        , 0.        , 0.01968504, 0.        , 0.        ,\n",
       "       0.        , 0.        , 0.        , 0.        , 0.        ,\n",
       "       0.        , 0.01968504, 0.        , 0.03937008, 0.        ,\n",
       "       0.        , 0.        , 0.        , 0.        , 0.        ,\n",
       "       0.        , 0.        , 0.        , 0.        , 0.        ,\n",
       "       0.        , 0.        , 0.        , 0.0511811 , 0.        ,\n",
       "       0.11811024, 0.        , 0.        , 0.        , 0.        ,\n",
       "       0.        , 0.        , 0.        , 0.        , 0.        ,\n",
       "       0.        , 0.        , 0.        , 0.        , 0.        ,\n",
       "       0.01968504, 0.01181102, 0.        , 0.        , 0.        ,\n",
       "       0.01181102, 0.16929134, 0.        , 0.        , 0.03149606,\n",
       "       0.        , 0.        , 0.        , 0.        , 0.        ,\n",
       "       0.        , 0.        , 0.        , 0.        , 0.        ,\n",
       "       0.01181102, 0.        , 0.        , 0.12992126, 0.        ,\n",
       "       0.03937008, 0.16141732, 0.24015748, 0.05905512, 0.03149606,\n",
       "       0.01968504, 0.        , 0.07086614, 0.16141732, 0.18897638,\n",
       "       0.16141732, 0.        , 0.        , 0.2007874 , 0.        ,\n",
       "       0.        , 0.        , 0.        , 0.        , 0.        ,\n",
       "       0.        , 0.        , 0.        , 0.        , 0.14173228,\n",
       "       0.01968504, 0.0511811 , 0.01181102, 0.12992126, 0.14173228,\n",
       "       0.        , 0.        , 0.        , 0.        , 0.03149606,\n",
       "       0.11811024, 0.        , 0.        , 0.        , 0.        ,\n",
       "       0.        , 0.        , 0.11023622, 0.11811024, 0.        ,\n",
       "       0.        , 0.20866142, 0.        , 0.        , 0.12992126,\n",
       "       0.16141732, 0.        , 0.        , 0.        ])"
      ]
     },
     "execution_count": 112,
     "metadata": {},
     "output_type": "execute_result"
    }
   ],
   "source": [
    "inches[rf_dry]"
   ]
  },
  {
   "cell_type": "code",
   "execution_count": 115,
   "id": "7b714dbb",
   "metadata": {},
   "outputs": [
    {
     "data": {
      "text/plain": [
       "array([0.        , 0.16141732, 0.05905512, 0.        , 0.        ,\n",
       "       0.01181102, 0.48031496, 0.38188976, 0.22834646, 0.16929134,\n",
       "       0.83858268, 0.05905512, 0.        , 0.        , 0.        ,\n",
       "       0.        , 0.        , 0.        , 0.        , 0.        ,\n",
       "       0.        , 0.01968504, 0.        , 0.        , 0.        ,\n",
       "       0.        , 0.        , 0.3503937 , 0.8503937 , 0.        ,\n",
       "       0.09055118, 0.07874016, 0.        , 0.        , 0.        ,\n",
       "       0.        , 0.        , 0.        , 0.2007874 , 0.01968504,\n",
       "       0.72047244, 0.66929134, 0.18110236, 0.07086614, 0.37007874,\n",
       "       0.46062992, 1.03937008, 0.57086614, 0.5984252 , 0.03937008,\n",
       "       0.11811024, 0.11023622, 0.0984252 , 0.24015748, 0.51181102,\n",
       "       0.01181102, 0.        , 0.        , 0.        , 0.01968504,\n",
       "       0.7519685 , 0.42125984, 0.6496063 , 1.83858268, 0.11811024,\n",
       "       0.        , 1.27165354, 0.16929134, 0.74015748, 0.        ,\n",
       "       0.        , 0.01968504, 0.27165354, 0.31889764, 1.09055118,\n",
       "       0.01181102, 0.        , 0.01968504, 0.        , 0.        ,\n",
       "       0.        , 0.        , 0.        , 0.16141732, 0.14173228,\n",
       "       0.01181102, 0.87007874, 0.5511811 , 0.        , 0.        ,\n",
       "       0.        , 0.        , 0.0984252 , 0.        , 0.18110236,\n",
       "       0.        , 0.        , 0.18110236, 0.        , 0.        ,\n",
       "       0.        , 0.        , 0.        , 0.        , 0.01968504,\n",
       "       0.42913386, 0.72834646, 0.        , 0.53937008, 0.        ,\n",
       "       0.2007874 , 0.55905512, 0.3503937 , 0.48818898, 0.        ,\n",
       "       0.12992126, 0.27165354, 0.        , 0.        , 0.        ,\n",
       "       0.        , 0.        , 1.31102362, 0.62992126, 0.2007874 ,\n",
       "       0.        , 0.        , 0.53937008, 0.07874016, 0.01968504,\n",
       "       0.        , 0.        , 0.        , 0.        , 0.        ,\n",
       "       0.        , 0.        , 0.        , 0.        , 0.        ,\n",
       "       0.        , 0.        , 0.1496063 , 0.        , 0.22047244,\n",
       "       0.        , 0.        , 0.        , 0.        , 0.        ,\n",
       "       0.        , 0.        , 0.        , 0.        , 0.        ,\n",
       "       0.        , 0.        , 0.        , 0.        , 0.        ,\n",
       "       0.        , 0.        , 0.07086614, 0.2519685 , 0.        ,\n",
       "       0.01968504, 0.14173228, 0.0511811 , 0.        , 0.03149606,\n",
       "       0.01181102, 0.        , 0.        , 0.        , 0.        ,\n",
       "       0.        , 0.        , 0.07086614, 0.09055118, 0.        ,\n",
       "       0.        , 0.        , 0.        , 0.        , 0.        ,\n",
       "       0.        , 0.        , 0.        , 0.        , 0.        ,\n",
       "       0.        , 0.        , 0.        , 0.        , 0.        ,\n",
       "       0.        , 0.        , 0.        , 0.        , 0.        ,\n",
       "       0.        , 0.        , 0.01181102, 0.75984252, 0.        ,\n",
       "       0.        , 0.        , 0.        , 0.        , 0.        ,\n",
       "       0.        , 0.        , 0.        , 0.01968504, 0.        ,\n",
       "       0.        , 0.        , 0.        , 0.        , 0.        ,\n",
       "       0.        , 0.        , 0.01968504, 0.5       , 0.8503937 ,\n",
       "       0.        , 0.03937008, 0.        , 0.        , 0.        ,\n",
       "       0.        , 0.        , 0.        , 0.        , 0.        ,\n",
       "       0.        , 0.        , 0.        , 0.        , 0.        ,\n",
       "       0.        , 0.33070866, 0.0511811 , 0.        , 0.11811024,\n",
       "       0.        , 0.        , 0.        , 0.        , 0.        ,\n",
       "       0.        , 0.        , 0.        , 0.        , 0.        ,\n",
       "       0.        , 0.        , 0.        , 0.        , 0.01968504,\n",
       "       0.01181102, 0.        , 0.        , 0.        , 0.01181102,\n",
       "       0.72047244, 0.7992126 , 0.16929134, 0.3503937 , 0.        ,\n",
       "       0.        , 0.03149606, 0.        , 0.        , 0.        ,\n",
       "       0.        , 0.        , 0.        , 0.        , 0.        ,\n",
       "       0.        , 0.        , 0.01181102, 0.29133858, 0.        ,\n",
       "       0.2992126 , 0.27952756, 0.33858268, 0.        , 0.12992126,\n",
       "       0.59055118, 0.        , 0.46062992, 0.03937008, 1.25984252,\n",
       "       0.37007874, 0.16141732, 0.24015748, 0.05905512, 0.03149606,\n",
       "       0.5       , 0.01968504, 1.        , 0.66929134, 0.        ,\n",
       "       0.07086614, 0.42913386, 0.16141732, 0.18897638, 0.16141732,\n",
       "       0.        , 0.        , 0.2007874 , 0.        , 0.        ,\n",
       "       0.        , 0.        , 0.        , 0.        , 0.        ,\n",
       "       0.        , 0.        , 0.        , 0.14173228, 0.5984252 ,\n",
       "       0.01968504, 0.46850394, 0.0511811 , 0.72047244, 0.01181102,\n",
       "       0.12992126, 1.3503937 , 0.14173228, 0.        , 0.        ,\n",
       "       0.        , 0.        , 0.03149606, 0.11811024, 0.29133858,\n",
       "       0.        , 0.35826772, 0.38976378, 0.51181102, 0.27165354,\n",
       "       0.        , 0.        , 0.        , 0.        , 0.        ,\n",
       "       0.11023622, 0.51181102, 0.11811024, 0.77165354, 0.        ,\n",
       "       0.        , 0.81102362, 0.20866142, 0.        , 0.        ,\n",
       "       0.12992126, 0.16141732, 0.        , 0.        , 0.        ])"
      ]
     },
     "execution_count": 115,
     "metadata": {},
     "output_type": "execute_result"
    }
   ],
   "source": [
    "# lets subset only the ones with the rainy days\n",
    "\n",
    "inches"
   ]
  },
  {
   "cell_type": "code",
   "execution_count": 119,
   "id": "fdc4f6c8",
   "metadata": {},
   "outputs": [
    {
     "data": {
      "text/plain": [
       "array([False,  True,  True, False, False,  True,  True,  True,  True,\n",
       "        True,  True,  True, False, False, False, False, False, False,\n",
       "       False, False, False,  True, False, False, False, False, False,\n",
       "        True,  True, False,  True,  True, False, False, False, False,\n",
       "       False, False,  True,  True,  True,  True,  True,  True,  True,\n",
       "        True,  True,  True,  True,  True,  True,  True,  True,  True,\n",
       "        True,  True, False, False, False,  True,  True,  True,  True,\n",
       "        True,  True, False,  True,  True,  True, False, False,  True,\n",
       "        True,  True,  True,  True, False,  True, False, False, False,\n",
       "       False, False,  True,  True,  True,  True,  True, False, False,\n",
       "       False, False,  True, False,  True, False, False,  True, False,\n",
       "       False, False, False, False, False,  True,  True,  True, False,\n",
       "        True, False,  True,  True,  True,  True, False,  True,  True,\n",
       "       False, False, False, False, False,  True,  True,  True, False,\n",
       "       False,  True,  True,  True, False, False, False, False, False,\n",
       "       False, False, False, False, False, False, False,  True, False,\n",
       "        True, False, False, False, False, False, False, False, False,\n",
       "       False, False, False, False, False, False, False, False, False,\n",
       "        True,  True, False,  True,  True,  True, False,  True,  True,\n",
       "       False, False, False, False, False, False,  True,  True, False,\n",
       "       False, False, False, False, False, False, False, False, False,\n",
       "       False, False, False, False, False, False, False, False, False,\n",
       "       False, False, False, False,  True,  True, False, False, False,\n",
       "       False, False, False, False, False, False,  True, False, False,\n",
       "       False, False, False, False, False, False,  True,  True,  True,\n",
       "       False,  True, False, False, False, False, False, False, False,\n",
       "       False, False, False, False, False, False, False,  True,  True,\n",
       "       False,  True, False, False, False, False, False, False, False,\n",
       "       False, False, False, False, False, False, False,  True,  True,\n",
       "       False, False, False,  True,  True,  True,  True,  True, False,\n",
       "       False,  True, False, False, False, False, False, False, False,\n",
       "       False, False, False,  True,  True, False,  True,  True,  True,\n",
       "       False,  True,  True, False,  True,  True,  True,  True,  True,\n",
       "        True,  True,  True,  True,  True,  True,  True, False,  True,\n",
       "        True,  True,  True,  True, False, False,  True, False, False,\n",
       "       False, False, False, False, False, False, False, False,  True,\n",
       "        True,  True,  True,  True,  True,  True,  True,  True,  True,\n",
       "       False, False, False, False,  True,  True,  True, False,  True,\n",
       "        True,  True,  True, False, False, False, False, False,  True,\n",
       "        True,  True,  True, False, False,  True,  True, False, False,\n",
       "        True,  True, False, False, False])"
      ]
     },
     "execution_count": 119,
     "metadata": {},
     "output_type": "execute_result"
    }
   ],
   "source": [
    "mask = inches > 0\n",
    "mask # booloen array"
   ]
  },
  {
   "cell_type": "code",
   "execution_count": 131,
   "id": "d0c8438e",
   "metadata": {},
   "outputs": [
    {
     "data": {
      "text/plain": [
       "150"
      ]
     },
     "execution_count": 131,
     "metadata": {},
     "output_type": "execute_result"
    }
   ],
   "source": [
    "inches[mask] # sabai  elements with rainy days kinaki mask garda only true values matrai lin6\n",
    "len(inches[mask])"
   ]
  },
  {
   "cell_type": "code",
   "execution_count": 121,
   "id": "f2bb812a",
   "metadata": {},
   "outputs": [],
   "source": [
    "# construct a mask of all summer days (June 21st is the 172nd day)"
   ]
  },
  {
   "cell_type": "code",
   "execution_count": 126,
   "id": "b2a02162",
   "metadata": {},
   "outputs": [
    {
     "data": {
      "text/plain": [
       "array([ True,  True,  True,  True,  True,  True,  True,  True,  True,\n",
       "        True,  True,  True,  True,  True,  True,  True,  True,  True,\n",
       "        True,  True,  True,  True,  True,  True,  True,  True,  True,\n",
       "        True,  True,  True,  True,  True,  True,  True,  True,  True,\n",
       "        True,  True,  True,  True,  True,  True,  True,  True,  True,\n",
       "        True,  True,  True,  True,  True,  True,  True,  True,  True,\n",
       "        True,  True,  True,  True,  True,  True,  True,  True,  True,\n",
       "        True,  True,  True,  True,  True,  True,  True,  True,  True,\n",
       "        True,  True,  True,  True,  True,  True,  True,  True,  True,\n",
       "        True,  True,  True,  True,  True,  True,  True,  True,  True,\n",
       "        True,  True,  True,  True,  True,  True,  True,  True,  True,\n",
       "        True,  True,  True,  True,  True,  True,  True,  True,  True,\n",
       "        True,  True,  True,  True,  True,  True,  True,  True,  True,\n",
       "        True,  True,  True,  True,  True,  True,  True,  True,  True,\n",
       "        True,  True,  True,  True,  True,  True,  True,  True,  True,\n",
       "        True,  True,  True,  True,  True,  True,  True,  True,  True,\n",
       "        True,  True,  True,  True,  True,  True,  True,  True,  True,\n",
       "        True,  True,  True,  True,  True,  True,  True,  True,  True,\n",
       "        True,  True,  True,  True,  True,  True,  True,  True,  True,\n",
       "        True,  True,  True,  True,  True,  True,  True,  True,  True,\n",
       "        True,  True,  True,  True,  True,  True,  True,  True,  True,\n",
       "        True,  True,  True,  True,  True,  True,  True,  True,  True,\n",
       "        True,  True,  True,  True,  True,  True,  True,  True,  True,\n",
       "        True,  True,  True,  True,  True,  True,  True,  True,  True,\n",
       "        True,  True,  True,  True,  True,  True,  True,  True,  True,\n",
       "        True,  True,  True,  True,  True,  True,  True,  True,  True,\n",
       "        True,  True,  True,  True,  True,  True,  True,  True,  True,\n",
       "        True,  True,  True,  True,  True,  True,  True,  True,  True,\n",
       "        True,  True,  True,  True,  True,  True,  True,  True,  True,\n",
       "        True, False, False, False, False, False, False, False, False,\n",
       "       False, False, False, False, False, False, False, False, False,\n",
       "       False, False, False, False, False, False, False, False, False,\n",
       "       False, False, False, False, False, False, False, False, False,\n",
       "       False, False, False, False, False, False, False, False, False,\n",
       "       False, False, False, False, False, False, False, False, False,\n",
       "       False, False, False, False, False, False, False, False, False,\n",
       "       False, False, False, False, False, False, False, False, False,\n",
       "       False, False, False, False, False, False, False, False, False,\n",
       "       False, False, False, False, False, False, False, False, False,\n",
       "       False, False, False, False, False, False, False, False, False,\n",
       "       False, False, False, False, False])"
      ]
     },
     "execution_count": 126,
     "metadata": {},
     "output_type": "execute_result"
    }
   ],
   "source": [
    "np.arange(365) - 172 < 90"
   ]
  },
  {
   "cell_type": "code",
   "execution_count": 127,
   "id": "38fb9aec",
   "metadata": {},
   "outputs": [
    {
     "data": {
      "text/plain": [
       "array([False, False, False, False, False, False, False, False, False,\n",
       "       False, False, False, False, False, False, False, False, False,\n",
       "       False, False, False, False, False, False, False, False, False,\n",
       "       False, False, False, False, False, False, False, False, False,\n",
       "       False, False, False, False, False, False, False, False, False,\n",
       "       False, False, False, False, False, False, False, False, False,\n",
       "       False, False, False, False, False, False, False, False, False,\n",
       "       False, False, False, False, False, False, False, False, False,\n",
       "       False, False, False, False, False, False, False, False, False,\n",
       "       False, False, False, False, False, False, False, False, False,\n",
       "       False, False, False, False, False, False, False, False, False,\n",
       "       False, False, False, False, False, False, False, False, False,\n",
       "       False, False, False, False, False, False, False, False, False,\n",
       "       False, False, False, False, False, False, False, False, False,\n",
       "       False, False, False, False, False, False, False, False, False,\n",
       "       False, False, False, False, False, False, False, False, False,\n",
       "       False, False, False, False, False, False, False, False, False,\n",
       "       False, False, False, False, False, False, False, False, False,\n",
       "       False, False, False, False, False, False, False, False, False,\n",
       "       False, False,  True,  True,  True,  True,  True,  True,  True,\n",
       "        True,  True,  True,  True,  True,  True,  True,  True,  True,\n",
       "        True,  True,  True,  True,  True,  True,  True,  True,  True,\n",
       "        True,  True,  True,  True,  True,  True,  True,  True,  True,\n",
       "        True,  True,  True,  True,  True,  True,  True,  True,  True,\n",
       "        True,  True,  True,  True,  True,  True,  True,  True,  True,\n",
       "        True,  True,  True,  True,  True,  True,  True,  True,  True,\n",
       "        True,  True,  True,  True,  True,  True,  True,  True,  True,\n",
       "        True,  True,  True,  True,  True,  True,  True,  True,  True,\n",
       "        True,  True,  True,  True,  True,  True,  True,  True,  True,\n",
       "        True,  True,  True,  True,  True,  True,  True,  True,  True,\n",
       "        True,  True,  True,  True,  True,  True,  True,  True,  True,\n",
       "        True,  True,  True,  True,  True,  True,  True,  True,  True,\n",
       "        True,  True,  True,  True,  True,  True,  True,  True,  True,\n",
       "        True,  True,  True,  True,  True,  True,  True,  True,  True,\n",
       "        True,  True,  True,  True,  True,  True,  True,  True,  True,\n",
       "        True,  True,  True,  True,  True,  True,  True,  True,  True,\n",
       "        True,  True,  True,  True,  True,  True,  True,  True,  True,\n",
       "        True,  True,  True,  True,  True,  True,  True,  True,  True,\n",
       "        True,  True,  True,  True,  True,  True,  True,  True,  True,\n",
       "        True,  True,  True,  True,  True,  True,  True,  True,  True,\n",
       "        True,  True,  True,  True,  True])"
      ]
     },
     "execution_count": 127,
     "metadata": {},
     "output_type": "execute_result"
    }
   ],
   "source": [
    "np.arange(365) - 172 > 0"
   ]
  },
  {
   "cell_type": "code",
   "execution_count": 133,
   "id": "af55b202",
   "metadata": {},
   "outputs": [
    {
     "data": {
      "text/plain": [
       "0       0\n",
       "1      41\n",
       "2      15\n",
       "3       0\n",
       "4       0\n",
       "       ..\n",
       "360    33\n",
       "361    41\n",
       "362     0\n",
       "363     0\n",
       "364     0\n",
       "Name: PRCP, Length: 365, dtype: int64"
      ]
     },
     "execution_count": 133,
     "metadata": {},
     "output_type": "execute_result"
    }
   ],
   "source": [
    "data['PRCP']"
   ]
  },
  {
   "cell_type": "code",
   "execution_count": 134,
   "id": "83e8b689",
   "metadata": {},
   "outputs": [
    {
     "data": {
      "text/plain": [
       "0       0\n",
       "1      41\n",
       "2      15\n",
       "3       0\n",
       "4       0\n",
       "       ..\n",
       "360    33\n",
       "361    41\n",
       "362     0\n",
       "363     0\n",
       "364     0\n",
       "Name: PRCP, Length: 365, dtype: int64"
      ]
     },
     "execution_count": 134,
     "metadata": {},
     "output_type": "execute_result"
    }
   ],
   "source": [
    "data.PRCP"
   ]
  },
  {
   "cell_type": "code",
   "execution_count": 143,
   "id": "755f1ab7",
   "metadata": {},
   "outputs": [
    {
     "data": {
      "text/plain": [
       "array([0.        , 0.16141732, 0.05905512, 0.        , 0.        ,\n",
       "       0.01181102, 0.48031496, 0.38188976, 0.22834646, 0.16929134,\n",
       "       0.83858268, 0.05905512, 0.        , 0.        , 0.        ,\n",
       "       0.        , 0.        , 0.        , 0.        , 0.        ,\n",
       "       0.        , 0.01968504, 0.        , 0.        , 0.        ,\n",
       "       0.        , 0.        , 0.3503937 , 0.8503937 , 0.        ,\n",
       "       0.09055118, 0.07874016, 0.        , 0.        , 0.        ,\n",
       "       0.        , 0.        , 0.        , 0.2007874 , 0.01968504,\n",
       "       0.72047244, 0.66929134, 0.18110236, 0.07086614, 0.37007874,\n",
       "       0.46062992, 1.03937008, 0.57086614, 0.5984252 , 0.03937008,\n",
       "       0.11811024, 0.11023622, 0.0984252 , 0.24015748, 0.51181102,\n",
       "       0.01181102, 0.        , 0.        , 0.        , 0.01968504,\n",
       "       0.7519685 , 0.42125984, 0.6496063 , 1.83858268, 0.11811024,\n",
       "       0.        , 1.27165354, 0.16929134, 0.74015748, 0.        ,\n",
       "       0.        , 0.01968504, 0.27165354, 0.31889764, 1.09055118,\n",
       "       0.01181102, 0.        , 0.01968504, 0.        , 0.        ,\n",
       "       0.        , 0.        , 0.        , 0.16141732, 0.14173228,\n",
       "       0.01181102, 0.87007874, 0.5511811 , 0.        , 0.        ,\n",
       "       0.        , 0.        , 0.0984252 , 0.        , 0.18110236,\n",
       "       0.        , 0.        , 0.18110236, 0.        , 0.        ,\n",
       "       0.        , 0.        , 0.        , 0.        , 0.01968504,\n",
       "       0.42913386, 0.72834646, 0.        , 0.53937008, 0.        ,\n",
       "       0.2007874 , 0.55905512, 0.3503937 , 0.48818898, 0.        ,\n",
       "       0.12992126, 0.27165354, 0.        , 0.        , 0.        ,\n",
       "       0.        , 0.        , 1.31102362, 0.62992126, 0.2007874 ,\n",
       "       0.        , 0.        , 0.53937008, 0.07874016, 0.01968504,\n",
       "       0.        , 0.        , 0.        , 0.        , 0.        ,\n",
       "       0.        , 0.        , 0.        , 0.        , 0.        ,\n",
       "       0.        , 0.        , 0.1496063 , 0.        , 0.22047244,\n",
       "       0.        , 0.        , 0.        , 0.        , 0.        ,\n",
       "       0.        , 0.        , 0.        , 0.        , 0.        ,\n",
       "       0.        , 0.        , 0.        , 0.        , 0.        ,\n",
       "       0.        , 0.        , 0.07086614, 0.2519685 , 0.        ,\n",
       "       0.01968504, 0.14173228, 0.0511811 , 0.        , 0.03149606,\n",
       "       0.01181102, 0.        , 0.        , 0.        , 0.        ,\n",
       "       0.        , 0.        , 0.07086614, 0.09055118, 0.        ,\n",
       "       0.        , 0.        , 0.        , 0.        , 0.        ,\n",
       "       0.        , 0.        , 0.        , 0.        , 0.        ,\n",
       "       0.        , 0.        , 0.        , 0.        , 0.        ,\n",
       "       0.        , 0.        , 0.        , 0.        , 0.        ,\n",
       "       0.        , 0.        , 0.01181102, 0.75984252, 0.        ,\n",
       "       0.        , 0.        , 0.        , 0.        , 0.        ,\n",
       "       0.        , 0.        , 0.        , 0.01968504, 0.        ,\n",
       "       0.        , 0.        , 0.        , 0.        , 0.        ,\n",
       "       0.        , 0.        , 0.01968504, 0.5       , 0.8503937 ,\n",
       "       0.        , 0.03937008, 0.        , 0.        , 0.        ,\n",
       "       0.        , 0.        , 0.        , 0.        , 0.        ,\n",
       "       0.        , 0.        , 0.        , 0.        , 0.        ,\n",
       "       0.        , 0.33070866, 0.0511811 , 0.        , 0.11811024,\n",
       "       0.        , 0.        , 0.        , 0.        , 0.        ,\n",
       "       0.        , 0.        , 0.        , 0.        , 0.        ,\n",
       "       0.        , 0.        , 0.        , 0.        , 0.01968504,\n",
       "       0.01181102, 0.        , 0.        , 0.        , 0.01181102,\n",
       "       0.72047244, 0.7992126 , 0.16929134, 0.3503937 , 0.        ,\n",
       "       0.        , 0.03149606, 0.        , 0.        , 0.        ,\n",
       "       0.        , 0.        , 0.        , 0.        , 0.        ,\n",
       "       0.        , 0.        , 0.01181102, 0.29133858, 0.        ,\n",
       "       0.2992126 , 0.27952756, 0.33858268, 0.        , 0.12992126,\n",
       "       0.59055118, 0.        , 0.46062992, 0.03937008, 1.25984252,\n",
       "       0.37007874, 0.16141732, 0.24015748, 0.05905512, 0.03149606,\n",
       "       0.5       , 0.01968504, 1.        , 0.66929134, 0.        ,\n",
       "       0.07086614, 0.42913386, 0.16141732, 0.18897638, 0.16141732,\n",
       "       0.        , 0.        , 0.2007874 , 0.        , 0.        ,\n",
       "       0.        , 0.        , 0.        , 0.        , 0.        ,\n",
       "       0.        , 0.        , 0.        , 0.14173228, 0.5984252 ,\n",
       "       0.01968504, 0.46850394, 0.0511811 , 0.72047244, 0.01181102,\n",
       "       0.12992126, 1.3503937 , 0.14173228, 0.        , 0.        ,\n",
       "       0.        , 0.        , 0.03149606, 0.11811024, 0.29133858,\n",
       "       0.        , 0.35826772, 0.38976378, 0.51181102, 0.27165354,\n",
       "       0.        , 0.        , 0.        , 0.        , 0.        ,\n",
       "       0.11023622, 0.51181102, 0.11811024, 0.77165354, 0.        ,\n",
       "       0.        , 0.81102362, 0.20866142, 0.        , 0.        ,\n",
       "       0.12992126, 0.16141732, 0.        , 0.        , 0.        ])"
      ]
     },
     "execution_count": 143,
     "metadata": {},
     "output_type": "execute_result"
    }
   ],
   "source": [
    "data.PRCP.values\n",
    "rainfall = data.PRCP.values\n",
    "rainfall\n",
    "RF = rainfall/254\n",
    "RF"
   ]
  },
  {
   "cell_type": "code",
   "execution_count": 144,
   "id": "f6c9e08a",
   "metadata": {},
   "outputs": [
    {
     "data": {
      "text/plain": [
       "215"
      ]
     },
     "execution_count": 144,
     "metadata": {},
     "output_type": "execute_result"
    }
   ],
   "source": [
    "# ho many number of days with no raun\n",
    "np.sum(RF==0)"
   ]
  },
  {
   "cell_type": "code",
   "execution_count": 147,
   "id": "3a27e10c",
   "metadata": {},
   "outputs": [
    {
     "data": {
      "text/plain": [
       "150"
      ]
     },
     "execution_count": 147,
     "metadata": {},
     "output_type": "execute_result"
    }
   ],
   "source": [
    "# how many number of days with rain\n",
    "np.count_nonzero(RF!=0)"
   ]
  },
  {
   "cell_type": "code",
   "execution_count": 148,
   "id": "25c79e13",
   "metadata": {},
   "outputs": [
    {
     "data": {
      "text/plain": [
       "array([False, False, False, False, False, False, False, False, False,\n",
       "       False,  True, False, False, False, False, False, False, False,\n",
       "       False, False, False, False, False, False, False, False, False,\n",
       "       False,  True, False, False, False, False, False, False, False,\n",
       "       False, False, False, False,  True,  True, False, False, False,\n",
       "       False, False,  True,  True, False, False, False, False, False,\n",
       "        True, False, False, False, False, False,  True, False,  True,\n",
       "       False, False, False, False, False,  True, False, False, False,\n",
       "       False, False, False, False, False, False, False, False, False,\n",
       "       False, False, False, False, False,  True,  True, False, False,\n",
       "       False, False, False, False, False, False, False, False, False,\n",
       "       False, False, False, False, False, False, False,  True, False,\n",
       "        True, False, False,  True, False, False, False, False, False,\n",
       "       False, False, False, False, False, False,  True, False, False,\n",
       "       False,  True, False, False, False, False, False, False, False,\n",
       "       False, False, False, False, False, False, False, False, False,\n",
       "       False, False, False, False, False, False, False, False, False,\n",
       "       False, False, False, False, False, False, False, False, False,\n",
       "       False, False, False, False, False, False, False, False, False,\n",
       "       False, False, False, False, False, False, False, False, False,\n",
       "       False, False, False, False, False, False, False, False, False,\n",
       "       False, False, False, False, False, False, False, False, False,\n",
       "       False, False, False, False, False,  True, False, False, False,\n",
       "       False, False, False, False, False, False, False, False, False,\n",
       "       False, False, False, False, False, False, False,  True,  True,\n",
       "       False, False, False, False, False, False, False, False, False,\n",
       "       False, False, False, False, False, False, False, False, False,\n",
       "       False, False, False, False, False, False, False, False, False,\n",
       "       False, False, False, False, False, False, False, False, False,\n",
       "       False, False, False, False,  True,  True, False, False, False,\n",
       "       False, False, False, False, False, False, False, False, False,\n",
       "       False, False, False, False, False, False, False, False, False,\n",
       "       False, False,  True, False, False, False, False, False, False,\n",
       "       False, False, False,  True, False,  True,  True, False, False,\n",
       "       False, False, False, False, False, False, False, False, False,\n",
       "       False, False, False, False, False, False, False, False, False,\n",
       "        True, False, False, False,  True, False, False, False, False,\n",
       "       False, False, False, False, False, False, False, False, False,\n",
       "       False,  True, False, False, False, False, False, False, False,\n",
       "        True, False,  True, False, False,  True, False, False, False,\n",
       "       False, False, False, False, False])"
      ]
     },
     "execution_count": 148,
     "metadata": {},
     "output_type": "execute_result"
    }
   ],
   "source": [
    "# how many number of days with rain between 0.5 and 1.0 inches\n",
    "\n",
    "(RF>=0.5) & (RF<=1.0)"
   ]
  },
  {
   "cell_type": "code",
   "execution_count": 149,
   "id": "5b92988a",
   "metadata": {},
   "outputs": [
    {
     "data": {
      "text/plain": [
       "32"
      ]
     },
     "execution_count": 149,
     "metadata": {},
     "output_type": "execute_result"
    }
   ],
   "source": [
    "np.sum((RF>=0.5) & (RF<=1.0))"
   ]
  },
  {
   "cell_type": "code",
   "execution_count": 152,
   "id": "edcf41d1",
   "metadata": {},
   "outputs": [
    {
     "data": {
      "text/plain": [
       "215"
      ]
     },
     "execution_count": 152,
     "metadata": {},
     "output_type": "execute_result"
    }
   ],
   "source": [
    "np.sum(RF==0)"
   ]
  },
  {
   "cell_type": "code",
   "execution_count": 153,
   "id": "2f088323",
   "metadata": {},
   "outputs": [
    {
     "data": {
      "text/plain": [
       "150"
      ]
     },
     "execution_count": 153,
     "metadata": {},
     "output_type": "execute_result"
    }
   ],
   "source": [
    "np.sum(RF!=0)"
   ]
  },
  {
   "cell_type": "code",
   "execution_count": 155,
   "id": "7269dfbe",
   "metadata": {},
   "outputs": [
    {
     "data": {
      "text/plain": [
       "array([False, False, False, False, False, False, False, False, False,\n",
       "       False,  True, False, False, False, False, False, False, False,\n",
       "       False, False, False, False, False, False, False, False, False,\n",
       "       False,  True, False, False, False, False, False, False, False,\n",
       "       False, False, False, False, False, False, False, False, False,\n",
       "       False, False, False, False, False, False, False, False, False,\n",
       "       False, False, False, False, False, False, False, False, False,\n",
       "       False, False, False, False, False, False, False, False, False,\n",
       "       False, False, False, False, False, False, False, False, False,\n",
       "       False, False, False, False, False,  True, False, False, False,\n",
       "       False, False, False, False, False, False, False, False, False,\n",
       "       False, False, False, False, False, False, False, False, False,\n",
       "       False, False, False, False, False, False, False, False, False,\n",
       "       False, False, False, False, False, False, False, False, False,\n",
       "       False, False, False, False, False, False, False, False, False,\n",
       "       False, False, False, False, False, False, False, False, False,\n",
       "       False, False, False, False, False, False, False, False, False,\n",
       "       False, False, False, False, False, False, False, False, False,\n",
       "       False, False, False, False, False, False, False, False, False,\n",
       "       False, False, False, False, False, False, False, False, False,\n",
       "       False, False, False, False, False, False, False, False, False,\n",
       "       False, False, False, False, False, False, False, False, False,\n",
       "       False, False, False, False, False, False, False, False, False,\n",
       "       False, False, False, False, False, False, False, False, False,\n",
       "       False, False, False, False, False, False, False, False,  True,\n",
       "       False, False, False, False, False, False, False, False, False,\n",
       "       False, False, False, False, False, False, False, False, False,\n",
       "       False, False, False, False, False, False, False, False, False,\n",
       "       False, False, False, False, False, False, False, False, False,\n",
       "       False, False, False, False, False, False, False, False, False,\n",
       "       False, False, False, False, False, False, False, False, False,\n",
       "       False, False, False, False, False, False, False, False, False,\n",
       "       False, False, False, False, False, False, False, False, False,\n",
       "       False, False, False, False, False,  True, False, False, False,\n",
       "       False, False, False, False, False, False, False, False, False,\n",
       "       False, False, False, False, False, False, False, False, False,\n",
       "       False, False, False, False, False, False, False, False, False,\n",
       "       False, False, False, False, False, False, False, False, False,\n",
       "       False, False, False, False, False, False, False, False, False,\n",
       "       False, False, False, False, False,  True, False, False, False,\n",
       "       False, False, False, False, False])"
      ]
     },
     "execution_count": 155,
     "metadata": {},
     "output_type": "execute_result"
    }
   ],
   "source": [
    "# yo condition kun kun elements harule satisfy gar6 patta launa mask garne kinaki mask garepaxi only\n",
    "# true values kun kun elements ma chhan tyo values matrai din6\n",
    "\n",
    "mask = (RF >= 0.8) & (RF <= 1.0)  \n",
    "mask"
   ]
  },
  {
   "cell_type": "code",
   "execution_count": 156,
   "id": "2b60ada6",
   "metadata": {},
   "outputs": [
    {
     "data": {
      "text/plain": [
       "array([0.83858268, 0.8503937 , 0.87007874, 0.8503937 , 1.        ,\n",
       "       0.81102362])"
      ]
     },
     "execution_count": 156,
     "metadata": {},
     "output_type": "execute_result"
    }
   ],
   "source": [
    "# RF ko kun kun elements le tyo condition satisfy gar6 thapauna mask garne\n",
    "\n",
    "RF[mask]"
   ]
  },
  {
   "cell_type": "code",
   "execution_count": 159,
   "id": "7f714939",
   "metadata": {},
   "outputs": [],
   "source": [
    "mask_no_rain = RF == 0"
   ]
  },
  {
   "cell_type": "code",
   "execution_count": 160,
   "id": "df301c30",
   "metadata": {},
   "outputs": [
    {
     "data": {
      "text/plain": [
       "array([0., 0., 0., 0., 0., 0., 0., 0., 0., 0., 0., 0., 0., 0., 0., 0., 0.,\n",
       "       0., 0., 0., 0., 0., 0., 0., 0., 0., 0., 0., 0., 0., 0., 0., 0., 0.,\n",
       "       0., 0., 0., 0., 0., 0., 0., 0., 0., 0., 0., 0., 0., 0., 0., 0., 0.,\n",
       "       0., 0., 0., 0., 0., 0., 0., 0., 0., 0., 0., 0., 0., 0., 0., 0., 0.,\n",
       "       0., 0., 0., 0., 0., 0., 0., 0., 0., 0., 0., 0., 0., 0., 0., 0., 0.,\n",
       "       0., 0., 0., 0., 0., 0., 0., 0., 0., 0., 0., 0., 0., 0., 0., 0., 0.,\n",
       "       0., 0., 0., 0., 0., 0., 0., 0., 0., 0., 0., 0., 0., 0., 0., 0., 0.,\n",
       "       0., 0., 0., 0., 0., 0., 0., 0., 0., 0., 0., 0., 0., 0., 0., 0., 0.,\n",
       "       0., 0., 0., 0., 0., 0., 0., 0., 0., 0., 0., 0., 0., 0., 0., 0., 0.,\n",
       "       0., 0., 0., 0., 0., 0., 0., 0., 0., 0., 0., 0., 0., 0., 0., 0., 0.,\n",
       "       0., 0., 0., 0., 0., 0., 0., 0., 0., 0., 0., 0., 0., 0., 0., 0., 0.,\n",
       "       0., 0., 0., 0., 0., 0., 0., 0., 0., 0., 0., 0., 0., 0., 0., 0., 0.,\n",
       "       0., 0., 0., 0., 0., 0., 0., 0., 0., 0., 0.])"
      ]
     },
     "execution_count": 160,
     "metadata": {},
     "output_type": "execute_result"
    }
   ],
   "source": [
    "inches[mask_no_rain]"
   ]
  },
  {
   "cell_type": "code",
   "execution_count": 163,
   "id": "5cc5fb7f",
   "metadata": {},
   "outputs": [
    {
     "data": {
      "text/plain": [
       "215"
      ]
     },
     "execution_count": 163,
     "metadata": {},
     "output_type": "execute_result"
    }
   ],
   "source": [
    "len(inches[mask_no_rain])"
   ]
  },
  {
   "cell_type": "code",
   "execution_count": 169,
   "id": "e93f2012",
   "metadata": {},
   "outputs": [
    {
     "data": {
      "text/plain": [
       "array([ True,  True,  True,  True,  True,  True,  True,  True,  True,\n",
       "        True,  True,  True,  True,  True,  True,  True,  True,  True,\n",
       "        True,  True,  True,  True,  True,  True,  True,  True,  True,\n",
       "        True,  True,  True,  True,  True,  True,  True,  True,  True,\n",
       "        True,  True,  True,  True,  True,  True,  True,  True,  True,\n",
       "        True,  True,  True,  True,  True,  True,  True,  True,  True,\n",
       "        True,  True,  True,  True,  True,  True,  True,  True,  True,\n",
       "        True,  True,  True,  True,  True,  True,  True,  True,  True,\n",
       "        True,  True,  True,  True,  True,  True,  True,  True,  True,\n",
       "        True,  True,  True,  True,  True,  True,  True,  True,  True,\n",
       "        True,  True,  True,  True,  True,  True,  True,  True,  True,\n",
       "        True,  True,  True,  True,  True,  True,  True,  True,  True,\n",
       "        True,  True,  True,  True,  True,  True,  True,  True,  True,\n",
       "        True,  True,  True,  True,  True,  True,  True,  True,  True,\n",
       "        True,  True,  True,  True,  True,  True,  True,  True,  True,\n",
       "        True,  True,  True,  True,  True,  True,  True,  True,  True,\n",
       "        True,  True,  True,  True,  True,  True,  True,  True,  True,\n",
       "        True,  True,  True,  True,  True,  True,  True,  True,  True,\n",
       "        True,  True,  True,  True,  True,  True,  True,  True,  True,\n",
       "        True,  True,  True,  True,  True,  True,  True,  True,  True,\n",
       "        True,  True,  True,  True,  True,  True,  True,  True,  True,\n",
       "        True,  True,  True,  True,  True,  True,  True,  True,  True,\n",
       "        True,  True,  True,  True,  True,  True,  True,  True,  True,\n",
       "        True,  True,  True,  True,  True,  True,  True,  True,  True,\n",
       "        True,  True,  True,  True,  True,  True,  True,  True,  True,\n",
       "        True,  True,  True,  True,  True,  True,  True,  True,  True,\n",
       "        True,  True,  True,  True,  True,  True,  True,  True,  True,\n",
       "        True,  True,  True,  True,  True,  True,  True,  True,  True,\n",
       "        True,  True,  True,  True,  True,  True,  True,  True,  True,\n",
       "        True, False, False, False, False, False, False, False, False,\n",
       "       False, False, False, False, False, False, False, False, False,\n",
       "       False, False, False, False, False, False, False, False, False,\n",
       "       False, False, False, False, False, False, False, False, False,\n",
       "       False, False, False, False, False, False, False, False, False,\n",
       "       False, False, False, False, False, False, False, False, False,\n",
       "       False, False, False, False, False, False, False, False, False,\n",
       "       False, False, False, False, False, False, False, False, False,\n",
       "       False, False, False, False, False, False, False, False, False,\n",
       "       False, False, False, False, False, False, False, False, False,\n",
       "       False, False, False, False, False, False, False, False, False,\n",
       "       False, False, False, False, False])"
      ]
     },
     "execution_count": 169,
     "metadata": {},
     "output_type": "execute_result"
    }
   ],
   "source": [
    "np.arange(365)-172 < 90"
   ]
  },
  {
   "cell_type": "code",
   "execution_count": 168,
   "id": "12cd5832",
   "metadata": {},
   "outputs": [
    {
     "data": {
      "text/plain": [
       "array([False, False, False, False, False, False, False, False, False,\n",
       "       False, False, False, False, False, False, False, False, False,\n",
       "       False, False, False, False, False, False, False, False, False,\n",
       "       False, False, False, False, False, False, False, False, False,\n",
       "       False, False, False, False, False, False, False, False, False,\n",
       "       False, False, False, False, False, False, False, False, False,\n",
       "       False, False, False, False, False, False, False, False, False,\n",
       "       False, False, False, False, False, False, False, False, False,\n",
       "       False, False, False, False, False, False, False, False, False,\n",
       "       False, False, False, False, False, False, False, False, False,\n",
       "       False, False, False, False, False, False, False, False, False,\n",
       "       False, False, False, False, False, False, False, False, False,\n",
       "       False, False, False, False, False, False, False, False, False,\n",
       "       False, False, False, False, False, False, False, False, False,\n",
       "       False, False, False, False, False, False, False, False, False,\n",
       "       False, False, False, False, False, False, False, False, False,\n",
       "       False, False, False, False, False, False, False, False, False,\n",
       "       False, False, False, False, False, False, False, False, False,\n",
       "       False, False, False, False, False, False, False, False, False,\n",
       "       False, False,  True,  True,  True,  True,  True,  True,  True,\n",
       "        True,  True,  True,  True,  True,  True,  True,  True,  True,\n",
       "        True,  True,  True,  True,  True,  True,  True,  True,  True,\n",
       "        True,  True,  True,  True,  True,  True,  True,  True,  True,\n",
       "        True,  True,  True,  True,  True,  True,  True,  True,  True,\n",
       "        True,  True,  True,  True,  True,  True,  True,  True,  True,\n",
       "        True,  True,  True,  True,  True,  True,  True,  True,  True,\n",
       "        True,  True,  True,  True,  True,  True,  True,  True,  True,\n",
       "        True,  True,  True,  True,  True,  True,  True,  True,  True,\n",
       "        True,  True,  True,  True,  True,  True,  True,  True,  True,\n",
       "        True,  True,  True,  True,  True,  True,  True,  True,  True,\n",
       "        True,  True,  True,  True,  True,  True,  True,  True,  True,\n",
       "        True,  True,  True,  True,  True,  True,  True,  True,  True,\n",
       "        True,  True,  True,  True,  True,  True,  True,  True,  True,\n",
       "        True,  True,  True,  True,  True,  True,  True,  True,  True,\n",
       "        True,  True,  True,  True,  True,  True,  True,  True,  True,\n",
       "        True,  True,  True,  True,  True,  True,  True,  True,  True,\n",
       "        True,  True,  True,  True,  True,  True,  True,  True,  True,\n",
       "        True,  True,  True,  True,  True,  True,  True,  True,  True,\n",
       "        True,  True,  True,  True,  True,  True,  True,  True,  True,\n",
       "        True,  True,  True,  True,  True,  True,  True,  True,  True,\n",
       "        True,  True,  True,  True,  True])"
      ]
     },
     "execution_count": 168,
     "metadata": {},
     "output_type": "execute_result"
    }
   ],
   "source": [
    "np.arange(365)-172 > 0"
   ]
  },
  {
   "cell_type": "code",
   "execution_count": 182,
   "id": "b9c04a7c",
   "metadata": {},
   "outputs": [
    {
     "data": {
      "text/plain": [
       "array([False, False, False, False, False, False, False, False, False,\n",
       "       False, False, False, False, False, False, False, False, False,\n",
       "       False, False, False, False, False, False, False, False, False,\n",
       "       False, False, False, False, False, False, False, False, False,\n",
       "       False, False, False, False, False, False, False, False, False,\n",
       "       False, False, False, False, False, False, False, False, False,\n",
       "       False, False, False, False, False, False, False, False, False,\n",
       "       False, False, False, False, False, False, False, False, False,\n",
       "       False, False, False, False, False, False, False, False, False,\n",
       "       False, False, False, False, False, False, False, False, False,\n",
       "       False, False, False, False, False, False, False, False, False,\n",
       "       False, False, False, False, False, False, False, False, False,\n",
       "       False, False, False, False, False, False, False, False, False,\n",
       "       False, False, False, False, False, False, False, False, False,\n",
       "       False, False, False, False, False, False, False, False, False,\n",
       "       False, False, False, False, False, False, False, False, False,\n",
       "       False, False, False, False, False, False, False, False, False,\n",
       "       False, False, False, False, False, False, False, False, False,\n",
       "       False, False, False, False, False, False, False, False, False,\n",
       "       False, False,  True,  True,  True,  True,  True,  True,  True,\n",
       "        True,  True,  True,  True,  True,  True,  True,  True,  True,\n",
       "        True,  True,  True,  True,  True,  True,  True,  True,  True,\n",
       "        True,  True,  True,  True,  True,  True,  True,  True,  True,\n",
       "        True,  True,  True,  True,  True,  True,  True,  True,  True,\n",
       "        True,  True,  True,  True,  True,  True,  True,  True,  True,\n",
       "        True,  True,  True,  True,  True,  True,  True,  True,  True,\n",
       "        True,  True,  True,  True,  True,  True,  True,  True,  True,\n",
       "        True,  True,  True,  True,  True,  True,  True,  True,  True,\n",
       "        True,  True,  True,  True,  True,  True,  True,  True,  True,\n",
       "        True, False, False, False, False, False, False, False, False,\n",
       "       False, False, False, False, False, False, False, False, False,\n",
       "       False, False, False, False, False, False, False, False, False,\n",
       "       False, False, False, False, False, False, False, False, False,\n",
       "       False, False, False, False, False, False, False, False, False,\n",
       "       False, False, False, False, False, False, False, False, False,\n",
       "       False, False, False, False, False, False, False, False, False,\n",
       "       False, False, False, False, False, False, False, False, False,\n",
       "       False, False, False, False, False, False, False, False, False,\n",
       "       False, False, False, False, False, False, False, False, False,\n",
       "       False, False, False, False, False, False, False, False, False,\n",
       "       False, False, False, False, False])"
      ]
     },
     "execution_count": 182,
     "metadata": {},
     "output_type": "execute_result"
    }
   ],
   "source": [
    "mask_summer = (np.arange(365)-172 < 90) & (np.arange(365)-172 > 0)\n",
    "mask_summer"
   ]
  },
  {
   "cell_type": "code",
   "execution_count": 183,
   "id": "24795dfd",
   "metadata": {},
   "outputs": [
    {
     "data": {
      "text/plain": [
       "array([0.        , 0.        , 0.        , 0.        , 0.07086614,\n",
       "       0.09055118, 0.        , 0.        , 0.        , 0.        ,\n",
       "       0.        , 0.        , 0.        , 0.        , 0.        ,\n",
       "       0.        , 0.        , 0.        , 0.        , 0.        ,\n",
       "       0.        , 0.        , 0.        , 0.        , 0.        ,\n",
       "       0.        , 0.        , 0.        , 0.        , 0.01181102,\n",
       "       0.75984252, 0.        , 0.        , 0.        , 0.        ,\n",
       "       0.        , 0.        , 0.        , 0.        , 0.        ,\n",
       "       0.01968504, 0.        , 0.        , 0.        , 0.        ,\n",
       "       0.        , 0.        , 0.        , 0.        , 0.01968504,\n",
       "       0.5       , 0.8503937 , 0.        , 0.03937008, 0.        ,\n",
       "       0.        , 0.        , 0.        , 0.        , 0.        ,\n",
       "       0.        , 0.        , 0.        , 0.        , 0.        ,\n",
       "       0.        , 0.        , 0.        , 0.33070866, 0.0511811 ,\n",
       "       0.        , 0.11811024, 0.        , 0.        , 0.        ,\n",
       "       0.        , 0.        , 0.        , 0.        , 0.        ,\n",
       "       0.        , 0.        , 0.        , 0.        , 0.        ,\n",
       "       0.        , 0.01968504, 0.01181102, 0.        ])"
      ]
     },
     "execution_count": 183,
     "metadata": {},
     "output_type": "execute_result"
    }
   ],
   "source": [
    "inches[mask_summer]"
   ]
  },
  {
   "cell_type": "code",
   "execution_count": 184,
   "id": "747651a0",
   "metadata": {},
   "outputs": [
    {
     "data": {
      "text/plain": [
       "89"
      ]
     },
     "execution_count": 184,
     "metadata": {},
     "output_type": "execute_result"
    }
   ],
   "source": [
    "len(inches[mask_summer])"
   ]
  },
  {
   "cell_type": "code",
   "execution_count": 185,
   "id": "e45ee2f2",
   "metadata": {},
   "outputs": [
    {
     "data": {
      "text/plain": [
       "array([-172, -171, -170, -169, -168, -167, -166, -165, -164, -163, -162,\n",
       "       -161, -160, -159, -158, -157, -156, -155, -154, -153, -152, -151,\n",
       "       -150, -149, -148, -147, -146, -145, -144, -143, -142, -141, -140,\n",
       "       -139, -138, -137, -136, -135, -134, -133, -132, -131, -130, -129,\n",
       "       -128, -127, -126, -125, -124, -123, -122, -121, -120, -119, -118,\n",
       "       -117, -116, -115, -114, -113, -112, -111, -110, -109, -108, -107,\n",
       "       -106, -105, -104, -103, -102, -101, -100,  -99,  -98,  -97,  -96,\n",
       "        -95,  -94,  -93,  -92,  -91,  -90,  -89,  -88,  -87,  -86,  -85,\n",
       "        -84,  -83,  -82,  -81,  -80,  -79,  -78,  -77,  -76,  -75,  -74,\n",
       "        -73,  -72,  -71,  -70,  -69,  -68,  -67,  -66,  -65,  -64,  -63,\n",
       "        -62,  -61,  -60,  -59,  -58,  -57,  -56,  -55,  -54,  -53,  -52,\n",
       "        -51,  -50,  -49,  -48,  -47,  -46,  -45,  -44,  -43,  -42,  -41,\n",
       "        -40,  -39,  -38,  -37,  -36,  -35,  -34,  -33,  -32,  -31,  -30,\n",
       "        -29,  -28,  -27,  -26,  -25,  -24,  -23,  -22,  -21,  -20,  -19,\n",
       "        -18,  -17,  -16,  -15,  -14,  -13,  -12,  -11,  -10,   -9,   -8,\n",
       "         -7,   -6,   -5,   -4,   -3,   -2,   -1,    0,    1,    2,    3,\n",
       "          4,    5,    6,    7,    8,    9,   10,   11,   12,   13,   14,\n",
       "         15,   16,   17,   18,   19,   20,   21,   22,   23,   24,   25,\n",
       "         26,   27,   28,   29,   30,   31,   32,   33,   34,   35,   36,\n",
       "         37,   38,   39,   40,   41,   42,   43,   44,   45,   46,   47,\n",
       "         48,   49,   50,   51,   52,   53,   54,   55,   56,   57,   58,\n",
       "         59,   60,   61,   62,   63,   64,   65,   66,   67,   68,   69,\n",
       "         70,   71,   72,   73,   74,   75,   76,   77,   78,   79,   80,\n",
       "         81,   82,   83,   84,   85,   86,   87,   88,   89,   90,   91,\n",
       "         92,   93,   94,   95,   96,   97,   98,   99,  100,  101,  102,\n",
       "        103,  104,  105,  106,  107,  108,  109,  110,  111,  112,  113,\n",
       "        114,  115,  116,  117,  118,  119,  120,  121,  122,  123,  124,\n",
       "        125,  126,  127,  128,  129,  130,  131,  132,  133,  134,  135,\n",
       "        136,  137,  138,  139,  140,  141,  142,  143,  144,  145,  146,\n",
       "        147,  148,  149,  150,  151,  152,  153,  154,  155,  156,  157,\n",
       "        158,  159,  160,  161,  162,  163,  164,  165,  166,  167,  168,\n",
       "        169,  170,  171,  172,  173,  174,  175,  176,  177,  178,  179,\n",
       "        180,  181,  182,  183,  184,  185,  186,  187,  188,  189,  190,\n",
       "        191,  192])"
      ]
     },
     "execution_count": 185,
     "metadata": {},
     "output_type": "execute_result"
    }
   ],
   "source": [
    "np.arange(365)-172\n",
    "\n",
    "# In this array, each element represents a specific day relative to June 21st. Let's break it down further:\n",
    "\n",
    "# The first element, -172, corresponds to 172 days before June 21st.\n",
    "# The second element, -171, corresponds to 171 days before June 21st.\n",
    "# The third element, -170, corresponds to 170 days before June 21st.\n",
    "# ...\n",
    "# The 172nd element, 0, corresponds to June 21st itself.\n",
    "# The 173rd element, 1, corresponds to 1 day after June 21st.\n",
    "# The 174th element, 2, corresponds to 2 days after June 21st.\n",
    "# ...\n",
    "# The last element, 192, corresponds to 192 days after June 21st.\n",
    "# Note that this array represents the days of the year shifted with June 21st as the reference point.\n",
    "# The negative values indicate the days before June 21st, and the positive values indicate the days after June 21st.\n",
    "\n",
    "# This shifted array is useful for comparing dates relative to June 21st and for applying conditions to identify specific \n",
    "# periods, such as the summer season.\n",
    "\n",
    "# The logic behind the problem lies in the determination of the days that fall within the summer season.\n",
    "# Here's the logic explained step by step:\n",
    "\n",
    "# Create an array representing all the days of the year: np.arange(365).\n",
    "\n",
    "# This array will have 365 elements, with each element representing a specific day of the year.\n",
    "# Shift the reference point to June 21st:\n",
    "\n",
    "# Subtract 171 from each element of the array: (np.arange(365) - 171).\n",
    "# This shift aligns June 21st (the start of summer) with day 0 in the array.\n",
    "# Handle the wraparound effect:\n",
    "\n"
   ]
  },
  {
   "cell_type": "code",
   "execution_count": 186,
   "id": "46119ac2",
   "metadata": {},
   "outputs": [
    {
     "data": {
      "text/plain": [
       "array([ True, False, False,  True,  True, False, False, False, False,\n",
       "       False, False, False,  True,  True,  True,  True,  True,  True,\n",
       "        True,  True,  True, False,  True,  True,  True,  True,  True,\n",
       "       False, False,  True, False, False,  True,  True,  True,  True,\n",
       "        True,  True, False, False, False, False, False, False, False,\n",
       "       False, False, False, False, False, False, False, False, False,\n",
       "       False, False,  True,  True,  True, False, False, False, False,\n",
       "       False, False,  True, False, False, False,  True,  True, False,\n",
       "       False, False, False, False,  True, False,  True,  True,  True,\n",
       "        True,  True, False, False, False, False, False,  True,  True,\n",
       "        True,  True, False,  True, False,  True,  True, False,  True,\n",
       "        True,  True,  True,  True,  True, False, False, False,  True,\n",
       "       False,  True, False, False, False, False,  True, False, False,\n",
       "        True,  True,  True,  True,  True, False, False, False,  True,\n",
       "        True, False, False, False,  True,  True,  True,  True,  True,\n",
       "        True,  True,  True,  True,  True,  True,  True, False,  True,\n",
       "       False,  True,  True,  True,  True,  True,  True,  True,  True,\n",
       "        True,  True,  True,  True,  True,  True,  True,  True,  True,\n",
       "       False, False,  True, False, False, False,  True, False, False,\n",
       "        True,  True,  True,  True,  True,  True, False, False,  True,\n",
       "        True,  True,  True,  True,  True,  True,  True,  True,  True,\n",
       "        True,  True,  True,  True,  True,  True,  True,  True,  True,\n",
       "        True,  True,  True,  True, False, False,  True,  True,  True,\n",
       "        True,  True,  True,  True,  True,  True, False,  True,  True,\n",
       "        True,  True,  True,  True,  True,  True, False, False, False,\n",
       "        True, False,  True,  True,  True,  True,  True,  True,  True,\n",
       "        True,  True,  True,  True,  True,  True,  True, False, False,\n",
       "        True, False,  True,  True,  True,  True,  True,  True,  True,\n",
       "        True,  True,  True,  True,  True,  True,  True, False, False,\n",
       "        True,  True,  True, False, False, False, False, False,  True,\n",
       "        True, False,  True,  True,  True,  True,  True,  True,  True,\n",
       "        True,  True,  True, False, False,  True, False, False, False,\n",
       "        True, False, False,  True, False, False, False, False, False,\n",
       "       False, False, False, False, False, False, False,  True, False,\n",
       "       False, False, False, False,  True,  True, False,  True,  True,\n",
       "        True,  True,  True,  True,  True,  True,  True,  True, False,\n",
       "       False, False, False, False, False, False, False, False, False,\n",
       "        True,  True,  True,  True, False, False, False,  True, False,\n",
       "       False, False, False,  True,  True,  True,  True,  True, False,\n",
       "       False, False, False,  True,  True, False, False,  True,  True,\n",
       "       False, False,  True,  True,  True])"
      ]
     },
     "execution_count": 186,
     "metadata": {},
     "output_type": "execute_result"
    }
   ],
   "source": [
    "inches == 0"
   ]
  },
  {
   "cell_type": "code",
   "execution_count": 187,
   "id": "821316e7",
   "metadata": {},
   "outputs": [
    {
     "data": {
      "text/plain": [
       "array([ True, False, False,  True,  True, False, False, False, False,\n",
       "       False, False, False,  True,  True,  True,  True,  True,  True,\n",
       "        True,  True,  True, False,  True,  True,  True,  True,  True,\n",
       "       False, False,  True, False, False,  True,  True,  True,  True,\n",
       "        True,  True, False, False, False, False, False, False, False,\n",
       "       False, False, False, False, False, False, False, False, False,\n",
       "       False, False,  True,  True,  True, False, False, False, False,\n",
       "       False, False,  True, False, False, False,  True,  True, False,\n",
       "       False, False, False, False,  True, False,  True,  True,  True,\n",
       "        True,  True, False, False, False, False, False,  True,  True,\n",
       "        True,  True, False,  True, False,  True,  True, False,  True,\n",
       "        True,  True,  True,  True,  True, False, False, False,  True,\n",
       "       False,  True, False, False, False, False,  True, False, False,\n",
       "        True,  True,  True,  True,  True, False, False, False,  True,\n",
       "        True, False, False, False,  True,  True,  True,  True,  True,\n",
       "        True,  True,  True,  True,  True,  True,  True, False,  True,\n",
       "       False,  True,  True,  True,  True,  True,  True,  True,  True,\n",
       "        True,  True,  True,  True,  True,  True,  True,  True,  True,\n",
       "       False, False,  True, False, False, False,  True, False, False,\n",
       "        True,  True,  True,  True,  True,  True, False, False,  True,\n",
       "        True,  True,  True,  True,  True,  True,  True,  True,  True,\n",
       "        True,  True,  True,  True,  True,  True,  True,  True,  True,\n",
       "        True,  True,  True,  True, False, False,  True,  True,  True,\n",
       "        True,  True,  True,  True,  True,  True, False,  True,  True,\n",
       "        True,  True,  True,  True,  True,  True, False, False, False,\n",
       "        True, False,  True,  True,  True,  True,  True,  True,  True,\n",
       "        True,  True,  True,  True,  True,  True,  True, False, False,\n",
       "        True, False,  True,  True,  True,  True,  True,  True,  True,\n",
       "        True,  True,  True,  True,  True,  True,  True, False, False,\n",
       "        True,  True,  True, False, False, False, False, False,  True,\n",
       "        True, False,  True,  True,  True,  True,  True,  True,  True,\n",
       "        True,  True,  True, False, False,  True, False, False, False,\n",
       "        True, False, False,  True, False, False, False, False, False,\n",
       "       False, False, False, False, False, False, False,  True, False,\n",
       "       False, False, False, False,  True,  True, False,  True,  True,\n",
       "        True,  True,  True,  True,  True,  True,  True,  True, False,\n",
       "       False, False, False, False, False, False, False, False, False,\n",
       "        True,  True,  True,  True, False, False, False,  True, False,\n",
       "       False, False, False,  True,  True,  True,  True,  True, False,\n",
       "       False, False, False,  True,  True, False, False,  True,  True,\n",
       "       False, False,  True,  True,  True])"
      ]
     },
     "execution_count": 187,
     "metadata": {},
     "output_type": "execute_result"
    }
   ],
   "source": [
    "mask_no_rain = inches == 0\n",
    "mask_no_rain"
   ]
  },
  {
   "cell_type": "code",
   "execution_count": 188,
   "id": "c7123874",
   "metadata": {},
   "outputs": [
    {
     "data": {
      "text/plain": [
       "array([0., 0., 0., 0., 0., 0., 0., 0., 0., 0., 0., 0., 0., 0., 0., 0., 0.,\n",
       "       0., 0., 0., 0., 0., 0., 0., 0., 0., 0., 0., 0., 0., 0., 0., 0., 0.,\n",
       "       0., 0., 0., 0., 0., 0., 0., 0., 0., 0., 0., 0., 0., 0., 0., 0., 0.,\n",
       "       0., 0., 0., 0., 0., 0., 0., 0., 0., 0., 0., 0., 0., 0., 0., 0., 0.,\n",
       "       0., 0., 0., 0., 0., 0., 0., 0., 0., 0., 0., 0., 0., 0., 0., 0., 0.,\n",
       "       0., 0., 0., 0., 0., 0., 0., 0., 0., 0., 0., 0., 0., 0., 0., 0., 0.,\n",
       "       0., 0., 0., 0., 0., 0., 0., 0., 0., 0., 0., 0., 0., 0., 0., 0., 0.,\n",
       "       0., 0., 0., 0., 0., 0., 0., 0., 0., 0., 0., 0., 0., 0., 0., 0., 0.,\n",
       "       0., 0., 0., 0., 0., 0., 0., 0., 0., 0., 0., 0., 0., 0., 0., 0., 0.,\n",
       "       0., 0., 0., 0., 0., 0., 0., 0., 0., 0., 0., 0., 0., 0., 0., 0., 0.,\n",
       "       0., 0., 0., 0., 0., 0., 0., 0., 0., 0., 0., 0., 0., 0., 0., 0., 0.,\n",
       "       0., 0., 0., 0., 0., 0., 0., 0., 0., 0., 0., 0., 0., 0., 0., 0., 0.,\n",
       "       0., 0., 0., 0., 0., 0., 0., 0., 0., 0., 0.])"
      ]
     },
     "execution_count": 188,
     "metadata": {},
     "output_type": "execute_result"
    }
   ],
   "source": [
    "inches[mask_no_rain]"
   ]
  },
  {
   "cell_type": "code",
   "execution_count": 189,
   "id": "2327a073",
   "metadata": {},
   "outputs": [
    {
     "data": {
      "text/plain": [
       "215"
      ]
     },
     "execution_count": 189,
     "metadata": {},
     "output_type": "execute_result"
    }
   ],
   "source": [
    "len(inches[mask_no_rain])"
   ]
  },
  {
   "cell_type": "code",
   "execution_count": 207,
   "id": "8a947907",
   "metadata": {},
   "outputs": [],
   "source": [
    "summer = (np.arange(365) - 172 < 90 ) & (np.arange(365) > 0)"
   ]
  },
  {
   "cell_type": "code",
   "execution_count": 208,
   "id": "31a3212e",
   "metadata": {},
   "outputs": [],
   "source": [
    "mask_summer = inches[summer]"
   ]
  },
  {
   "cell_type": "code",
   "execution_count": 209,
   "id": "e5820973",
   "metadata": {},
   "outputs": [
    {
     "data": {
      "text/plain": [
       "1.8385826771653544"
      ]
     },
     "execution_count": 209,
     "metadata": {},
     "output_type": "execute_result"
    }
   ],
   "source": [
    "np.max(mask_summer)"
   ]
  },
  {
   "cell_type": "code",
   "execution_count": 210,
   "id": "6cb14eed",
   "metadata": {},
   "outputs": [
    {
     "data": {
      "text/plain": [
       "0.11516879355597791"
      ]
     },
     "execution_count": 210,
     "metadata": {},
     "output_type": "execute_result"
    }
   ],
   "source": [
    "np.mean(mask_summer)"
   ]
  },
  {
   "cell_type": "code",
   "execution_count": 211,
   "id": "bb88458e",
   "metadata": {},
   "outputs": [
    {
     "data": {
      "text/plain": [
       "0.0"
      ]
     },
     "execution_count": 211,
     "metadata": {},
     "output_type": "execute_result"
    }
   ],
   "source": [
    "np.median(mask_summer)"
   ]
  },
  {
   "cell_type": "code",
   "execution_count": 212,
   "id": "0bc7bb20",
   "metadata": {},
   "outputs": [
    {
     "data": {
      "text/plain": [
       "array([0.16141732, 0.05905512, 0.        , 0.        , 0.01181102,\n",
       "       0.48031496, 0.38188976, 0.22834646, 0.16929134, 0.83858268,\n",
       "       0.05905512, 0.        , 0.        , 0.        , 0.        ,\n",
       "       0.        , 0.        , 0.        , 0.        , 0.        ,\n",
       "       0.01968504, 0.        , 0.        , 0.        , 0.        ,\n",
       "       0.        , 0.3503937 , 0.8503937 , 0.        , 0.09055118,\n",
       "       0.07874016, 0.        , 0.        , 0.        , 0.        ,\n",
       "       0.        , 0.        , 0.2007874 , 0.01968504, 0.72047244,\n",
       "       0.66929134, 0.18110236, 0.07086614, 0.37007874, 0.46062992,\n",
       "       1.03937008, 0.57086614, 0.5984252 , 0.03937008, 0.11811024,\n",
       "       0.11023622, 0.0984252 , 0.24015748, 0.51181102, 0.01181102,\n",
       "       0.        , 0.        , 0.        , 0.01968504, 0.7519685 ,\n",
       "       0.42125984, 0.6496063 , 1.83858268, 0.11811024, 0.        ,\n",
       "       1.27165354, 0.16929134, 0.74015748, 0.        , 0.        ,\n",
       "       0.01968504, 0.27165354, 0.31889764, 1.09055118, 0.01181102,\n",
       "       0.        , 0.01968504, 0.        , 0.        , 0.        ,\n",
       "       0.        , 0.        , 0.16141732, 0.14173228, 0.01181102,\n",
       "       0.87007874, 0.5511811 , 0.        , 0.        , 0.        ,\n",
       "       0.        , 0.0984252 , 0.        , 0.18110236, 0.        ,\n",
       "       0.        , 0.18110236, 0.        , 0.        , 0.        ,\n",
       "       0.        , 0.        , 0.        , 0.01968504, 0.42913386,\n",
       "       0.72834646, 0.        , 0.53937008, 0.        , 0.2007874 ,\n",
       "       0.55905512, 0.3503937 , 0.48818898, 0.        , 0.12992126,\n",
       "       0.27165354, 0.        , 0.        , 0.        , 0.        ,\n",
       "       0.        , 1.31102362, 0.62992126, 0.2007874 , 0.        ,\n",
       "       0.        , 0.53937008, 0.07874016, 0.01968504, 0.        ,\n",
       "       0.        , 0.        , 0.        , 0.        , 0.        ,\n",
       "       0.        , 0.        , 0.        , 0.        , 0.        ,\n",
       "       0.        , 0.1496063 , 0.        , 0.22047244, 0.        ,\n",
       "       0.        , 0.        , 0.        , 0.        , 0.        ,\n",
       "       0.        , 0.        , 0.        , 0.        , 0.        ,\n",
       "       0.        , 0.        , 0.        , 0.        , 0.        ,\n",
       "       0.        , 0.07086614, 0.2519685 , 0.        , 0.01968504,\n",
       "       0.14173228, 0.0511811 , 0.        , 0.03149606, 0.01181102,\n",
       "       0.        , 0.        , 0.        , 0.        , 0.        ,\n",
       "       0.        , 0.07086614, 0.09055118, 0.        , 0.        ,\n",
       "       0.        , 0.        , 0.        , 0.        , 0.        ,\n",
       "       0.        , 0.        , 0.        , 0.        , 0.        ,\n",
       "       0.        , 0.        , 0.        , 0.        , 0.        ,\n",
       "       0.        , 0.        , 0.        , 0.        , 0.        ,\n",
       "       0.        , 0.01181102, 0.75984252, 0.        , 0.        ,\n",
       "       0.        , 0.        , 0.        , 0.        , 0.        ,\n",
       "       0.        , 0.        , 0.01968504, 0.        , 0.        ,\n",
       "       0.        , 0.        , 0.        , 0.        , 0.        ,\n",
       "       0.        , 0.01968504, 0.5       , 0.8503937 , 0.        ,\n",
       "       0.03937008, 0.        , 0.        , 0.        , 0.        ,\n",
       "       0.        , 0.        , 0.        , 0.        , 0.        ,\n",
       "       0.        , 0.        , 0.        , 0.        , 0.        ,\n",
       "       0.33070866, 0.0511811 , 0.        , 0.11811024, 0.        ,\n",
       "       0.        , 0.        , 0.        , 0.        , 0.        ,\n",
       "       0.        , 0.        , 0.        , 0.        , 0.        ,\n",
       "       0.        , 0.        , 0.        , 0.01968504, 0.01181102,\n",
       "       0.        ])"
      ]
     },
     "execution_count": 212,
     "metadata": {},
     "output_type": "execute_result"
    }
   ],
   "source": [
    "mask_summer"
   ]
  },
  {
   "cell_type": "code",
   "execution_count": 205,
   "id": "dcb6d3a2",
   "metadata": {},
   "outputs": [
    {
     "data": {
      "text/plain": [
       "[0.0,\n",
       " 0.0,\n",
       " 0.0,\n",
       " 0.0,\n",
       " 0.0,\n",
       " 0.0,\n",
       " 0.0,\n",
       " 0.0,\n",
       " 0.0,\n",
       " 0.0,\n",
       " 0.0,\n",
       " 0.0,\n",
       " 0.0,\n",
       " 0.0,\n",
       " 0.0,\n",
       " 0.0,\n",
       " 0.0,\n",
       " 0.0,\n",
       " 0.0,\n",
       " 0.0,\n",
       " 0.0,\n",
       " 0.0,\n",
       " 0.0,\n",
       " 0.0,\n",
       " 0.0,\n",
       " 0.0,\n",
       " 0.0,\n",
       " 0.0,\n",
       " 0.0,\n",
       " 0.0,\n",
       " 0.0,\n",
       " 0.0,\n",
       " 0.0,\n",
       " 0.0,\n",
       " 0.0,\n",
       " 0.0,\n",
       " 0.0,\n",
       " 0.0,\n",
       " 0.0,\n",
       " 0.0,\n",
       " 0.0,\n",
       " 0.0,\n",
       " 0.0,\n",
       " 0.0,\n",
       " 0.0,\n",
       " 0.0,\n",
       " 0.0,\n",
       " 0.0,\n",
       " 0.0,\n",
       " 0.0,\n",
       " 0.0,\n",
       " 0.0,\n",
       " 0.0,\n",
       " 0.0,\n",
       " 0.0,\n",
       " 0.0,\n",
       " 0.0,\n",
       " 0.0,\n",
       " 0.0,\n",
       " 0.0,\n",
       " 0.0,\n",
       " 0.0,\n",
       " 0.0,\n",
       " 0.0,\n",
       " 0.0,\n",
       " 0.0,\n",
       " 0.0,\n",
       " 0.0,\n",
       " 0.0,\n",
       " 0.0,\n",
       " 0.0,\n",
       " 0.0,\n",
       " 0.0,\n",
       " 0.0,\n",
       " 0.0,\n",
       " 0.0,\n",
       " 0.0,\n",
       " 0.0,\n",
       " 0.0,\n",
       " 0.0,\n",
       " 0.0,\n",
       " 0.0,\n",
       " 0.0,\n",
       " 0.0,\n",
       " 0.0,\n",
       " 0.0,\n",
       " 0.0,\n",
       " 0.0,\n",
       " 0.0,\n",
       " 0.0,\n",
       " 0.0,\n",
       " 0.0,\n",
       " 0.0,\n",
       " 0.0,\n",
       " 0.0,\n",
       " 0.0,\n",
       " 0.0,\n",
       " 0.0,\n",
       " 0.0,\n",
       " 0.0,\n",
       " 0.0,\n",
       " 0.0,\n",
       " 0.0,\n",
       " 0.0,\n",
       " 0.0,\n",
       " 0.0,\n",
       " 0.0,\n",
       " 0.0,\n",
       " 0.0,\n",
       " 0.0,\n",
       " 0.0,\n",
       " 0.0,\n",
       " 0.0,\n",
       " 0.0,\n",
       " 0.0,\n",
       " 0.0,\n",
       " 0.0,\n",
       " 0.0,\n",
       " 0.0,\n",
       " 0.0,\n",
       " 0.0,\n",
       " 0.0,\n",
       " 0.0,\n",
       " 0.0,\n",
       " 0.0,\n",
       " 0.0,\n",
       " 0.0,\n",
       " 0.0,\n",
       " 0.0,\n",
       " 0.0,\n",
       " 0.0,\n",
       " 0.0,\n",
       " 0.0,\n",
       " 0.0,\n",
       " 0.0,\n",
       " 0.0,\n",
       " 0.0,\n",
       " 0.0,\n",
       " 0.0,\n",
       " 0.0,\n",
       " 0.0,\n",
       " 0.0,\n",
       " 0.0,\n",
       " 0.0,\n",
       " 0.0,\n",
       " 0.0,\n",
       " 0.0,\n",
       " 0.0,\n",
       " 0.0,\n",
       " 0.0,\n",
       " 0.0,\n",
       " 0.0,\n",
       " 0.0,\n",
       " 0.0,\n",
       " 0.0,\n",
       " 0.0,\n",
       " 0.0,\n",
       " 0.0,\n",
       " 0.0,\n",
       " 0.0,\n",
       " 0.0,\n",
       " 0.0,\n",
       " 0.0,\n",
       " 0.0,\n",
       " 0.0,\n",
       " 0.0,\n",
       " 0.0,\n",
       " 0.011811023622047244,\n",
       " 0.011811023622047244,\n",
       " 0.011811023622047244,\n",
       " 0.011811023622047244,\n",
       " 0.011811023622047244,\n",
       " 0.011811023622047244,\n",
       " 0.011811023622047244,\n",
       " 0.01968503937007874,\n",
       " 0.01968503937007874,\n",
       " 0.01968503937007874,\n",
       " 0.01968503937007874,\n",
       " 0.01968503937007874,\n",
       " 0.01968503937007874,\n",
       " 0.01968503937007874,\n",
       " 0.01968503937007874,\n",
       " 0.01968503937007874,\n",
       " 0.01968503937007874,\n",
       " 0.01968503937007874,\n",
       " 0.031496062992125984,\n",
       " 0.03937007874015748,\n",
       " 0.03937007874015748,\n",
       " 0.051181102362204724,\n",
       " 0.051181102362204724,\n",
       " 0.05905511811023622,\n",
       " 0.05905511811023622,\n",
       " 0.07086614173228346,\n",
       " 0.07086614173228346,\n",
       " 0.07086614173228346,\n",
       " 0.07874015748031496,\n",
       " 0.07874015748031496,\n",
       " 0.09055118110236221,\n",
       " 0.09055118110236221,\n",
       " 0.0984251968503937,\n",
       " 0.0984251968503937,\n",
       " 0.11023622047244094,\n",
       " 0.11811023622047244,\n",
       " 0.11811023622047244,\n",
       " 0.11811023622047244,\n",
       " 0.12992125984251968,\n",
       " 0.14173228346456693,\n",
       " 0.14173228346456693,\n",
       " 0.14960629921259844,\n",
       " 0.16141732283464566,\n",
       " 0.16141732283464566,\n",
       " 0.16929133858267717,\n",
       " 0.16929133858267717,\n",
       " 0.18110236220472442,\n",
       " 0.18110236220472442,\n",
       " 0.18110236220472442,\n",
       " 0.20078740157480315,\n",
       " 0.20078740157480315,\n",
       " 0.20078740157480315,\n",
       " 0.2204724409448819,\n",
       " 0.2283464566929134,\n",
       " 0.24015748031496062,\n",
       " 0.25196850393700787,\n",
       " 0.27165354330708663,\n",
       " 0.27165354330708663,\n",
       " 0.3188976377952756,\n",
       " 0.33070866141732286,\n",
       " 0.35039370078740156,\n",
       " 0.35039370078740156,\n",
       " 0.3700787401574803,\n",
       " 0.38188976377952755,\n",
       " 0.421259842519685,\n",
       " 0.42913385826771655,\n",
       " 0.46062992125984253,\n",
       " 0.48031496062992124,\n",
       " 0.4881889763779528,\n",
       " 0.5,\n",
       " 0.5118110236220472,\n",
       " 0.5393700787401575,\n",
       " 0.5393700787401575,\n",
       " 0.5511811023622047,\n",
       " 0.5590551181102362,\n",
       " 0.5708661417322834,\n",
       " 0.5984251968503937,\n",
       " 0.6299212598425197,\n",
       " 0.6496062992125984,\n",
       " 0.6692913385826772,\n",
       " 0.7204724409448819,\n",
       " 0.7283464566929134,\n",
       " 0.7401574803149606,\n",
       " 0.7519685039370079,\n",
       " 0.7598425196850394,\n",
       " 0.8385826771653543,\n",
       " 0.8503937007874016,\n",
       " 0.8503937007874016,\n",
       " 0.8700787401574803,\n",
       " 1.0393700787401574,\n",
       " 1.0905511811023623,\n",
       " 1.2716535433070866,\n",
       " 1.311023622047244,\n",
       " 1.8385826771653544]"
      ]
     },
     "execution_count": 205,
     "metadata": {},
     "output_type": "execute_result"
    }
   ],
   "source": [
    "sorted(mask_summer) # ascending sort"
   ]
  },
  {
   "cell_type": "code",
   "execution_count": 203,
   "id": "c5e0e53a",
   "metadata": {},
   "outputs": [],
   "source": [
    "mask_summer.sort()"
   ]
  },
  {
   "cell_type": "code",
   "execution_count": 213,
   "id": "e54d4325",
   "metadata": {},
   "outputs": [
    {
     "data": {
      "text/plain": [
       "array([0.16141732, 0.05905512, 0.        , 0.        , 0.01181102,\n",
       "       0.48031496, 0.38188976, 0.22834646, 0.16929134, 0.83858268,\n",
       "       0.05905512, 0.        , 0.        , 0.        , 0.        ,\n",
       "       0.        , 0.        , 0.        , 0.        , 0.        ,\n",
       "       0.01968504, 0.        , 0.        , 0.        , 0.        ,\n",
       "       0.        , 0.3503937 , 0.8503937 , 0.        , 0.09055118,\n",
       "       0.07874016, 0.        , 0.        , 0.        , 0.        ,\n",
       "       0.        , 0.        , 0.2007874 , 0.01968504, 0.72047244,\n",
       "       0.66929134, 0.18110236, 0.07086614, 0.37007874, 0.46062992,\n",
       "       1.03937008, 0.57086614, 0.5984252 , 0.03937008, 0.11811024,\n",
       "       0.11023622, 0.0984252 , 0.24015748, 0.51181102, 0.01181102,\n",
       "       0.        , 0.        , 0.        , 0.01968504, 0.7519685 ,\n",
       "       0.42125984, 0.6496063 , 1.83858268, 0.11811024, 0.        ,\n",
       "       1.27165354, 0.16929134, 0.74015748, 0.        , 0.        ,\n",
       "       0.01968504, 0.27165354, 0.31889764, 1.09055118, 0.01181102,\n",
       "       0.        , 0.01968504, 0.        , 0.        , 0.        ,\n",
       "       0.        , 0.        , 0.16141732, 0.14173228, 0.01181102,\n",
       "       0.87007874, 0.5511811 , 0.        , 0.        , 0.        ,\n",
       "       0.        , 0.0984252 , 0.        , 0.18110236, 0.        ,\n",
       "       0.        , 0.18110236, 0.        , 0.        , 0.        ,\n",
       "       0.        , 0.        , 0.        , 0.01968504, 0.42913386,\n",
       "       0.72834646, 0.        , 0.53937008, 0.        , 0.2007874 ,\n",
       "       0.55905512, 0.3503937 , 0.48818898, 0.        , 0.12992126,\n",
       "       0.27165354, 0.        , 0.        , 0.        , 0.        ,\n",
       "       0.        , 1.31102362, 0.62992126, 0.2007874 , 0.        ,\n",
       "       0.        , 0.53937008, 0.07874016, 0.01968504, 0.        ,\n",
       "       0.        , 0.        , 0.        , 0.        , 0.        ,\n",
       "       0.        , 0.        , 0.        , 0.        , 0.        ,\n",
       "       0.        , 0.1496063 , 0.        , 0.22047244, 0.        ,\n",
       "       0.        , 0.        , 0.        , 0.        , 0.        ,\n",
       "       0.        , 0.        , 0.        , 0.        , 0.        ,\n",
       "       0.        , 0.        , 0.        , 0.        , 0.        ,\n",
       "       0.        , 0.07086614, 0.2519685 , 0.        , 0.01968504,\n",
       "       0.14173228, 0.0511811 , 0.        , 0.03149606, 0.01181102,\n",
       "       0.        , 0.        , 0.        , 0.        , 0.        ,\n",
       "       0.        , 0.07086614, 0.09055118, 0.        , 0.        ,\n",
       "       0.        , 0.        , 0.        , 0.        , 0.        ,\n",
       "       0.        , 0.        , 0.        , 0.        , 0.        ,\n",
       "       0.        , 0.        , 0.        , 0.        , 0.        ,\n",
       "       0.        , 0.        , 0.        , 0.        , 0.        ,\n",
       "       0.        , 0.01181102, 0.75984252, 0.        , 0.        ,\n",
       "       0.        , 0.        , 0.        , 0.        , 0.        ,\n",
       "       0.        , 0.        , 0.01968504, 0.        , 0.        ,\n",
       "       0.        , 0.        , 0.        , 0.        , 0.        ,\n",
       "       0.        , 0.01968504, 0.5       , 0.8503937 , 0.        ,\n",
       "       0.03937008, 0.        , 0.        , 0.        , 0.        ,\n",
       "       0.        , 0.        , 0.        , 0.        , 0.        ,\n",
       "       0.        , 0.        , 0.        , 0.        , 0.        ,\n",
       "       0.33070866, 0.0511811 , 0.        , 0.11811024, 0.        ,\n",
       "       0.        , 0.        , 0.        , 0.        , 0.        ,\n",
       "       0.        , 0.        , 0.        , 0.        , 0.        ,\n",
       "       0.        , 0.        , 0.        , 0.01968504, 0.01181102,\n",
       "       0.        ])"
      ]
     },
     "execution_count": 213,
     "metadata": {},
     "output_type": "execute_result"
    }
   ],
   "source": [
    "mask_summer"
   ]
  },
  {
   "cell_type": "code",
   "execution_count": 234,
   "id": "4b39a68e",
   "metadata": {},
   "outputs": [],
   "source": [
    "# what is the maximum rainfall in non summer days?\n",
    "\n",
    "# euta tarika maile garya jun galat ho:\n",
    "# (np.arange(365) - 172 > 90 ) & (np.arange(365) < 0)\n",
    "# mask_non_summer = (np.arange(365) - 172 > 90 ) & (np.arange(365) < 0)\n",
    "# mask_non_summer\n",
    "\n",
    "# arko try hanya:\n",
    "\n",
    "# since inches[!mask_summer] work gardaina hamile condition bata aako boolean array lai ultyauna sak6aum by using ~\n",
    "# false lai true ra true lai false\n",
    "# teso garda condition satisfy garne lai False gar6 ani condition satisfy nagarne lai true gardin6\n",
    "# non_summer = ~summer\n",
    "\n",
    "summer = (np.arange(365)-172 < 90) & (np.arange(365)-72 > 0)\n",
    "non_summer = ~summer"
   ]
  },
  {
   "cell_type": "code",
   "execution_count": 237,
   "id": "ea6c8b34",
   "metadata": {},
   "outputs": [],
   "source": [
    "# inches[non_summer]\n",
    "mask_non_summer_days = inches[non_summer]\n",
    "\n"
   ]
  },
  {
   "cell_type": "code",
   "execution_count": 238,
   "id": "a976d8a0",
   "metadata": {},
   "outputs": [
    {
     "data": {
      "text/plain": [
       "1.8385826771653544"
      ]
     },
     "execution_count": 238,
     "metadata": {},
     "output_type": "execute_result"
    }
   ],
   "source": [
    "np.max(mask_non_summer_days)"
   ]
  },
  {
   "cell_type": "code",
   "execution_count": 244,
   "id": "719ef53a",
   "metadata": {},
   "outputs": [
    {
     "data": {
      "text/plain": [
       "array([2, 9, 7, 7, 7, 9])"
      ]
     },
     "execution_count": 244,
     "metadata": {},
     "output_type": "execute_result"
    }
   ],
   "source": [
    "np.random.seed(4)\n",
    "np.random.randint(10, size = (6,))\n",
    "x = np.random.randint(10, size = (6,))\n",
    "x"
   ]
  },
  {
   "cell_type": "markdown",
   "id": "b86e150e",
   "metadata": {},
   "source": [
    "##### Indexing and Fancy indexing"
   ]
  },
  {
   "cell_type": "code",
   "execution_count": 245,
   "id": "1cf1e069",
   "metadata": {},
   "outputs": [
    {
     "data": {
      "text/plain": [
       "(9, 7)"
      ]
     },
     "execution_count": 245,
     "metadata": {},
     "output_type": "execute_result"
    }
   ],
   "source": [
    "x[1], x[4] # gives result in a tuple"
   ]
  },
  {
   "cell_type": "code",
   "execution_count": 247,
   "id": "976aa8c3",
   "metadata": {},
   "outputs": [
    {
     "data": {
      "text/plain": [
       "[9, 9]"
      ]
     },
     "execution_count": 247,
     "metadata": {},
     "output_type": "execute_result"
    }
   ],
   "source": [
    "[x[1], x[5]] # gives result in a list"
   ]
  },
  {
   "cell_type": "code",
   "execution_count": 250,
   "id": "3d4808e3",
   "metadata": {},
   "outputs": [
    {
     "data": {
      "text/plain": [
       "array([9, 9])"
      ]
     },
     "execution_count": 250,
     "metadata": {},
     "output_type": "execute_result"
    }
   ],
   "source": [
    "# Fancy index : no available in simple python core list\n",
    "# index lai list ma halne ani tyo list of indices lai pass as a index\n",
    "x[[1,5]] # list of index passed as an index "
   ]
  },
  {
   "cell_type": "code",
   "execution_count": 254,
   "id": "0c1c341e",
   "metadata": {},
   "outputs": [
    {
     "data": {
      "text/plain": [
       "(4, 4)"
      ]
     },
     "execution_count": 254,
     "metadata": {},
     "output_type": "execute_result"
    }
   ],
   "source": [
    "y = [1,2,4,4] # yo python core ko simple list ho. ra yesma multiple elements access garna comma use hun6\n",
    "y[2], y[2] # yo garda tuple ma din6 result\n",
    "# y[[3, 1]] # yesma hunna kinavane x[1], x[3]... ko form ma dine ho. list nai pass garna mildaina"
   ]
  },
  {
   "cell_type": "code",
   "execution_count": 255,
   "id": "983a9058",
   "metadata": {},
   "outputs": [],
   "source": [
    "z = np.array([2,2,8,9,5])"
   ]
  },
  {
   "cell_type": "code",
   "execution_count": 256,
   "id": "1cee0aa6",
   "metadata": {},
   "outputs": [],
   "source": [
    "indices = np.array([3,4,2,1,2,4])"
   ]
  },
  {
   "cell_type": "code",
   "execution_count": 257,
   "id": "3a60b3d4",
   "metadata": {},
   "outputs": [
    {
     "data": {
      "text/plain": [
       "array([9, 5, 8, 2, 8, 5])"
      ]
     },
     "execution_count": 257,
     "metadata": {},
     "output_type": "execute_result"
    }
   ],
   "source": [
    "z[indices]"
   ]
  },
  {
   "cell_type": "code",
   "execution_count": 262,
   "id": "d8c31bd9",
   "metadata": {},
   "outputs": [
    {
     "data": {
      "text/plain": [
       "array([[9, 8],\n",
       "       [2, 8],\n",
       "       [2, 2]])"
      ]
     },
     "execution_count": 262,
     "metadata": {},
     "output_type": "execute_result"
    }
   ],
   "source": [
    "indices_2d = np.random.randint(0, 5, size = (3,2))\n",
    "indices_2d\n",
    "z[indices_2d]"
   ]
  },
  {
   "cell_type": "code",
   "execution_count": 282,
   "id": "4fde9d2f",
   "metadata": {},
   "outputs": [
    {
     "data": {
      "text/plain": [
       "array([[ 0,  1,  2,  3],\n",
       "       [ 4,  5,  6,  7],\n",
       "       [ 8,  9, 10, 11],\n",
       "       [12, 13, 14, 15]])"
      ]
     },
     "execution_count": 282,
     "metadata": {},
     "output_type": "execute_result"
    }
   ],
   "source": [
    "G = np.arange(16).reshape((4,4))\n",
    "G"
   ]
  },
  {
   "cell_type": "code",
   "execution_count": 283,
   "id": "87803110",
   "metadata": {},
   "outputs": [],
   "source": [
    "# row = np.array([2,3,1]) # row ra col duwai ko shape same cha so aba yo pass as index garepaxi result pani yei shape kai au6\n",
    "# col = np.array([0,1,2])\n",
    "\n",
    "row = np.array([2,1,3,2]) # yo duita pass garyo vane result chai yei shape kai au6\n",
    "col = np.array([1,0,2,3])"
   ]
  },
  {
   "cell_type": "code",
   "execution_count": 284,
   "id": "aa80b4d3",
   "metadata": {},
   "outputs": [
    {
     "data": {
      "text/plain": [
       "array([ 9,  4, 14, 11])"
      ]
     },
     "execution_count": 284,
     "metadata": {},
     "output_type": "execute_result"
    }
   ],
   "source": [
    "# row ra col ko shape (3,) vako le result pani (3,) nai hun6\n",
    "G[row,col] # ekchoti 2,0 pass gar6 ani 3,1 pass gar6 ani 1,2 pass gar6"
   ]
  },
  {
   "cell_type": "code",
   "execution_count": 285,
   "id": "bfbec938",
   "metadata": {},
   "outputs": [],
   "source": [
    "# converting a 1d array to a 2d array\n",
    "r = np.array([2,4,5])"
   ]
  },
  {
   "cell_type": "code",
   "execution_count": 286,
   "id": "1ab77294",
   "metadata": {},
   "outputs": [
    {
     "data": {
      "text/plain": [
       "array([2, 4, 5])"
      ]
     },
     "execution_count": 286,
     "metadata": {},
     "output_type": "execute_result"
    }
   ],
   "source": [
    "r[:]  # sabai elements show gar6"
   ]
  },
  {
   "cell_type": "code",
   "execution_count": 287,
   "id": "aa4c54d7",
   "metadata": {},
   "outputs": [
    {
     "data": {
      "text/plain": [
       "array([[2],\n",
       "       [4],\n",
       "       [5]])"
      ]
     },
     "execution_count": 287,
     "metadata": {},
     "output_type": "execute_result"
    }
   ],
   "source": [
    "r[:, np.newaxis]"
   ]
  },
  {
   "cell_type": "code",
   "execution_count": 289,
   "id": "c2c946de",
   "metadata": {},
   "outputs": [
    {
     "data": {
      "text/plain": [
       "array([ 8,  9, 10, 11])"
      ]
     },
     "execution_count": 289,
     "metadata": {},
     "output_type": "execute_result"
    }
   ],
   "source": [
    "# G[[:, np.axis], col]\n",
    "G[2]"
   ]
  },
  {
   "cell_type": "code",
   "execution_count": 290,
   "id": "a9f56a16",
   "metadata": {},
   "outputs": [
    {
     "data": {
      "text/plain": [
       "array([[ 0,  1,  2,  3],\n",
       "       [ 4,  5,  6,  7],\n",
       "       [ 8,  9, 10, 11],\n",
       "       [12, 13, 14, 15]])"
      ]
     },
     "execution_count": 290,
     "metadata": {},
     "output_type": "execute_result"
    }
   ],
   "source": [
    "G[:]"
   ]
  },
  {
   "cell_type": "code",
   "execution_count": 307,
   "id": "c3f7043b",
   "metadata": {},
   "outputs": [
    {
     "data": {
      "text/plain": [
       "array([[ 0,  1,  2,  3],\n",
       "       [ 4,  5,  6,  7],\n",
       "       [ 8,  9, 10, 11],\n",
       "       [12, 13, 14, 15]])"
      ]
     },
     "execution_count": 307,
     "metadata": {},
     "output_type": "execute_result"
    }
   ],
   "source": [
    "G[:,:]"
   ]
  },
  {
   "cell_type": "code",
   "execution_count": 291,
   "id": "6c76cf28",
   "metadata": {},
   "outputs": [
    {
     "data": {
      "text/plain": [
       "array([[ 4,  5,  6,  7],\n",
       "       [ 8,  9, 10, 11]])"
      ]
     },
     "execution_count": 291,
     "metadata": {},
     "output_type": "execute_result"
    }
   ],
   "source": [
    "G[[1,2]]"
   ]
  },
  {
   "cell_type": "code",
   "execution_count": 292,
   "id": "2a30183b",
   "metadata": {},
   "outputs": [
    {
     "data": {
      "text/plain": [
       "array([ 9, 12])"
      ]
     },
     "execution_count": 292,
     "metadata": {},
     "output_type": "execute_result"
    }
   ],
   "source": [
    "G[[2,3],[1,0]]"
   ]
  },
  {
   "cell_type": "code",
   "execution_count": 312,
   "id": "ebf77f11",
   "metadata": {},
   "outputs": [
    {
     "data": {
      "text/plain": [
       "array([ 6, 14])"
      ]
     },
     "execution_count": 312,
     "metadata": {},
     "output_type": "execute_result"
    }
   ],
   "source": [
    "G[[1,3],[2]] # duitai row index lai same column index din6"
   ]
  },
  {
   "cell_type": "code",
   "execution_count": 332,
   "id": "5d559cde",
   "metadata": {},
   "outputs": [
    {
     "data": {
      "text/plain": [
       "array([ 3,  7, 11])"
      ]
     },
     "execution_count": 332,
     "metadata": {},
     "output_type": "execute_result"
    }
   ],
   "source": [
    "# combining regular index and fancy index\n",
    "\n",
    "G[[0,1,2],2]"
   ]
  },
  {
   "cell_type": "code",
   "execution_count": 331,
   "id": "9acb675a",
   "metadata": {},
   "outputs": [
    {
     "data": {
      "text/plain": [
       "array([ 9, 10, 11])"
      ]
     },
     "execution_count": 331,
     "metadata": {},
     "output_type": "execute_result"
    }
   ],
   "source": [
    "G[2, [0,1,2]]"
   ]
  },
  {
   "cell_type": "code",
   "execution_count": 313,
   "id": "c952125b",
   "metadata": {},
   "outputs": [
    {
     "data": {
      "text/plain": [
       "array([12, 15])"
      ]
     },
     "execution_count": 313,
     "metadata": {},
     "output_type": "execute_result"
    }
   ],
   "source": [
    "G[[3],[0,3]] # duitai column index lai eutai row index din6"
   ]
  },
  {
   "cell_type": "code",
   "execution_count": 297,
   "id": "90686c8e",
   "metadata": {},
   "outputs": [
    {
     "data": {
      "text/plain": [
       "array([[ 0,  1,  2,  3],\n",
       "       [ 4,  5,  6,  7],\n",
       "       [ 8,  9, 10, 11],\n",
       "       [12, 13, 14, 15]])"
      ]
     },
     "execution_count": 297,
     "metadata": {},
     "output_type": "execute_result"
    }
   ],
   "source": [
    "G[:,:]"
   ]
  },
  {
   "cell_type": "code",
   "execution_count": 300,
   "id": "591e84ef",
   "metadata": {},
   "outputs": [
    {
     "data": {
      "text/plain": [
       "array([ 9,  4, 14, 11])"
      ]
     },
     "execution_count": 300,
     "metadata": {},
     "output_type": "execute_result"
    }
   ],
   "source": [
    "G[row, col] # row ra col bith are of shape (4,)"
   ]
  },
  {
   "cell_type": "code",
   "execution_count": 305,
   "id": "b7690bcc",
   "metadata": {},
   "outputs": [
    {
     "data": {
      "text/plain": [
       "array([ 9,  4, 14, 11])"
      ]
     },
     "execution_count": 305,
     "metadata": {},
     "output_type": "execute_result"
    }
   ],
   "source": [
    "G[row[:], col[:]]"
   ]
  },
  {
   "cell_type": "code",
   "execution_count": 306,
   "id": "abb306c1",
   "metadata": {},
   "outputs": [
    {
     "data": {
      "text/plain": [
       "array([[ 9,  8, 10, 11],\n",
       "       [ 5,  4,  6,  7],\n",
       "       [13, 12, 14, 15],\n",
       "       [ 9,  8, 10, 11]])"
      ]
     },
     "execution_count": 306,
     "metadata": {},
     "output_type": "execute_result"
    }
   ],
   "source": [
    "G[row[:, np.newaxis], col[:]] # row lai column matrix ma lag6 ani row ra col duwai lai broadcasting garera result din6"
   ]
  },
  {
   "cell_type": "code",
   "execution_count": 4,
   "id": "c334fe48",
   "metadata": {},
   "outputs": [
    {
     "data": {
      "text/plain": [
       "array([[ 1,  2,  3,  4],\n",
       "       [ 5,  6,  7,  8],\n",
       "       [ 9, 10, 11, 12],\n",
       "       [13, 14, 15, 16]])"
      ]
     },
     "execution_count": 4,
     "metadata": {},
     "output_type": "execute_result"
    }
   ],
   "source": [
    "G = np.array([[ 1,  2,  3, 4],\n",
    "       [ 5,  6,  7, 8],\n",
    "       [ 9, 10, 11, 12],\n",
    "       [13, 14, 15, 16]])\n",
    "G"
   ]
  },
  {
   "cell_type": "code",
   "execution_count": 15,
   "id": "2c8f8edc",
   "metadata": {},
   "outputs": [],
   "source": [
    "row = np.array([2,3,0,1])\n",
    "col = np.array([2,0,1,3])"
   ]
  },
  {
   "cell_type": "code",
   "execution_count": 326,
   "id": "2762cc64",
   "metadata": {},
   "outputs": [
    {
     "data": {
      "text/plain": [
       "array([11, 13,  2,  8])"
      ]
     },
     "execution_count": 326,
     "metadata": {},
     "output_type": "execute_result"
    }
   ],
   "source": [
    "G[row, col]"
   ]
  },
  {
   "cell_type": "code",
   "execution_count": 327,
   "id": "dd0138f0",
   "metadata": {},
   "outputs": [
    {
     "data": {
      "text/plain": [
       "array([[11,  9, 10, 12],\n",
       "       [15, 13, 14, 16],\n",
       "       [ 3,  1,  2,  4],\n",
       "       [ 7,  5,  6,  8]])"
      ]
     },
     "execution_count": 327,
     "metadata": {},
     "output_type": "execute_result"
    }
   ],
   "source": [
    "G[row[:, np.newaxis],col]"
   ]
  },
  {
   "cell_type": "markdown",
   "id": "bd21cb80",
   "metadata": {},
   "source": [
    "##### combining regular indexing and fancy indexing"
   ]
  },
  {
   "cell_type": "code",
   "execution_count": 333,
   "id": "62958064",
   "metadata": {},
   "outputs": [
    {
     "data": {
      "text/plain": [
       "array([[ 1,  2,  3,  4],\n",
       "       [ 5,  6,  7,  8],\n",
       "       [ 9, 10, 11, 12],\n",
       "       [13, 14, 15, 16]])"
      ]
     },
     "execution_count": 333,
     "metadata": {},
     "output_type": "execute_result"
    }
   ],
   "source": [
    "G"
   ]
  },
  {
   "cell_type": "code",
   "execution_count": 328,
   "id": "9942f6fb",
   "metadata": {},
   "outputs": [
    {
     "data": {
      "text/plain": [
       "12"
      ]
     },
     "execution_count": 328,
     "metadata": {},
     "output_type": "execute_result"
    }
   ],
   "source": [
    " G[2, 3] # regular indexing"
   ]
  },
  {
   "cell_type": "code",
   "execution_count": 329,
   "id": "e70453ec",
   "metadata": {},
   "outputs": [
    {
     "data": {
      "text/plain": [
       "array([10, 11, 12])"
      ]
     },
     "execution_count": 329,
     "metadata": {},
     "output_type": "execute_result"
    }
   ],
   "source": [
    "G[2, [1, 2, 3]] # in order"
   ]
  },
  {
   "cell_type": "code",
   "execution_count": 334,
   "id": "47ef3421",
   "metadata": {},
   "outputs": [
    {
     "data": {
      "text/plain": [
       "array([8, 6, 7])"
      ]
     },
     "execution_count": 334,
     "metadata": {},
     "output_type": "execute_result"
    }
   ],
   "source": [
    "G[1, [3, 1, 2]] # different order"
   ]
  },
  {
   "cell_type": "code",
   "execution_count": 335,
   "id": "9a5f3a7c",
   "metadata": {},
   "outputs": [
    {
     "data": {
      "text/plain": [
       "array([ 3,  7, 11, 15])"
      ]
     },
     "execution_count": 335,
     "metadata": {},
     "output_type": "execute_result"
    }
   ],
   "source": [
    "# get a whole column as a 1d array\n",
    "# to get a 1d array as result ki ta euta column result ma nikalnuparyo\n",
    "G[[0,1,2,3], 2] # get all the elements in the 2nd indexed column"
   ]
  },
  {
   "cell_type": "code",
   "execution_count": 336,
   "id": "290b2288",
   "metadata": {},
   "outputs": [
    {
     "data": {
      "text/plain": [
       "array([5, 6, 7, 8])"
      ]
     },
     "execution_count": 336,
     "metadata": {},
     "output_type": "execute_result"
    }
   ],
   "source": [
    "# get a whole row as a 1d array\n",
    "# to get a 1d array as result ki ta euta row result ma nikalnuparyo\n",
    "G[1, [0, 1, 2, 3]] # get all the elements in the 1st index row"
   ]
  },
  {
   "cell_type": "code",
   "execution_count": 338,
   "id": "43f7a1a5",
   "metadata": {},
   "outputs": [
    {
     "data": {
      "text/plain": [
       "array([[ 8,  5,  6],\n",
       "       [12,  9, 10],\n",
       "       [16, 13, 14]])"
      ]
     },
     "execution_count": 338,
     "metadata": {},
     "output_type": "execute_result"
    }
   ],
   "source": [
    "# to get a 2d array with rows and columns as a result we need to give multiple rows and multiple columns\n",
    "# to get 2x3 as result we need to give 2 rows and 3 columns\n",
    "# to get 3x4 as result we need to give 3 rows and 4 columns\n",
    "G[1: , [3, 0, 1]] "
   ]
  },
  {
   "cell_type": "markdown",
   "id": "e25214a7",
   "metadata": {},
   "source": [
    "##### combining fancy indexing and masking"
   ]
  },
  {
   "cell_type": "code",
   "execution_count": 363,
   "id": "579ed067",
   "metadata": {},
   "outputs": [],
   "source": [
    "# bool datatype dida non zero elements lai True din6 ra zero elements lai false din6\n",
    "np.array([1,2,3,0], dtype = bool) \n",
    "np.array([1,0,1,0], dtype = bool)\n"
   ]
  },
  {
   "cell_type": "code",
   "execution_count": 364,
   "id": "215dd6a9",
   "metadata": {},
   "outputs": [
    {
     "data": {
      "text/plain": [
       "array([ True, False,  True,  True])"
      ]
     },
     "execution_count": 364,
     "metadata": {},
     "output_type": "execute_result"
    }
   ],
   "source": [
    "mask = np.array([1,0,3,4], dtype = bool)\n",
    "mask"
   ]
  },
  {
   "cell_type": "code",
   "execution_count": 366,
   "id": "be5242bf",
   "metadata": {},
   "outputs": [
    {
     "data": {
      "text/plain": [
       "array([[0],\n",
       "       [1],\n",
       "       [2],\n",
       "       [3]])"
      ]
     },
     "execution_count": 366,
     "metadata": {},
     "output_type": "execute_result"
    }
   ],
   "source": [
    "row = np.array([0,1,2,3])\n",
    "row[:, np.newaxis]\n",
    "# mask le True vako index haru matrai return gar6, so yeha 1 jun jun ma chan, ie. index 0 and index 2\n",
    "# G[row[:, np.newaxis], mask] "
   ]
  },
  {
   "cell_type": "code",
   "execution_count": 355,
   "id": "91d1efb6",
   "metadata": {},
   "outputs": [
    {
     "data": {
      "text/plain": [
       "array([[109, 111, 112],\n",
       "       [113, 115, 116],\n",
       "       [101, 103, 104],\n",
       "       [105, 107, 108]])"
      ]
     },
     "execution_count": 355,
     "metadata": {},
     "output_type": "execute_result"
    }
   ],
   "source": [
    "G[row[:, np.newaxis], mask] + 100 # ufunc operation "
   ]
  },
  {
   "cell_type": "code",
   "execution_count": 358,
   "id": "fb89000e",
   "metadata": {},
   "outputs": [
    {
     "data": {
      "text/plain": [
       "array([[0],\n",
       "       [1],\n",
       "       [2],\n",
       "       [3]])"
      ]
     },
     "execution_count": 358,
     "metadata": {},
     "output_type": "execute_result"
    }
   ],
   "source": [
    "np.arange(4).reshape(4,1)"
   ]
  },
  {
   "cell_type": "code",
   "execution_count": 368,
   "id": "c7dc57f3",
   "metadata": {},
   "outputs": [
    {
     "data": {
      "text/plain": [
       "array([ True, False,  True, False])"
      ]
     },
     "execution_count": 368,
     "metadata": {},
     "output_type": "execute_result"
    }
   ],
   "source": [
    "mask = np.array([1,0,1,0], dtype = bool)\n",
    "mask"
   ]
  },
  {
   "cell_type": "code",
   "execution_count": 375,
   "id": "7796765b",
   "metadata": {},
   "outputs": [
    {
     "data": {
      "text/plain": [
       "array([[9, 5, 8],\n",
       "       [6, 7, 0]])"
      ]
     },
     "execution_count": 375,
     "metadata": {},
     "output_type": "execute_result"
    }
   ],
   "source": [
    "np.random.RandomState(42)\n",
    "np.random.randint(10, size = (2,3))"
   ]
  },
  {
   "cell_type": "code",
   "execution_count": 5,
   "id": "aa0cb146",
   "metadata": {},
   "outputs": [
    {
     "data": {
      "text/plain": [
       "(4, 4)"
      ]
     },
     "execution_count": 5,
     "metadata": {},
     "output_type": "execute_result"
    }
   ],
   "source": [
    "G.shape"
   ]
  },
  {
   "cell_type": "code",
   "execution_count": 6,
   "id": "4a35b929",
   "metadata": {},
   "outputs": [
    {
     "data": {
      "text/plain": [
       "4"
      ]
     },
     "execution_count": 6,
     "metadata": {},
     "output_type": "execute_result"
    }
   ],
   "source": [
    "G.shape[0]"
   ]
  },
  {
   "cell_type": "code",
   "execution_count": 7,
   "id": "59b0377c",
   "metadata": {},
   "outputs": [
    {
     "data": {
      "text/plain": [
       "4"
      ]
     },
     "execution_count": 7,
     "metadata": {},
     "output_type": "execute_result"
    }
   ],
   "source": [
    "G.shape[1]"
   ]
  },
  {
   "cell_type": "code",
   "execution_count": 19,
   "id": "a63858b5",
   "metadata": {},
   "outputs": [
    {
     "data": {
      "text/plain": [
       "array([[11,  9, 10, 12],\n",
       "       [15, 13, 14, 16],\n",
       "       [ 3,  1,  2,  4],\n",
       "       [ 7,  5,  6,  8]])"
      ]
     },
     "execution_count": 19,
     "metadata": {},
     "output_type": "execute_result"
    }
   ],
   "source": [
    "G[row[:, np.newaxis],col]"
   ]
  },
  {
   "cell_type": "code",
   "execution_count": 22,
   "id": "15861181",
   "metadata": {},
   "outputs": [
    {
     "data": {
      "text/plain": [
       "array([ True, False,  True, False])"
      ]
     },
     "execution_count": 22,
     "metadata": {},
     "output_type": "execute_result"
    }
   ],
   "source": [
    "mask = np.array([1,0,1,0], dtype = bool)\n",
    "mask"
   ]
  },
  {
   "cell_type": "code",
   "execution_count": 24,
   "id": "7e2ab897",
   "metadata": {},
   "outputs": [
    {
     "data": {
      "text/plain": [
       "array([[ 9, 11],\n",
       "       [13, 15],\n",
       "       [ 1,  3],\n",
       "       [ 5,  7]])"
      ]
     },
     "execution_count": 24,
     "metadata": {},
     "output_type": "execute_result"
    }
   ],
   "source": [
    "G[row[:, np.newaxis], mask]"
   ]
  },
  {
   "cell_type": "markdown",
   "id": "a67dcd38",
   "metadata": {},
   "source": [
    "##### getting Samples using fancy indexing"
   ]
  },
  {
   "cell_type": "code",
   "execution_count": 89,
   "id": "6c84f7dd",
   "metadata": {},
   "outputs": [
    {
     "name": "stderr",
     "output_type": "stream",
     "text": [
      "C:\\Users\\BJ\\AppData\\Local\\Temp/ipykernel_7996/234838569.py:8: RuntimeWarning: covariance is not positive-semidefinite.\n",
      "  X = np.random.multivariate_normal(mean, cov, 100)\n"
     ]
    },
    {
     "data": {
      "text/plain": [
       "(100, 2)"
      ]
     },
     "execution_count": 89,
     "metadata": {},
     "output_type": "execute_result"
    }
   ],
   "source": [
    "np.random.seed(47)\n",
    "\n",
    "mean  = [0,0]\n",
    "\n",
    "cov = [[1, -3],\n",
    "       [-3, 5]]\n",
    "\n",
    "X = np.random.multivariate_normal(mean, cov, 100)\n",
    "X\n",
    "X.shape"
   ]
  },
  {
   "cell_type": "code",
   "execution_count": 90,
   "id": "fcace2e1",
   "metadata": {},
   "outputs": [
    {
     "data": {
      "text/plain": [
       "-1.3416407864998738"
      ]
     },
     "execution_count": 90,
     "metadata": {},
     "output_type": "execute_result"
    }
   ],
   "source": [
    "-3 / np.sqrt(5) # cov coeff nikaleko\n",
    "# -ve ko matlab vaneko -ve slope ho covariance coeff ko\n",
    "# 0 to 1 vitra pardaina value so yeslai change garnupar6\n",
    "# -2 ko satta -3 rakhyo vane "
   ]
  },
  {
   "cell_type": "code",
   "execution_count": 91,
   "id": "ef3a052e",
   "metadata": {},
   "outputs": [
    {
     "data": {
      "text/plain": [
       "-0.8944271909999159"
      ]
     },
     "execution_count": 91,
     "metadata": {},
     "output_type": "execute_result"
    }
   ],
   "source": [
    "-2 / np.sqrt(5) "
   ]
  },
  {
   "cell_type": "code",
   "execution_count": 92,
   "id": "53442fd1",
   "metadata": {},
   "outputs": [],
   "source": [
    "# balla 0 to 1 ko bichma vayo, jun vaneko strong ho covariance.\n",
    "# so mathi ko cov matrix ma covariance -2 raakhyo vane matrai strong covariance matrix au6"
   ]
  },
  {
   "cell_type": "code",
   "execution_count": 93,
   "id": "467a77c8",
   "metadata": {},
   "outputs": [
    {
     "data": {
      "image/png": "[encoded data removed]",
      "text/plain": [
       "<Figure size 432x288 with 1 Axes>"
      ]
     },
     "metadata": {},
     "output_type": "display_data"
    }
   ],
   "source": [
    "# aba purai X populationlai scatter plot garda\n",
    "\n",
    "sns.set();\n",
    "plt.scatter(X[:, 0], X[:, 1]);"
   ]
  },
  {
   "cell_type": "code",
   "execution_count": 105,
   "id": "2f5922d3",
   "metadata": {},
   "outputs": [],
   "source": [
    "# Taking samples from population\n",
    "\n",
    "indices = np.random.choice(X.shape[0], 20, replace = False) # 100 rows bata 20 matrai liyo"
   ]
  },
  {
   "cell_type": "code",
   "execution_count": 106,
   "id": "585f68c7",
   "metadata": {},
   "outputs": [
    {
     "data": {
      "text/plain": [
       "array([16, 85, 20, 12,  7, 75, 99, 40, 94, 11, 80, 29, 79,  4,  5, 46, 36,\n",
       "       39, 48, 95])"
      ]
     },
     "execution_count": 106,
     "metadata": {},
     "output_type": "execute_result"
    }
   ],
   "source": [
    "indices # 20 rows kun kun hun "
   ]
  },
  {
   "cell_type": "code",
   "execution_count": 107,
   "id": "583eb014",
   "metadata": {},
   "outputs": [
    {
     "data": {
      "text/plain": [
       "array([[ 1.07886712, -0.33727556],\n",
       "       [-0.17441111, -0.61643746],\n",
       "       [ 0.38539298,  1.14509294],\n",
       "       [ 0.42328364, -2.28743876],\n",
       "       [-1.07490382,  0.69745851],\n",
       "       [-1.85294028,  3.54657598],\n",
       "       [ 0.56571811, -0.34588376],\n",
       "       [-1.07334171,  0.55877351],\n",
       "       [-0.25919527, -1.62854716],\n",
       "       [-0.69310733,  1.0173162 ],\n",
       "       [-0.58496367,  1.02957502],\n",
       "       [-0.71243435,  0.83355365],\n",
       "       [-0.20686516,  1.32719312],\n",
       "       [ 0.76382336, -0.45013505],\n",
       "       [ 0.93264976, -3.5636469 ],\n",
       "       [ 0.73215485, -1.0833057 ],\n",
       "       [-1.00986497, -1.72754653],\n",
       "       [-0.69953341, -0.59569181],\n",
       "       [-1.7611047 ,  1.93753613],\n",
       "       [ 0.03107339,  1.10891178]])"
      ]
     },
     "execution_count": 107,
     "metadata": {},
     "output_type": "execute_result"
    }
   ],
   "source": [
    "X[indices] # tyo 20 wata rows ko sabai columns dekhau6"
   ]
  },
  {
   "cell_type": "code",
   "execution_count": 108,
   "id": "2d06855e",
   "metadata": {},
   "outputs": [
    {
     "data": {
      "text/plain": [
       "array([[ 1.07886712, -0.33727556],\n",
       "       [-0.17441111, -0.61643746],\n",
       "       [ 0.38539298,  1.14509294],\n",
       "       [ 0.42328364, -2.28743876],\n",
       "       [-1.07490382,  0.69745851],\n",
       "       [-1.85294028,  3.54657598],\n",
       "       [ 0.56571811, -0.34588376],\n",
       "       [-1.07334171,  0.55877351],\n",
       "       [-0.25919527, -1.62854716],\n",
       "       [-0.69310733,  1.0173162 ],\n",
       "       [-0.58496367,  1.02957502],\n",
       "       [-0.71243435,  0.83355365],\n",
       "       [-0.20686516,  1.32719312],\n",
       "       [ 0.76382336, -0.45013505],\n",
       "       [ 0.93264976, -3.5636469 ],\n",
       "       [ 0.73215485, -1.0833057 ],\n",
       "       [-1.00986497, -1.72754653],\n",
       "       [-0.69953341, -0.59569181],\n",
       "       [-1.7611047 ,  1.93753613],\n",
       "       [ 0.03107339,  1.10891178]])"
      ]
     },
     "execution_count": 108,
     "metadata": {},
     "output_type": "execute_result"
    }
   ],
   "source": [
    "samples = X[indices]\n",
    "samples"
   ]
  },
  {
   "cell_type": "code",
   "execution_count": 109,
   "id": "7737d814",
   "metadata": {},
   "outputs": [],
   "source": [
    "# lets see which points are taken as samples by overplotting large circles at the locations of the selected points"
   ]
  },
  {
   "cell_type": "markdown",
   "id": "bec52acb",
   "metadata": {},
   "source": []
  },
  {
   "cell_type": "code",
   "execution_count": 112,
   "id": "82930a84",
   "metadata": {},
   "outputs": [
    {
     "data": {
      "text/plain": [
       "<matplotlib.collections.PathCollection at 0x17e143cf3d0>"
      ]
     },
     "execution_count": 112,
     "metadata": {},
     "output_type": "execute_result"
    },
    {
     "data": {
      "image/png": "[encoded data removed]",
      "text/plain": [
       "<Figure size 432x288 with 1 Axes>"
      ]
     },
     "metadata": {},
     "output_type": "display_data"
    }
   ],
   "source": [
    "# aba leko samples ko plot garne\n",
    "plt.scatter(X[:, 0], X[:, 1], alpha = 0.3);\n",
    "# plt.scatter(samples[:, 0], samples[:, 1], s=200); # thulo size ma dekhau6 samples overplot ma\n",
    "plt.scatter(samples[:, 0], samples[:, 1], color = 'red')"
   ]
  },
  {
   "cell_type": "markdown",
   "id": "aa6c3fe2",
   "metadata": {},
   "source": [
    "##### modifying the values with fancy indexing"
   ]
  },
  {
   "cell_type": "code",
   "execution_count": 144,
   "id": "b699ec11",
   "metadata": {},
   "outputs": [
    {
     "name": "stdout",
     "output_type": "stream",
     "text": [
      "[35 69 11 78 29 18 29 89 29 20 96 62  5 20 51 19 85 21 63 72 42 84 72 77\n",
      " 36  2 37 98 58 42 75 34 58 62 38 88 66 70 42 96 43 85 31 84 89 62 84 90\n",
      " 57 77 44 19 93 38 23  9 13 70  8 94 36 93 48 13  1  5 90 73 99 37  0 48\n",
      " 44 91 98 35 20 17 70 35 38 21 17 61 11  6 59 77 29 63 17 95  0 85 43 44\n",
      " 94 49 38 23]\n"
     ]
    }
   ],
   "source": [
    "x = np.random.randint(0, 100, 100)\n",
    "x\n",
    "print(x)"
   ]
  },
  {
   "cell_type": "code",
   "execution_count": 145,
   "id": "07d483a3",
   "metadata": {},
   "outputs": [
    {
     "data": {
      "text/plain": [
       "array([78, 35, 11, 89, 29])"
      ]
     },
     "execution_count": 145,
     "metadata": {},
     "output_type": "execute_result"
    }
   ],
   "source": [
    "i = np.array([3, 0, 2, 7, 6])\n",
    "x[i]"
   ]
  },
  {
   "cell_type": "code",
   "execution_count": 146,
   "id": "28f5e34b",
   "metadata": {},
   "outputs": [
    {
     "data": {
      "text/plain": [
       "array([77, 34, 10, 88, 28])"
      ]
     },
     "execution_count": 146,
     "metadata": {},
     "output_type": "execute_result"
    }
   ],
   "source": [
    "x[i]-1"
   ]
  },
  {
   "cell_type": "code",
   "execution_count": 164,
   "id": "2b86ade9",
   "metadata": {},
   "outputs": [
    {
     "data": {
      "text/plain": [
       "array([33, 85, 68, 35, 69, 11, 78, 29, 18, 29, 89, 29, 20, 96, 62,  5, 20,\n",
       "       51, 19, 85, 21, 63, 72, 42, 84, 72, 77, 36,  2, 37, 98, 58, 42, 75,\n",
       "       34, 58, 62, 38, 88, 66, 70, 42, 96, 43, 85, 31, 84, 89, 62, 84, 90,\n",
       "       57, 77, 44, 19, 93, 38, 23,  9, 13, 70,  8, 94, 36, 93, 48, 13,  1,\n",
       "        5, 90, 73, 99, 37,  0, 48, 44, 91, 98, 35, 20, 17, 70, 35, 38, 21,\n",
       "       17, 61, 11,  6, 59])"
      ]
     },
     "execution_count": 164,
     "metadata": {},
     "output_type": "execute_result"
    }
   ],
   "source": [
    "np.random.seed(34)\n",
    "f = np.random.randint(0, 100, 90)\n",
    "f"
   ]
  },
  {
   "cell_type": "code",
   "execution_count": 160,
   "id": "14560950",
   "metadata": {},
   "outputs": [
    {
     "data": {
      "text/plain": [
       "array([107, 107, 107,  88,  37,  62,  70,  42,  63,  42,  63,  42,  42,\n",
       "        94,  48,  18,  42,  19,  72, 107,  84,  13,  44,  31,  11,  44,\n",
       "        17,  66,  11,  70,  38,   8,  31,  35,  38,   8,  48,  42,  29,\n",
       "        90,   0,  31,  94,  84, 107,  34,  11,  63,  48,  11,  17,  70,\n",
       "        17,  89,  72,  85,  42,  77,  20,  20,   0,  29,  43,  66,  85,\n",
       "        57,  20,  69,  18,  17,  91,  23,  70,  35,  57,  89,  95,  38,\n",
       "        88,  42,  21,   0,  88,  42,  84,  21,  93,  62,  29,  94,  17,\n",
       "        42,  13,  21,  44,  35, 107,  84,  89,  43])"
      ]
     },
     "execution_count": 160,
     "metadata": {},
     "output_type": "execute_result"
    }
   ],
   "source": [
    "x[f]"
   ]
  },
  {
   "cell_type": "code",
   "execution_count": 161,
   "id": "49bfc4f6",
   "metadata": {},
   "outputs": [],
   "source": [
    "x[f] += 30"
   ]
  },
  {
   "cell_type": "code",
   "execution_count": 162,
   "id": "dd18e186",
   "metadata": {},
   "outputs": [
    {
     "data": {
      "text/plain": [
       "array([ 65,  99,  41,  78,  29,  48,  59,  89,  59,  50,  96,  92,   5,\n",
       "        50,  51,  19,  85,  51,  93, 102,  72, 114,  72, 107,  36,   2,\n",
       "        37,  98,  58,  72,  75,  64,  58, 137,  68, 118,  96, 100,  72,\n",
       "        96,  43,  85,  61, 114, 119,  62,  84,  90,  87,  77,  44,  49,\n",
       "        93,  38,  23,   9,  13, 100,  38, 124,  36, 123,  78,  43,   1,\n",
       "         5, 120,  73, 137,  67,  30,  48,  74, 121,  98,  65,  20,  47,\n",
       "       100,  35,  38,  21,  17,  61,  41, 137,  59,  77,  59,  93,  47,\n",
       "       125,   0, 115,  73,  74, 124,  49,  68,  53])"
      ]
     },
     "execution_count": 162,
     "metadata": {},
     "output_type": "execute_result"
    }
   ],
   "source": [
    "x"
   ]
  },
  {
   "cell_type": "code",
   "execution_count": 150,
   "id": "11e77ad7",
   "metadata": {},
   "outputs": [],
   "source": [
    "x[f] -= 10"
   ]
  },
  {
   "cell_type": "code",
   "execution_count": 151,
   "id": "dc509680",
   "metadata": {},
   "outputs": [
    {
     "data": {
      "text/plain": [
       "array([52, -4, 89])"
      ]
     },
     "execution_count": 151,
     "metadata": {},
     "output_type": "execute_result"
    }
   ],
   "source": [
    "x[f]"
   ]
  },
  {
   "cell_type": "code",
   "execution_count": 153,
   "id": "0d61f99a",
   "metadata": {},
   "outputs": [
    {
     "name": "stdout",
     "output_type": "stream",
     "text": [
      "[35 69 11 78 29 18 29 89 29 20 96 62  5 20 51 19 85 21 63 72 42 84 72 77\n",
      " 36  2 37 98 58 42 75 34 58 52 38 88 66 70 42 96 43 85 31 84 89 62 84 90\n",
      " 57 77 44 19 93 38 23  9 13 70  8 94 36 93 48 13  1  5 90 73 89 37  0 48\n",
      " 44 91 98 35 20 17 70 35 38 21 17 61 11 -4 59 77 29 63 17 95  0 85 43 44\n",
      " 94 49 38 23]\n"
     ]
    }
   ],
   "source": [
    "print(x)"
   ]
  },
  {
   "cell_type": "code",
   "execution_count": 155,
   "id": "f7abdbe3",
   "metadata": {},
   "outputs": [
    {
     "data": {
      "text/plain": [
       "array([35, 69, 11, 78, 29, 18, 29, 89, 29, 20, 96, 62,  5, 20, 51, 19, 85,\n",
       "       21, 63, 72, 42, 84, 72, 77, 36,  2, 37, 98, 58, 42, 75, 34, 58, 77,\n",
       "       38, 88, 66, 70, 42, 96, 43, 85, 31, 84, 89, 62, 84, 90, 57, 77, 44,\n",
       "       19, 93, 38, 23,  9, 13, 70,  8, 94, 36, 93, 48, 13,  1,  5, 90, 73,\n",
       "       77, 37,  0, 48, 44, 91, 98, 35, 20, 17, 70, 35, 38, 21, 17, 61, 11,\n",
       "       77, 59, 77, 29, 63, 17, 95,  0, 85, 43, 44, 94, 49, 38, 23])"
      ]
     },
     "execution_count": 155,
     "metadata": {},
     "output_type": "execute_result"
    }
   ],
   "source": [
    "x[f] = 77\n",
    "x"
   ]
  },
  {
   "cell_type": "code",
   "execution_count": 173,
   "id": "bfd4235b",
   "metadata": {},
   "outputs": [
    {
     "data": {
      "text/plain": [
       "array([22, 23, 24, 25, 26, 27, 28, 29, 30, 31])"
      ]
     },
     "execution_count": 173,
     "metadata": {},
     "output_type": "execute_result"
    }
   ],
   "source": [
    "X = np.array([22,23,24,25,26,27,28,29,30,31])\n",
    "X"
   ]
  },
  {
   "cell_type": "code",
   "execution_count": 166,
   "id": "390c17f4",
   "metadata": {},
   "outputs": [],
   "source": [
    "f = np.array([2,7,4,9])"
   ]
  },
  {
   "cell_type": "code",
   "execution_count": 167,
   "id": "1622c927",
   "metadata": {},
   "outputs": [
    {
     "data": {
      "text/plain": [
       "array([24, 29, 26, 31])"
      ]
     },
     "execution_count": 167,
     "metadata": {},
     "output_type": "execute_result"
    }
   ],
   "source": [
    "X[f] # gives values of the fancy indexes"
   ]
  },
  {
   "cell_type": "code",
   "execution_count": 170,
   "id": "f39c5bb6",
   "metadata": {},
   "outputs": [],
   "source": [
    "X[f] += 1 # updates the indixes values"
   ]
  },
  {
   "cell_type": "code",
   "execution_count": 169,
   "id": "2a08dff9",
   "metadata": {},
   "outputs": [
    {
     "data": {
      "text/plain": [
       "array([25, 30, 27, 32])"
      ]
     },
     "execution_count": 169,
     "metadata": {},
     "output_type": "execute_result"
    }
   ],
   "source": [
    "X[f]"
   ]
  },
  {
   "cell_type": "code",
   "execution_count": 171,
   "id": "6c3851e6",
   "metadata": {},
   "outputs": [
    {
     "data": {
      "text/plain": [
       "array([22, 23, 26, 25, 28, 27, 28, 31, 30, 33])"
      ]
     },
     "execution_count": 171,
     "metadata": {},
     "output_type": "execute_result"
    }
   ],
   "source": [
    "X # now since the indexes values are updated the array is updated"
   ]
  },
  {
   "cell_type": "code",
   "execution_count": 175,
   "id": "a907dff0",
   "metadata": {},
   "outputs": [
    {
     "data": {
      "text/plain": [
       "array([22, 23, 24, 25, 26, 27, 28, 29, 20, 30, 31])"
      ]
     },
     "execution_count": 175,
     "metadata": {},
     "output_type": "execute_result"
    }
   ],
   "source": [
    "X = np.array([22,23,24,25,26,27,28,29,20,30,31])\n",
    "X"
   ]
  },
  {
   "cell_type": "code",
   "execution_count": 191,
   "id": "a2ca2123",
   "metadata": {},
   "outputs": [
    {
     "data": {
      "text/plain": [
       "array([6, 4, 2])"
      ]
     },
     "execution_count": 191,
     "metadata": {},
     "output_type": "execute_result"
    }
   ],
   "source": [
    "f =  np.array([4,2,0])\n",
    "X[f]"
   ]
  },
  {
   "cell_type": "code",
   "execution_count": 197,
   "id": "c812d711",
   "metadata": {},
   "outputs": [
    {
     "data": {
      "text/plain": [
       "array([-10,  23,  -8,  25,  -6,  27,  28,  29,  20,  30,  31])"
      ]
     },
     "execution_count": 197,
     "metadata": {},
     "output_type": "execute_result"
    }
   ],
   "source": [
    "X[f] -= 2\n",
    "X[f] # X[f] is updated\n",
    "X # so overall, X is updated"
   ]
  },
  {
   "cell_type": "code",
   "execution_count": 200,
   "id": "aa509909",
   "metadata": {},
   "outputs": [
    {
     "data": {
      "text/plain": [
       "array([77, 23, 77, 25, 77, 27, 28, 29, 20, 30, 31])"
      ]
     },
     "execution_count": 200,
     "metadata": {},
     "output_type": "execute_result"
    }
   ],
   "source": [
    "X[f] = 77\n",
    "X[f]\n",
    "X"
   ]
  },
  {
   "cell_type": "code",
   "execution_count": 203,
   "id": "8ce8aac3",
   "metadata": {},
   "outputs": [
    {
     "data": {
      "text/plain": [
       "array([107,  23, 107,  25, 107,  27,  28,  29,  20,  30,  31])"
      ]
     },
     "execution_count": 203,
     "metadata": {},
     "output_type": "execute_result"
    }
   ],
   "source": [
    "X[f] += 10\n",
    "X[f]\n",
    "X"
   ]
  },
  {
   "cell_type": "markdown",
   "id": "a7ba8486",
   "metadata": {},
   "source": [
    "##### Sorting arrays"
   ]
  },
  {
   "cell_type": "code",
   "execution_count": 266,
   "id": "b40c402c",
   "metadata": {},
   "outputs": [
    {
     "data": {
      "text/plain": [
       "array([ 4, 16, 31, 33, 36, 62, 69, 76, 86, 96])"
      ]
     },
     "execution_count": 266,
     "metadata": {},
     "output_type": "execute_result"
    }
   ],
   "source": [
    "np.random.seed(45)\n",
    "y = np.random.randint(1, 100, 10 )\n",
    "y\n",
    "\n",
    "\n",
    "# Function call:\n",
    "\n",
    "#1 by numpy sort\n",
    "#2 by python core sort\n",
    "\n",
    "# these donot change the array y\n",
    "\n",
    "# np.sort(y)\n",
    "# y\n",
    "\n",
    "# sorted(y)\n",
    "# y\n",
    "\n",
    "# Method Call:\n",
    "\n",
    "y.sort()\n",
    "y"
   ]
  },
  {
   "cell_type": "code",
   "execution_count": 242,
   "id": "cc2d7359",
   "metadata": {},
   "outputs": [
    {
     "data": {
      "text/plain": [
       "array([3, 0, 5, 3, 4, 9, 8, 1, 5, 9])"
      ]
     },
     "execution_count": 242,
     "metadata": {},
     "output_type": "execute_result"
    }
   ],
   "source": [
    "np.random.seed(45)\n",
    "x = np.random.randint(0, 10, 10)\n",
    "x # x is an array instance"
   ]
  },
  {
   "cell_type": "code",
   "execution_count": 233,
   "id": "3bf29c52",
   "metadata": {},
   "outputs": [
    {
     "data": {
      "text/plain": [
       "array([0, 1, 3, 3, 4, 5, 5, 8, 9, 9])"
      ]
     },
     "execution_count": 233,
     "metadata": {},
     "output_type": "execute_result"
    }
   ],
   "source": [
    "# function call\n",
    "np.sort(x) # numpy's sort function"
   ]
  },
  {
   "cell_type": "code",
   "execution_count": 234,
   "id": "26fc5b12",
   "metadata": {},
   "outputs": [
    {
     "data": {
      "text/plain": [
       "array([3, 0, 5, 3, 4, 9, 8, 1, 5, 9])"
      ]
     },
     "execution_count": 234,
     "metadata": {},
     "output_type": "execute_result"
    }
   ],
   "source": [
    "x # x doesnot change"
   ]
  },
  {
   "cell_type": "code",
   "execution_count": 240,
   "id": "a33f14ee",
   "metadata": {},
   "outputs": [],
   "source": [
    "# inplace sorting, method call\n",
    "x.sort() # this is a method because were calling on the instance, x is a array instance\n",
    "# we are calling the instance ko sort vanne method"
   ]
  },
  {
   "cell_type": "code",
   "execution_count": 241,
   "id": "3e060aeb",
   "metadata": {},
   "outputs": [
    {
     "data": {
      "text/plain": [
       "array([0, 1, 3, 3, 4, 5, 5, 8, 9, 9])"
      ]
     },
     "execution_count": 241,
     "metadata": {},
     "output_type": "execute_result"
    }
   ],
   "source": [
    "x # x changes"
   ]
  },
  {
   "cell_type": "code",
   "execution_count": 228,
   "id": "7b2e115b",
   "metadata": {},
   "outputs": [
    {
     "data": {
      "text/plain": [
       "[0, 1, 3, 3, 4, 5, 5, 8, 9, 9]"
      ]
     },
     "execution_count": 228,
     "metadata": {},
     "output_type": "execute_result"
    }
   ],
   "source": [
    "sorted(x) "
   ]
  },
  {
   "cell_type": "code",
   "execution_count": 229,
   "id": "55b90b84",
   "metadata": {},
   "outputs": [
    {
     "data": {
      "text/plain": [
       "array([0, 1, 3, 3, 4, 5, 5, 8, 9, 9])"
      ]
     },
     "execution_count": 229,
     "metadata": {},
     "output_type": "execute_result"
    }
   ],
   "source": [
    "x"
   ]
  },
  {
   "cell_type": "code",
   "execution_count": null,
   "id": "b5092ce6",
   "metadata": {},
   "outputs": [],
   "source": [
    "# agrsort use garera arraylai sort garne \n",
    "# yesle sort vaisakekko array ko each elements ko indices din6"
   ]
  },
  {
   "cell_type": "code",
   "execution_count": 267,
   "id": "b9bd4e61",
   "metadata": {},
   "outputs": [
    {
     "data": {
      "text/plain": [
       "array([85, 15, 64, 34, 14, 87, 22, 57, 90, 55])"
      ]
     },
     "execution_count": 267,
     "metadata": {},
     "output_type": "execute_result"
    }
   ],
   "source": [
    "np.random.seed(56)\n",
    "a = np.random.randint(0,100,10)\n",
    "a"
   ]
  },
  {
   "cell_type": "code",
   "execution_count": 271,
   "id": "bfad509f",
   "metadata": {},
   "outputs": [],
   "source": [
    "b = np.argsort(a) # yo sab indices vayo, ani b ma rakhya"
   ]
  },
  {
   "cell_type": "code",
   "execution_count": 272,
   "id": "11293072",
   "metadata": {},
   "outputs": [
    {
     "data": {
      "text/plain": [
       "array([14, 15, 22, 34, 55, 57, 64, 85, 87, 90])"
      ]
     },
     "execution_count": 272,
     "metadata": {},
     "output_type": "execute_result"
    }
   ],
   "source": [
    "# aba tei indexes haruko values access garne \n",
    "# yo garda ta sorted array nai au6\n",
    "a[b]"
   ]
  },
  {
   "cell_type": "code",
   "execution_count": 275,
   "id": "569abc33",
   "metadata": {},
   "outputs": [
    {
     "data": {
      "text/plain": [
       "array([[3, 0, 5, 3],\n",
       "       [4, 9, 8, 1],\n",
       "       [5, 9, 6, 8]])"
      ]
     },
     "execution_count": 275,
     "metadata": {},
     "output_type": "execute_result"
    }
   ],
   "source": [
    "# axis 0 ya 1 diera rows lai matrai ya columns lai matrai sort garna mil6\n",
    "np.random.seed(45)\n",
    "c = np.random.randint(10, size = (3,4))\n",
    "c"
   ]
  },
  {
   "cell_type": "code",
   "execution_count": 276,
   "id": "2f3b4aeb",
   "metadata": {},
   "outputs": [
    {
     "data": {
      "text/plain": [
       "array([[3, 0, 5, 1],\n",
       "       [4, 9, 6, 3],\n",
       "       [5, 9, 8, 8]])"
      ]
     },
     "execution_count": 276,
     "metadata": {},
     "output_type": "execute_result"
    }
   ],
   "source": [
    "np.sort(c, axis = 0) # sabai columns sort gar6"
   ]
  },
  {
   "cell_type": "code",
   "execution_count": 277,
   "id": "fd4a7dd9",
   "metadata": {},
   "outputs": [
    {
     "data": {
      "text/plain": [
       "array([[0, 3, 3, 5],\n",
       "       [1, 4, 8, 9],\n",
       "       [5, 6, 8, 9]])"
      ]
     },
     "execution_count": 277,
     "metadata": {},
     "output_type": "execute_result"
    }
   ],
   "source": [
    "np.sort(c, axis = 1) # sabai rows sort gar6"
   ]
  },
  {
   "cell_type": "markdown",
   "id": "43d25a67",
   "metadata": {},
   "source": [
    "##### partition"
   ]
  },
  {
   "cell_type": "code",
   "execution_count": 278,
   "id": "771bf495",
   "metadata": {},
   "outputs": [],
   "source": [
    "d = np.array([7,2,3,1,6,5,4])"
   ]
  },
  {
   "cell_type": "code",
   "execution_count": 279,
   "id": "4a2837d1",
   "metadata": {},
   "outputs": [
    {
     "name": "stdout",
     "output_type": "stream",
     "text": [
      "[7 2 3 1 6 5 4]\n"
     ]
    }
   ],
   "source": [
    "# 1d array\n",
    "# lets  gets the 3 least numbers \n",
    "print(d)"
   ]
  },
  {
   "cell_type": "code",
   "execution_count": 286,
   "id": "8e8d8236",
   "metadata": {},
   "outputs": [
    {
     "data": {
      "text/plain": [
       "array([14, 15, 22, 34, 85, 87, 64, 57, 90, 55])"
      ]
     },
     "execution_count": 286,
     "metadata": {},
     "output_type": "execute_result"
    }
   ],
   "source": [
    "np.partition(a, 2)"
   ]
  },
  {
   "cell_type": "code",
   "execution_count": 288,
   "id": "f0b297d9",
   "metadata": {},
   "outputs": [
    {
     "data": {
      "text/plain": [
       "array([2, 1, 3, 4, 6, 5, 7])"
      ]
     },
     "execution_count": 288,
     "metadata": {},
     "output_type": "execute_result"
    }
   ],
   "source": [
    "# kaile kai elements lai sort nagarikana sabse sano items haru thapaunuparne hunasak6 so we use partition\n",
    "# kinaki thulo data ma sorting garda high computation time lag6 so ram dherai khan6\n",
    "\n",
    "np.partition(d, 3)"
   ]
  },
  {
   "cell_type": "code",
   "execution_count": 299,
   "id": "833dee31",
   "metadata": {},
   "outputs": [
    {
     "data": {
      "text/plain": [
       "array([[3, 0, 5, 3],\n",
       "       [4, 9, 8, 1],\n",
       "       [5, 9, 6, 8]])"
      ]
     },
     "execution_count": 299,
     "metadata": {},
     "output_type": "execute_result"
    }
   ],
   "source": [
    "# partition in 2d array\n",
    "np.random.seed(45)\n",
    "e = np.random.randint(10, size = (3,4))\n",
    "e"
   ]
  },
  {
   "cell_type": "code",
   "execution_count": 300,
   "id": "37007aed",
   "metadata": {},
   "outputs": [
    {
     "data": {
      "text/plain": [
       "array([[3, 0, 5, 1],\n",
       "       [4, 9, 6, 3],\n",
       "       [5, 9, 8, 8]])"
      ]
     },
     "execution_count": 300,
     "metadata": {},
     "output_type": "execute_result"
    }
   ],
   "source": [
    "np.partition(e, 2 , axis=0)"
   ]
  },
  {
   "cell_type": "code",
   "execution_count": 306,
   "id": "7e0859f0",
   "metadata": {},
   "outputs": [
    {
     "data": {
      "text/plain": [
       "array([0, 0, 0, 0, 0])"
      ]
     },
     "execution_count": 306,
     "metadata": {},
     "output_type": "execute_result"
    }
   ],
   "source": [
    "# Structured data: Numpy's structured arrays\n",
    "\n",
    "d = np.zeros(, dtype = int)\n",
    "d"
   ]
  },
  {
   "cell_type": "code",
   "execution_count": null,
   "id": "501a0494",
   "metadata": {},
   "outputs": [],
   "source": []
  }
 ],
 "metadata": {
  "kernelspec": {
   "display_name": "Python 3 (ipykernel)",
   "language": "python",
   "name": "python3"
  },
  "language_info": {
   "codemirror_mode": {
    "name": "ipython",
    "version": 3
   },
   "file_extension": ".py",
   "mimetype": "text/x-python",
   "name": "python",
   "nbconvert_exporter": "python",
   "pygments_lexer": "ipython3",
   "version": "3.9.7"
  }
 },
 "nbformat": 4,
 "nbformat_minor": 5
}
